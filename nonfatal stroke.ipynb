{
 "cells": [
  {
   "cell_type": "markdown",
   "metadata": {},
   "source": [
    "## load packages"
   ]
  },
  {
   "cell_type": "code",
   "execution_count": 2,
   "metadata": {},
   "outputs": [],
   "source": [
    "library(dplyr)\n",
    "library(lubridate)\n",
    "library(tableone)\n",
    "library(DescTools)\n",
    "library(biostat3)\n",
    "library(survminer)\n",
    "library(mice)\n",
    "library(foreach)\n",
    "library(mgcv)\n",
    "library(doParallel)\n",
    "library(mitools)\n",
    "library(survey)\n",
    "library(ipw)\n",
    "library(rms)\n",
    "library(tidyr)\n",
    "library(EValue)\n",
    "library(rpart)\n",
    "library(data.table)\n",
    "library(snow)\n",
    "library(forestplot)\n",
    "library(parglm)"
   ]
  },
  {
   "cell_type": "code",
   "execution_count": 3,
   "metadata": {},
   "outputs": [],
   "source": [
    "## HR display function\n",
    "OR.result.tidy <- function(result) {\n",
    "    res <- result$coefficients[2, c(1, 2)]\n",
    "    OR <- exp(res[1])\n",
    "    lci <- exp(res[1] - qnorm(0.975) * res[2])\n",
    "    uci <- exp(res[1] + qnorm(0.975) * res[2])\n",
    "    res <- data.frame(OR, lci, uci)\n",
    "    colnames(res) <- c('OR', 'lci', 'uci')\n",
    "    res <- res %>% \n",
    "        data.frame() %>% \n",
    "        mutate_at(vars(OR, lci, uci), funs(round(., 2))) \n",
    "    res <- res %>% \n",
    "        mutate(OR = paste0(res[, 1], \" (\", res[, 2], \"-\", res[, 3], \")\")) %>% \n",
    "        cbind(group = c('discontinuation')) %>% \n",
    "        dplyr::select(c(4, 1))\n",
    "    res <- rbind(data.frame(group = 'reinitiation', OR = 'Ref'), res) \n",
    "    res$group <- as.character(res$group)\n",
    "    return(res)\n",
    "}"
   ]
  },
  {
   "cell_type": "markdown",
   "metadata": {},
   "source": [
    "## import data"
   ]
  },
  {
   "cell_type": "code",
   "execution_count": 4,
   "metadata": {},
   "outputs": [],
   "source": [
    "load('dta_tidied.R')"
   ]
  },
  {
   "cell_type": "code",
   "execution_count": 5,
   "metadata": {},
   "outputs": [],
   "source": [
    "dta_clone_nonfatal_stroke <- dta_clone %>% \n",
    "    arrange(X, lopnr, index_date) %>% \n",
    "    group_by(X, lopnr) %>% \n",
    "    mutate(death_filter = cumsum(outcome_death), \n",
    "           censor_filter = cumsum(censor), \n",
    "           nonfatal_stroke_filter = cumsum(outcome_nonfatal_stroke)) %>% \n",
    "    filter(death_filter <= 1 & censor_filter <= 1 & nonfatal_stroke_filter <= 1) %>% \n",
    "    ungroup() %>% \n",
    "    dplyr::select(c('lopnr', 'ID', 'X', \n",
    "                    'index_date', 'after_index_date', 'rank', \n",
    "                    'age', 'female', 'index_year', 'duration', \n",
    "                    'cov_diabetes_t0', 'cov_hypertension_t0', \n",
    "                    'cov_MI_t0', 'cov_CHF_t0', 'cov_cerebrovascular_disease_t0', 'cov_PVD_t0', \n",
    "                    'cov_cancer_t0', 'cov_COPD_t0', \n",
    "                    'cov_beta_blocker_t0', 'cov_CCB_t0', 'cov_diuretic_t0', 'cov_MRA_t0', 'cov_SPS_t0', \n",
    "                    'cov_statin_t0', \n",
    "                    'cov_antiplatelet_agent_t0', \n",
    "                    'cov_egfr_t0', 'cov_egfr_cat_t0', 'cov_acr_t0', 'cov_acr_cat_t0', \n",
    "                    'potassium_value', 'potassium_cat', \n",
    "                    'cov_hospitalization_t0', \n",
    "                    'primary_care_num', 'outpatient_num', 'inpatient_num', \n",
    "                    'cov_diabetes', 'cov_hypertension', \n",
    "                    'cov_MI', 'cov_CHF', 'cov_cerebrovascular_disease', 'cov_PVD', \n",
    "                    'cov_cancer', 'cov_COPD',  \n",
    "                    'cov_beta_blocker', 'cov_CCB', 'cov_diuretic', 'cov_MRA', 'cov_SPS', \n",
    "                    'cov_statin', \n",
    "                    'cov_antiplatelet_agent', \n",
    "                    'cov_egfr', 'cov_egfr_cat', 'cov_acr', 'cov_acr_cat', \n",
    "                    'cov_potassium', 'cov_hospitalization', \n",
    "                    'outcome_nonfatal_stroke', 'censor', 'treatment'))"
   ]
  },
  {
   "cell_type": "markdown",
   "metadata": {},
   "source": [
    "## description of chracteristics at month 6 (unweighted)"
   ]
  },
  {
   "cell_type": "code",
   "execution_count": 6,
   "metadata": {},
   "outputs": [],
   "source": [
    "dta_clone_nonfatal_stroke_6_month <- dta_clone_nonfatal_stroke %>% filter(rank == 6)"
   ]
  },
  {
   "cell_type": "code",
   "execution_count": 7,
   "metadata": {},
   "outputs": [],
   "source": [
    "xvars <- c('age', 'female', 'index_year', 'duration', 'potassium_cat', \n",
    "           'cov_diabetes', 'cov_hypertension', \n",
    "           'cov_MI', 'cov_CHF', 'cov_cerebrovascular_disease', 'cov_PVD', \n",
    "           'cov_cancer', 'cov_COPD',  \n",
    "           'cov_beta_blocker', 'cov_CCB', 'cov_diuretic', 'cov_MRA', 'cov_SPS', \n",
    "           'cov_statin', \n",
    "           'cov_antiplatelet_agent', \n",
    "           # 'cov_potassium', \n",
    "           'cov_egfr_cat', \n",
    "           'primary_care_num', 'cov_hospitalization', 'outpatient_num', 'inpatient_num')\n",
    "xfactorvars <- c('female', 'index_year', 'potassium_cat', \n",
    "                 'cov_diabetes', 'cov_hypertension', \n",
    "                 'cov_MI', 'cov_CHF', 'cov_cerebrovascular_disease', 'cov_PVD', \n",
    "                 'cov_cancer', 'cov_COPD',  \n",
    "                 'cov_beta_blocker', 'cov_CCB', 'cov_diuretic', 'cov_MRA', 'cov_SPS', \n",
    "                 'cov_statin', \n",
    "                 'cov_antiplatelet_agent', \n",
    "                 'cov_egfr_cat', 'cov_hospitalization')\n",
    "xnonnormvars <- c('duration', # 'cov_potassium', \n",
    "                  'primary_care_num', 'outpatient_num', 'inpatient_num')"
   ]
  },
  {
   "cell_type": "code",
   "execution_count": 8,
   "metadata": {},
   "outputs": [],
   "source": [
    "tb1.part <- CreateTableOne(xvars, strata = 'X', data = dta_clone_nonfatal_stroke_6_month, factorVars = xfactorvars, includeNA = T)\n",
    "tb1.part <- print(tb1.part, nonnormal = xnonnormvars, test = F, smd = T, printToggle = F)"
   ]
  },
  {
   "cell_type": "code",
   "execution_count": 9,
   "metadata": {},
   "outputs": [],
   "source": [
    "dta_clone_nonfatal_stroke_imp1 <- dta_clone_nonfatal_stroke"
   ]
  },
  {
   "cell_type": "markdown",
   "metadata": {},
   "source": [
    "## description of nonfatal_stroke event in each arm (unweighted)"
   ]
  },
  {
   "cell_type": "code",
   "execution_count": 10,
   "metadata": {},
   "outputs": [
    {
     "name": "stderr",
     "output_type": "stream",
     "text": [
      "`summarise()` ungrouping output (override with `.groups` argument)\n",
      "\n",
      "`summarise()` ungrouping output (override with `.groups` argument)\n",
      "\n",
      "Warning message:\n",
      "“`funs()` is deprecated as of dplyr 0.8.0.\n",
      "Please use a list of either functions or lambdas: \n",
      "\n",
      "  # Simple named list: \n",
      "  list(mean = mean, median = median)\n",
      "\n",
      "  # Auto named with `tibble::lst()`: \n",
      "  tibble::lst(mean, median)\n",
      "\n",
      "  # Using lambdas\n",
      "  list(~ mean(., trim = .2), ~ median(., na.rm = TRUE))\n",
      "\u001b[90mThis warning is displayed once every 8 hours.\u001b[39m\n",
      "\u001b[90mCall `lifecycle::last_warnings()` to see where this warning was generated.\u001b[39m”\n"
     ]
    },
    {
     "data": {
      "text/html": [
       "<table>\n",
       "<caption>A data.frame: 2 × 6</caption>\n",
       "<thead>\n",
       "\t<tr><th scope=col>group</th><th scope=col>n</th><th scope=col>followup</th><th scope=col>event</th><th scope=col>person_years</th><th scope=col>incidence rate</th></tr>\n",
       "\t<tr><th scope=col>&lt;chr&gt;</th><th scope=col>&lt;int&gt;</th><th scope=col>&lt;chr&gt;</th><th scope=col>&lt;dbl&gt;</th><th scope=col>&lt;dbl&gt;</th><th scope=col>&lt;chr&gt;</th></tr>\n",
       "</thead>\n",
       "<tbody>\n",
       "\t<tr><td>discontinuation</td><td>5669</td><td>0.16 [0.08-0.32]</td><td>137</td><td>2482.47</td><td>0.06 (0.05-0.07)</td></tr>\n",
       "\t<tr><td>reinitiation   </td><td>5669</td><td>1.25 [0.5-2.5]  </td><td>300</td><td>8908.20</td><td>0.03 (0.03-0.04)</td></tr>\n",
       "</tbody>\n",
       "</table>\n"
      ],
      "text/latex": [
       "A data.frame: 2 × 6\n",
       "\\begin{tabular}{llllll}\n",
       " group & n & followup & event & person\\_years & incidence rate\\\\\n",
       " <chr> & <int> & <chr> & <dbl> & <dbl> & <chr>\\\\\n",
       "\\hline\n",
       "\t discontinuation & 5669 & 0.16 {[}0.08-0.32{]} & 137 & 2482.47 & 0.06 (0.05-0.07)\\\\\n",
       "\t reinitiation    & 5669 & 1.25 {[}0.5-2.5{]}   & 300 & 8908.20 & 0.03 (0.03-0.04)\\\\\n",
       "\\end{tabular}\n"
      ],
      "text/markdown": [
       "\n",
       "A data.frame: 2 × 6\n",
       "\n",
       "| group &lt;chr&gt; | n &lt;int&gt; | followup &lt;chr&gt; | event &lt;dbl&gt; | person_years &lt;dbl&gt; | incidence rate &lt;chr&gt; |\n",
       "|---|---|---|---|---|---|\n",
       "| discontinuation | 5669 | 0.16 [0.08-0.32] | 137 | 2482.47 | 0.06 (0.05-0.07) |\n",
       "| reinitiation    | 5669 | 1.25 [0.5-2.5]   | 300 | 8908.20 | 0.03 (0.03-0.04) |\n",
       "\n"
      ],
      "text/plain": [
       "  group           n    followup         event person_years incidence rate  \n",
       "1 discontinuation 5669 0.16 [0.08-0.32] 137   2482.47      0.06 (0.05-0.07)\n",
       "2 reinitiation    5669 1.25 [0.5-2.5]   300   8908.20      0.03 (0.03-0.04)"
      ]
     },
     "metadata": {},
     "output_type": "display_data"
    }
   ],
   "source": [
    "source('results function.R')\n",
    "dta_clone_nonfatal_stroke_imp1_fixed <- dta_clone_nonfatal_stroke_imp1 %>% \n",
    "        arrange(ID, index_date) %>% \n",
    "        group_by(ID) %>% \n",
    "        summarise(index_date = min(index_date), \n",
    "                  after_index_date = max(after_index_date), \n",
    "                  outcome_nonfatal_stroke = sum(outcome_nonfatal_stroke), \n",
    "                  X = first(X))\n",
    "incid_num('outcome_nonfatal_stroke', 'index_date', 'after_index_date', 'X', \n",
    "          dta_clone_nonfatal_stroke_imp1_fixed, digit = 2)"
   ]
  },
  {
   "cell_type": "markdown",
   "metadata": {},
   "source": [
    "## IPW calculation"
   ]
  },
  {
   "cell_type": "code",
   "execution_count": 11,
   "metadata": {},
   "outputs": [],
   "source": [
    "x_adjusted_var <- c('age', 'female', 'index_year', 'rcs(duration, 3)', 'rcs(potassium_value, 3)', \n",
    "                    # 'cov_diabetes_t0', 'cov_hypertension_t0', \n",
    "                    # 'cov_MI_t0', 'cov_CHF_t0', 'cov_cerebrovascular_disease_t0', 'cov_PVD_t0', \n",
    "                    # 'cov_COPD_t0', \n",
    "                    # 'cov_beta_blocker_t0', 'cov_CCB_t0', 'cov_diuretic_t0', 'cov_MRA_t0', 'cov_SPS_t0', \n",
    "                    # 'cov_statin_t0', \n",
    "                    # 'cov_antiplatelet_agent_t0', \n",
    "                    # 'cov_egfr_t0', \n",
    "                    'primary_care_num', \n",
    "                    'outpatient_num', \n",
    "                    'inpatient_num', # 'cov_hospitalization_t0', \n",
    "                    'cov_diabetes', 'cov_hypertension', \n",
    "                    'cov_MI', 'cov_CHF', 'cov_cerebrovascular_disease', 'cov_PVD', \n",
    "                    'cov_cancer', 'cov_COPD',  \n",
    "                    'cov_beta_blocker', 'cov_CCB', 'cov_diuretic', 'cov_MRA', 'cov_SPS', \n",
    "                    'cov_statin', \n",
    "                    'cov_antiplatelet_agent', \n",
    "                    'rcs(cov_egfr, 6)', \n",
    "                    # 'rcs(cov_potassium, 12)', \n",
    "                    'cov_hospitalization')"
   ]
  },
  {
   "cell_type": "code",
   "execution_count": 12,
   "metadata": {},
   "outputs": [],
   "source": [
    "x_adjusted_var_ML <- c('age', 'female', 'index_year', 'duration', 'potassium_value', \n",
    "                       # 'cov_diabetes_t0', 'cov_hypertension_t0', \n",
    "                       # 'cov_MI_t0', 'cov_CHF_t0', 'cov_cerebrovascular_disease_t0', 'cov_PVD_t0', \n",
    "                       # 'cov_COPD_t0', \n",
    "                       # 'cov_beta_blocker_t0', 'cov_CCB_t0', 'cov_diuretic_t0', 'cov_MRA_t0', 'cov_SPS_t0', \n",
    "                       # 'cov_statin_t0', \n",
    "                       # 'cov_antiplatelet_agent_t0', \n",
    "                       # 'cov_egfr_t0', \n",
    "                       'primary_care_num', \n",
    "                       'outpatient_num', \n",
    "                       'inpatient_num', # 'cov_hospitalization_t0', \n",
    "                       'cov_diabetes', 'cov_hypertension', \n",
    "                       'cov_MI', 'cov_CHF', 'cov_cerebrovascular_disease', 'cov_PVD', \n",
    "                       'cov_cancer', 'cov_COPD',  \n",
    "                       'cov_beta_blocker', 'cov_CCB', 'cov_diuretic', 'cov_MRA', 'cov_SPS', \n",
    "                       'cov_statin', \n",
    "                       'cov_antiplatelet_agent', \n",
    "                       'cov_egfr', \n",
    "                       # 'cov_potassium',\n",
    "                       'cov_hospitalization')"
   ]
  },
  {
   "cell_type": "code",
   "execution_count": 13,
   "metadata": {},
   "outputs": [],
   "source": [
    "dta_clone_nonfatal_stroke_imp1_discontinuation <- dta_clone_nonfatal_stroke_imp1 %>% \n",
    "    filter(X == 'discontinuation') %>% \n",
    "    arrange(ID, index_date)\n",
    "dta_clone_nonfatal_stroke_imp1_discontinuation_censor_part <- dta_clone_nonfatal_stroke_imp1_discontinuation %>% \n",
    "    filter(rank %in% 1 : 6)\n",
    "dta_clone_nonfatal_stroke_imp1_discontinuation_noncensor_part <- dta_clone_nonfatal_stroke_imp1_discontinuation %>% \n",
    "    filter(rank > 6)"
   ]
  },
  {
   "cell_type": "code",
   "execution_count": 14,
   "metadata": {},
   "outputs": [],
   "source": [
    "## logistic regression formula\n",
    "regression_formula_IPCW <- as.formula(paste0('censor ~ rank + rank ^ 2 + ', \n",
    "                                             paste(x_adjusted_var, collapse = \" + \"), \n",
    "                                             sep = ' '))\n",
    "denominator.fit <- glm(regression_formula_IPCW, \n",
    "                       data = dta_clone_nonfatal_stroke_imp1_discontinuation_censor_part, \n",
    "                       family  = binomial(link = \"logit\"))\n",
    "numerator.fit <- glm(censor ~ rank + rank ^ 2 + age + female + index_year + duration + potassium_value + \n",
    "                     primary_care_num + outpatient_num + inpatient_num + \n",
    "                     cov_diabetes_t0 + cov_hypertension_t0 + \n",
    "                     cov_MI_t0 + cov_CHF_t0 + cov_cerebrovascular_disease_t0 + cov_PVD_t0 + \n",
    "                     cov_cancer_t0 + cov_COPD_t0 + \n",
    "                     cov_beta_blocker_t0 + cov_CCB_t0 + cov_diuretic_t0 + \n",
    "                     cov_MRA_t0 + cov_SPS_t0 + \n",
    "                     cov_statin_t0 + \n",
    "                     cov_antiplatelet_agent_t0 + \n",
    "                     cov_egfr_t0 + \n",
    "                     cov_hospitalization_t0, \n",
    "                     data = dta_clone_nonfatal_stroke_imp1_discontinuation_censor_part, \n",
    "                     family  = binomial(link = \"logit\"))\n",
    "## machine learning formula\n",
    "ML_formula_IPCW <- as.formula(paste0('censor ~ rank + ', \n",
    "                                     paste(x_adjusted_var_ML, collapse = \" + \"), \n",
    "                                     sep = ' '))\n",
    "denominator.fit_ML <- rpart(ML_formula_IPCW, \n",
    "                         data = dta_clone_nonfatal_stroke_imp1_discontinuation_censor_part, \n",
    "                         method = 'class')\n",
    "numerator.fit_ML <- rpart(censor ~ rank + age + female + index_year + duration + potassium_value + \n",
    "                          primary_care_num + outpatient_num + inpatient_num + \n",
    "                          cov_diabetes_t0 + cov_hypertension_t0 + \n",
    "                          cov_MI_t0 + cov_CHF_t0 + cov_cerebrovascular_disease_t0 + cov_PVD_t0 + \n",
    "                          cov_cancer_t0 + cov_COPD_t0 + \n",
    "                          cov_beta_blocker_t0 + cov_CCB_t0 + cov_diuretic_t0 + \n",
    "                          cov_MRA_t0 + cov_SPS_t0 + \n",
    "                          cov_statin_t0 + \n",
    "                          cov_antiplatelet_agent_t0 + \n",
    "                          cov_egfr_t0 + \n",
    "                          cov_hospitalization_t0, \n",
    "                          data = dta_clone_nonfatal_stroke_imp1_discontinuation_censor_part, \n",
    "                          method = 'class')\n",
    "## ============================================================================================================="
   ]
  },
  {
   "cell_type": "code",
   "execution_count": 15,
   "metadata": {},
   "outputs": [],
   "source": [
    "## Stabilized IPW\n",
    "dta_clone_nonfatal_stroke_imp1_discontinuation_censor_part$ipw_per_month <- \n",
    "    ifelse(dta_clone_nonfatal_stroke_imp1_discontinuation_censor_part$censor == 1, \n",
    "           0, \n",
    "           (1 - fitted(numerator.fit)) / (1 - fitted(denominator.fit)))\n",
    "dta_clone_nonfatal_stroke_imp1_discontinuation_noncensor_part$ipw_per_month <- 1\n",
    "## =============================================================================================================\n",
    "## Unstabilized IPW\n",
    "dta_clone_nonfatal_stroke_imp1_discontinuation_censor_part$ipw_uns_per_month <- \n",
    "    ifelse(dta_clone_nonfatal_stroke_imp1_discontinuation_censor_part$censor == 1, \n",
    "           0, \n",
    "           1 / (1 - fitted(denominator.fit)))\n",
    "dta_clone_nonfatal_stroke_imp1_discontinuation_noncensor_part$ipw_uns_per_month <- 1\n",
    "## =============================================================================================================\n",
    "## Stabilized IPW by ML\n",
    "dta_clone_nonfatal_stroke_imp1_discontinuation_censor_part$ipw_ML_per_month <- \n",
    "    ifelse(dta_clone_nonfatal_stroke_imp1_discontinuation_censor_part$censor == 1, \n",
    "           0, \n",
    "           predict(numerator.fit_ML)[, 1] / predict(denominator.fit_ML)[, 1])\n",
    "dta_clone_nonfatal_stroke_imp1_discontinuation_noncensor_part$ipw_ML_per_month <- 1\n",
    "## ============================================================================================================="
   ]
  },
  {
   "cell_type": "code",
   "execution_count": 16,
   "metadata": {},
   "outputs": [],
   "source": [
    "dta_clone_nonfatal_stroke_imp1_discontinuation <- rbind(dta_clone_nonfatal_stroke_imp1_discontinuation_censor_part, \n",
    "                                              dta_clone_nonfatal_stroke_imp1_discontinuation_noncensor_part) %>% \n",
    "    arrange(ID, index_date)\n",
    "## Stabilized IPW\n",
    "dta_clone_nonfatal_stroke_imp1_discontinuation$ipw <- unlist(tapply(dta_clone_nonfatal_stroke_imp1_discontinuation$ipw_per_month, \n",
    "                                                         dta_clone_nonfatal_stroke_imp1_discontinuation$ID, cumprod))\n",
    "## =============================================================================================================\n",
    "## Unstabilized IPW\n",
    "dta_clone_nonfatal_stroke_imp1_discontinuation$ipw_uns <- unlist(tapply(dta_clone_nonfatal_stroke_imp1_discontinuation$ipw_uns_per_month, \n",
    "                                                              dta_clone_nonfatal_stroke_imp1_discontinuation$ID, cumprod))\n",
    "## =============================================================================================================\n",
    "## Stabilized IPW by ML\n",
    "dta_clone_nonfatal_stroke_imp1_discontinuation$ipw_ML <- unlist(tapply(dta_clone_nonfatal_stroke_imp1_discontinuation$ipw_ML_per_month, \n",
    "                                                             dta_clone_nonfatal_stroke_imp1_discontinuation$ID, cumprod))\n",
    "## ============================================================================================================="
   ]
  },
  {
   "cell_type": "code",
   "execution_count": 17,
   "metadata": {},
   "outputs": [
    {
     "data": {
      "text/plain": [
       "   Min. 1st Qu.  Median    Mean 3rd Qu.    Max. \n",
       " 0.0000  0.8325  0.9743  0.8643  1.0636  2.1129 "
      ]
     },
     "metadata": {},
     "output_type": "display_data"
    },
    {
     "data": {
      "image/png": "[encoded data removed]",
      "text/plain": [
       "Plot with title “Stabilized inverse probability weights for discontinuation arm”"
      ]
     },
     "metadata": {
      "image/png": {
       "height": 420,
       "width": 420
      }
     },
     "output_type": "display_data"
    },
    {
     "data": {
      "text/plain": [
       "   Min. 1st Qu.  Median    Mean 3rd Qu.    Max. \n",
       "  0.000   1.677   3.121   3.841   5.324  33.822 "
      ]
     },
     "metadata": {},
     "output_type": "display_data"
    },
    {
     "data": {
      "image/png": "[encoded data removed]",
      "text/plain": [
       "Plot with title “Unstabilized inverse probability weights for discontinuation arm”"
      ]
     },
     "metadata": {
      "image/png": {
       "height": 420,
       "width": 420
      }
     },
     "output_type": "display_data"
    },
    {
     "data": {
      "text/plain": [
       "   Min. 1st Qu.  Median    Mean 3rd Qu.    Max. \n",
       " 0.0000  1.0000  1.0000  0.8596  1.0000  1.0000 "
      ]
     },
     "metadata": {},
     "output_type": "display_data"
    },
    {
     "data": {
      "image/png": "[encoded data removed]",
      "text/plain": [
       "Plot with title “Stabilized inverse probability weights for discontinuation arm (ML)”"
      ]
     },
     "metadata": {
      "image/png": {
       "height": 420,
       "width": 420
      }
     },
     "output_type": "display_data"
    }
   ],
   "source": [
    "ipwplot(dta_clone_nonfatal_stroke_imp1_discontinuation$ipw, dta_clone_nonfatal_stroke_imp1_discontinuation$rank, \n",
    "        binwidth = 1, logscale = F, \n",
    "        xlab = 'Months since first hyperkalemia', \n",
    "        ylab = 'Weights', \n",
    "        main = 'Stabilized inverse probability weights for discontinuation arm', \n",
    "        ylim = c(0, 15))\n",
    "summary(dta_clone_nonfatal_stroke_imp1_discontinuation$ipw)\n",
    "ipwplot(dta_clone_nonfatal_stroke_imp1_discontinuation$ipw_uns, dta_clone_nonfatal_stroke_imp1_discontinuation$rank, \n",
    "        binwidth = 1, logscale = F, \n",
    "        xlab = 'Months since first hyperkalemia', \n",
    "        ylab = 'Weights', \n",
    "        main = 'Unstabilized inverse probability weights for discontinuation arm', \n",
    "        ylim = c(0, 15))\n",
    "summary(dta_clone_nonfatal_stroke_imp1_discontinuation$ipw_uns)\n",
    "ipwplot(dta_clone_nonfatal_stroke_imp1_discontinuation$ipw_ML, dta_clone_nonfatal_stroke_imp1_discontinuation$rank, \n",
    "        binwidth = 1, logscale = F, \n",
    "        xlab = 'Months since first hyperkalemia', \n",
    "        ylab = 'Weights', \n",
    "        main = 'Stabilized inverse probability weights for discontinuation arm (ML)', \n",
    "        ylim = c(0, 15))\n",
    "summary(dta_clone_nonfatal_stroke_imp1_discontinuation$ipw_ML)"
   ]
  },
  {
   "cell_type": "code",
   "execution_count": 18,
   "metadata": {},
   "outputs": [],
   "source": [
    "dta_clone_nonfatal_stroke_imp1_reinitiation <- dta_clone_nonfatal_stroke_imp1 %>% \n",
    "    filter(X == 'reinitiation') %>% \n",
    "    arrange(ID, index_date)\n",
    "dta_clone_nonfatal_stroke_imp1_reinitiation_censor_part <- dta_clone_nonfatal_stroke_imp1_reinitiation %>% \n",
    "    filter(rank == 6)\n",
    "dta_clone_nonfatal_stroke_imp1_reinitiation_noncensor_part <- dta_clone_nonfatal_stroke_imp1_reinitiation %>% \n",
    "    filter(rank %in% 1 : 5 | rank > 6)"
   ]
  },
  {
   "cell_type": "code",
   "execution_count": 19,
   "metadata": {},
   "outputs": [
    {
     "data": {
      "text/plain": [
       "   Min. 1st Qu.  Median    Mean 3rd Qu.    Max. \n",
       " 0.0000  0.9738  1.0000  0.9924  1.0156  2.0942 "
      ]
     },
     "metadata": {},
     "output_type": "display_data"
    },
    {
     "data": {
      "image/png": "[encoded data removed]",
      "text/plain": [
       "Plot with title “Stabilized inverse probability weights for reinitiation arm”"
      ]
     },
     "metadata": {
      "image/png": {
       "height": 420,
       "width": 420
      }
     },
     "output_type": "display_data"
    },
    {
     "data": {
      "text/plain": [
       "   Min. 1st Qu.  Median    Mean 3rd Qu.    Max. \n",
       "  0.000   1.032   1.126   1.151   1.220   4.367 "
      ]
     },
     "metadata": {},
     "output_type": "display_data"
    },
    {
     "data": {
      "image/png": "[encoded data removed]",
      "text/plain": [
       "Plot with title “Unstabilized inverse probability weights for reinitiation arm”"
      ]
     },
     "metadata": {
      "image/png": {
       "height": 420,
       "width": 420
      }
     },
     "output_type": "display_data"
    },
    {
     "data": {
      "text/plain": [
       "   Min. 1st Qu.  Median    Mean 3rd Qu.    Max. \n",
       " 0.0000  1.0000  1.0000  0.9924  1.0000  1.0000 "
      ]
     },
     "metadata": {},
     "output_type": "display_data"
    },
    {
     "data": {
      "image/png": "[encoded data removed]",
      "text/plain": [
       "Plot with title “Stabilized inverse probability weights for reinitiation arm (ML)”"
      ]
     },
     "metadata": {
      "image/png": {
       "height": 420,
       "width": 420
      }
     },
     "output_type": "display_data"
    }
   ],
   "source": [
    "regression_formula_IPCW <- as.formula(paste0('censor ~ ', \n",
    "                                             paste(x_adjusted_var, collapse = \" + \"), \n",
    "                                             sep = ' '))\n",
    "denominator.fit <- glm(regression_formula_IPCW, \n",
    "                       data = dta_clone_nonfatal_stroke_imp1_reinitiation_censor_part, \n",
    "                       family  = binomial(link = \"logit\"))\n",
    "numerator.fit <- glm(censor ~ age + female + index_year + duration + potassium_value + \n",
    "                     primary_care_num + outpatient_num + inpatient_num + \n",
    "                     cov_MI_t0 + cov_CHF_t0 + cov_cerebrovascular_disease_t0 + cov_PVD_t0 + \n",
    "                     cov_cancer_t0 + cov_COPD_t0 + \n",
    "                     cov_beta_blocker_t0 + cov_CCB_t0 + cov_diuretic_t0 + \n",
    "                     cov_MRA_t0 + cov_SPS_t0 + \n",
    "                     cov_statin_t0 + \n",
    "                     cov_antiplatelet_agent_t0 + \n",
    "                     cov_egfr_t0 + \n",
    "                     cov_hospitalization_t0, \n",
    "                     data = dta_clone_nonfatal_stroke_imp1_reinitiation_censor_part, \n",
    "                     family  = binomial(link = \"logit\"))\n",
    "## machine learning formula\n",
    "ML_formula_IPCW <- as.formula(paste0('censor ~ ', \n",
    "                                     paste(x_adjusted_var_ML, collapse = \" + \"), \n",
    "                                     sep = ' '))\n",
    "denominator.fit_ML <- rpart(ML_formula_IPCW, \n",
    "                         data = dta_clone_nonfatal_stroke_imp1_reinitiation_censor_part, \n",
    "                         method = 'class')\n",
    "numerator.fit_ML <- rpart(censor ~ age + female + index_year + duration + potassium_value  + \n",
    "                          primary_care_num + outpatient_num + inpatient_num + \n",
    "                          cov_diabetes_t0 + cov_hypertension_t0 + \n",
    "                          cov_MI_t0 + cov_CHF_t0 + cov_cerebrovascular_disease_t0 + cov_PVD_t0 + \n",
    "                          cov_cancer_t0 + cov_COPD_t0 + \n",
    "                          cov_beta_blocker_t0 + cov_CCB_t0 + cov_diuretic_t0 + \n",
    "                          cov_MRA_t0 + cov_SPS_t0 + \n",
    "                          cov_statin_t0 + \n",
    "                          cov_antiplatelet_agent_t0 + \n",
    "                          cov_egfr_t0 + \n",
    "                          cov_hospitalization_t0, \n",
    "                          data = dta_clone_nonfatal_stroke_imp1_reinitiation_censor_part, \n",
    "                          method = 'class')\n",
    "## =============================================================================================================\n",
    "## Stabilized IPW\n",
    "dta_clone_nonfatal_stroke_imp1_reinitiation_censor_part$ipw_per_month <- \n",
    "    ifelse(dta_clone_nonfatal_stroke_imp1_reinitiation_censor_part$censor == 1, \n",
    "           0, \n",
    "           (1 - fitted(numerator.fit)) / (1 - fitted(denominator.fit)))\n",
    "dta_clone_nonfatal_stroke_imp1_reinitiation_noncensor_part$ipw_per_month <- 1\n",
    "## =============================================================================================================\n",
    "## Unstabilized IPW\n",
    "dta_clone_nonfatal_stroke_imp1_reinitiation_censor_part$ipw_uns_per_month <- \n",
    "    ifelse(dta_clone_nonfatal_stroke_imp1_reinitiation_censor_part$censor == 1, \n",
    "           0, \n",
    "           1 / (1 - fitted(denominator.fit)))\n",
    "dta_clone_nonfatal_stroke_imp1_reinitiation_noncensor_part$ipw_uns_per_month <- 1\n",
    "## =============================================================================================================\n",
    "## Stabilized IPW by ML\n",
    "dta_clone_nonfatal_stroke_imp1_reinitiation_censor_part$ipw_ML_per_month <- \n",
    "    ifelse(dta_clone_nonfatal_stroke_imp1_reinitiation_censor_part$censor == 1, \n",
    "           0, \n",
    "           predict(numerator.fit_ML)[, 1] / predict(denominator.fit_ML)[, 1])\n",
    "dta_clone_nonfatal_stroke_imp1_reinitiation_noncensor_part$ipw_ML_per_month <- 1\n",
    "## =============================================================================================================\n",
    "dta_clone_nonfatal_stroke_imp1_reinitiation <- rbind(dta_clone_nonfatal_stroke_imp1_reinitiation_censor_part, \n",
    "                                           dta_clone_nonfatal_stroke_imp1_reinitiation_noncensor_part) %>% \n",
    "    arrange(ID, index_date)\n",
    "## Stabilized IPW\n",
    "dta_clone_nonfatal_stroke_imp1_reinitiation$ipw <- unlist(tapply(dta_clone_nonfatal_stroke_imp1_reinitiation$ipw_per_month, \n",
    "                                                       dta_clone_nonfatal_stroke_imp1_reinitiation$ID, cumprod))\n",
    "## =============================================================================================================\n",
    "## Unstabilized IPW\n",
    "dta_clone_nonfatal_stroke_imp1_reinitiation$ipw_uns <- unlist(tapply(dta_clone_nonfatal_stroke_imp1_reinitiation$ipw_uns_per_month, \n",
    "                                                           dta_clone_nonfatal_stroke_imp1_reinitiation$ID, cumprod))\n",
    "## =============================================================================================================\n",
    "## Stabilized IPW by ML\n",
    "dta_clone_nonfatal_stroke_imp1_reinitiation$ipw_ML <- unlist(tapply(dta_clone_nonfatal_stroke_imp1_reinitiation$ipw_ML_per_month, \n",
    "                                                          dta_clone_nonfatal_stroke_imp1_reinitiation$ID, cumprod))\n",
    "## =============================================================================================================\n",
    "ipwplot(dta_clone_nonfatal_stroke_imp1_reinitiation$ipw, dta_clone_nonfatal_stroke_imp1_reinitiation$rank, \n",
    "        binwidth = 1, logscale = F, \n",
    "        xlab = 'Months since first hyperkalemia', \n",
    "        ylab = 'Weights', \n",
    "        main = 'Stabilized inverse probability weights for reinitiation arm', \n",
    "        ylim = c(0, 5))\n",
    "summary(dta_clone_nonfatal_stroke_imp1_reinitiation$ipw)\n",
    "ipwplot(dta_clone_nonfatal_stroke_imp1_reinitiation$ipw_uns, dta_clone_nonfatal_stroke_imp1_reinitiation$rank, \n",
    "        binwidth = 1, logscale = F, \n",
    "        xlab = 'Months since first hyperkalemia', \n",
    "        ylab = 'Weights', \n",
    "        main = 'Unstabilized inverse probability weights for reinitiation arm', \n",
    "        ylim = c(0, 5))\n",
    "summary(dta_clone_nonfatal_stroke_imp1_reinitiation$ipw_uns)\n",
    "ipwplot(dta_clone_nonfatal_stroke_imp1_reinitiation$ipw_ML, dta_clone_nonfatal_stroke_imp1_reinitiation$rank, \n",
    "        binwidth = 1, logscale = F, \n",
    "        xlab = 'Months since first hyperkalemia', \n",
    "        ylab = 'Weights', \n",
    "        main = 'Stabilized inverse probability weights for reinitiation arm (ML)', \n",
    "        ylim = c(0, 5))\n",
    "summary(dta_clone_nonfatal_stroke_imp1_reinitiation$ipw_ML)"
   ]
  },
  {
   "cell_type": "code",
   "execution_count": 20,
   "metadata": {},
   "outputs": [],
   "source": [
    "## truncate unstabilized weight at 10\n",
    "ipw.truncation <- function(ipw.weights, trunc.u = 10, trunc.l = 0) {\n",
    "    weights.trunc.temp <- ifelse(ipw.weights >= trunc.u, trunc.u, ipw.weights) \n",
    "    weights.trunc <- ifelse(weights.trunc.temp <= trunc.l, trunc.l, weights.trunc.temp) \n",
    "}"
   ]
  },
  {
   "cell_type": "code",
   "execution_count": 21,
   "metadata": {},
   "outputs": [],
   "source": [
    "dta_clone_nonfatal_stroke_imp1 <- rbind(dta_clone_nonfatal_stroke_imp1_discontinuation, dta_clone_nonfatal_stroke_imp1_reinitiation) %>% \n",
    "    arrange(ID, index_date)"
   ]
  },
  {
   "cell_type": "code",
   "execution_count": 22,
   "metadata": {},
   "outputs": [],
   "source": [
    "dta_clone_nonfatal_stroke_imp1$ipw_uns_trunc <- ipw.truncation(dta_clone_nonfatal_stroke_imp1$ipw_uns, \n",
    "                                                     trunc.u = quantile(dta_clone_nonfatal_stroke_imp1$ipw_uns, 0.99))"
   ]
  },
  {
   "cell_type": "markdown",
   "metadata": {},
   "source": [
    "## description of chracteristics at month 6 and nonfatal_stroke event in each arm (weighted)"
   ]
  },
  {
   "cell_type": "code",
   "execution_count": 23,
   "metadata": {},
   "outputs": [],
   "source": [
    "dta_clone_nonfatal_stroke_6_month_weighted <- dta_clone_nonfatal_stroke %>% \n",
    "    left_join(dta_clone_nonfatal_stroke_imp1[ , c('ID', 'rank', 'ipw_uns_trunc')], by = c('ID', 'rank')) %>% \n",
    "    filter(rank == 6)"
   ]
  },
  {
   "cell_type": "code",
   "execution_count": 24,
   "metadata": {},
   "outputs": [],
   "source": [
    "dta_clone_nonfatal_stroke_6_month_weighted <- svydesign(ids = ~ ID, \n",
    "                                              data = dta_clone_nonfatal_stroke_6_month_weighted, \n",
    "                                              weights = ~ dta_clone_nonfatal_stroke_6_month_weighted$ipw_uns_trunc)"
   ]
  },
  {
   "cell_type": "code",
   "execution_count": 25,
   "metadata": {},
   "outputs": [],
   "source": [
    "tb1.part_weighted <- svyCreateTableOne(xvars, strata = 'X', data = dta_clone_nonfatal_stroke_6_month_weighted, factorVars = xfactorvars, includeNA = T)\n",
    "tb1.part_weighted <- print(tb1.part_weighted, nonnormal = xnonnormvars, test = F, smd = T, printToggle = F)"
   ]
  },
  {
   "cell_type": "code",
   "execution_count": 26,
   "metadata": {},
   "outputs": [],
   "source": [
    "tb1 <- cbind(tb1.part, tb1.part_weighted)"
   ]
  },
  {
   "cell_type": "code",
   "execution_count": 27,
   "metadata": {},
   "outputs": [],
   "source": [
    "tb1_SMD_summary <- tb1[ , c(3, 6)] %>% data.frame() %>% filter(SMD != '') %>% \n",
    "    mutate(SMD = as.numeric(as.character(SMD)), \n",
    "           SMD.1 = as.numeric(ifelse(as.character(SMD.1) == '<0.001', '0.001', as.character(SMD.1)))) %>% \n",
    "    mutate(covariates = str_replace(\n",
    "        str_replace(\n",
    "            str_replace(\n",
    "                str_replace_all(xvars, '_', ' '), \n",
    "                'cov ', ''), \n",
    "            'cat', 'categories'), \n",
    "        'num', 'number within 1 year prior')) %>% \n",
    "    mutate(covariates = factor(covariates, levels = rev(covariates)))"
   ]
  },
  {
   "cell_type": "code",
   "execution_count": 29,
   "metadata": {},
   "outputs": [
    {
     "data": {
      "image/png": "[encoded data removed]",
      "text/plain": [
       "plot without title"
      ]
     },
     "metadata": {
      "image/png": {
       "height": 420,
       "width": 420
      }
     },
     "output_type": "display_data"
    }
   ],
   "source": [
    "ggplot(data = tb1_SMD_summary, aes(x = SMD, y = covariates)) + \n",
    "    geom_point(aes(color = 'unweighted')) + \n",
    "    geom_point(aes(x = SMD.1, y = covariates, color = 'weighted')) + \n",
    "    scale_x_continuous(breaks = seq(0, 0.3, by = 0.05)) + \n",
    "    labs(title = 'Stroke', x = 'SMD at index month 6', y = '') +   \n",
    "    geom_vline(xintercept = 0.1, linetype = \"dashed\", color = \"black\") + \n",
    "    theme(plot.title = element_text(size = 14, face = \"bold\"), \n",
    "          axis.title = element_text(size = 12, face = \"bold\")) + \n",
    "    scale_colour_manual(\"\", values = c(\"unweighted\" = \"red\", \"weighted\" = \"blue\"))"
   ]
  },
  {
   "cell_type": "code",
   "execution_count": 30,
   "metadata": {},
   "outputs": [
    {
     "data": {
      "text/html": [
       "<table>\n",
       "<caption>A matrix: 39 × 6 of type chr</caption>\n",
       "<thead>\n",
       "\t<tr><th></th><th scope=col>discontinuation</th><th scope=col>reinitiation</th><th scope=col>SMD</th><th scope=col>discontinuation</th><th scope=col>reinitiation</th><th scope=col>SMD</th></tr>\n",
       "</thead>\n",
       "<tbody>\n",
       "\t<tr><th scope=row>n</th><td>  895              </td><td> 4544              </td><td>      </td><td>4136.83              </td><td>4544.96              </td><td>      </td></tr>\n",
       "\t<tr><th scope=row>age (mean (SD))</th><td>74.31 (13.05)      </td><td>71.38 (13.27)      </td><td> 0.223</td><td>  71.76 (13.65)      </td><td>  71.38 (13.20)      </td><td> 0.028</td></tr>\n",
       "\t<tr><th scope=row>female = 1 (%)</th><td>  452 (50.5)       </td><td> 2017 (44.4)       </td><td> 0.123</td><td> 1943.5 (47.0)       </td><td> 2020.9 (44.5)       </td><td> 0.051</td></tr>\n",
       "\t<tr><th scope=row>index_year (%)</th><td>                   </td><td>                   </td><td> 0.064</td><td>                     </td><td>                     </td><td> 0.060</td></tr>\n",
       "\t<tr><th scope=row>   2007</th><td>  115 (12.8)       </td><td>  492 (10.8)       </td><td>      </td><td>  506.4 (12.2)       </td><td>  493.2 (10.9)       </td><td>      </td></tr>\n",
       "\t<tr><th scope=row>   2008</th><td>  198 (22.1)       </td><td> 1024 (22.5)       </td><td>      </td><td>  978.2 (23.6)       </td><td> 1020.5 (22.5)       </td><td>      </td></tr>\n",
       "\t<tr><th scope=row>   2009</th><td>  239 (26.7)       </td><td> 1227 (27.0)       </td><td>      </td><td> 1101.9 (26.6)       </td><td> 1228.7 (27.0)       </td><td>      </td></tr>\n",
       "\t<tr><th scope=row>   2010</th><td>  219 (24.5)       </td><td> 1164 (25.6)       </td><td>      </td><td> 1006.1 (24.3)       </td><td> 1165.2 (25.6)       </td><td>      </td></tr>\n",
       "\t<tr><th scope=row>   2011</th><td>  124 (13.9)       </td><td>  637 (14.0)       </td><td>      </td><td>  544.3 (13.2)       </td><td>  637.5 (14.0)       </td><td>      </td></tr>\n",
       "\t<tr><th scope=row>duration (median [IQR])</th><td> 7.00 [2.00, 18.00]</td><td> 8.00 [2.00, 19.00]</td><td> 0.060</td><td>   6.00 [2.00, 17.00]</td><td>   8.00 [2.00, 19.00]</td><td> 0.110</td></tr>\n",
       "\t<tr><th scope=row>potassium_cat (%)</th><td>                   </td><td>                   </td><td> 0.198</td><td>                     </td><td>                     </td><td> 0.046</td></tr>\n",
       "\t<tr><th scope=row>   mild</th><td>  670 (74.9)       </td><td> 3751 (82.5)       </td><td>      </td><td> 3367.3 (81.4)       </td><td> 3772.2 (83.0)       </td><td>      </td></tr>\n",
       "\t<tr><th scope=row>   moderate</th><td>  152 (17.0)       </td><td>  585 (12.9)       </td><td>      </td><td>  583.7 (14.1)       </td><td>  570.8 (12.6)       </td><td>      </td></tr>\n",
       "\t<tr><th scope=row>   severe</th><td>   73 ( 8.2)       </td><td>  208 ( 4.6)       </td><td>      </td><td>  185.9 ( 4.5)       </td><td>  202.0 ( 4.4)       </td><td>      </td></tr>\n",
       "\t<tr><th scope=row>cov_diabetes = 1 (%)</th><td>  277 (30.9)       </td><td> 1397 (30.7)       </td><td> 0.004</td><td> 1299.0 (31.4)       </td><td> 1396.3 (30.7)       </td><td> 0.015</td></tr>\n",
       "\t<tr><th scope=row>cov_hypertension = 1 (%)</th><td>  686 (76.6)       </td><td> 3450 (75.9)       </td><td> 0.017</td><td> 3107.3 (75.1)       </td><td> 3450.9 (75.9)       </td><td> 0.019</td></tr>\n",
       "\t<tr><th scope=row>cov_MI = 1 (%)</th><td>  197 (22.0)       </td><td> 1024 (22.5)       </td><td> 0.013</td><td>  948.7 (22.9)       </td><td> 1028.1 (22.6)       </td><td> 0.007</td></tr>\n",
       "\t<tr><th scope=row>cov_CHF = 1 (%)</th><td>  342 (38.2)       </td><td> 1644 (36.2)       </td><td> 0.042</td><td> 1461.2 (35.3)       </td><td> 1650.2 (36.3)       </td><td> 0.021</td></tr>\n",
       "\t<tr><th scope=row>cov_cerebrovascular_disease = 1 (%)</th><td>  179 (20.0)       </td><td>  740 (16.3)       </td><td> 0.097</td><td>  654.5 (15.8)       </td><td>  734.6 (16.2)       </td><td> 0.009</td></tr>\n",
       "\t<tr><th scope=row>cov_PVD = 1 (%)</th><td>  136 (15.2)       </td><td>  589 (13.0)       </td><td> 0.064</td><td>  569.4 (13.8)       </td><td>  597.2 (13.1)       </td><td> 0.018</td></tr>\n",
       "\t<tr><th scope=row>cov_cancer = 1 (%)</th><td>  228 (25.5)       </td><td>  833 (18.3)       </td><td> 0.173</td><td>  746.9 (18.1)       </td><td>  833.0 (18.3)       </td><td> 0.007</td></tr>\n",
       "\t<tr><th scope=row>cov_COPD = 1 (%)</th><td>  195 (21.8)       </td><td>  801 (17.6)       </td><td> 0.105</td><td>  725.1 (17.5)       </td><td>  806.5 (17.7)       </td><td> 0.006</td></tr>\n",
       "\t<tr><th scope=row>cov_beta_blocker = 1 (%)</th><td>  490 (54.7)       </td><td> 2632 (57.9)       </td><td> 0.064</td><td> 2337.7 (56.5)       </td><td> 2642.5 (58.1)       </td><td> 0.033</td></tr>\n",
       "\t<tr><th scope=row>cov_CCB = 1 (%)</th><td>  249 (27.8)       </td><td> 1145 (25.2)       </td><td> 0.059</td><td> 1199.6 (29.0)       </td><td> 1149.5 (25.3)       </td><td> 0.083</td></tr>\n",
       "\t<tr><th scope=row>cov_diuretic = 1 (%)</th><td>  422 (47.2)       </td><td> 2006 (44.1)       </td><td> 0.060</td><td> 1788.2 (43.2)       </td><td> 2008.7 (44.2)       </td><td> 0.020</td></tr>\n",
       "\t<tr><th scope=row>cov_MRA = 1 (%)</th><td>  143 (16.0)       </td><td>  706 (15.5)       </td><td> 0.012</td><td>  598.5 (14.5)       </td><td>  708.4 (15.6)       </td><td> 0.031</td></tr>\n",
       "\t<tr><th scope=row>cov_SPS = 1 (%)</th><td>   17 ( 1.9)       </td><td>  110 ( 2.4)       </td><td> 0.036</td><td>   65.0 ( 1.6)       </td><td>  110.7 ( 2.4)       </td><td> 0.062</td></tr>\n",
       "\t<tr><th scope=row>cov_statin = 1 (%)</th><td>  277 (30.9)       </td><td> 1872 (41.2)       </td><td> 0.215</td><td> 1530.1 (37.0)       </td><td> 1879.3 (41.3)       </td><td> 0.089</td></tr>\n",
       "\t<tr><th scope=row>cov_antiplatelet_agent = 1 (%)</th><td>  382 (42.7)       </td><td> 2017 (44.4)       </td><td> 0.034</td><td> 1790.4 (43.3)       </td><td> 2030.7 (44.7)       </td><td> 0.028</td></tr>\n",
       "\t<tr><th scope=row>cov_egfr_cat (%)</th><td>                   </td><td>                   </td><td> 0.097</td><td>                     </td><td>                     </td><td> 0.065</td></tr>\n",
       "\t<tr><th scope=row>   G1</th><td>  120 (13.4)       </td><td>  690 (15.2)       </td><td>      </td><td>  670.9 (16.2)       </td><td>  696.3 (15.3)       </td><td>      </td></tr>\n",
       "\t<tr><th scope=row>   G2</th><td>  307 (34.3)       </td><td> 1633 (35.9)       </td><td>      </td><td> 1498.8 (36.2)       </td><td> 1627.9 (35.8)       </td><td>      </td></tr>\n",
       "\t<tr><th scope=row>   G3a</th><td>  177 (19.8)       </td><td>  900 (19.8)       </td><td>      </td><td>  846.4 (20.5)       </td><td>  890.9 (19.6)       </td><td>      </td></tr>\n",
       "\t<tr><th scope=row>   G3b</th><td>  165 (18.4)       </td><td>  809 (17.8)       </td><td>      </td><td>  647.9 (15.7)       </td><td>  819.3 (18.0)       </td><td>      </td></tr>\n",
       "\t<tr><th scope=row>   G4-5</th><td>  126 (14.1)       </td><td>  512 (11.3)       </td><td>      </td><td>  472.8 (11.4)       </td><td>  510.5 (11.2)       </td><td>      </td></tr>\n",
       "\t<tr><th scope=row>primary_care_num (median [IQR])</th><td> 3.00 [1.00, 6.00] </td><td> 3.00 [1.00, 6.00] </td><td> 0.042</td><td>   3.00 [1.00, 6.00] </td><td>   3.00 [1.00, 6.00] </td><td> 0.034</td></tr>\n",
       "\t<tr><th scope=row>cov_hospitalization = 1 (%)</th><td>   91 (10.2)       </td><td>  375 ( 8.3)       </td><td> 0.066</td><td>  323.6 ( 7.8)       </td><td>  380.0 ( 8.4)       </td><td> 0.020</td></tr>\n",
       "\t<tr><th scope=row>outpatient_num (median [IQR])</th><td> 3.00 [1.00, 8.00] </td><td> 3.00 [1.00, 7.00] </td><td> 0.058</td><td>   3.00 [1.00, 6.00] </td><td>   3.00 [1.00, 8.00] </td><td> 0.046</td></tr>\n",
       "\t<tr><th scope=row>inpatient_num (median [IQR])</th><td> 1.00 [0.00, 2.00] </td><td> 1.00 [0.00, 2.00] </td><td> 0.261</td><td>   1.00 [0.00, 2.00] </td><td>   1.00 [0.00, 2.00] </td><td> 0.007</td></tr>\n",
       "</tbody>\n",
       "</table>\n"
      ],
      "text/latex": [
       "A matrix: 39 × 6 of type chr\n",
       "\\begin{tabular}{r|llllll}\n",
       "  & discontinuation & reinitiation & SMD & discontinuation & reinitiation & SMD\\\\\n",
       "\\hline\n",
       "\tn &   895               &  4544               &        & 4136.83               & 4544.96               &       \\\\\n",
       "\tage (mean (SD)) & 74.31 (13.05)       & 71.38 (13.27)       &  0.223 &   71.76 (13.65)       &   71.38 (13.20)       &  0.028\\\\\n",
       "\tfemale = 1 (\\%) &   452 (50.5)        &  2017 (44.4)        &  0.123 &  1943.5 (47.0)        &  2020.9 (44.5)        &  0.051\\\\\n",
       "\tindex\\_year (\\%) &                     &                     &  0.064 &                       &                       &  0.060\\\\\n",
       "\t   2007 &   115 (12.8)        &   492 (10.8)        &        &   506.4 (12.2)        &   493.2 (10.9)        &       \\\\\n",
       "\t   2008 &   198 (22.1)        &  1024 (22.5)        &        &   978.2 (23.6)        &  1020.5 (22.5)        &       \\\\\n",
       "\t   2009 &   239 (26.7)        &  1227 (27.0)        &        &  1101.9 (26.6)        &  1228.7 (27.0)        &       \\\\\n",
       "\t   2010 &   219 (24.5)        &  1164 (25.6)        &        &  1006.1 (24.3)        &  1165.2 (25.6)        &       \\\\\n",
       "\t   2011 &   124 (13.9)        &   637 (14.0)        &        &   544.3 (13.2)        &   637.5 (14.0)        &       \\\\\n",
       "\tduration (median {[}IQR{]}) &  7.00 {[}2.00, 18.00{]} &  8.00 {[}2.00, 19.00{]} &  0.060 &    6.00 {[}2.00, 17.00{]} &    8.00 {[}2.00, 19.00{]} &  0.110\\\\\n",
       "\tpotassium\\_cat (\\%) &                     &                     &  0.198 &                       &                       &  0.046\\\\\n",
       "\t   mild &   670 (74.9)        &  3751 (82.5)        &        &  3367.3 (81.4)        &  3772.2 (83.0)        &       \\\\\n",
       "\t   moderate &   152 (17.0)        &   585 (12.9)        &        &   583.7 (14.1)        &   570.8 (12.6)        &       \\\\\n",
       "\t   severe &    73 ( 8.2)        &   208 ( 4.6)        &        &   185.9 ( 4.5)        &   202.0 ( 4.4)        &       \\\\\n",
       "\tcov\\_diabetes = 1 (\\%) &   277 (30.9)        &  1397 (30.7)        &  0.004 &  1299.0 (31.4)        &  1396.3 (30.7)        &  0.015\\\\\n",
       "\tcov\\_hypertension = 1 (\\%) &   686 (76.6)        &  3450 (75.9)        &  0.017 &  3107.3 (75.1)        &  3450.9 (75.9)        &  0.019\\\\\n",
       "\tcov\\_MI = 1 (\\%) &   197 (22.0)        &  1024 (22.5)        &  0.013 &   948.7 (22.9)        &  1028.1 (22.6)        &  0.007\\\\\n",
       "\tcov\\_CHF = 1 (\\%) &   342 (38.2)        &  1644 (36.2)        &  0.042 &  1461.2 (35.3)        &  1650.2 (36.3)        &  0.021\\\\\n",
       "\tcov\\_cerebrovascular\\_disease = 1 (\\%) &   179 (20.0)        &   740 (16.3)        &  0.097 &   654.5 (15.8)        &   734.6 (16.2)        &  0.009\\\\\n",
       "\tcov\\_PVD = 1 (\\%) &   136 (15.2)        &   589 (13.0)        &  0.064 &   569.4 (13.8)        &   597.2 (13.1)        &  0.018\\\\\n",
       "\tcov\\_cancer = 1 (\\%) &   228 (25.5)        &   833 (18.3)        &  0.173 &   746.9 (18.1)        &   833.0 (18.3)        &  0.007\\\\\n",
       "\tcov\\_COPD = 1 (\\%) &   195 (21.8)        &   801 (17.6)        &  0.105 &   725.1 (17.5)        &   806.5 (17.7)        &  0.006\\\\\n",
       "\tcov\\_beta\\_blocker = 1 (\\%) &   490 (54.7)        &  2632 (57.9)        &  0.064 &  2337.7 (56.5)        &  2642.5 (58.1)        &  0.033\\\\\n",
       "\tcov\\_CCB = 1 (\\%) &   249 (27.8)        &  1145 (25.2)        &  0.059 &  1199.6 (29.0)        &  1149.5 (25.3)        &  0.083\\\\\n",
       "\tcov\\_diuretic = 1 (\\%) &   422 (47.2)        &  2006 (44.1)        &  0.060 &  1788.2 (43.2)        &  2008.7 (44.2)        &  0.020\\\\\n",
       "\tcov\\_MRA = 1 (\\%) &   143 (16.0)        &   706 (15.5)        &  0.012 &   598.5 (14.5)        &   708.4 (15.6)        &  0.031\\\\\n",
       "\tcov\\_SPS = 1 (\\%) &    17 ( 1.9)        &   110 ( 2.4)        &  0.036 &    65.0 ( 1.6)        &   110.7 ( 2.4)        &  0.062\\\\\n",
       "\tcov\\_statin = 1 (\\%) &   277 (30.9)        &  1872 (41.2)        &  0.215 &  1530.1 (37.0)        &  1879.3 (41.3)        &  0.089\\\\\n",
       "\tcov\\_antiplatelet\\_agent = 1 (\\%) &   382 (42.7)        &  2017 (44.4)        &  0.034 &  1790.4 (43.3)        &  2030.7 (44.7)        &  0.028\\\\\n",
       "\tcov\\_egfr\\_cat (\\%) &                     &                     &  0.097 &                       &                       &  0.065\\\\\n",
       "\t   G1 &   120 (13.4)        &   690 (15.2)        &        &   670.9 (16.2)        &   696.3 (15.3)        &       \\\\\n",
       "\t   G2 &   307 (34.3)        &  1633 (35.9)        &        &  1498.8 (36.2)        &  1627.9 (35.8)        &       \\\\\n",
       "\t   G3a &   177 (19.8)        &   900 (19.8)        &        &   846.4 (20.5)        &   890.9 (19.6)        &       \\\\\n",
       "\t   G3b &   165 (18.4)        &   809 (17.8)        &        &   647.9 (15.7)        &   819.3 (18.0)        &       \\\\\n",
       "\t   G4-5 &   126 (14.1)        &   512 (11.3)        &        &   472.8 (11.4)        &   510.5 (11.2)        &       \\\\\n",
       "\tprimary\\_care\\_num (median {[}IQR{]}) &  3.00 {[}1.00, 6.00{]}  &  3.00 {[}1.00, 6.00{]}  &  0.042 &    3.00 {[}1.00, 6.00{]}  &    3.00 {[}1.00, 6.00{]}  &  0.034\\\\\n",
       "\tcov\\_hospitalization = 1 (\\%) &    91 (10.2)        &   375 ( 8.3)        &  0.066 &   323.6 ( 7.8)        &   380.0 ( 8.4)        &  0.020\\\\\n",
       "\toutpatient\\_num (median {[}IQR{]}) &  3.00 {[}1.00, 8.00{]}  &  3.00 {[}1.00, 7.00{]}  &  0.058 &    3.00 {[}1.00, 6.00{]}  &    3.00 {[}1.00, 8.00{]}  &  0.046\\\\\n",
       "\tinpatient\\_num (median {[}IQR{]}) &  1.00 {[}0.00, 2.00{]}  &  1.00 {[}0.00, 2.00{]}  &  0.261 &    1.00 {[}0.00, 2.00{]}  &    1.00 {[}0.00, 2.00{]}  &  0.007\\\\\n",
       "\\end{tabular}\n"
      ],
      "text/markdown": [
       "\n",
       "A matrix: 39 × 6 of type chr\n",
       "\n",
       "| <!--/--> | discontinuation | reinitiation | SMD | discontinuation | reinitiation | SMD |\n",
       "|---|---|---|---|---|---|---|\n",
       "| n |   895               |  4544               | <!----> | 4136.83               | 4544.96               | <!----> |\n",
       "| age (mean (SD)) | 74.31 (13.05)       | 71.38 (13.27)       |  0.223 |   71.76 (13.65)       |   71.38 (13.20)       |  0.028 |\n",
       "| female = 1 (%) |   452 (50.5)        |  2017 (44.4)        |  0.123 |  1943.5 (47.0)        |  2020.9 (44.5)        |  0.051 |\n",
       "| index_year (%) | <!----> | <!----> |  0.064 | <!----> | <!----> |  0.060 |\n",
       "|    2007 |   115 (12.8)        |   492 (10.8)        | <!----> |   506.4 (12.2)        |   493.2 (10.9)        | <!----> |\n",
       "|    2008 |   198 (22.1)        |  1024 (22.5)        | <!----> |   978.2 (23.6)        |  1020.5 (22.5)        | <!----> |\n",
       "|    2009 |   239 (26.7)        |  1227 (27.0)        | <!----> |  1101.9 (26.6)        |  1228.7 (27.0)        | <!----> |\n",
       "|    2010 |   219 (24.5)        |  1164 (25.6)        | <!----> |  1006.1 (24.3)        |  1165.2 (25.6)        | <!----> |\n",
       "|    2011 |   124 (13.9)        |   637 (14.0)        | <!----> |   544.3 (13.2)        |   637.5 (14.0)        | <!----> |\n",
       "| duration (median [IQR]) |  7.00 [2.00, 18.00] |  8.00 [2.00, 19.00] |  0.060 |    6.00 [2.00, 17.00] |    8.00 [2.00, 19.00] |  0.110 |\n",
       "| potassium_cat (%) | <!----> | <!----> |  0.198 | <!----> | <!----> |  0.046 |\n",
       "|    mild |   670 (74.9)        |  3751 (82.5)        | <!----> |  3367.3 (81.4)        |  3772.2 (83.0)        | <!----> |\n",
       "|    moderate |   152 (17.0)        |   585 (12.9)        | <!----> |   583.7 (14.1)        |   570.8 (12.6)        | <!----> |\n",
       "|    severe |    73 ( 8.2)        |   208 ( 4.6)        | <!----> |   185.9 ( 4.5)        |   202.0 ( 4.4)        | <!----> |\n",
       "| cov_diabetes = 1 (%) |   277 (30.9)        |  1397 (30.7)        |  0.004 |  1299.0 (31.4)        |  1396.3 (30.7)        |  0.015 |\n",
       "| cov_hypertension = 1 (%) |   686 (76.6)        |  3450 (75.9)        |  0.017 |  3107.3 (75.1)        |  3450.9 (75.9)        |  0.019 |\n",
       "| cov_MI = 1 (%) |   197 (22.0)        |  1024 (22.5)        |  0.013 |   948.7 (22.9)        |  1028.1 (22.6)        |  0.007 |\n",
       "| cov_CHF = 1 (%) |   342 (38.2)        |  1644 (36.2)        |  0.042 |  1461.2 (35.3)        |  1650.2 (36.3)        |  0.021 |\n",
       "| cov_cerebrovascular_disease = 1 (%) |   179 (20.0)        |   740 (16.3)        |  0.097 |   654.5 (15.8)        |   734.6 (16.2)        |  0.009 |\n",
       "| cov_PVD = 1 (%) |   136 (15.2)        |   589 (13.0)        |  0.064 |   569.4 (13.8)        |   597.2 (13.1)        |  0.018 |\n",
       "| cov_cancer = 1 (%) |   228 (25.5)        |   833 (18.3)        |  0.173 |   746.9 (18.1)        |   833.0 (18.3)        |  0.007 |\n",
       "| cov_COPD = 1 (%) |   195 (21.8)        |   801 (17.6)        |  0.105 |   725.1 (17.5)        |   806.5 (17.7)        |  0.006 |\n",
       "| cov_beta_blocker = 1 (%) |   490 (54.7)        |  2632 (57.9)        |  0.064 |  2337.7 (56.5)        |  2642.5 (58.1)        |  0.033 |\n",
       "| cov_CCB = 1 (%) |   249 (27.8)        |  1145 (25.2)        |  0.059 |  1199.6 (29.0)        |  1149.5 (25.3)        |  0.083 |\n",
       "| cov_diuretic = 1 (%) |   422 (47.2)        |  2006 (44.1)        |  0.060 |  1788.2 (43.2)        |  2008.7 (44.2)        |  0.020 |\n",
       "| cov_MRA = 1 (%) |   143 (16.0)        |   706 (15.5)        |  0.012 |   598.5 (14.5)        |   708.4 (15.6)        |  0.031 |\n",
       "| cov_SPS = 1 (%) |    17 ( 1.9)        |   110 ( 2.4)        |  0.036 |    65.0 ( 1.6)        |   110.7 ( 2.4)        |  0.062 |\n",
       "| cov_statin = 1 (%) |   277 (30.9)        |  1872 (41.2)        |  0.215 |  1530.1 (37.0)        |  1879.3 (41.3)        |  0.089 |\n",
       "| cov_antiplatelet_agent = 1 (%) |   382 (42.7)        |  2017 (44.4)        |  0.034 |  1790.4 (43.3)        |  2030.7 (44.7)        |  0.028 |\n",
       "| cov_egfr_cat (%) | <!----> | <!----> |  0.097 | <!----> | <!----> |  0.065 |\n",
       "|    G1 |   120 (13.4)        |   690 (15.2)        | <!----> |   670.9 (16.2)        |   696.3 (15.3)        | <!----> |\n",
       "|    G2 |   307 (34.3)        |  1633 (35.9)        | <!----> |  1498.8 (36.2)        |  1627.9 (35.8)        | <!----> |\n",
       "|    G3a |   177 (19.8)        |   900 (19.8)        | <!----> |   846.4 (20.5)        |   890.9 (19.6)        | <!----> |\n",
       "|    G3b |   165 (18.4)        |   809 (17.8)        | <!----> |   647.9 (15.7)        |   819.3 (18.0)        | <!----> |\n",
       "|    G4-5 |   126 (14.1)        |   512 (11.3)        | <!----> |   472.8 (11.4)        |   510.5 (11.2)        | <!----> |\n",
       "| primary_care_num (median [IQR]) |  3.00 [1.00, 6.00]  |  3.00 [1.00, 6.00]  |  0.042 |    3.00 [1.00, 6.00]  |    3.00 [1.00, 6.00]  |  0.034 |\n",
       "| cov_hospitalization = 1 (%) |    91 (10.2)        |   375 ( 8.3)        |  0.066 |   323.6 ( 7.8)        |   380.0 ( 8.4)        |  0.020 |\n",
       "| outpatient_num (median [IQR]) |  3.00 [1.00, 8.00]  |  3.00 [1.00, 7.00]  |  0.058 |    3.00 [1.00, 6.00]  |    3.00 [1.00, 8.00]  |  0.046 |\n",
       "| inpatient_num (median [IQR]) |  1.00 [0.00, 2.00]  |  1.00 [0.00, 2.00]  |  0.261 |    1.00 [0.00, 2.00]  |    1.00 [0.00, 2.00]  |  0.007 |\n",
       "\n"
      ],
      "text/plain": [
       "                                    discontinuation     reinitiation       \n",
       "n                                     895                4544              \n",
       "age (mean (SD))                     74.31 (13.05)       71.38 (13.27)      \n",
       "female = 1 (%)                        452 (50.5)         2017 (44.4)       \n",
       "index_year (%)                                                             \n",
       "   2007                               115 (12.8)          492 (10.8)       \n",
       "   2008                               198 (22.1)         1024 (22.5)       \n",
       "   2009                               239 (26.7)         1227 (27.0)       \n",
       "   2010                               219 (24.5)         1164 (25.6)       \n",
       "   2011                               124 (13.9)          637 (14.0)       \n",
       "duration (median [IQR])              7.00 [2.00, 18.00]  8.00 [2.00, 19.00]\n",
       "potassium_cat (%)                                                          \n",
       "   mild                               670 (74.9)         3751 (82.5)       \n",
       "   moderate                           152 (17.0)          585 (12.9)       \n",
       "   severe                              73 ( 8.2)          208 ( 4.6)       \n",
       "cov_diabetes = 1 (%)                  277 (30.9)         1397 (30.7)       \n",
       "cov_hypertension = 1 (%)              686 (76.6)         3450 (75.9)       \n",
       "cov_MI = 1 (%)                        197 (22.0)         1024 (22.5)       \n",
       "cov_CHF = 1 (%)                       342 (38.2)         1644 (36.2)       \n",
       "cov_cerebrovascular_disease = 1 (%)   179 (20.0)          740 (16.3)       \n",
       "cov_PVD = 1 (%)                       136 (15.2)          589 (13.0)       \n",
       "cov_cancer = 1 (%)                    228 (25.5)          833 (18.3)       \n",
       "cov_COPD = 1 (%)                      195 (21.8)          801 (17.6)       \n",
       "cov_beta_blocker = 1 (%)              490 (54.7)         2632 (57.9)       \n",
       "cov_CCB = 1 (%)                       249 (27.8)         1145 (25.2)       \n",
       "cov_diuretic = 1 (%)                  422 (47.2)         2006 (44.1)       \n",
       "cov_MRA = 1 (%)                       143 (16.0)          706 (15.5)       \n",
       "cov_SPS = 1 (%)                        17 ( 1.9)          110 ( 2.4)       \n",
       "cov_statin = 1 (%)                    277 (30.9)         1872 (41.2)       \n",
       "cov_antiplatelet_agent = 1 (%)        382 (42.7)         2017 (44.4)       \n",
       "cov_egfr_cat (%)                                                           \n",
       "   G1                                 120 (13.4)          690 (15.2)       \n",
       "   G2                                 307 (34.3)         1633 (35.9)       \n",
       "   G3a                                177 (19.8)          900 (19.8)       \n",
       "   G3b                                165 (18.4)          809 (17.8)       \n",
       "   G4-5                               126 (14.1)          512 (11.3)       \n",
       "primary_care_num (median [IQR])      3.00 [1.00, 6.00]   3.00 [1.00, 6.00] \n",
       "cov_hospitalization = 1 (%)            91 (10.2)          375 ( 8.3)       \n",
       "outpatient_num (median [IQR])        3.00 [1.00, 8.00]   3.00 [1.00, 7.00] \n",
       "inpatient_num (median [IQR])         1.00 [0.00, 2.00]   1.00 [0.00, 2.00] \n",
       "                                    SMD    discontinuation      \n",
       "n                                          4136.83              \n",
       "age (mean (SD))                      0.223   71.76 (13.65)      \n",
       "female = 1 (%)                       0.123  1943.5 (47.0)       \n",
       "index_year (%)                       0.064                      \n",
       "   2007                                      506.4 (12.2)       \n",
       "   2008                                      978.2 (23.6)       \n",
       "   2009                                     1101.9 (26.6)       \n",
       "   2010                                     1006.1 (24.3)       \n",
       "   2011                                      544.3 (13.2)       \n",
       "duration (median [IQR])              0.060    6.00 [2.00, 17.00]\n",
       "potassium_cat (%)                    0.198                      \n",
       "   mild                                     3367.3 (81.4)       \n",
       "   moderate                                  583.7 (14.1)       \n",
       "   severe                                    185.9 ( 4.5)       \n",
       "cov_diabetes = 1 (%)                 0.004  1299.0 (31.4)       \n",
       "cov_hypertension = 1 (%)             0.017  3107.3 (75.1)       \n",
       "cov_MI = 1 (%)                       0.013   948.7 (22.9)       \n",
       "cov_CHF = 1 (%)                      0.042  1461.2 (35.3)       \n",
       "cov_cerebrovascular_disease = 1 (%)  0.097   654.5 (15.8)       \n",
       "cov_PVD = 1 (%)                      0.064   569.4 (13.8)       \n",
       "cov_cancer = 1 (%)                   0.173   746.9 (18.1)       \n",
       "cov_COPD = 1 (%)                     0.105   725.1 (17.5)       \n",
       "cov_beta_blocker = 1 (%)             0.064  2337.7 (56.5)       \n",
       "cov_CCB = 1 (%)                      0.059  1199.6 (29.0)       \n",
       "cov_diuretic = 1 (%)                 0.060  1788.2 (43.2)       \n",
       "cov_MRA = 1 (%)                      0.012   598.5 (14.5)       \n",
       "cov_SPS = 1 (%)                      0.036    65.0 ( 1.6)       \n",
       "cov_statin = 1 (%)                   0.215  1530.1 (37.0)       \n",
       "cov_antiplatelet_agent = 1 (%)       0.034  1790.4 (43.3)       \n",
       "cov_egfr_cat (%)                     0.097                      \n",
       "   G1                                        670.9 (16.2)       \n",
       "   G2                                       1498.8 (36.2)       \n",
       "   G3a                                       846.4 (20.5)       \n",
       "   G3b                                       647.9 (15.7)       \n",
       "   G4-5                                      472.8 (11.4)       \n",
       "primary_care_num (median [IQR])      0.042    3.00 [1.00, 6.00] \n",
       "cov_hospitalization = 1 (%)          0.066   323.6 ( 7.8)       \n",
       "outpatient_num (median [IQR])        0.058    3.00 [1.00, 6.00] \n",
       "inpatient_num (median [IQR])         0.261    1.00 [0.00, 2.00] \n",
       "                                    reinitiation          SMD   \n",
       "n                                   4544.96                     \n",
       "age (mean (SD))                       71.38 (13.20)        0.028\n",
       "female = 1 (%)                       2020.9 (44.5)         0.051\n",
       "index_year (%)                                             0.060\n",
       "   2007                               493.2 (10.9)              \n",
       "   2008                              1020.5 (22.5)              \n",
       "   2009                              1228.7 (27.0)              \n",
       "   2010                              1165.2 (25.6)              \n",
       "   2011                               637.5 (14.0)              \n",
       "duration (median [IQR])                8.00 [2.00, 19.00]  0.110\n",
       "potassium_cat (%)                                          0.046\n",
       "   mild                              3772.2 (83.0)              \n",
       "   moderate                           570.8 (12.6)              \n",
       "   severe                             202.0 ( 4.4)              \n",
       "cov_diabetes = 1 (%)                 1396.3 (30.7)         0.015\n",
       "cov_hypertension = 1 (%)             3450.9 (75.9)         0.019\n",
       "cov_MI = 1 (%)                       1028.1 (22.6)         0.007\n",
       "cov_CHF = 1 (%)                      1650.2 (36.3)         0.021\n",
       "cov_cerebrovascular_disease = 1 (%)   734.6 (16.2)         0.009\n",
       "cov_PVD = 1 (%)                       597.2 (13.1)         0.018\n",
       "cov_cancer = 1 (%)                    833.0 (18.3)         0.007\n",
       "cov_COPD = 1 (%)                      806.5 (17.7)         0.006\n",
       "cov_beta_blocker = 1 (%)             2642.5 (58.1)         0.033\n",
       "cov_CCB = 1 (%)                      1149.5 (25.3)         0.083\n",
       "cov_diuretic = 1 (%)                 2008.7 (44.2)         0.020\n",
       "cov_MRA = 1 (%)                       708.4 (15.6)         0.031\n",
       "cov_SPS = 1 (%)                       110.7 ( 2.4)         0.062\n",
       "cov_statin = 1 (%)                   1879.3 (41.3)         0.089\n",
       "cov_antiplatelet_agent = 1 (%)       2030.7 (44.7)         0.028\n",
       "cov_egfr_cat (%)                                           0.065\n",
       "   G1                                 696.3 (15.3)              \n",
       "   G2                                1627.9 (35.8)              \n",
       "   G3a                                890.9 (19.6)              \n",
       "   G3b                                819.3 (18.0)              \n",
       "   G4-5                               510.5 (11.2)              \n",
       "primary_care_num (median [IQR])        3.00 [1.00, 6.00]   0.034\n",
       "cov_hospitalization = 1 (%)           380.0 ( 8.4)         0.020\n",
       "outpatient_num (median [IQR])          3.00 [1.00, 8.00]   0.046\n",
       "inpatient_num (median [IQR])           1.00 [0.00, 2.00]   0.007"
      ]
     },
     "metadata": {},
     "output_type": "display_data"
    }
   ],
   "source": [
    "tb1"
   ]
  },
  {
   "cell_type": "code",
   "execution_count": 31,
   "metadata": {},
   "outputs": [
    {
     "name": "stderr",
     "output_type": "stream",
     "text": [
      "`summarise()` ungrouping output (override with `.groups` argument)\n",
      "\n",
      "`summarise()` ungrouping output (override with `.groups` argument)\n",
      "\n"
     ]
    },
    {
     "data": {
      "text/html": [
       "<table>\n",
       "<caption>A tibble: 2 × 5</caption>\n",
       "<thead>\n",
       "\t<tr><th scope=col>X</th><th scope=col>n</th><th scope=col>weighted_followup</th><th scope=col>weighted_event</th><th scope=col>weighted_person_years</th></tr>\n",
       "\t<tr><th scope=col>&lt;chr&gt;</th><th scope=col>&lt;int&gt;</th><th scope=col>&lt;chr&gt;</th><th scope=col>&lt;dbl&gt;</th><th scope=col>&lt;dbl&gt;</th></tr>\n",
       "</thead>\n",
       "<tbody>\n",
       "\t<tr><td>discontinuation</td><td>5669</td><td>0.14 [0-0.47]   </td><td>322</td><td> 9121.54</td></tr>\n",
       "\t<tr><td>reinitiation   </td><td>5669</td><td>1.37 [0.41-2.87]</td><td>338</td><td>10116.75</td></tr>\n",
       "</tbody>\n",
       "</table>\n"
      ],
      "text/latex": [
       "A tibble: 2 × 5\n",
       "\\begin{tabular}{lllll}\n",
       " X & n & weighted\\_followup & weighted\\_event & weighted\\_person\\_years\\\\\n",
       " <chr> & <int> & <chr> & <dbl> & <dbl>\\\\\n",
       "\\hline\n",
       "\t discontinuation & 5669 & 0.14 {[}0-0.47{]}    & 322 &  9121.54\\\\\n",
       "\t reinitiation    & 5669 & 1.37 {[}0.41-2.87{]} & 338 & 10116.75\\\\\n",
       "\\end{tabular}\n"
      ],
      "text/markdown": [
       "\n",
       "A tibble: 2 × 5\n",
       "\n",
       "| X &lt;chr&gt; | n &lt;int&gt; | weighted_followup &lt;chr&gt; | weighted_event &lt;dbl&gt; | weighted_person_years &lt;dbl&gt; |\n",
       "|---|---|---|---|---|\n",
       "| discontinuation | 5669 | 0.14 [0-0.47]    | 322 |  9121.54 |\n",
       "| reinitiation    | 5669 | 1.37 [0.41-2.87] | 338 | 10116.75 |\n",
       "\n"
      ],
      "text/plain": [
       "  X               n    weighted_followup weighted_event weighted_person_years\n",
       "1 discontinuation 5669 0.14 [0-0.47]     322             9121.54             \n",
       "2 reinitiation    5669 1.37 [0.41-2.87]  338            10116.75             "
      ]
     },
     "metadata": {},
     "output_type": "display_data"
    }
   ],
   "source": [
    "incid_num_weighted <- function(data = dta_clone_nonfatal_stroke_imp1, weights = 'ipw_uns_trunc') {\n",
    "    dta <- data %>% mutate(weights = data[[weights]]) %>% \n",
    "        arrange(ID, index_date) %>% \n",
    "        group_by(ID) %>% \n",
    "        summarise(tstart = as.Date('1970-01-01'), \n",
    "                  tstop = as.Date('1970-01-01') + sum(weights) * 30, \n",
    "                  outcome_nonfatal_stroke = sum(outcome_nonfatal_stroke * weights), \n",
    "                  X = first(X)) %>% \n",
    "        ungroup() %>% \n",
    "        group_by(X) %>% \n",
    "        summarise(n = length(ID), \n",
    "                  median.followup = round(median(time_length(difftime(tstop, tstart), 'year')), 2), \n",
    "                  q25.followup = round(quantile(time_length(difftime(tstop, tstart), 'year'), 0.25), 2), \n",
    "                  q75.followup = round(quantile(time_length(difftime(tstop, tstart), 'year'), 0.75), 2), \n",
    "                  weighted_followup = paste0(median.followup, \" [\", q25.followup, \"-\", q75.followup, \"]\"), \n",
    "                  weighted_event = round(sum(outcome_nonfatal_stroke), 0), \n",
    "                  weighted_person_years = round(sum(time_length(difftime(tstop, tstart), 'year')), 2)) %>% \n",
    "        dplyr::select(c('X', 'n', 'weighted_followup', 'weighted_event', 'weighted_person_years'))\n",
    "    return(dta)\n",
    "} \n",
    "incid_num_weighted()"
   ]
  },
  {
   "cell_type": "markdown",
   "metadata": {},
   "source": [
    "## causal effect estimation"
   ]
  },
  {
   "cell_type": "code",
   "execution_count": 32,
   "metadata": {},
   "outputs": [],
   "source": [
    "dta_clone_nonfatal_stroke_imp1 <- dta_clone_nonfatal_stroke_imp1 %>% mutate(X = ifelse(X == 'reinitiation', 0, 1))"
   ]
  },
  {
   "cell_type": "code",
   "execution_count": 33,
   "metadata": {},
   "outputs": [],
   "source": [
    "causal_effect_estimation <- function(data = dta_clone_nonfatal_stroke_imp1, weights = 'ipw', \n",
    "                                     xvar = c('age', 'female', 'index_year', 'duration', 'potassium_value',\n",
    "                                              'primary_care_num', 'outpatient_num', 'inpatient_num', \n",
    "                                              'cov_diabetes_t0', 'cov_hypertension_t0', \n",
    "                                              'cov_MI_t0', 'cov_CHF_t0', 'cov_cerebrovascular_disease_t0', 'cov_PVD_t0', \n",
    "                                              'cov_cancer_t0', 'cov_COPD_t0', \n",
    "                                              'cov_beta_blocker_t0', 'cov_CCB_t0', 'cov_diuretic_t0', 'cov_MRA_t0', 'cov_SPS_t0', \n",
    "                                              'cov_statin_t0', \n",
    "                                              'cov_antiplatelet_agent_t0', \n",
    "                                              'cov_egfr_t0', \n",
    "                                              'cov_hospitalization_t0')) {\n",
    "    regression_formula <- as.formula(ifelse(length(xvar) == 0, 'outcome_nonfatal_stroke ~ X + rms::rcs(rank, 3)', \n",
    "                                            paste('outcome_nonfatal_stroke ~ X + rms::rcs(rank, 3) +', \n",
    "                                                  paste(xvar, collapse = ' + '), sep = ' ')))\n",
    "    regression_formula_int <- as.formula(ifelse(length(xvar) == 0, 'outcome_nonfatal_stroke ~ X * rms::rcs(rank, 3)', \n",
    "                                                paste('outcome_nonfatal_stroke ~ X * rms::rcs(rank, 3) +', \n",
    "                                                      paste(xvar, collapse = ' + '), sep = ' ')))\n",
    "    nonfatal_stroke.logistic.adjusted <- parglm(regression_formula, \n",
    "                                      weights = data[[weights]], \n",
    "                                      data = data, \n",
    "                                      family = binomial(link = \"logit\"), \n",
    "                                      control = parglm.control(nthreads = 6))\n",
    "    nonfatal_stroke.logistic.adjusted_int <- parglm(regression_formula_int, \n",
    "                                          weights = data[[weights]], \n",
    "                                          data = data, \n",
    "                                          family = binomial(link = \"logit\"), \n",
    "                                          control = parglm.control(nthreads = 6)) \n",
    "    nonfatal_stroke.res.adjusted <- summary(nonfatal_stroke.logistic.adjusted)\n",
    "    n_month = 60 \n",
    "    nonfatal_stroke_risk_summary_discontinuation <- data %>% \n",
    "        filter(rank == 1) %>% \n",
    "        mutate(X = 1) %>% \n",
    "        dplyr::select(c('ID', 'X', 'rank', xvar)) %>% \n",
    "        slice(rep(row_number(), n_month)) %>% \n",
    "        arrange(ID) %>% \n",
    "        group_by(ID) %>% \n",
    "        mutate(rank = cumsum(rank)) %>% \n",
    "        ungroup()\n",
    "    nonfatal_stroke_risk_summary_discontinuation$p_nonfatal_stroke = predict(nonfatal_stroke.logistic.adjusted_int, \n",
    "                                                         nonfatal_stroke_risk_summary_discontinuation, \n",
    "                                                         type = 'response')\n",
    "    nonfatal_stroke_risk_summary_discontinuation <- nonfatal_stroke_risk_summary_discontinuation %>%\n",
    "        mutate(p_surv = 1 - p_nonfatal_stroke) %>% \n",
    "        group_by(ID) %>% \n",
    "        mutate(p_cumsurv = cumprod(p_surv), \n",
    "               p_cumnonfatal_stroke = 1 - p_cumsurv) %>% \n",
    "        ungroup() %>% \n",
    "        group_by(rank) %>% \n",
    "        summarise(p_cumsurv = mean(p_cumsurv), \n",
    "                  p_cumnonfatal_stroke = mean(p_cumnonfatal_stroke)) %>% \n",
    "        mutate(X = 'discontinuation')\n",
    "    nonfatal_stroke_risk_summary_reinitiation <- data %>% \n",
    "        filter(rank == 1) %>% \n",
    "        mutate(X = 0) %>% \n",
    "        dplyr::select(c('ID', 'X', 'rank', xvar)) %>% \n",
    "        slice(rep(row_number(), n_month)) %>% \n",
    "        arrange(ID) %>% \n",
    "        group_by(ID) %>% \n",
    "        mutate(rank = cumsum(rank)) %>% \n",
    "        ungroup()\n",
    "    nonfatal_stroke_risk_summary_reinitiation$p_nonfatal_stroke = predict(nonfatal_stroke.logistic.adjusted_int, \n",
    "                                                      nonfatal_stroke_risk_summary_reinitiation, \n",
    "                                                      type = 'response')\n",
    "    nonfatal_stroke_risk_summary_reinitiation <- nonfatal_stroke_risk_summary_reinitiation %>%\n",
    "        mutate(p_surv = 1 - p_nonfatal_stroke) %>% \n",
    "        group_by(ID) %>% \n",
    "        mutate(p_cumsurv = cumprod(p_surv), \n",
    "               p_cumnonfatal_stroke = 1 - p_cumsurv) %>% \n",
    "        ungroup() %>% \n",
    "        group_by(rank) %>% \n",
    "        summarise(p_cumsurv = mean(p_cumsurv), \n",
    "                  p_cumnonfatal_stroke = mean(p_cumnonfatal_stroke)) %>% \n",
    "        mutate(X = 'reinitiation')\n",
    "    nonfatal_stroke_risk_summary <- rbind(nonfatal_stroke_risk_summary_discontinuation, nonfatal_stroke_risk_summary_reinitiation)\n",
    "    risk_discontinuation_3_y <- nonfatal_stroke_risk_summary_discontinuation %>% \n",
    "        filter(rank == 36) %>% \n",
    "        dplyr::select(p_cumnonfatal_stroke) %>% as.numeric()\n",
    "    risk_reinitiation_3_y <- nonfatal_stroke_risk_summary_reinitiation %>% \n",
    "        filter(rank == 36) %>% \n",
    "        dplyr::select(p_cumnonfatal_stroke) %>% as.numeric()\n",
    "    RD <- (risk_discontinuation_3_y - risk_reinitiation_3_y) * 100\n",
    "    RR <- (risk_discontinuation_3_y / risk_reinitiation_3_y)\n",
    "    risk_res <- round(c(risk_discontinuation_3_y * 100, risk_reinitiation_3_y * 100, RD, RR, \n",
    "                        exp(nonfatal_stroke.res.adjusted$coefficients[2, 1])), 2)\n",
    "    names(risk_res) <- c('3 year risk for discontinuation (%)', \n",
    "                         '3 year risk for reinitiation (%)', \n",
    "                         'risk difference (%)', \n",
    "                         'risk ratio', \n",
    "                         'hazard ratio')\n",
    "    risk_res <- risk_res %>% t()\n",
    "    risk_res <- list(risk_res, nonfatal_stroke_risk_summary)\n",
    "    return(risk_res)\n",
    "}"
   ]
  },
  {
   "cell_type": "code",
   "execution_count": 34,
   "metadata": {},
   "outputs": [
    {
     "name": "stderr",
     "output_type": "stream",
     "text": [
      "Note: Using an external vector in selections is ambiguous.\n",
      "\u001b[34mℹ\u001b[39m Use `all_of(xvar)` instead of `xvar` to silence this message.\n",
      "\u001b[34mℹ\u001b[39m See <https://tidyselect.r-lib.org/reference/faq-external-vector.html>.\n",
      "\u001b[90mThis message is displayed once per session.\u001b[39m\n",
      "\n",
      "`summarise()` ungrouping output (override with `.groups` argument)\n",
      "\n",
      "`summarise()` ungrouping output (override with `.groups` argument)\n",
      "\n"
     ]
    }
   ],
   "source": [
    "main_res = causal_effect_estimation(data = dta_clone_nonfatal_stroke_imp1, weights = 'ipw_uns_trunc', \n",
    "                                    xvar = c('duration'))\n",
    "main_point_estimation <- main_res[[1]]\n",
    "main_cum_incidence <- main_res[[2]]"
   ]
  },
  {
   "cell_type": "code",
   "execution_count": 35,
   "metadata": {},
   "outputs": [
    {
     "data": {
      "text/html": [
       "<table>\n",
       "<caption>A matrix: 1 × 5 of type dbl</caption>\n",
       "<thead>\n",
       "\t<tr><th scope=col>3 year risk for discontinuation (%)</th><th scope=col>3 year risk for reinitiation (%)</th><th scope=col>risk difference (%)</th><th scope=col>risk ratio</th><th scope=col>hazard ratio</th></tr>\n",
       "</thead>\n",
       "<tbody>\n",
       "\t<tr><td>6.83</td><td>6.63</td><td>0.2</td><td>1.03</td><td>1.04</td></tr>\n",
       "</tbody>\n",
       "</table>\n"
      ],
      "text/latex": [
       "A matrix: 1 × 5 of type dbl\n",
       "\\begin{tabular}{lllll}\n",
       " 3 year risk for discontinuation (\\%) & 3 year risk for reinitiation (\\%) & risk difference (\\%) & risk ratio & hazard ratio\\\\\n",
       "\\hline\n",
       "\t 6.83 & 6.63 & 0.2 & 1.03 & 1.04\\\\\n",
       "\\end{tabular}\n"
      ],
      "text/markdown": [
       "\n",
       "A matrix: 1 × 5 of type dbl\n",
       "\n",
       "| 3 year risk for discontinuation (%) | 3 year risk for reinitiation (%) | risk difference (%) | risk ratio | hazard ratio |\n",
       "|---|---|---|---|---|\n",
       "| 6.83 | 6.63 | 0.2 | 1.03 | 1.04 |\n",
       "\n"
      ],
      "text/plain": [
       "     3 year risk for discontinuation (%) 3 year risk for reinitiation (%)\n",
       "[1,] 6.83                                6.63                            \n",
       "     risk difference (%) risk ratio hazard ratio\n",
       "[1,] 0.2                 1.03       1.04        "
      ]
     },
     "metadata": {},
     "output_type": "display_data"
    }
   ],
   "source": [
    "main_point_estimation"
   ]
  },
  {
   "cell_type": "code",
   "execution_count": 36,
   "metadata": {},
   "outputs": [],
   "source": [
    "data_sample_generation <- function(k = 1, data = dta_clone_nonfatal_stroke_imp1) {\n",
    "    set.seed(k * 30)\n",
    "    data_discontinuation <- data %>% filter(X == 1)\n",
    "    ID_random_sample_discontinuation <- sample(unique(data_discontinuation$ID), \n",
    "                                               size = length(unique(data_discontinuation$ID)), \n",
    "                                               replace = T) \n",
    "    ID_random_sample_reinitiation <- ID_random_sample_discontinuation + length(ID_random_sample_discontinuation)\n",
    "    ID_random_sample <- c(ID_random_sample_discontinuation, ID_random_sample_reinitiation)\n",
    "    sub_data <- function(i, j = 1) {\n",
    "        dta <- data %>% filter(ID == i) %>% mutate(ID = j) %>% data.frame()\n",
    "        return(dta)\n",
    "    }\n",
    "    dataset_random_sample <- rbindlist(mapply(sub_data, ID_random_sample,  1 : length(ID_random_sample), SIMPLIFY = F))\n",
    "    return(dataset_random_sample)\n",
    "}"
   ]
  },
  {
   "cell_type": "code",
   "execution_count": 38,
   "metadata": {},
   "outputs": [],
   "source": [
    "bootstrap_sub <- function (data = dta_clone_nonfatal_stroke_imp1, weights = 'ipw_uns_trunc', \n",
    "    xvar_boot = c('duration'), k = 1) {\n",
    "    no_of_sample = 50\n",
    "    CI_res_sub <- mclapply((1 + (k - 1) * no_of_sample) : (k * no_of_sample), function(j) {\n",
    "        dataset_random_sample <- data_sample_generation(j, data = data)\n",
    "        Sys.sleep((j - (k - 1) * no_of_sample) * 4)\n",
    "        causal_effect_estimation(data = dataset_random_sample, weights = weights, \n",
    "                                 xvar = xvar_boot)}, mc.cores = 50)   \n",
    "    CI_res_sub <- foreach (i = 1 : no_of_sample, .combine = c) %do% {\n",
    "        CI_res_sub[[i]]\n",
    "    }\n",
    "    return(CI_res_sub)\n",
    "}"
   ]
  },
  {
   "cell_type": "code",
   "execution_count": 39,
   "metadata": {},
   "outputs": [],
   "source": [
    "CI_res <- foreach (i = 1 : 10, .combine = c) %do% {\n",
    "    bootstrap_sub(k = i)\n",
    "}"
   ]
  },
  {
   "cell_type": "raw",
   "metadata": {},
   "source": [
    "## bootstrap on 500 sample\n",
    "no_of_sample = 4\n",
    "cl <- parallel::makeCluster(4, type = \"SOCK\")\n",
    "##clusterEvalQ(cl = cl, {\n",
    "##    library(dplyr)\n",
    "##    library(data.table)\n",
    "##})\n",
    "registerDoParallel(cl)\n",
    "CI_res <- mcapply (j = 1 : no_of_sample, .combine = c, .packages = c(\"data.table\", \"dplyr\", 'parglm')) %dopar% {\n",
    "    dataset_random_sample <- data_sample_generation(j)\n",
    "    causal_effect_estimation(data = dataset_random_sample, weights = 'ipw_uns_trunc', \n",
    "                             xvar = c('duration', \n",
    "                                      'cov_diabetes_t0', 'cov_hypertension_t0', \n",
    "                                      'cov_MI_t0', 'cov_CHF_t0', 'cov_cerebrovascular_disease_t0', 'cov_PVD_t0', \n",
    "                                      'cov_cancer_t0', 'cov_COPD_t0', \n",
    "                                      'cov_beta_blocker_t0', 'cov_CCB_t0', 'cov_diuretic_t0', 'cov_MRA_t0', 'cov_SPS_t0', \n",
    "                                      'cov_statin_t0', \n",
    "                                      'cov_antiplatelet_agent_t0', \n",
    "                                      'cov_egfr_t0', \n",
    "                                      'primary_care_num_t0', 'outpatient_num_t0', 'inpatient_num_t0'))\n",
    "}\n",
    "stopCluster(cl)"
   ]
  },
  {
   "cell_type": "code",
   "execution_count": 40,
   "metadata": {},
   "outputs": [
    {
     "data": {
      "text/html": [
       "<table>\n",
       "<caption>A matrix: 1 × 5 of type chr</caption>\n",
       "<thead>\n",
       "\t<tr><th scope=col>3 year risk for discontinuation (%)</th><th scope=col>3 year risk for reinitiation (%)</th><th scope=col>risk difference (%)</th><th scope=col>risk ratio</th><th scope=col>hazard ratio</th></tr>\n",
       "</thead>\n",
       "<tbody>\n",
       "\t<tr><td>6.83 (5.13-9.64)</td><td>6.63 (5.66-7.78)</td><td>0.2 (-1.83-3)</td><td>1.03 (0.74-1.49)</td><td>1.04 (0.82-1.29)</td></tr>\n",
       "</tbody>\n",
       "</table>\n"
      ],
      "text/latex": [
       "A matrix: 1 × 5 of type chr\n",
       "\\begin{tabular}{lllll}\n",
       " 3 year risk for discontinuation (\\%) & 3 year risk for reinitiation (\\%) & risk difference (\\%) & risk ratio & hazard ratio\\\\\n",
       "\\hline\n",
       "\t 6.83 (5.13-9.64) & 6.63 (5.66-7.78) & 0.2 (-1.83-3) & 1.03 (0.74-1.49) & 1.04 (0.82-1.29)\\\\\n",
       "\\end{tabular}\n"
      ],
      "text/markdown": [
       "\n",
       "A matrix: 1 × 5 of type chr\n",
       "\n",
       "| 3 year risk for discontinuation (%) | 3 year risk for reinitiation (%) | risk difference (%) | risk ratio | hazard ratio |\n",
       "|---|---|---|---|---|\n",
       "| 6.83 (5.13-9.64) | 6.63 (5.66-7.78) | 0.2 (-1.83-3) | 1.03 (0.74-1.49) | 1.04 (0.82-1.29) |\n",
       "\n"
      ],
      "text/plain": [
       "     3 year risk for discontinuation (%) 3 year risk for reinitiation (%)\n",
       "[1,] 6.83 (5.13-9.64)                    6.63 (5.66-7.78)                \n",
       "     risk difference (%) risk ratio       hazard ratio    \n",
       "[1,] 0.2 (-1.83-3)       1.03 (0.74-1.49) 1.04 (0.82-1.29)"
      ]
     },
     "metadata": {},
     "output_type": "display_data"
    }
   ],
   "source": [
    "no_of_sample = 500\n",
    "CI_point_estimation <- foreach (i = seq(1, 2 * no_of_sample, 2), .combine = rbind) %do% {\n",
    "    CI_res[[i]]\n",
    "}\n",
    "CI_point_estimation <- CI_point_estimation %>% data.frame()\n",
    "colnames(CI_point_estimation) <- c('risk_dis', 'risk_re', 'RD', 'RR', 'HR')\n",
    "CI_point_estimation <- CI_point_estimation %>% \n",
    "    summarise(lci_risk_dis = quantile(risk_dis, 0.025), \n",
    "              uci_risk_dis = quantile(risk_dis, 0.975), \n",
    "              lci_risk_re = quantile(risk_re, 0.025), \n",
    "              uci_risk_re = quantile(risk_re, 0.975), \n",
    "              lci_RD = quantile(RD, 0.025), \n",
    "              uci_RD = quantile(RD, 0.975), \n",
    "              lci_RR = quantile(RR, 0.025), \n",
    "              uci_RR = quantile(RR, 0.975), \n",
    "              lci_HR = quantile(HR, 0.025), \n",
    "              uci_HR = quantile(HR, 0.975))\n",
    "CI_point_estimation <- round(matrix(as.numeric(CI_point_estimation), nrow = 5, ncol = 2, byrow = T), 2)\n",
    "causal_effect_point_estimation <- paste(t(main_point_estimation), \n",
    "                                        ' (', CI_point_estimation[ , 1], '-', \n",
    "                                        CI_point_estimation[ , 2], ')', sep = '')\n",
    "names(causal_effect_point_estimation) <- colnames(main_point_estimation)\n",
    "main_res <- t(causal_effect_point_estimation)\n",
    "main_res"
   ]
  },
  {
   "cell_type": "code",
   "execution_count": 41,
   "metadata": {},
   "outputs": [],
   "source": [
    "CI_cum_incidence <- foreach (i = seq(2, 2 * no_of_sample, 2), .combine = cbind) %do% {\n",
    "    CI_res[[i]]\n",
    "}\n",
    "CI_cum_incidence <- CI_cum_incidence[ , c(c(1, 4), seq(3, no_of_sample * 4, 4))]"
   ]
  },
  {
   "cell_type": "code",
   "execution_count": 42,
   "metadata": {},
   "outputs": [
    {
     "name": "stderr",
     "output_type": "stream",
     "text": [
      "`summarise()` regrouping output by 'rank' (override with `.groups` argument)\n",
      "\n"
     ]
    }
   ],
   "source": [
    "CI_cum_incidence <- CI_cum_incidence %>% \n",
    "    gather(i, p_cumnonfatal_stroke, p_cumnonfatal_stroke : p_cumnonfatal_stroke.499, factor_key = TRUE) %>% ## Note!!!!\n",
    "    arrange(rank, X) %>% \n",
    "    group_by(rank, X) %>% \n",
    "    summarise(lci_p_cumnonfatal_stroke = quantile(p_cumnonfatal_stroke, 0.025), \n",
    "              uci_p_cumnonfatal_stroke = quantile(p_cumnonfatal_stroke, 0.975))"
   ]
  },
  {
   "cell_type": "code",
   "execution_count": 43,
   "metadata": {},
   "outputs": [],
   "source": [
    "main_cum_incidence <- rbind(data.frame(rank = 0, p_cumsurv = 1, p_cumnonfatal_stroke = 0, X = 'discontinuation'), \n",
    "                            data.frame(rank = 0, p_cumsurv = 1, p_cumnonfatal_stroke = 0, X = 'reinitiation'), \n",
    "                            data.frame(main_cum_incidence))"
   ]
  },
  {
   "cell_type": "code",
   "execution_count": 44,
   "metadata": {},
   "outputs": [],
   "source": [
    "CI_cum_incidence <- rbind(data.frame(rank = 0, X = 'discontinuation', lci_p_cumnonfatal_stroke = 0, uci_p_cumnonfatal_stroke = 0), \n",
    "                          data.frame(rank = 0, X = 'reinitiation', lci_p_cumnonfatal_stroke = 0, uci_p_cumnonfatal_stroke = 0), \n",
    "                          data.frame(CI_cum_incidence))"
   ]
  },
  {
   "cell_type": "code",
   "execution_count": 46,
   "metadata": {},
   "outputs": [
    {
     "data": {
      "image/png": "[encoded data removed]",
      "text/plain": [
       "plot without title"
      ]
     },
     "metadata": {
      "image/png": {
       "height": 420,
       "width": 420
      }
     },
     "output_type": "display_data"
    }
   ],
   "source": [
    "ggplot(data = main_cum_incidence %>% filter(rank <= 36), aes(x = rank, y = p_cumnonfatal_stroke, group = X, colour = X)) + \n",
    "    geom_line() + \n",
    "    geom_line(data = CI_cum_incidence %>% filter(rank <= 36), aes(x = rank, y = lci_p_cumnonfatal_stroke, group = X, colour = X), \n",
    "              linetype = \"dashed\") + \n",
    "    geom_line(data = CI_cum_incidence %>% filter(rank <= 36), aes(x = rank, y = uci_p_cumnonfatal_stroke, group = X, colour = X), \n",
    "              linetype = \"dashed\") + \n",
    "    xlab('Month') + \n",
    "    ylab('Cumulative incidence') + \n",
    "    scale_x_continuous(breaks = seq(0, 36, 6)) + \n",
    "    ylim(0, 0.4) +\n",
    "    labs(title = 'Stroke', color = \"Treatment strategy\") + \n",
    "    scale_color_manual(labels=c(\"discontinuation\", \"continuation\"),\n",
    "                       values=c(\"red\", \"blue\"))"
   ]
  },
  {
   "cell_type": "markdown",
   "metadata": {},
   "source": [
    "## Sensitivity analyses"
   ]
  },
  {
   "cell_type": "markdown",
   "metadata": {},
   "source": [
    "### <font face = \"Times New Roman\" color='blue'>stabilized IPWs without truncation</font>"
   ]
  },
  {
   "cell_type": "raw",
   "metadata": {},
   "source": [
    "incid_num_weighted(weights = 'ipw')"
   ]
  },
  {
   "cell_type": "raw",
   "metadata": {},
   "source": [
    "sen1_res = causal_effect_estimation(weights = 'ipw')\n",
    "sen1_point_estimation <- sen1_res[[1]]"
   ]
  },
  {
   "cell_type": "raw",
   "metadata": {},
   "source": [
    "sen1_point_estimation"
   ]
  },
  {
   "cell_type": "raw",
   "metadata": {},
   "source": [
    "CI_res <- foreach (i = 1 : 10, .combine = c) %do% {\n",
    "    bootstrap_sub(k = i, weights = 'ipw', \n",
    "                  xvar_boot = c('age', 'female', 'index_year', 'duration', 'potassium_value',\n",
    "                                'primary_care_num', 'outpatient_num', 'inpatient_num', \n",
    "                                'cov_diabetes_t0', 'cov_hypertension_t0', \n",
    "                                'cov_MI_t0', 'cov_CHF_t0', 'cov_cerebrovascular_disease_t0', 'cov_PVD_t0', \n",
    "                                'cov_cancer_t0', 'cov_COPD_t0', \n",
    "                                'cov_beta_blocker_t0', 'cov_CCB_t0', 'cov_diuretic_t0', 'cov_MRA_t0', 'cov_SPS_t0', \n",
    "                                'cov_statin_t0', \n",
    "                                'cov_antiplatelet_agent_t0', \n",
    "                                'cov_egfr_t0', \n",
    "                                'cov_hospitalization_t0'))\n",
    "}"
   ]
  },
  {
   "cell_type": "raw",
   "metadata": {},
   "source": [
    "no_of_sample = 500\n",
    "################################################################################################\n",
    "CI_point_estimation <- foreach (i = seq(1, 2 * no_of_sample, 2), .combine = rbind) %do% {\n",
    "    CI_res[[i]]\n",
    "}\n",
    "CI_point_estimation <- CI_point_estimation %>% data.frame()\n",
    "colnames(CI_point_estimation) <- c('risk_dis', 'risk_re', 'RD', 'RR', 'HR')\n",
    "CI_point_estimation <- CI_point_estimation %>% \n",
    "    summarise(lci_risk_dis = quantile(risk_dis, 0.025), \n",
    "              uci_risk_dis = quantile(risk_dis, 0.975), \n",
    "              lci_risk_re = quantile(risk_re, 0.025), \n",
    "              uci_risk_re = quantile(risk_re, 0.975), \n",
    "              lci_RD = quantile(RD, 0.025), \n",
    "              uci_RD = quantile(RD, 0.975), \n",
    "              lci_RR = quantile(RR, 0.025), \n",
    "              uci_RR = quantile(RR, 0.975), \n",
    "              lci_HR = quantile(HR, 0.025), \n",
    "              uci_HR = quantile(HR, 0.975))\n",
    "CI_point_estimation <- round(matrix(as.numeric(CI_point_estimation), nrow = 5, ncol = 2, byrow = T), 2)\n",
    "causal_effect_point_estimation <- paste(t(sen1_point_estimation), \n",
    "                                        ' (', CI_point_estimation[ , 1], '-', \n",
    "                                        CI_point_estimation[ , 2], ')', sep = '')\n",
    "names(causal_effect_point_estimation) <- colnames(sen1_point_estimation)\n",
    "t(causal_effect_point_estimation)"
   ]
  },
  {
   "cell_type": "markdown",
   "metadata": {},
   "source": [
    "### <font face = \"Times New Roman\" color='blue'>stabilized IPWs by ML</font>"
   ]
  },
  {
   "cell_type": "raw",
   "metadata": {},
   "source": [
    "incid_num_weighted(weights = 'ipw_ML')"
   ]
  },
  {
   "cell_type": "raw",
   "metadata": {},
   "source": [
    "sen2_res = causal_effect_estimation(weights = 'ipw_ML')\n",
    "sen2_point_estimation <- sen2_res[[1]]"
   ]
  },
  {
   "cell_type": "raw",
   "metadata": {},
   "source": [
    "CI_res <- foreach (i = 1 : 10, .combine = c) %do% {\n",
    "    bootstrap_sub(k = i, weights = 'ipw_ML', \n",
    "                  xvar_boot = c('age', 'female', 'index_year', 'duration', 'potassium_value',\n",
    "                                'primary_care_num', 'outpatient_num', 'inpatient_num', \n",
    "                                'cov_diabetes_t0', 'cov_hypertension_t0', \n",
    "                                'cov_MI_t0', 'cov_CHF_t0', 'cov_cerebrovascular_disease_t0', 'cov_PVD_t0', \n",
    "                                'cov_cancer_t0', 'cov_COPD_t0', \n",
    "                                'cov_beta_blocker_t0', 'cov_CCB_t0', 'cov_diuretic_t0', 'cov_MRA_t0', 'cov_SPS_t0', \n",
    "                                'cov_statin_t0', \n",
    "                                'cov_antiplatelet_agent_t0', \n",
    "                                'cov_egfr_t0', \n",
    "                                'cov_hospitalization_t0'))\n",
    "}\n",
    "no_of_sample = 500\n",
    "################################################################################################\n",
    "CI_point_estimation <- foreach (i = seq(1, 2 * no_of_sample, 2), .combine = rbind) %do% {\n",
    "    CI_res[[i]]\n",
    "}\n",
    "CI_point_estimation <- CI_point_estimation %>% data.frame()\n",
    "colnames(CI_point_estimation) <- c('risk_dis', 'risk_re', 'RD', 'RR', 'HR')\n",
    "CI_point_estimation <- CI_point_estimation %>% \n",
    "    summarise(lci_risk_dis = quantile(risk_dis, 0.025), \n",
    "              uci_risk_dis = quantile(risk_dis, 0.975), \n",
    "              lci_risk_re = quantile(risk_re, 0.025), \n",
    "              uci_risk_re = quantile(risk_re, 0.975), \n",
    "              lci_RD = quantile(RD, 0.025), \n",
    "              uci_RD = quantile(RD, 0.975), \n",
    "              lci_RR = quantile(RR, 0.025), \n",
    "              uci_RR = quantile(RR, 0.975), \n",
    "              lci_HR = quantile(HR, 0.025), \n",
    "              uci_HR = quantile(HR, 0.975))\n",
    "CI_point_estimation <- round(matrix(as.numeric(CI_point_estimation), nrow = 5, ncol = 2, byrow = T), 2)\n",
    "causal_effect_point_estimation <- paste(t(sen2_point_estimation), \n",
    "                                        ' (', CI_point_estimation[ , 1], '-', \n",
    "                                        CI_point_estimation[ , 2], ')', sep = '')\n",
    "names(causal_effect_point_estimation) <- colnames(sen2_point_estimation)\n",
    "t(causal_effect_point_estimation)"
   ]
  },
  {
   "cell_type": "markdown",
   "metadata": {},
   "source": [
    "### <font face = \"Times New Roman\" color='blue'>albuminuria included as a time-varying confounder</font>"
   ]
  },
  {
   "cell_type": "raw",
   "metadata": {},
   "source": [
    "dta_clone_nonfatal_stroke_ALB <- dta_clone_nonfatal_stroke %>% \n",
    "    filter(!is.na(cov_acr_t0)) ## exclude patients with baseline missing albuminuria\n",
    "length(unique(dta_clone_nonfatal_stroke_ALB$lopnr))"
   ]
  },
  {
   "cell_type": "raw",
   "metadata": {},
   "source": [
    "x_adjusted_var_ALB <- c('age', 'female', 'index_year', 'rcs(duration, 3)', 'rcs(potassium_value, 3)', \n",
    "                        # 'cov_diabetes_t0', 'cov_hypertension_t0', \n",
    "                        # 'cov_MI_t0', 'cov_CHF_t0', 'cov_cerebrovascular_disease_t0', 'cov_PVD_t0', \n",
    "                        # 'cov_COPD_t0', \n",
    "                        # 'cov_beta_blocker_t0', 'cov_CCB_t0', 'cov_diuretic_t0', 'cov_MRA_t0', 'cov_SPS_t0', \n",
    "                        # 'cov_statin_t0', \n",
    "                        # 'cov_antiplatelet_agent_t0', \n",
    "                        # 'cov_egfr_t0', \n",
    "                        'primary_care_num', \n",
    "                        'outpatient_num', \n",
    "                        'inpatient_num', # 'cov_hospitalization_t0', \n",
    "                        'cov_diabetes', 'cov_hypertension', \n",
    "                        'cov_MI', 'cov_CHF', 'cov_cerebrovascular_disease', 'cov_PVD', \n",
    "                        'cov_cancer', 'cov_COPD',  \n",
    "                        'cov_beta_blocker', 'cov_CCB', 'cov_diuretic', 'cov_MRA', 'cov_SPS', \n",
    "                        'cov_statin', \n",
    "                        'cov_antiplatelet_agent', \n",
    "                        'rcs(cov_egfr, 6)', \n",
    "                        'rcs(cov_acr, 6)', \n",
    "                        # 'rcs(cov_potassium, 12)', \n",
    "                        'cov_hospitalization')"
   ]
  },
  {
   "cell_type": "raw",
   "metadata": {},
   "source": [
    "dta_clone_nonfatal_stroke_ALB_discontinuation <- dta_clone_nonfatal_stroke_ALB %>% \n",
    "    filter(X == 'discontinuation') %>% \n",
    "    arrange(ID, index_date)\n",
    "dta_clone_nonfatal_stroke_ALB_discontinuation_censor_part <- dta_clone_nonfatal_stroke_ALB_discontinuation %>% \n",
    "    filter(rank %in% 1 : 6)\n",
    "dta_clone_nonfatal_stroke_ALB_discontinuation_noncensor_part <- dta_clone_nonfatal_stroke_ALB_discontinuation %>% \n",
    "    filter(rank > 6)\n",
    "## logistic regression formula\n",
    "regression_formula_IPCW <- as.formula(paste0('censor ~ rank + rank ^ 2 + ', \n",
    "                                             paste(x_adjusted_var, collapse = \" + \"), \n",
    "                                             sep = ' '))\n",
    "denominator.fit <- glm(regression_formula_IPCW, \n",
    "                       data = dta_clone_nonfatal_stroke_ALB_discontinuation_censor_part, \n",
    "                       family  = binomial(link = \"logit\"))\n",
    "## ===============================================================================================================\n",
    "## Unstabilized IPW\n",
    "dta_clone_nonfatal_stroke_ALB_discontinuation_censor_part$ipw_uns_per_month <- \n",
    "    ifelse(dta_clone_nonfatal_stroke_ALB_discontinuation_censor_part$censor == 1, \n",
    "           0, \n",
    "           1 / (1 - fitted(denominator.fit)))\n",
    "dta_clone_nonfatal_stroke_ALB_discontinuation_noncensor_part$ipw_uns_per_month <- 1\n",
    "## ===============================================================================================================\n",
    "dta_clone_nonfatal_stroke_ALB_discontinuation <- rbind(dta_clone_nonfatal_stroke_ALB_discontinuation_censor_part, \n",
    "                                             dta_clone_nonfatal_stroke_ALB_discontinuation_noncensor_part) %>% \n",
    "    arrange(ID, index_date)\n",
    "## Unstabilized IPW\n",
    "dta_clone_nonfatal_stroke_ALB_discontinuation$ipw_uns <- unlist(tapply(dta_clone_nonfatal_stroke_ALB_discontinuation$ipw_uns_per_month, \n",
    "                                                             dta_clone_nonfatal_stroke_ALB_discontinuation$ID, cumprod))\n",
    "## ============================================================================================================="
   ]
  },
  {
   "cell_type": "raw",
   "metadata": {},
   "source": [
    "dta_clone_nonfatal_stroke_ALB_reinitiation <- dta_clone_nonfatal_stroke_ALB %>% \n",
    "    filter(X == 'reinitiation') %>% \n",
    "    arrange(ID, index_date)\n",
    "dta_clone_nonfatal_stroke_ALB_reinitiation_censor_part <- dta_clone_nonfatal_stroke_ALB_reinitiation %>% \n",
    "    filter(rank == 6)\n",
    "dta_clone_nonfatal_stroke_ALB_reinitiation_noncensor_part <- dta_clone_nonfatal_stroke_ALB_reinitiation %>% \n",
    "    filter(rank %in% 1 : 5 | rank > 6)\n",
    "regression_formula_IPCW <- as.formula(paste0('censor ~ ', \n",
    "                                             paste(x_adjusted_var, collapse = \" + \"), \n",
    "                                             sep = ' '))\n",
    "denominator.fit <- glm(regression_formula_IPCW, \n",
    "                       data = dta_clone_nonfatal_stroke_ALB_reinitiation_censor_part, \n",
    "                       family  = binomial(link = \"logit\"))\n",
    "## Unstabilized IPW\n",
    "dta_clone_nonfatal_stroke_ALB_reinitiation_censor_part$ipw_uns_per_month <- \n",
    "    ifelse(dta_clone_nonfatal_stroke_ALB_reinitiation_censor_part$censor == 1, \n",
    "           0, \n",
    "           1 / (1 - fitted(denominator.fit)))\n",
    "dta_clone_nonfatal_stroke_ALB_reinitiation_noncensor_part$ipw_uns_per_month <- 1\n",
    "## =============================================================================================================\n",
    "dta_clone_nonfatal_stroke_ALB_reinitiation <- rbind(dta_clone_nonfatal_stroke_ALB_reinitiation_censor_part, \n",
    "                                          dta_clone_nonfatal_stroke_ALB_reinitiation_noncensor_part) %>% \n",
    "    arrange(ID, index_date)\n",
    "## Unstabilized IPW\n",
    "dta_clone_nonfatal_stroke_ALB_reinitiation$ipw_uns <- unlist(tapply(dta_clone_nonfatal_stroke_ALB_reinitiation$ipw_uns_per_month, \n",
    "                                                          dta_clone_nonfatal_stroke_ALB_reinitiation$ID, cumprod))\n",
    "## ============================================================================================================="
   ]
  },
  {
   "cell_type": "raw",
   "metadata": {},
   "source": [
    "dta_clone_nonfatal_stroke_ALB <- rbind(dta_clone_nonfatal_stroke_ALB_discontinuation, dta_clone_nonfatal_stroke_ALB_reinitiation) %>% \n",
    "    arrange(ID, index_date)\n",
    "dta_clone_nonfatal_stroke_ALB$ipw_uns_trunc <- ipw.truncation(dta_clone_nonfatal_stroke_ALB$ipw_uns, \n",
    "                                                    trunc.u = quantile(dta_clone_nonfatal_stroke_ALB$ipw_uns, 0.99))\n",
    "dta_clone_nonfatal_stroke_ALB <- dta_clone_nonfatal_stroke_ALB %>% mutate(X = ifelse(X == 'reinitiation', 0, 1))"
   ]
  },
  {
   "cell_type": "raw",
   "metadata": {},
   "source": [
    "incid_num_weighted(data = dta_clone_nonfatal_stroke_ALB, weights = 'ipw_uns_trunc')"
   ]
  },
  {
   "cell_type": "raw",
   "metadata": {},
   "source": [
    "sen3_res = causal_effect_estimation(data = dta_clone_nonfatal_stroke_ALB, weights = 'ipw_uns_trunc', \n",
    "                                    xvar = c('duration'))\n",
    "sen3_point_estimation <- sen3_res[[1]]\n",
    "## bootstrap on 500 sample\n",
    "CI_res <- foreach (i = 1 : 10, .combine = c) %do% {\n",
    "    bootstrap_sub(data = dta_clone_nonfatal_stroke_ALB, k = i, weights = 'ipw_uns_trunc')\n",
    "}\n",
    "##############################################################################################################\n",
    "CI_point_estimation <- foreach (i = seq(1, 2 * no_of_sample, 2), .combine = rbind) %do% {\n",
    "    CI_res[[i]]\n",
    "}\n",
    "CI_point_estimation <- CI_point_estimation %>% data.frame()\n",
    "colnames(CI_point_estimation) <- c('risk_dis', 'risk_re', 'RD', 'RR', 'HR')\n",
    "CI_point_estimation <- CI_point_estimation %>% \n",
    "    summarise(lci_risk_dis = quantile(risk_dis, 0.025), \n",
    "              uci_risk_dis = quantile(risk_dis, 0.975), \n",
    "              lci_risk_re = quantile(risk_re, 0.025), \n",
    "              uci_risk_re = quantile(risk_re, 0.975), \n",
    "              lci_RD = quantile(RD, 0.025), \n",
    "              uci_RD = quantile(RD, 0.975), \n",
    "              lci_RR = quantile(RR, 0.025), \n",
    "              uci_RR = quantile(RR, 0.975), \n",
    "              lci_HR = quantile(HR, 0.025), \n",
    "              uci_HR = quantile(HR, 0.975))\n",
    "CI_point_estimation <- round(matrix(as.numeric(CI_point_estimation), nrow = 5, ncol = 2, byrow = T), 2)\n",
    "causal_effect_point_estimation <- paste(t(sen3_point_estimation), \n",
    "                                        ' (', CI_point_estimation[ , 1], '-', \n",
    "                                        CI_point_estimation[ , 2], ')', sep = '')\n",
    "names(causal_effect_point_estimation) <- colnames(sen3_point_estimation)\n",
    "t(causal_effect_point_estimation)"
   ]
  },
  {
   "cell_type": "markdown",
   "metadata": {},
   "source": [
    "## subgroup analysis"
   ]
  },
  {
   "cell_type": "raw",
   "metadata": {},
   "source": [
    "subgroup_analysis <- function(data = dta_clone_nonfatal_stroke_imp1, by = 'age_cat', \n",
    "                              xvar = c('duration')) {\n",
    "    data1 = data[data[[by]] == 1, ]\n",
    "    data0 = data[data[[by]] == 0, ]\n",
    "    no_of_sample = 500\n",
    "    ##################################################\n",
    "    ### SUBGROUP 1 RESULTS\n",
    "    ##################################################\n",
    "    sub1_res = causal_effect_estimation(data = data1, weights = 'ipw_uns_trunc', \n",
    "                                        xvar = xvar)\n",
    "    sub1_point_estimation <- sub1_res[[1]]\n",
    "    ## bootstrap on 500 sample\n",
    "    sub1_CI_res <- foreach (i = 1 : 10, .combine = c) %do% {\n",
    "        bootstrap_sub(data = data1, k = i * 7, weights = 'ipw_uns_trunc', xvar_boot = xvar)\n",
    "    }\n",
    "    ##############################################################################################\n",
    "    sub1_CI_point_estimation <- foreach (i = seq(1, 2 * no_of_sample, 2), .combine = rbind) %do% {\n",
    "        sub1_CI_res[[i]]\n",
    "    }\n",
    "    sub1_CI_point_estimation <- sub1_CI_point_estimation %>% data.frame()\n",
    "    colnames(sub1_CI_point_estimation) <- c('risk_dis', 'risk_re', 'RD', 'RR', 'HR')\n",
    "    sub1_CI_point_estimation <- sub1_CI_point_estimation %>% \n",
    "        summarise(lci_risk_dis = quantile(risk_dis, 0.025), \n",
    "                  uci_risk_dis = quantile(risk_dis, 0.975), \n",
    "                  lci_risk_re = quantile(risk_re, 0.025), \n",
    "                  uci_risk_re = quantile(risk_re, 0.975), \n",
    "                  lci_RD = quantile(RD, 0.025), \n",
    "                  uci_RD = quantile(RD, 0.975), \n",
    "                  lci_RR = quantile(RR, 0.025), \n",
    "                  uci_RR = quantile(RR, 0.975), \n",
    "                  lci_HR = quantile(HR, 0.025), \n",
    "                  uci_HR = quantile(HR, 0.975))\n",
    "    sub1_CI_point_estimation <- round(matrix(as.numeric(sub1_CI_point_estimation), nrow = 5, ncol = 2, byrow = T), 2)\n",
    "    causal_effect_point_estimation <- paste(t(sub1_point_estimation), \n",
    "                                            ' (', sub1_CI_point_estimation[ , 1], '-', \n",
    "                                            sub1_CI_point_estimation[ , 2], ')', sep = '')\n",
    "    sub1_res <- t(causal_effect_point_estimation)\n",
    "    ##################################################\n",
    "    ### SUBGROUP 0 RESULTS\n",
    "    ##################################################\n",
    "    sub0_res = causal_effect_estimation(data = data0, weights = 'ipw_uns_trunc', \n",
    "                                        xvar = xvar)\n",
    "    sub0_point_estimation <- sub0_res[[1]]\n",
    "    ## bootstrap on 500 sample\n",
    "    sub0_CI_res <- foreach (i = 1 : 10, .combine = c) %do% {\n",
    "        bootstrap_sub(data = data0, k = i * 11, weights = 'ipw_uns_trunc', xvar_boot = xvar)\n",
    "    }\n",
    "    ######################################################################################################\n",
    "    sub0_CI_point_estimation <- foreach (i = seq(1, 2 * no_of_sample, 2), .combine = rbind) %do% {\n",
    "        sub0_CI_res[[i]]\n",
    "    }\n",
    "    sub0_CI_point_estimation <- sub0_CI_point_estimation %>% data.frame()\n",
    "    colnames(sub0_CI_point_estimation) <- c('risk_dis', 'risk_re', 'RD', 'RR', 'HR')\n",
    "    sub0_CI_point_estimation <- sub0_CI_point_estimation %>% \n",
    "        summarise(lci_risk_dis = quantile(risk_dis, 0.025), \n",
    "                  uci_risk_dis = quantile(risk_dis, 0.975), \n",
    "                  lci_risk_re = quantile(risk_re, 0.025), \n",
    "                  uci_risk_re = quantile(risk_re, 0.975), \n",
    "                  lci_RD = quantile(RD, 0.025), \n",
    "                  uci_RD = quantile(RD, 0.975), \n",
    "                  lci_RR = quantile(RR, 0.025), \n",
    "                  uci_RR = quantile(RR, 0.975), \n",
    "                  lci_HR = quantile(HR, 0.025), \n",
    "                  uci_HR = quantile(HR, 0.975))\n",
    "    sub0_CI_point_estimation <- round(matrix(as.numeric(sub0_CI_point_estimation), nrow = 5, ncol = 2, byrow = T), 2)\n",
    "    causal_effect_point_estimation <- paste(t(sub0_point_estimation), \n",
    "                                            ' (', sub0_CI_point_estimation[ , 1], '-', \n",
    "                                            sub0_CI_point_estimation[ , 2], ')', sep = '')\n",
    "    sub0_res <- t(causal_effect_point_estimation)\n",
    "    #####################################################################################\n",
    "    #####################################################################################\n",
    "    AERI_point_estimation <- round(sub1_point_estimation[3] - sub0_point_estimation[3], 2)\n",
    "    CI_AERI_point_estimation <- foreach (i = seq(1, 2 * no_of_sample, 2), .combine = rbind) %do% {\n",
    "        sub1_CI_res[[i]][3] - sub0_CI_res[[i]][3]\n",
    "    }\n",
    "    CI_AERI_point_estimation <- CI_AERI_point_estimation %>% data.frame()\n",
    "    colnames(CI_AERI_point_estimation) <- c('AERI')\n",
    "    CI_AERI_point_estimation <- CI_AERI_point_estimation %>% \n",
    "        summarise(lci_AERI = round(quantile(AERI, 0.025), 2), \n",
    "                  uci_AERI = round(quantile(AERI, 0.975), 2))\n",
    "    causal_effect_AERI <- c(AERI_point_estimation, CI_AERI_point_estimation[ , 1], CI_AERI_point_estimation[ , 2], \n",
    "                            paste(AERI_point_estimation, \n",
    "                                  ' (', CI_AERI_point_estimation[ , 1], '-', \n",
    "                                  CI_AERI_point_estimation[ , 2], ')', sep = ''))\n",
    "    ### think about how to calcualte P value?????????\n",
    "    p_res <- foreach (i = seq(1, 2 * no_of_sample, 2), .combine = c) %do% {\n",
    "        sub1_CI_res[[i]][3] - sub0_CI_res[[i]][3]\n",
    "    }\n",
    "    p_more_than_0 <- sum(p_res > 0) / length(p_res)\n",
    "    p_less_than_0 <- sum(p_res < 0) / length(p_res)\n",
    "    p <- round(min(p_more_than_0, p_less_than_0) * 2, 2)\n",
    "    res <- rbind(c(sub1_res, causal_effect_AERI, p), c(sub0_res, '', '', '', '', ''))\n",
    "    colnames(res) <- c(colnames(sub1_point_estimation), 'AERI point', 'AERI lci', 'AERI uci', 'AERI', 'p')\n",
    "    return(res)\n",
    "}"
   ]
  },
  {
   "cell_type": "raw",
   "metadata": {},
   "source": [
    "### by age\n",
    "dta_clone_nonfatal_stroke_imp1 <- dta_clone_nonfatal_stroke_imp1 %>% mutate(age_cat = ifelse(age >= 70, 1, 0))\n",
    "sub_res_age <- subgroup_analysis(by = 'age_cat')"
   ]
  },
  {
   "cell_type": "raw",
   "metadata": {},
   "source": [
    "### by sex\n",
    "sub_res_sex <- subgroup_analysis(by = 'female')"
   ]
  },
  {
   "cell_type": "raw",
   "metadata": {},
   "source": [
    "### by diabetes\n",
    "sub_res_diabetes <- subgroup_analysis(by = 'cov_diabetes_t0')"
   ]
  },
  {
   "cell_type": "raw",
   "metadata": {},
   "source": [
    "### by heart failure\n",
    "sub_res_HF <- subgroup_analysis(by = 'cov_CHF_t0')"
   ]
  },
  {
   "cell_type": "raw",
   "metadata": {},
   "source": [
    "### by composite of MI, cerebrovascular disease and peripheral vascular disease\n",
    "dta_clone_nonfatal_stroke_imp1 <- dta_clone_nonfatal_stroke_imp1 %>% \n",
    "    mutate(cov_CVD_nonHF_subcat_t0 = ifelse(cov_MI_t0 + cov_cerebrovascular_disease_t0 + cov_PVD_t0 >= 1, 1, 0))\n",
    "sub_res_CVD_nonHF <- subgroup_analysis(by = 'cov_CVD_nonHF_subcat_t0')"
   ]
  },
  {
   "cell_type": "raw",
   "metadata": {},
   "source": [
    "### by eGFR\n",
    "dta_clone_nonfatal_stroke_imp1 <- dta_clone_nonfatal_stroke_imp1 %>% mutate(cov_egfr_subcat_t0 = ifelse(cov_egfr_t0 >= 60, 1, 0))\n",
    "sub_res_eGFR <- subgroup_analysis(by = 'cov_egfr_subcat_t0')"
   ]
  },
  {
   "cell_type": "raw",
   "metadata": {},
   "source": [
    "## needed when main analysis is not run\n",
    "main_res <- c('25.79 (21.87-30.23)', '17.27 (15.72-18.96)', \n",
    "              '8.52 (4.43-13.17)', \n",
    "              '1.49 (1.25-1.81)', '1.49 (1.32-1.72)')"
   ]
  },
  {
   "cell_type": "raw",
   "metadata": {},
   "source": [
    "sub_res <- rbind(sub_res_age, \n",
    "                 sub_res_sex, \n",
    "                 sub_res_diabetes, \n",
    "                 sub_res_HF, \n",
    "                 sub_res_CVD_nonHF, \n",
    "                 sub_res_eGFR) %>% data.frame()\n",
    "sub_res <- sub_res %>% mutate(p = ifelse(p == 0, '<0.01', paste(sub_res$p))) ## when p=0 appeared\n",
    "save(sub_res, file = 'sub results for nonfatal_stroke.R')"
   ]
  },
  {
   "cell_type": "raw",
   "metadata": {},
   "source": [
    "load('sub results for nonfatal_stroke.R')\n",
    "sub_res <- sub_res %>% mutate(group = c(paste('    ', intToUtf8(8805), '70 years', sep = ''), \n",
    "                                        '    <70 years', \n",
    "                                        '    female', '    male', \n",
    "                                        '    yes', '    no', \n",
    "                                        '    yes', '    no', \n",
    "                                        '    yes', '    no', \n",
    "                                        paste('    ', intToUtf8(8805), '60 ml/min/1.73m^2', sep = ''), \n",
    "                                        '    <60 ml/min/1.73m^2')) %>% \n",
    "    dplyr::select(c(11, 1 : 10))\n",
    "sub_res <- rbind(as.matrix(t(c('Overall', main_res, '', '', '', '', ''))), as.matrix(sub_res)) %>% \n",
    "    data.frame()\n",
    "colnames(sub_res) <- c('group', colnames(sub_res_age))\n",
    "sub_res <- sub_res %>% dplyr::select(c(1 : 4, 7 : 11)) %>% \n",
    "    tibble::add_row(group = 'Age', .before = 2) %>% \n",
    "    tibble::add_row(group = 'Sex', .before = 5) %>% \n",
    "    tibble::add_row(group = 'Diabetes', .before = 8) %>% \n",
    "    tibble::add_row(group = 'HF', .before = 11) %>%  \n",
    "    tibble::add_row(group = 'MI, CeVD and PVD', .before = 14) %>%  \n",
    "    tibble::add_row(group = 'eGFR', .before = 17)"
   ]
  },
  {
   "cell_type": "raw",
   "metadata": {},
   "source": [
    "tabletext <- cbind(c(\"Subgroup\", \"\\n\", as.character(sub_res$group)), \n",
    "                   c(\"3 year risk for\\n discontinuation (%)\", \"\\n\", as.character(sub_res[ , 2])), \n",
    "                   c(\"3 year risk for\\n continuation (%)\", \"\\n\", as.character(sub_res[ , 3])), \n",
    "                   c(\"Risk difference (%)\", \"\\n\", as.character(sub_res[ , 4])), \n",
    "                   c(\"AERI (%)\", \"\\n\", as.character(sub_res$AERI)), \n",
    "                   c(\"P Value\", \"\\n\", as.character(sub_res$p)))"
   ]
  },
  {
   "cell_type": "raw",
   "metadata": {},
   "source": [
    "options(repr.plot.width = 18, repr.plot.height = 12)\n",
    "forestplot(labeltext = tabletext, \n",
    "           graph.pos = 6, \n",
    "           mean = c(NA, NA, as.numeric(as.character(sub_res[['AERI point']]))), \n",
    "           lower = c(NA, NA, as.numeric(as.character(sub_res[['AERI lci']]))), \n",
    "           upper = c(NA, NA, as.numeric(as.character(sub_res[['AERI uci']]))), \n",
    "           title = \"nonfatal stroke\", \n",
    "           xlab = \"AERI (95% CI)\",\n",
    "           clip = c(-20, 20), \n",
    "           xticks = seq(-20, 20, 4), \n",
    "           hrzl_lines = list(\"6\" = gpar(lwd = 80, lineend = \"butt\", columns=c(1 : 7), col=\"#99999922\"), \n",
    "                             \"9\" = gpar(lwd = 80, lineend = \"butt\", columns=c(1 : 7), col=\"#99999922\"),\n",
    "                             \"12\" = gpar(lwd = 80, lineend = \"butt\", columns=c(1 : 7), col=\"#99999922\"), \n",
    "                             \"15\" = gpar(lwd = 80, lineend = \"butt\", columns=c(1 : 7), col=\"#99999922\"),\n",
    "                             \"18\" = gpar(lwd = 80, lineend = \"butt\", columns=c(1 : 7), col=\"#99999922\"), \n",
    "                             \"21\" = gpar(lwd = 80, lineend = \"butt\", columns=c(1 : 7), col=\"#99999922\")), \n",
    "           txt_gp = fpTxtGp(label = gpar(cex = 1.25),\n",
    "                            ticks = gpar(cex = 1.1),\n",
    "                            xlab = gpar(cex = 1.2),\n",
    "                            title = gpar(cex = 2)),\n",
    "           col = fpColors(box = \"black\", lines = \"black\", zero = \"red\"),\n",
    "           graphwidth = unit(100, 'mm'), \n",
    "           colgap = unit(6, \"mm\"),\n",
    "           boxsize = 0.3)"
   ]
  },
  {
   "cell_type": "code",
   "execution_count": null,
   "metadata": {},
   "outputs": [],
   "source": []
  },
  {
   "cell_type": "code",
   "execution_count": null,
   "metadata": {},
   "outputs": [],
   "source": []
  },
  {
   "cell_type": "code",
   "execution_count": null,
   "metadata": {},
   "outputs": [],
   "source": []
  },
  {
   "cell_type": "code",
   "execution_count": null,
   "metadata": {},
   "outputs": [],
   "source": []
  },
  {
   "cell_type": "code",
   "execution_count": null,
   "metadata": {},
   "outputs": [],
   "source": []
  }
 ],
 "metadata": {
  "kernelspec": {
   "display_name": "R",
   "language": "R",
   "name": "ir"
  },
  "language_info": {
   "codemirror_mode": "r",
   "file_extension": ".r",
   "mimetype": "text/x-r-source",
   "name": "R",
   "pygments_lexer": "r",
   "version": "3.6.1"
  }
 },
 "nbformat": 4,
 "nbformat_minor": 4
}
