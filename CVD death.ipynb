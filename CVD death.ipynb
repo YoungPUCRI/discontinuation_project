{
 "cells": [
  {
   "cell_type": "markdown",
   "metadata": {},
   "source": [
    "## load packages"
   ]
  },
  {
   "cell_type": "code",
   "execution_count": 2,
   "metadata": {},
   "outputs": [],
   "source": [
    "library(dplyr)\n",
    "library(lubridate)\n",
    "library(tableone)\n",
    "library(DescTools)\n",
    "library(biostat3)\n",
    "library(survminer)\n",
    "library(mice)\n",
    "library(foreach)\n",
    "library(mgcv)\n",
    "library(doParallel)\n",
    "library(mitools)\n",
    "library(survey)\n",
    "library(ipw)\n",
    "library(rms)\n",
    "library(tidyr)\n",
    "library(EValue)\n",
    "library(rpart)\n",
    "library(data.table)\n",
    "library(snow)\n",
    "library(forestplot)\n",
    "library(parglm)"
   ]
  },
  {
   "cell_type": "code",
   "execution_count": 3,
   "metadata": {},
   "outputs": [],
   "source": [
    "## HR display function\n",
    "OR.result.tidy <- function(result) {\n",
    "    res <- result$coefficients[2, c(1, 2)]\n",
    "    OR <- exp(res[1])\n",
    "    lci <- exp(res[1] - qnorm(0.975) * res[2])\n",
    "    uci <- exp(res[1] + qnorm(0.975) * res[2])\n",
    "    res <- data.frame(OR, lci, uci)\n",
    "    colnames(res) <- c('OR', 'lci', 'uci')\n",
    "    res <- res %>% \n",
    "        data.frame() %>% \n",
    "        mutate_at(vars(OR, lci, uci), funs(round(., 2))) \n",
    "    res <- res %>% \n",
    "        mutate(OR = paste0(res[, 1], \" (\", res[, 2], \"-\", res[, 3], \")\")) %>% \n",
    "        cbind(group = c('discontinuation')) %>% \n",
    "        dplyr::select(c(4, 1))\n",
    "    res <- rbind(data.frame(group = 'reinitiation', OR = 'Ref'), res) \n",
    "    res$group <- as.character(res$group)\n",
    "    return(res)\n",
    "}"
   ]
  },
  {
   "cell_type": "markdown",
   "metadata": {},
   "source": [
    "## import data"
   ]
  },
  {
   "cell_type": "code",
   "execution_count": 4,
   "metadata": {},
   "outputs": [],
   "source": [
    "load('dta_tidied.R')"
   ]
  },
  {
   "cell_type": "code",
   "execution_count": 5,
   "metadata": {},
   "outputs": [],
   "source": [
    "dta_clone_CVD_death <- dta_clone %>% \n",
    "    arrange(X, lopnr, index_date) %>% \n",
    "    group_by(X, lopnr) %>% \n",
    "    mutate(death_filter = cumsum(outcome_death), \n",
    "           censor_filter = cumsum(censor), \n",
    "           CVD_death_filter = cumsum(outcome_CVD_death)) %>% \n",
    "    filter(death_filter <= 1 & censor_filter <= 1 & CVD_death_filter <= 1) %>% \n",
    "    ungroup() %>% \n",
    "    dplyr::select(c('lopnr', 'ID', 'X', \n",
    "                    'index_date', 'after_index_date', 'rank', \n",
    "                    'age', 'female', 'index_year', 'duration', \n",
    "                    'cov_diabetes_t0', 'cov_hypertension_t0', \n",
    "                    'cov_MI_t0', 'cov_CHF_t0', 'cov_cerebrovascular_disease_t0', 'cov_PVD_t0', \n",
    "                    'cov_cancer_t0', 'cov_COPD_t0', \n",
    "                    'cov_beta_blocker_t0', 'cov_CCB_t0', 'cov_diuretic_t0', 'cov_MRA_t0', 'cov_SPS_t0', \n",
    "                    'cov_statin_t0', \n",
    "                    'cov_antiplatelet_agent_t0', \n",
    "                    'cov_egfr_t0', 'cov_egfr_cat_t0', 'cov_acr_t0', 'cov_acr_cat_t0', \n",
    "                    'potassium_value', 'potassium_cat', \n",
    "                    'cov_hospitalization_t0', \n",
    "                    'primary_care_num', 'outpatient_num', 'inpatient_num', \n",
    "                    'cov_diabetes', 'cov_hypertension', \n",
    "                    'cov_MI', 'cov_CHF', 'cov_cerebrovascular_disease', 'cov_PVD', \n",
    "                    'cov_cancer', 'cov_COPD',  \n",
    "                    'cov_beta_blocker', 'cov_CCB', 'cov_diuretic', 'cov_MRA', 'cov_SPS', \n",
    "                    'cov_statin', \n",
    "                    'cov_antiplatelet_agent', \n",
    "                    'cov_egfr', 'cov_egfr_cat', 'cov_acr', 'cov_acr_cat', \n",
    "                    'cov_potassium', 'cov_hospitalization', \n",
    "                    'outcome_CVD_death', 'censor', 'treatment'))"
   ]
  },
  {
   "cell_type": "markdown",
   "metadata": {},
   "source": [
    "## description of chracteristics at month 6 (unweighted)"
   ]
  },
  {
   "cell_type": "code",
   "execution_count": 6,
   "metadata": {},
   "outputs": [],
   "source": [
    "dta_clone_CVD_death_6_month <- dta_clone_CVD_death %>% filter(rank == 6)"
   ]
  },
  {
   "cell_type": "code",
   "execution_count": 7,
   "metadata": {},
   "outputs": [],
   "source": [
    "xvars <- c('age', 'female', 'index_year', 'duration', 'potassium_cat', \n",
    "           'cov_diabetes', 'cov_hypertension', \n",
    "           'cov_MI', 'cov_CHF', 'cov_cerebrovascular_disease', 'cov_PVD', \n",
    "           'cov_cancer', 'cov_COPD',  \n",
    "           'cov_beta_blocker', 'cov_CCB', 'cov_diuretic', 'cov_MRA', 'cov_SPS', \n",
    "           'cov_statin', \n",
    "           'cov_antiplatelet_agent', \n",
    "           # 'cov_potassium', \n",
    "           'cov_egfr_cat', \n",
    "           'primary_care_num', 'cov_hospitalization', 'outpatient_num', 'inpatient_num')\n",
    "xfactorvars <- c('female', 'index_year', 'potassium_cat', \n",
    "                 'cov_diabetes', 'cov_hypertension', \n",
    "                 'cov_MI', 'cov_CHF', 'cov_cerebrovascular_disease', 'cov_PVD', \n",
    "                 'cov_cancer', 'cov_COPD',  \n",
    "                 'cov_beta_blocker', 'cov_CCB', 'cov_diuretic', 'cov_MRA', 'cov_SPS', \n",
    "                 'cov_statin', \n",
    "                 'cov_antiplatelet_agent', \n",
    "                 'cov_egfr_cat', 'cov_hospitalization')\n",
    "xnonnormvars <- c('duration', # 'cov_potassium', \n",
    "                  'primary_care_num', 'outpatient_num', 'inpatient_num')"
   ]
  },
  {
   "cell_type": "code",
   "execution_count": 8,
   "metadata": {},
   "outputs": [],
   "source": [
    "tb1.part <- CreateTableOne(xvars, strata = 'X', data = dta_clone_CVD_death_6_month, factorVars = xfactorvars, includeNA = T)\n",
    "tb1.part <- print(tb1.part, nonnormal = xnonnormvars, test = F, smd = T, printToggle = F)"
   ]
  },
  {
   "cell_type": "code",
   "execution_count": 9,
   "metadata": {},
   "outputs": [],
   "source": [
    "dta_clone_CVD_death_imp1 <- dta_clone_CVD_death"
   ]
  },
  {
   "cell_type": "markdown",
   "metadata": {},
   "source": [
    "## description of CVD_death event in each arm (unweighted)"
   ]
  },
  {
   "cell_type": "code",
   "execution_count": 10,
   "metadata": {},
   "outputs": [
    {
     "name": "stderr",
     "output_type": "stream",
     "text": [
      "`summarise()` ungrouping output (override with `.groups` argument)\n",
      "\n",
      "`summarise()` ungrouping output (override with `.groups` argument)\n",
      "\n",
      "Warning message:\n",
      "“`funs()` is deprecated as of dplyr 0.8.0.\n",
      "Please use a list of either functions or lambdas: \n",
      "\n",
      "  # Simple named list: \n",
      "  list(mean = mean, median = median)\n",
      "\n",
      "  # Auto named with `tibble::lst()`: \n",
      "  tibble::lst(mean, median)\n",
      "\n",
      "  # Using lambdas\n",
      "  list(~ mean(., trim = .2), ~ median(., na.rm = TRUE))\n",
      "\u001b[90mThis warning is displayed once every 8 hours.\u001b[39m\n",
      "\u001b[90mCall `lifecycle::last_warnings()` to see where this warning was generated.\u001b[39m”\n"
     ]
    },
    {
     "data": {
      "text/html": [
       "<table>\n",
       "<caption>A data.frame: 2 × 6</caption>\n",
       "<thead>\n",
       "\t<tr><th scope=col>group</th><th scope=col>n</th><th scope=col>followup</th><th scope=col>event</th><th scope=col>person_years</th><th scope=col>incidence rate</th></tr>\n",
       "\t<tr><th scope=col>&lt;chr&gt;</th><th scope=col>&lt;int&gt;</th><th scope=col>&lt;chr&gt;</th><th scope=col>&lt;dbl&gt;</th><th scope=col>&lt;dbl&gt;</th><th scope=col>&lt;chr&gt;</th></tr>\n",
       "</thead>\n",
       "<tbody>\n",
       "\t<tr><td>discontinuation</td><td>5669</td><td>0.16 [0.08-0.33]</td><td>268</td><td>2560.97</td><td>0.1 (0.09-0.12) </td></tr>\n",
       "\t<tr><td>reinitiation   </td><td>5669</td><td>1.33 [0.5-2.58] </td><td>436</td><td>9208.65</td><td>0.05 (0.04-0.05)</td></tr>\n",
       "</tbody>\n",
       "</table>\n"
      ],
      "text/latex": [
       "A data.frame: 2 × 6\n",
       "\\begin{tabular}{llllll}\n",
       " group & n & followup & event & person\\_years & incidence rate\\\\\n",
       " <chr> & <int> & <chr> & <dbl> & <dbl> & <chr>\\\\\n",
       "\\hline\n",
       "\t discontinuation & 5669 & 0.16 {[}0.08-0.33{]} & 268 & 2560.97 & 0.1 (0.09-0.12) \\\\\n",
       "\t reinitiation    & 5669 & 1.33 {[}0.5-2.58{]}  & 436 & 9208.65 & 0.05 (0.04-0.05)\\\\\n",
       "\\end{tabular}\n"
      ],
      "text/markdown": [
       "\n",
       "A data.frame: 2 × 6\n",
       "\n",
       "| group &lt;chr&gt; | n &lt;int&gt; | followup &lt;chr&gt; | event &lt;dbl&gt; | person_years &lt;dbl&gt; | incidence rate &lt;chr&gt; |\n",
       "|---|---|---|---|---|---|\n",
       "| discontinuation | 5669 | 0.16 [0.08-0.33] | 268 | 2560.97 | 0.1 (0.09-0.12)  |\n",
       "| reinitiation    | 5669 | 1.33 [0.5-2.58]  | 436 | 9208.65 | 0.05 (0.04-0.05) |\n",
       "\n"
      ],
      "text/plain": [
       "  group           n    followup         event person_years incidence rate  \n",
       "1 discontinuation 5669 0.16 [0.08-0.33] 268   2560.97      0.1 (0.09-0.12) \n",
       "2 reinitiation    5669 1.33 [0.5-2.58]  436   9208.65      0.05 (0.04-0.05)"
      ]
     },
     "metadata": {},
     "output_type": "display_data"
    }
   ],
   "source": [
    "source('results function.R')\n",
    "dta_clone_CVD_death_imp1_fixed <- dta_clone_CVD_death_imp1 %>% \n",
    "        arrange(ID, index_date) %>% \n",
    "        group_by(ID) %>% \n",
    "        summarise(index_date = min(index_date), \n",
    "                  after_index_date = max(after_index_date), \n",
    "                  outcome_CVD_death = sum(outcome_CVD_death), \n",
    "                  X = first(X))\n",
    "incid_num('outcome_CVD_death', 'index_date', 'after_index_date', 'X', \n",
    "          dta_clone_CVD_death_imp1_fixed, digit = 2)"
   ]
  },
  {
   "cell_type": "markdown",
   "metadata": {},
   "source": [
    "## IPW calculation"
   ]
  },
  {
   "cell_type": "code",
   "execution_count": 11,
   "metadata": {},
   "outputs": [],
   "source": [
    "x_adjusted_var <- c('age', 'female', 'index_year', 'rcs(duration, 3)', 'rcs(potassium_value, 3)', \n",
    "                    # 'cov_diabetes_t0', 'cov_hypertension_t0', \n",
    "                    # 'cov_MI_t0', 'cov_CHF_t0', 'cov_cerebrovascular_disease_t0', 'cov_PVD_t0', \n",
    "                    # 'cov_COPD_t0', \n",
    "                    # 'cov_beta_blocker_t0', 'cov_CCB_t0', 'cov_diuretic_t0', 'cov_MRA_t0', 'cov_SPS_t0', \n",
    "                    # 'cov_statin_t0', \n",
    "                    # 'cov_antiplatelet_agent_t0', \n",
    "                    # 'cov_egfr_t0', \n",
    "                    'primary_care_num', \n",
    "                    'outpatient_num', \n",
    "                    'inpatient_num', # 'cov_hospitalization_t0', \n",
    "                    'cov_diabetes', 'cov_hypertension', \n",
    "                    'cov_MI', 'cov_CHF', 'cov_cerebrovascular_disease', 'cov_PVD', \n",
    "                    'cov_cancer', 'cov_COPD',  \n",
    "                    'cov_beta_blocker', 'cov_CCB', 'cov_diuretic', 'cov_MRA', 'cov_SPS', \n",
    "                    'cov_statin', \n",
    "                    'cov_antiplatelet_agent', \n",
    "                    'rcs(cov_egfr, 6)', \n",
    "                    # 'rcs(cov_potassium, 12)', \n",
    "                    'cov_hospitalization')"
   ]
  },
  {
   "cell_type": "code",
   "execution_count": 12,
   "metadata": {},
   "outputs": [],
   "source": [
    "x_adjusted_var_ML <- c('age', 'female', 'index_year', 'duration', 'potassium_value', \n",
    "                       # 'cov_diabetes_t0', 'cov_hypertension_t0', \n",
    "                       # 'cov_MI_t0', 'cov_CHF_t0', 'cov_cerebrovascular_disease_t0', 'cov_PVD_t0', \n",
    "                       # 'cov_COPD_t0', \n",
    "                       # 'cov_beta_blocker_t0', 'cov_CCB_t0', 'cov_diuretic_t0', 'cov_MRA_t0', 'cov_SPS_t0', \n",
    "                       # 'cov_statin_t0', \n",
    "                       # 'cov_antiplatelet_agent_t0', \n",
    "                       # 'cov_egfr_t0', \n",
    "                       'primary_care_num', \n",
    "                       'outpatient_num', \n",
    "                       'inpatient_num', # 'cov_hospitalization_t0', \n",
    "                       'cov_diabetes', 'cov_hypertension', \n",
    "                       'cov_MI', 'cov_CHF', 'cov_cerebrovascular_disease', 'cov_PVD', \n",
    "                       'cov_cancer', 'cov_COPD',  \n",
    "                       'cov_beta_blocker', 'cov_CCB', 'cov_diuretic', 'cov_MRA', 'cov_SPS', \n",
    "                       'cov_statin', \n",
    "                       'cov_antiplatelet_agent', \n",
    "                       'cov_egfr', \n",
    "                       # 'cov_potassium',\n",
    "                       'cov_hospitalization')"
   ]
  },
  {
   "cell_type": "code",
   "execution_count": 13,
   "metadata": {},
   "outputs": [],
   "source": [
    "dta_clone_CVD_death_imp1_discontinuation <- dta_clone_CVD_death_imp1 %>% \n",
    "    filter(X == 'discontinuation') %>% \n",
    "    arrange(ID, index_date)\n",
    "dta_clone_CVD_death_imp1_discontinuation_censor_part <- dta_clone_CVD_death_imp1_discontinuation %>% \n",
    "    filter(rank %in% 1 : 6)\n",
    "dta_clone_CVD_death_imp1_discontinuation_noncensor_part <- dta_clone_CVD_death_imp1_discontinuation %>% \n",
    "    filter(rank > 6)"
   ]
  },
  {
   "cell_type": "code",
   "execution_count": 14,
   "metadata": {},
   "outputs": [],
   "source": [
    "## logistic regression formula\n",
    "regression_formula_IPCW <- as.formula(paste0('censor ~ rank + rank ^ 2 + ', \n",
    "                                             paste(x_adjusted_var, collapse = \" + \"), \n",
    "                                             sep = ' '))\n",
    "denominator.fit <- glm(regression_formula_IPCW, \n",
    "                       data = dta_clone_CVD_death_imp1_discontinuation_censor_part, \n",
    "                       family  = binomial(link = \"logit\"))\n",
    "numerator.fit <- glm(censor ~ rank + rank ^ 2 + age + female + index_year + duration + potassium_value + \n",
    "                     primary_care_num + outpatient_num + inpatient_num + \n",
    "                     cov_diabetes_t0 + cov_hypertension_t0 + \n",
    "                     cov_MI_t0 + cov_CHF_t0 + cov_cerebrovascular_disease_t0 + cov_PVD_t0 + \n",
    "                     cov_cancer_t0 + cov_COPD_t0 + \n",
    "                     cov_beta_blocker_t0 + cov_CCB_t0 + cov_diuretic_t0 + \n",
    "                     cov_MRA_t0 + cov_SPS_t0 + \n",
    "                     cov_statin_t0 + \n",
    "                     cov_antiplatelet_agent_t0 + \n",
    "                     cov_egfr_t0 + \n",
    "                     cov_hospitalization_t0, \n",
    "                     data = dta_clone_CVD_death_imp1_discontinuation_censor_part, \n",
    "                     family  = binomial(link = \"logit\"))\n",
    "## machine learning formula\n",
    "ML_formula_IPCW <- as.formula(paste0('censor ~ rank + ', \n",
    "                                     paste(x_adjusted_var_ML, collapse = \" + \"), \n",
    "                                     sep = ' '))\n",
    "denominator.fit_ML <- rpart(ML_formula_IPCW, \n",
    "                         data = dta_clone_CVD_death_imp1_discontinuation_censor_part, \n",
    "                         method = 'class')\n",
    "numerator.fit_ML <- rpart(censor ~ rank + age + female + index_year + duration + potassium_value + \n",
    "                          primary_care_num + outpatient_num + inpatient_num + \n",
    "                          cov_diabetes_t0 + cov_hypertension_t0 + \n",
    "                          cov_MI_t0 + cov_CHF_t0 + cov_cerebrovascular_disease_t0 + cov_PVD_t0 + \n",
    "                          cov_cancer_t0 + cov_COPD_t0 + \n",
    "                          cov_beta_blocker_t0 + cov_CCB_t0 + cov_diuretic_t0 + \n",
    "                          cov_MRA_t0 + cov_SPS_t0 + \n",
    "                          cov_statin_t0 + \n",
    "                          cov_antiplatelet_agent_t0 + \n",
    "                          cov_egfr_t0 + \n",
    "                          cov_hospitalization_t0, \n",
    "                          data = dta_clone_CVD_death_imp1_discontinuation_censor_part, \n",
    "                          method = 'class')\n",
    "## ============================================================================================================="
   ]
  },
  {
   "cell_type": "code",
   "execution_count": 15,
   "metadata": {},
   "outputs": [],
   "source": [
    "## Stabilized IPW\n",
    "dta_clone_CVD_death_imp1_discontinuation_censor_part$ipw_per_month <- \n",
    "    ifelse(dta_clone_CVD_death_imp1_discontinuation_censor_part$censor == 1, \n",
    "           0, \n",
    "           (1 - fitted(numerator.fit)) / (1 - fitted(denominator.fit)))\n",
    "dta_clone_CVD_death_imp1_discontinuation_noncensor_part$ipw_per_month <- 1\n",
    "## =============================================================================================================\n",
    "## Unstabilized IPW\n",
    "dta_clone_CVD_death_imp1_discontinuation_censor_part$ipw_uns_per_month <- \n",
    "    ifelse(dta_clone_CVD_death_imp1_discontinuation_censor_part$censor == 1, \n",
    "           0, \n",
    "           1 / (1 - fitted(denominator.fit)))\n",
    "dta_clone_CVD_death_imp1_discontinuation_noncensor_part$ipw_uns_per_month <- 1\n",
    "## =============================================================================================================\n",
    "## Stabilized IPW by ML\n",
    "dta_clone_CVD_death_imp1_discontinuation_censor_part$ipw_ML_per_month <- \n",
    "    ifelse(dta_clone_CVD_death_imp1_discontinuation_censor_part$censor == 1, \n",
    "           0, \n",
    "           predict(numerator.fit_ML)[, 1] / predict(denominator.fit_ML)[, 1])\n",
    "dta_clone_CVD_death_imp1_discontinuation_noncensor_part$ipw_ML_per_month <- 1\n",
    "## ============================================================================================================="
   ]
  },
  {
   "cell_type": "code",
   "execution_count": 16,
   "metadata": {},
   "outputs": [],
   "source": [
    "dta_clone_CVD_death_imp1_discontinuation <- rbind(dta_clone_CVD_death_imp1_discontinuation_censor_part, \n",
    "                                              dta_clone_CVD_death_imp1_discontinuation_noncensor_part) %>% \n",
    "    arrange(ID, index_date)\n",
    "## Stabilized IPW\n",
    "dta_clone_CVD_death_imp1_discontinuation$ipw <- unlist(tapply(dta_clone_CVD_death_imp1_discontinuation$ipw_per_month, \n",
    "                                                         dta_clone_CVD_death_imp1_discontinuation$ID, cumprod))\n",
    "## =============================================================================================================\n",
    "## Unstabilized IPW\n",
    "dta_clone_CVD_death_imp1_discontinuation$ipw_uns <- unlist(tapply(dta_clone_CVD_death_imp1_discontinuation$ipw_uns_per_month, \n",
    "                                                              dta_clone_CVD_death_imp1_discontinuation$ID, cumprod))\n",
    "## =============================================================================================================\n",
    "## Stabilized IPW by ML\n",
    "dta_clone_CVD_death_imp1_discontinuation$ipw_ML <- unlist(tapply(dta_clone_CVD_death_imp1_discontinuation$ipw_ML_per_month, \n",
    "                                                             dta_clone_CVD_death_imp1_discontinuation$ID, cumprod))\n",
    "## ============================================================================================================="
   ]
  },
  {
   "cell_type": "code",
   "execution_count": 17,
   "metadata": {},
   "outputs": [
    {
     "data": {
      "text/plain": [
       "   Min. 1st Qu.  Median    Mean 3rd Qu.    Max. \n",
       " 0.0000  0.8338  0.9745  0.8680  1.0651  2.1302 "
      ]
     },
     "metadata": {},
     "output_type": "display_data"
    },
    {
     "data": {
      "image/png": "[encoded data removed]",
      "text/plain": [
       "Plot with title “Stabilized inverse probability weights for discontinuation arm”"
      ]
     },
     "metadata": {
      "image/png": {
       "height": 420,
       "width": 420
      }
     },
     "output_type": "display_data"
    },
    {
     "data": {
      "text/plain": [
       "   Min. 1st Qu.  Median    Mean 3rd Qu.    Max. \n",
       "  0.000   1.702   3.167   3.867   5.370  33.563 "
      ]
     },
     "metadata": {},
     "output_type": "display_data"
    },
    {
     "data": {
      "image/png": "[encoded data removed]",
      "text/plain": [
       "Plot with title “Unstabilized inverse probability weights for discontinuation arm”"
      ]
     },
     "metadata": {
      "image/png": {
       "height": 420,
       "width": 420
      }
     },
     "output_type": "display_data"
    },
    {
     "data": {
      "text/plain": [
       "   Min. 1st Qu.  Median    Mean 3rd Qu.    Max. \n",
       " 0.0000  1.0000  1.0000  0.8627  1.0000  1.0000 "
      ]
     },
     "metadata": {},
     "output_type": "display_data"
    },
    {
     "data": {
      "image/png": "[encoded data removed]",
      "text/plain": [
       "Plot with title “Stabilized inverse probability weights for discontinuation arm (ML)”"
      ]
     },
     "metadata": {
      "image/png": {
       "height": 420,
       "width": 420
      }
     },
     "output_type": "display_data"
    }
   ],
   "source": [
    "ipwplot(dta_clone_CVD_death_imp1_discontinuation$ipw, dta_clone_CVD_death_imp1_discontinuation$rank, \n",
    "        binwidth = 1, logscale = F, \n",
    "        xlab = 'Months since first hyperkalemia', \n",
    "        ylab = 'Weights', \n",
    "        main = 'Stabilized inverse probability weights for discontinuation arm', \n",
    "        ylim = c(0, 15))\n",
    "summary(dta_clone_CVD_death_imp1_discontinuation$ipw)\n",
    "ipwplot(dta_clone_CVD_death_imp1_discontinuation$ipw_uns, dta_clone_CVD_death_imp1_discontinuation$rank, \n",
    "        binwidth = 1, logscale = F, \n",
    "        xlab = 'Months since first hyperkalemia', \n",
    "        ylab = 'Weights', \n",
    "        main = 'Unstabilized inverse probability weights for discontinuation arm', \n",
    "        ylim = c(0, 15))\n",
    "summary(dta_clone_CVD_death_imp1_discontinuation$ipw_uns)\n",
    "ipwplot(dta_clone_CVD_death_imp1_discontinuation$ipw_ML, dta_clone_CVD_death_imp1_discontinuation$rank, \n",
    "        binwidth = 1, logscale = F, \n",
    "        xlab = 'Months since first hyperkalemia', \n",
    "        ylab = 'Weights', \n",
    "        main = 'Stabilized inverse probability weights for discontinuation arm (ML)', \n",
    "        ylim = c(0, 15))\n",
    "summary(dta_clone_CVD_death_imp1_discontinuation$ipw_ML)"
   ]
  },
  {
   "cell_type": "code",
   "execution_count": 18,
   "metadata": {},
   "outputs": [],
   "source": [
    "dta_clone_CVD_death_imp1_reinitiation <- dta_clone_CVD_death_imp1 %>% \n",
    "    filter(X == 'reinitiation') %>% \n",
    "    arrange(ID, index_date)\n",
    "dta_clone_CVD_death_imp1_reinitiation_censor_part <- dta_clone_CVD_death_imp1_reinitiation %>% \n",
    "    filter(rank == 6)\n",
    "dta_clone_CVD_death_imp1_reinitiation_noncensor_part <- dta_clone_CVD_death_imp1_reinitiation %>% \n",
    "    filter(rank %in% 1 : 5 | rank > 6)"
   ]
  },
  {
   "cell_type": "code",
   "execution_count": 19,
   "metadata": {},
   "outputs": [
    {
     "data": {
      "text/plain": [
       "   Min. 1st Qu.  Median    Mean 3rd Qu.    Max. \n",
       " 0.0000  0.9740  1.0000  0.9926  1.0163  1.9521 "
      ]
     },
     "metadata": {},
     "output_type": "display_data"
    },
    {
     "data": {
      "image/png": "[encoded data removed]",
      "text/plain": [
       "Plot with title “Stabilized inverse probability weights for reinitiation arm”"
      ]
     },
     "metadata": {
      "image/png": {
       "height": 420,
       "width": 420
      }
     },
     "output_type": "display_data"
    },
    {
     "data": {
      "text/plain": [
       "   Min. 1st Qu.  Median    Mean 3rd Qu.    Max. \n",
       "  0.000   1.042   1.129   1.154   1.222   4.180 "
      ]
     },
     "metadata": {},
     "output_type": "display_data"
    },
    {
     "data": {
      "image/png": "[encoded data removed]",
      "text/plain": [
       "Plot with title “Unstabilized inverse probability weights for reinitiation arm”"
      ]
     },
     "metadata": {
      "image/png": {
       "height": 420,
       "width": 420
      }
     },
     "output_type": "display_data"
    },
    {
     "data": {
      "text/plain": [
       "   Min. 1st Qu.  Median    Mean 3rd Qu.    Max. \n",
       " 0.0000  1.0000  1.0000  0.9925  1.0000  1.0000 "
      ]
     },
     "metadata": {},
     "output_type": "display_data"
    },
    {
     "data": {
      "image/png": "[encoded data removed]",
      "text/plain": [
       "Plot with title “Stabilized inverse probability weights for reinitiation arm (ML)”"
      ]
     },
     "metadata": {
      "image/png": {
       "height": 420,
       "width": 420
      }
     },
     "output_type": "display_data"
    }
   ],
   "source": [
    "regression_formula_IPCW <- as.formula(paste0('censor ~ ', \n",
    "                                             paste(x_adjusted_var, collapse = \" + \"), \n",
    "                                             sep = ' '))\n",
    "denominator.fit <- glm(regression_formula_IPCW, \n",
    "                       data = dta_clone_CVD_death_imp1_reinitiation_censor_part, \n",
    "                       family  = binomial(link = \"logit\"))\n",
    "numerator.fit <- glm(censor ~ age + female + index_year + duration + potassium_value + \n",
    "                     primary_care_num + outpatient_num + inpatient_num + \n",
    "                     cov_MI_t0 + cov_CHF_t0 + cov_cerebrovascular_disease_t0 + cov_PVD_t0 + \n",
    "                     cov_cancer_t0 + cov_COPD_t0 + \n",
    "                     cov_beta_blocker_t0 + cov_CCB_t0 + cov_diuretic_t0 + \n",
    "                     cov_MRA_t0 + cov_SPS_t0 + \n",
    "                     cov_statin_t0 + \n",
    "                     cov_antiplatelet_agent_t0 + \n",
    "                     cov_egfr_t0 + \n",
    "                     cov_hospitalization_t0, \n",
    "                     data = dta_clone_CVD_death_imp1_reinitiation_censor_part, \n",
    "                     family  = binomial(link = \"logit\"))\n",
    "## machine learning formula\n",
    "ML_formula_IPCW <- as.formula(paste0('censor ~ ', \n",
    "                                     paste(x_adjusted_var_ML, collapse = \" + \"), \n",
    "                                     sep = ' '))\n",
    "denominator.fit_ML <- rpart(ML_formula_IPCW, \n",
    "                         data = dta_clone_CVD_death_imp1_reinitiation_censor_part, \n",
    "                         method = 'class')\n",
    "numerator.fit_ML <- rpart(censor ~ age + female + index_year + duration + potassium_value  + \n",
    "                          primary_care_num + outpatient_num + inpatient_num + \n",
    "                          cov_diabetes_t0 + cov_hypertension_t0 + \n",
    "                          cov_MI_t0 + cov_CHF_t0 + cov_cerebrovascular_disease_t0 + cov_PVD_t0 + \n",
    "                          cov_cancer_t0 + cov_COPD_t0 + \n",
    "                          cov_beta_blocker_t0 + cov_CCB_t0 + cov_diuretic_t0 + \n",
    "                          cov_MRA_t0 + cov_SPS_t0 + \n",
    "                          cov_statin_t0 + \n",
    "                          cov_antiplatelet_agent_t0 + \n",
    "                          cov_egfr_t0 + \n",
    "                          cov_hospitalization_t0, \n",
    "                          data = dta_clone_CVD_death_imp1_reinitiation_censor_part, \n",
    "                          method = 'class')\n",
    "## =============================================================================================================\n",
    "## Stabilized IPW\n",
    "dta_clone_CVD_death_imp1_reinitiation_censor_part$ipw_per_month <- \n",
    "    ifelse(dta_clone_CVD_death_imp1_reinitiation_censor_part$censor == 1, \n",
    "           0, \n",
    "           (1 - fitted(numerator.fit)) / (1 - fitted(denominator.fit)))\n",
    "dta_clone_CVD_death_imp1_reinitiation_noncensor_part$ipw_per_month <- 1\n",
    "## =============================================================================================================\n",
    "## Unstabilized IPW\n",
    "dta_clone_CVD_death_imp1_reinitiation_censor_part$ipw_uns_per_month <- \n",
    "    ifelse(dta_clone_CVD_death_imp1_reinitiation_censor_part$censor == 1, \n",
    "           0, \n",
    "           1 / (1 - fitted(denominator.fit)))\n",
    "dta_clone_CVD_death_imp1_reinitiation_noncensor_part$ipw_uns_per_month <- 1\n",
    "## =============================================================================================================\n",
    "## Stabilized IPW by ML\n",
    "dta_clone_CVD_death_imp1_reinitiation_censor_part$ipw_ML_per_month <- \n",
    "    ifelse(dta_clone_CVD_death_imp1_reinitiation_censor_part$censor == 1, \n",
    "           0, \n",
    "           predict(numerator.fit_ML)[, 1] / predict(denominator.fit_ML)[, 1])\n",
    "dta_clone_CVD_death_imp1_reinitiation_noncensor_part$ipw_ML_per_month <- 1\n",
    "## =============================================================================================================\n",
    "dta_clone_CVD_death_imp1_reinitiation <- rbind(dta_clone_CVD_death_imp1_reinitiation_censor_part, \n",
    "                                           dta_clone_CVD_death_imp1_reinitiation_noncensor_part) %>% \n",
    "    arrange(ID, index_date)\n",
    "## Stabilized IPW\n",
    "dta_clone_CVD_death_imp1_reinitiation$ipw <- unlist(tapply(dta_clone_CVD_death_imp1_reinitiation$ipw_per_month, \n",
    "                                                       dta_clone_CVD_death_imp1_reinitiation$ID, cumprod))\n",
    "## =============================================================================================================\n",
    "## Unstabilized IPW\n",
    "dta_clone_CVD_death_imp1_reinitiation$ipw_uns <- unlist(tapply(dta_clone_CVD_death_imp1_reinitiation$ipw_uns_per_month, \n",
    "                                                           dta_clone_CVD_death_imp1_reinitiation$ID, cumprod))\n",
    "## =============================================================================================================\n",
    "## Stabilized IPW by ML\n",
    "dta_clone_CVD_death_imp1_reinitiation$ipw_ML <- unlist(tapply(dta_clone_CVD_death_imp1_reinitiation$ipw_ML_per_month, \n",
    "                                                          dta_clone_CVD_death_imp1_reinitiation$ID, cumprod))\n",
    "## =============================================================================================================\n",
    "ipwplot(dta_clone_CVD_death_imp1_reinitiation$ipw, dta_clone_CVD_death_imp1_reinitiation$rank, \n",
    "        binwidth = 1, logscale = F, \n",
    "        xlab = 'Months since first hyperkalemia', \n",
    "        ylab = 'Weights', \n",
    "        main = 'Stabilized inverse probability weights for reinitiation arm', \n",
    "        ylim = c(0, 5))\n",
    "summary(dta_clone_CVD_death_imp1_reinitiation$ipw)\n",
    "ipwplot(dta_clone_CVD_death_imp1_reinitiation$ipw_uns, dta_clone_CVD_death_imp1_reinitiation$rank, \n",
    "        binwidth = 1, logscale = F, \n",
    "        xlab = 'Months since first hyperkalemia', \n",
    "        ylab = 'Weights', \n",
    "        main = 'Unstabilized inverse probability weights for reinitiation arm', \n",
    "        ylim = c(0, 5))\n",
    "summary(dta_clone_CVD_death_imp1_reinitiation$ipw_uns)\n",
    "ipwplot(dta_clone_CVD_death_imp1_reinitiation$ipw_ML, dta_clone_CVD_death_imp1_reinitiation$rank, \n",
    "        binwidth = 1, logscale = F, \n",
    "        xlab = 'Months since first hyperkalemia', \n",
    "        ylab = 'Weights', \n",
    "        main = 'Stabilized inverse probability weights for reinitiation arm (ML)', \n",
    "        ylim = c(0, 5))\n",
    "summary(dta_clone_CVD_death_imp1_reinitiation$ipw_ML)"
   ]
  },
  {
   "cell_type": "code",
   "execution_count": 20,
   "metadata": {},
   "outputs": [],
   "source": [
    "## truncate unstabilized weight at 10\n",
    "ipw.truncation <- function(ipw.weights, trunc.u = 10, trunc.l = 0) {\n",
    "    weights.trunc.temp <- ifelse(ipw.weights >= trunc.u, trunc.u, ipw.weights) \n",
    "    weights.trunc <- ifelse(weights.trunc.temp <= trunc.l, trunc.l, weights.trunc.temp) \n",
    "}"
   ]
  },
  {
   "cell_type": "code",
   "execution_count": 21,
   "metadata": {},
   "outputs": [],
   "source": [
    "dta_clone_CVD_death_imp1 <- rbind(dta_clone_CVD_death_imp1_discontinuation, dta_clone_CVD_death_imp1_reinitiation) %>% \n",
    "    arrange(ID, index_date)"
   ]
  },
  {
   "cell_type": "code",
   "execution_count": 22,
   "metadata": {},
   "outputs": [],
   "source": [
    "dta_clone_CVD_death_imp1$ipw_uns_trunc <- ipw.truncation(dta_clone_CVD_death_imp1$ipw_uns, \n",
    "                                                     trunc.u = quantile(dta_clone_CVD_death_imp1$ipw_uns, 0.96))"
   ]
  },
  {
   "cell_type": "markdown",
   "metadata": {},
   "source": [
    "## description of chracteristics at month 6 and CVD_death event in each arm (weighted)"
   ]
  },
  {
   "cell_type": "code",
   "execution_count": 23,
   "metadata": {},
   "outputs": [],
   "source": [
    "dta_clone_CVD_death_6_month_weighted <- dta_clone_CVD_death %>% \n",
    "    left_join(dta_clone_CVD_death_imp1[ , c('ID', 'rank', 'ipw_uns_trunc')], by = c('ID', 'rank')) %>% \n",
    "    filter(rank == 6)"
   ]
  },
  {
   "cell_type": "code",
   "execution_count": 24,
   "metadata": {},
   "outputs": [],
   "source": [
    "dta_clone_CVD_death_6_month_weighted <- svydesign(ids = ~ ID, \n",
    "                                              data = dta_clone_CVD_death_6_month_weighted, \n",
    "                                              weights = ~ dta_clone_CVD_death_6_month_weighted$ipw_uns_trunc)"
   ]
  },
  {
   "cell_type": "code",
   "execution_count": 25,
   "metadata": {},
   "outputs": [],
   "source": [
    "tb1.part_weighted <- svyCreateTableOne(xvars, strata = 'X', data = dta_clone_CVD_death_6_month_weighted, factorVars = xfactorvars, includeNA = T)\n",
    "tb1.part_weighted <- print(tb1.part_weighted, nonnormal = xnonnormvars, test = F, smd = T, printToggle = F)"
   ]
  },
  {
   "cell_type": "code",
   "execution_count": 26,
   "metadata": {},
   "outputs": [],
   "source": [
    "tb1 <- cbind(tb1.part, tb1.part_weighted)"
   ]
  },
  {
   "cell_type": "code",
   "execution_count": 27,
   "metadata": {},
   "outputs": [],
   "source": [
    "tb1_SMD_summary <- tb1[ , c(3, 6)] %>% data.frame() %>% filter(SMD != '') %>% \n",
    "    mutate(SMD = as.numeric(as.character(SMD)), \n",
    "           SMD.1 = as.numeric(ifelse(as.character(SMD.1) == '<0.001', '0.001', as.character(SMD.1)))) %>% \n",
    "    mutate(covariates = str_replace(\n",
    "        str_replace(\n",
    "            str_replace(\n",
    "                str_replace_all(xvars, '_', ' '), \n",
    "                'cov ', ''), \n",
    "            'cat', 'categories'), \n",
    "        'num', 'number within 1 year prior')) %>% \n",
    "    mutate(covariates = factor(covariates, levels = rev(covariates)))"
   ]
  },
  {
   "cell_type": "code",
   "execution_count": 28,
   "metadata": {},
   "outputs": [
    {
     "data": {
      "image/png": "[encoded data removed]",
      "text/plain": [
       "plot without title"
      ]
     },
     "metadata": {
      "image/png": {
       "height": 420,
       "width": 420
      }
     },
     "output_type": "display_data"
    }
   ],
   "source": [
    "ggplot(data = tb1_SMD_summary, aes(x = SMD, y = covariates)) + \n",
    "    geom_point(aes(color = 'unweighted')) + \n",
    "    geom_point(aes(x = SMD.1, y = covariates, color = 'weighted')) + \n",
    "    scale_x_continuous(breaks = seq(0, 0.3, by = 0.05)) + \n",
    "    labs(title = 'CVD death', x = 'SMD at index month 6', y = '') +   \n",
    "    geom_vline(xintercept = 0.1, linetype = \"dashed\", color = \"black\") + \n",
    "    theme(plot.title = element_text(size = 14, face = \"bold\"), \n",
    "          axis.title = element_text(size = 12, face = \"bold\")) + \n",
    "    scale_colour_manual(\"\", values = c(\"unweighted\" = \"red\", \"weighted\" = \"blue\"))"
   ]
  },
  {
   "cell_type": "code",
   "execution_count": 29,
   "metadata": {},
   "outputs": [
    {
     "data": {
      "text/html": [
       "<table>\n",
       "<caption>A matrix: 39 × 6 of type chr</caption>\n",
       "<thead>\n",
       "\t<tr><th></th><th scope=col>discontinuation</th><th scope=col>reinitiation</th><th scope=col>SMD</th><th scope=col>discontinuation</th><th scope=col>reinitiation</th><th scope=col>SMD</th></tr>\n",
       "</thead>\n",
       "<tbody>\n",
       "\t<tr><th scope=row>n</th><td>  917              </td><td> 4637              </td><td>      </td><td>3732.55              </td><td>4639.05              </td><td>      </td></tr>\n",
       "\t<tr><th scope=row>age (mean (SD))</th><td>74.25 (13.10)      </td><td>71.46 (13.25)      </td><td> 0.212</td><td>  72.98 (13.32)      </td><td>  71.46 (13.17)      </td><td> 0.115</td></tr>\n",
       "\t<tr><th scope=row>female = 1 (%)</th><td>  462 (50.4)       </td><td> 2053 (44.3)       </td><td> 0.123</td><td> 1829.6 (49.0)       </td><td> 2057.4 (44.3)       </td><td> 0.094</td></tr>\n",
       "\t<tr><th scope=row>index_year (%)</th><td>                   </td><td>                   </td><td> 0.062</td><td>                     </td><td>                     </td><td> 0.060</td></tr>\n",
       "\t<tr><th scope=row>   2007</th><td>  116 (12.6)       </td><td>  498 (10.7)       </td><td>      </td><td>  460.4 (12.3)       </td><td>  499.5 (10.8)       </td><td>      </td></tr>\n",
       "\t<tr><th scope=row>   2008</th><td>  203 (22.1)       </td><td> 1045 (22.5)       </td><td>      </td><td>  864.6 (23.2)       </td><td> 1042.4 (22.5)       </td><td>      </td></tr>\n",
       "\t<tr><th scope=row>   2009</th><td>  248 (27.0)       </td><td> 1259 (27.2)       </td><td>      </td><td> 1010.5 (27.1)       </td><td> 1261.3 (27.2)       </td><td>      </td></tr>\n",
       "\t<tr><th scope=row>   2010</th><td>  223 (24.3)       </td><td> 1188 (25.6)       </td><td>      </td><td>  898.7 (24.1)       </td><td> 1188.6 (25.6)       </td><td>      </td></tr>\n",
       "\t<tr><th scope=row>   2011</th><td>  127 (13.8)       </td><td>  647 (14.0)       </td><td>      </td><td>  498.4 (13.4)       </td><td>  647.2 (14.0)       </td><td>      </td></tr>\n",
       "\t<tr><th scope=row>duration (median [IQR])</th><td> 6.00 [2.00, 18.00]</td><td> 8.00 [2.00, 19.00]</td><td> 0.063</td><td>   6.00 [2.00, 17.00]</td><td>   8.00 [2.00, 19.00]</td><td> 0.105</td></tr>\n",
       "\t<tr><th scope=row>potassium_cat (%)</th><td>                   </td><td>                   </td><td> 0.196</td><td>                     </td><td>                     </td><td> 0.073</td></tr>\n",
       "\t<tr><th scope=row>   mild</th><td>  687 (74.9)       </td><td> 3823 (82.4)       </td><td>      </td><td> 2987.5 (80.0)       </td><td> 3843.9 (82.9)       </td><td>      </td></tr>\n",
       "\t<tr><th scope=row>   moderate</th><td>  155 (16.9)       </td><td>  603 (13.0)       </td><td>      </td><td>  551.6 (14.8)       </td><td>  591.5 (12.8)       </td><td>      </td></tr>\n",
       "\t<tr><th scope=row>   severe</th><td>   75 ( 8.2)       </td><td>  211 ( 4.6)       </td><td>      </td><td>  193.5 ( 5.2)       </td><td>  203.7 ( 4.4)       </td><td>      </td></tr>\n",
       "\t<tr><th scope=row>cov_diabetes = 1 (%)</th><td>  281 (30.6)       </td><td> 1427 (30.8)       </td><td> 0.003</td><td> 1143.8 (30.6)       </td><td> 1427.1 (30.8)       </td><td> 0.003</td></tr>\n",
       "\t<tr><th scope=row>cov_hypertension = 1 (%)</th><td><span style=white-space:pre-wrap>  704 (76.8)       </span></td><td><span style=white-space:pre-wrap> 3523 (76.0)       </span></td><td> 0.019</td><td><span style=white-space:pre-wrap> 2836.8 (76.0)       </span></td><td><span style=white-space:pre-wrap> 3525.0 (76.0)       </span></td><td>&lt;0.001</td></tr>\n",
       "\t<tr><th scope=row>cov_MI = 1 (%)</th><td>  206 (22.5)       </td><td> 1051 (22.7)       </td><td> 0.005</td><td>  846.9 (22.7)       </td><td> 1056.0 (22.8)       </td><td> 0.002</td></tr>\n",
       "\t<tr><th scope=row>cov_CHF = 1 (%)</th><td>  352 (38.4)       </td><td> 1693 (36.5)       </td><td> 0.039</td><td> 1376.2 (36.9)       </td><td> 1700.3 (36.7)       </td><td> 0.005</td></tr>\n",
       "\t<tr><th scope=row>cov_cerebrovascular_disease = 1 (%)</th><td>  201 (21.9)       </td><td>  833 (18.0)       </td><td> 0.099</td><td>  718.4 (19.2)       </td><td>  829.7 (17.9)       </td><td> 0.035</td></tr>\n",
       "\t<tr><th scope=row>cov_PVD = 1 (%)</th><td>  142 (15.5)       </td><td>  609 (13.1)       </td><td> 0.067</td><td>  560.0 (15.0)       </td><td>  617.5 (13.3)       </td><td> 0.049</td></tr>\n",
       "\t<tr><th scope=row>cov_cancer = 1 (%)</th><td>  231 (25.2)       </td><td>  848 (18.3)       </td><td> 0.168</td><td>  736.8 (19.7)       </td><td>  848.2 (18.3)       </td><td> 0.037</td></tr>\n",
       "\t<tr><th scope=row>cov_COPD = 1 (%)</th><td>  203 (22.1)       </td><td>  825 (17.8)       </td><td> 0.109</td><td>  716.7 (19.2)       </td><td>  830.6 (17.9)       </td><td> 0.033</td></tr>\n",
       "\t<tr><th scope=row>cov_beta_blocker = 1 (%)</th><td>  506 (55.2)       </td><td> 2698 (58.2)       </td><td> 0.061</td><td> 2108.7 (56.5)       </td><td> 2708.3 (58.4)       </td><td> 0.038</td></tr>\n",
       "\t<tr><th scope=row>cov_CCB = 1 (%)</th><td>  259 (28.2)       </td><td> 1172 (25.3)       </td><td> 0.067</td><td> 1103.8 (29.6)       </td><td> 1176.3 (25.4)       </td><td> 0.095</td></tr>\n",
       "\t<tr><th scope=row>cov_diuretic = 1 (%)</th><td>  431 (47.0)       </td><td> 2051 (44.2)       </td><td> 0.056</td><td> 1663.8 (44.6)       </td><td> 2054.6 (44.3)       </td><td> 0.006</td></tr>\n",
       "\t<tr><th scope=row>cov_MRA = 1 (%)</th><td>  147 (16.0)       </td><td>  726 (15.7)       </td><td> 0.010</td><td>  559.8 (15.0)       </td><td>  728.5 (15.7)       </td><td> 0.020</td></tr>\n",
       "\t<tr><th scope=row>cov_SPS = 1 (%)</th><td>   17 ( 1.9)       </td><td>  112 ( 2.4)       </td><td> 0.039</td><td>   63.5 ( 1.7)       </td><td>  112.6 ( 2.4)       </td><td> 0.051</td></tr>\n",
       "\t<tr><th scope=row>cov_statin = 1 (%)</th><td>  290 (31.6)       </td><td> 1925 (41.5)       </td><td> 0.206</td><td> 1308.9 (35.1)       </td><td> 1931.9 (41.6)       </td><td> 0.136</td></tr>\n",
       "\t<tr><th scope=row>cov_antiplatelet_agent = 1 (%)</th><td>  401 (43.7)       </td><td> 2089 (45.1)       </td><td> 0.027</td><td> 1661.9 (44.5)       </td><td> 2103.7 (45.3)       </td><td> 0.017</td></tr>\n",
       "\t<tr><th scope=row>cov_egfr_cat (%)</th><td>                   </td><td>                   </td><td> 0.099</td><td>                     </td><td>                     </td><td> 0.060</td></tr>\n",
       "\t<tr><th scope=row>   G1</th><td>  120 (13.1)       </td><td>  696 (15.0)       </td><td>      </td><td>  538.5 (14.4)       </td><td>  704.1 (15.2)       </td><td>      </td></tr>\n",
       "\t<tr><th scope=row>   G2</th><td>  316 (34.5)       </td><td> 1674 (36.1)       </td><td>      </td><td> 1342.5 (36.0)       </td><td> 1667.1 (35.9)       </td><td>      </td></tr>\n",
       "\t<tr><th scope=row>   G3a</th><td>  184 (20.1)       </td><td>  920 (19.8)       </td><td>      </td><td>  769.6 (20.6)       </td><td>  908.6 (19.6)       </td><td>      </td></tr>\n",
       "\t<tr><th scope=row>   G3b</th><td>  168 (18.3)       </td><td>  824 (17.8)       </td><td>      </td><td>  617.0 (16.5)       </td><td>  838.6 (18.1)       </td><td>      </td></tr>\n",
       "\t<tr><th scope=row>   G4-5</th><td>  129 (14.1)       </td><td>  523 (11.3)       </td><td>      </td><td>  465.0 (12.5)       </td><td>  520.6 (11.2)       </td><td>      </td></tr>\n",
       "\t<tr><th scope=row>primary_care_num (median [IQR])</th><td> 3.00 [1.00, 6.00] </td><td> 3.00 [1.00, 6.00] </td><td> 0.037</td><td>   3.00 [1.00, 6.00] </td><td>   3.00 [1.00, 6.00] </td><td> 0.035</td></tr>\n",
       "\t<tr><th scope=row>cov_hospitalization = 1 (%)</th><td><span style=white-space:pre-wrap>   97 (10.6)       </span></td><td><span style=white-space:pre-wrap>  403 ( 8.7)       </span></td><td> 0.064</td><td><span style=white-space:pre-wrap>  328.9 ( 8.8)       </span></td><td><span style=white-space:pre-wrap>  409.0 ( 8.8)       </span></td><td>&lt;0.001</td></tr>\n",
       "\t<tr><th scope=row>outpatient_num (median [IQR])</th><td> 3.00 [1.00, 8.00] </td><td> 3.00 [1.00, 7.00] </td><td> 0.058</td><td>   3.00 [1.00, 7.00] </td><td>   3.00 [1.00, 8.00] </td><td> 0.016</td></tr>\n",
       "\t<tr><th scope=row>inpatient_num (median [IQR])</th><td> 1.00 [0.00, 2.00] </td><td> 1.00 [0.00, 2.00] </td><td> 0.259</td><td>   1.00 [0.00, 2.00] </td><td>   1.00 [0.00, 2.00] </td><td> 0.067</td></tr>\n",
       "</tbody>\n",
       "</table>\n"
      ],
      "text/latex": [
       "A matrix: 39 × 6 of type chr\n",
       "\\begin{tabular}{r|llllll}\n",
       "  & discontinuation & reinitiation & SMD & discontinuation & reinitiation & SMD\\\\\n",
       "\\hline\n",
       "\tn &   917               &  4637               &        & 3732.55               & 4639.05               &       \\\\\n",
       "\tage (mean (SD)) & 74.25 (13.10)       & 71.46 (13.25)       &  0.212 &   72.98 (13.32)       &   71.46 (13.17)       &  0.115\\\\\n",
       "\tfemale = 1 (\\%) &   462 (50.4)        &  2053 (44.3)        &  0.123 &  1829.6 (49.0)        &  2057.4 (44.3)        &  0.094\\\\\n",
       "\tindex\\_year (\\%) &                     &                     &  0.062 &                       &                       &  0.060\\\\\n",
       "\t   2007 &   116 (12.6)        &   498 (10.7)        &        &   460.4 (12.3)        &   499.5 (10.8)        &       \\\\\n",
       "\t   2008 &   203 (22.1)        &  1045 (22.5)        &        &   864.6 (23.2)        &  1042.4 (22.5)        &       \\\\\n",
       "\t   2009 &   248 (27.0)        &  1259 (27.2)        &        &  1010.5 (27.1)        &  1261.3 (27.2)        &       \\\\\n",
       "\t   2010 &   223 (24.3)        &  1188 (25.6)        &        &   898.7 (24.1)        &  1188.6 (25.6)        &       \\\\\n",
       "\t   2011 &   127 (13.8)        &   647 (14.0)        &        &   498.4 (13.4)        &   647.2 (14.0)        &       \\\\\n",
       "\tduration (median {[}IQR{]}) &  6.00 {[}2.00, 18.00{]} &  8.00 {[}2.00, 19.00{]} &  0.063 &    6.00 {[}2.00, 17.00{]} &    8.00 {[}2.00, 19.00{]} &  0.105\\\\\n",
       "\tpotassium\\_cat (\\%) &                     &                     &  0.196 &                       &                       &  0.073\\\\\n",
       "\t   mild &   687 (74.9)        &  3823 (82.4)        &        &  2987.5 (80.0)        &  3843.9 (82.9)        &       \\\\\n",
       "\t   moderate &   155 (16.9)        &   603 (13.0)        &        &   551.6 (14.8)        &   591.5 (12.8)        &       \\\\\n",
       "\t   severe &    75 ( 8.2)        &   211 ( 4.6)        &        &   193.5 ( 5.2)        &   203.7 ( 4.4)        &       \\\\\n",
       "\tcov\\_diabetes = 1 (\\%) &   281 (30.6)        &  1427 (30.8)        &  0.003 &  1143.8 (30.6)        &  1427.1 (30.8)        &  0.003\\\\\n",
       "\tcov\\_hypertension = 1 (\\%) &   704 (76.8)        &  3523 (76.0)        &  0.019 &  2836.8 (76.0)        &  3525.0 (76.0)        & <0.001\\\\\n",
       "\tcov\\_MI = 1 (\\%) &   206 (22.5)        &  1051 (22.7)        &  0.005 &   846.9 (22.7)        &  1056.0 (22.8)        &  0.002\\\\\n",
       "\tcov\\_CHF = 1 (\\%) &   352 (38.4)        &  1693 (36.5)        &  0.039 &  1376.2 (36.9)        &  1700.3 (36.7)        &  0.005\\\\\n",
       "\tcov\\_cerebrovascular\\_disease = 1 (\\%) &   201 (21.9)        &   833 (18.0)        &  0.099 &   718.4 (19.2)        &   829.7 (17.9)        &  0.035\\\\\n",
       "\tcov\\_PVD = 1 (\\%) &   142 (15.5)        &   609 (13.1)        &  0.067 &   560.0 (15.0)        &   617.5 (13.3)        &  0.049\\\\\n",
       "\tcov\\_cancer = 1 (\\%) &   231 (25.2)        &   848 (18.3)        &  0.168 &   736.8 (19.7)        &   848.2 (18.3)        &  0.037\\\\\n",
       "\tcov\\_COPD = 1 (\\%) &   203 (22.1)        &   825 (17.8)        &  0.109 &   716.7 (19.2)        &   830.6 (17.9)        &  0.033\\\\\n",
       "\tcov\\_beta\\_blocker = 1 (\\%) &   506 (55.2)        &  2698 (58.2)        &  0.061 &  2108.7 (56.5)        &  2708.3 (58.4)        &  0.038\\\\\n",
       "\tcov\\_CCB = 1 (\\%) &   259 (28.2)        &  1172 (25.3)        &  0.067 &  1103.8 (29.6)        &  1176.3 (25.4)        &  0.095\\\\\n",
       "\tcov\\_diuretic = 1 (\\%) &   431 (47.0)        &  2051 (44.2)        &  0.056 &  1663.8 (44.6)        &  2054.6 (44.3)        &  0.006\\\\\n",
       "\tcov\\_MRA = 1 (\\%) &   147 (16.0)        &   726 (15.7)        &  0.010 &   559.8 (15.0)        &   728.5 (15.7)        &  0.020\\\\\n",
       "\tcov\\_SPS = 1 (\\%) &    17 ( 1.9)        &   112 ( 2.4)        &  0.039 &    63.5 ( 1.7)        &   112.6 ( 2.4)        &  0.051\\\\\n",
       "\tcov\\_statin = 1 (\\%) &   290 (31.6)        &  1925 (41.5)        &  0.206 &  1308.9 (35.1)        &  1931.9 (41.6)        &  0.136\\\\\n",
       "\tcov\\_antiplatelet\\_agent = 1 (\\%) &   401 (43.7)        &  2089 (45.1)        &  0.027 &  1661.9 (44.5)        &  2103.7 (45.3)        &  0.017\\\\\n",
       "\tcov\\_egfr\\_cat (\\%) &                     &                     &  0.099 &                       &                       &  0.060\\\\\n",
       "\t   G1 &   120 (13.1)        &   696 (15.0)        &        &   538.5 (14.4)        &   704.1 (15.2)        &       \\\\\n",
       "\t   G2 &   316 (34.5)        &  1674 (36.1)        &        &  1342.5 (36.0)        &  1667.1 (35.9)        &       \\\\\n",
       "\t   G3a &   184 (20.1)        &   920 (19.8)        &        &   769.6 (20.6)        &   908.6 (19.6)        &       \\\\\n",
       "\t   G3b &   168 (18.3)        &   824 (17.8)        &        &   617.0 (16.5)        &   838.6 (18.1)        &       \\\\\n",
       "\t   G4-5 &   129 (14.1)        &   523 (11.3)        &        &   465.0 (12.5)        &   520.6 (11.2)        &       \\\\\n",
       "\tprimary\\_care\\_num (median {[}IQR{]}) &  3.00 {[}1.00, 6.00{]}  &  3.00 {[}1.00, 6.00{]}  &  0.037 &    3.00 {[}1.00, 6.00{]}  &    3.00 {[}1.00, 6.00{]}  &  0.035\\\\\n",
       "\tcov\\_hospitalization = 1 (\\%) &    97 (10.6)        &   403 ( 8.7)        &  0.064 &   328.9 ( 8.8)        &   409.0 ( 8.8)        & <0.001\\\\\n",
       "\toutpatient\\_num (median {[}IQR{]}) &  3.00 {[}1.00, 8.00{]}  &  3.00 {[}1.00, 7.00{]}  &  0.058 &    3.00 {[}1.00, 7.00{]}  &    3.00 {[}1.00, 8.00{]}  &  0.016\\\\\n",
       "\tinpatient\\_num (median {[}IQR{]}) &  1.00 {[}0.00, 2.00{]}  &  1.00 {[}0.00, 2.00{]}  &  0.259 &    1.00 {[}0.00, 2.00{]}  &    1.00 {[}0.00, 2.00{]}  &  0.067\\\\\n",
       "\\end{tabular}\n"
      ],
      "text/markdown": [
       "\n",
       "A matrix: 39 × 6 of type chr\n",
       "\n",
       "| <!--/--> | discontinuation | reinitiation | SMD | discontinuation | reinitiation | SMD |\n",
       "|---|---|---|---|---|---|---|\n",
       "| n |   917               |  4637               | <!----> | 3732.55               | 4639.05               | <!----> |\n",
       "| age (mean (SD)) | 74.25 (13.10)       | 71.46 (13.25)       |  0.212 |   72.98 (13.32)       |   71.46 (13.17)       |  0.115 |\n",
       "| female = 1 (%) |   462 (50.4)        |  2053 (44.3)        |  0.123 |  1829.6 (49.0)        |  2057.4 (44.3)        |  0.094 |\n",
       "| index_year (%) | <!----> | <!----> |  0.062 | <!----> | <!----> |  0.060 |\n",
       "|    2007 |   116 (12.6)        |   498 (10.7)        | <!----> |   460.4 (12.3)        |   499.5 (10.8)        | <!----> |\n",
       "|    2008 |   203 (22.1)        |  1045 (22.5)        | <!----> |   864.6 (23.2)        |  1042.4 (22.5)        | <!----> |\n",
       "|    2009 |   248 (27.0)        |  1259 (27.2)        | <!----> |  1010.5 (27.1)        |  1261.3 (27.2)        | <!----> |\n",
       "|    2010 |   223 (24.3)        |  1188 (25.6)        | <!----> |   898.7 (24.1)        |  1188.6 (25.6)        | <!----> |\n",
       "|    2011 |   127 (13.8)        |   647 (14.0)        | <!----> |   498.4 (13.4)        |   647.2 (14.0)        | <!----> |\n",
       "| duration (median [IQR]) |  6.00 [2.00, 18.00] |  8.00 [2.00, 19.00] |  0.063 |    6.00 [2.00, 17.00] |    8.00 [2.00, 19.00] |  0.105 |\n",
       "| potassium_cat (%) | <!----> | <!----> |  0.196 | <!----> | <!----> |  0.073 |\n",
       "|    mild |   687 (74.9)        |  3823 (82.4)        | <!----> |  2987.5 (80.0)        |  3843.9 (82.9)        | <!----> |\n",
       "|    moderate |   155 (16.9)        |   603 (13.0)        | <!----> |   551.6 (14.8)        |   591.5 (12.8)        | <!----> |\n",
       "|    severe |    75 ( 8.2)        |   211 ( 4.6)        | <!----> |   193.5 ( 5.2)        |   203.7 ( 4.4)        | <!----> |\n",
       "| cov_diabetes = 1 (%) |   281 (30.6)        |  1427 (30.8)        |  0.003 |  1143.8 (30.6)        |  1427.1 (30.8)        |  0.003 |\n",
       "| cov_hypertension = 1 (%) |   704 (76.8)        |  3523 (76.0)        |  0.019 |  2836.8 (76.0)        |  3525.0 (76.0)        | &lt;0.001 |\n",
       "| cov_MI = 1 (%) |   206 (22.5)        |  1051 (22.7)        |  0.005 |   846.9 (22.7)        |  1056.0 (22.8)        |  0.002 |\n",
       "| cov_CHF = 1 (%) |   352 (38.4)        |  1693 (36.5)        |  0.039 |  1376.2 (36.9)        |  1700.3 (36.7)        |  0.005 |\n",
       "| cov_cerebrovascular_disease = 1 (%) |   201 (21.9)        |   833 (18.0)        |  0.099 |   718.4 (19.2)        |   829.7 (17.9)        |  0.035 |\n",
       "| cov_PVD = 1 (%) |   142 (15.5)        |   609 (13.1)        |  0.067 |   560.0 (15.0)        |   617.5 (13.3)        |  0.049 |\n",
       "| cov_cancer = 1 (%) |   231 (25.2)        |   848 (18.3)        |  0.168 |   736.8 (19.7)        |   848.2 (18.3)        |  0.037 |\n",
       "| cov_COPD = 1 (%) |   203 (22.1)        |   825 (17.8)        |  0.109 |   716.7 (19.2)        |   830.6 (17.9)        |  0.033 |\n",
       "| cov_beta_blocker = 1 (%) |   506 (55.2)        |  2698 (58.2)        |  0.061 |  2108.7 (56.5)        |  2708.3 (58.4)        |  0.038 |\n",
       "| cov_CCB = 1 (%) |   259 (28.2)        |  1172 (25.3)        |  0.067 |  1103.8 (29.6)        |  1176.3 (25.4)        |  0.095 |\n",
       "| cov_diuretic = 1 (%) |   431 (47.0)        |  2051 (44.2)        |  0.056 |  1663.8 (44.6)        |  2054.6 (44.3)        |  0.006 |\n",
       "| cov_MRA = 1 (%) |   147 (16.0)        |   726 (15.7)        |  0.010 |   559.8 (15.0)        |   728.5 (15.7)        |  0.020 |\n",
       "| cov_SPS = 1 (%) |    17 ( 1.9)        |   112 ( 2.4)        |  0.039 |    63.5 ( 1.7)        |   112.6 ( 2.4)        |  0.051 |\n",
       "| cov_statin = 1 (%) |   290 (31.6)        |  1925 (41.5)        |  0.206 |  1308.9 (35.1)        |  1931.9 (41.6)        |  0.136 |\n",
       "| cov_antiplatelet_agent = 1 (%) |   401 (43.7)        |  2089 (45.1)        |  0.027 |  1661.9 (44.5)        |  2103.7 (45.3)        |  0.017 |\n",
       "| cov_egfr_cat (%) | <!----> | <!----> |  0.099 | <!----> | <!----> |  0.060 |\n",
       "|    G1 |   120 (13.1)        |   696 (15.0)        | <!----> |   538.5 (14.4)        |   704.1 (15.2)        | <!----> |\n",
       "|    G2 |   316 (34.5)        |  1674 (36.1)        | <!----> |  1342.5 (36.0)        |  1667.1 (35.9)        | <!----> |\n",
       "|    G3a |   184 (20.1)        |   920 (19.8)        | <!----> |   769.6 (20.6)        |   908.6 (19.6)        | <!----> |\n",
       "|    G3b |   168 (18.3)        |   824 (17.8)        | <!----> |   617.0 (16.5)        |   838.6 (18.1)        | <!----> |\n",
       "|    G4-5 |   129 (14.1)        |   523 (11.3)        | <!----> |   465.0 (12.5)        |   520.6 (11.2)        | <!----> |\n",
       "| primary_care_num (median [IQR]) |  3.00 [1.00, 6.00]  |  3.00 [1.00, 6.00]  |  0.037 |    3.00 [1.00, 6.00]  |    3.00 [1.00, 6.00]  |  0.035 |\n",
       "| cov_hospitalization = 1 (%) |    97 (10.6)        |   403 ( 8.7)        |  0.064 |   328.9 ( 8.8)        |   409.0 ( 8.8)        | &lt;0.001 |\n",
       "| outpatient_num (median [IQR]) |  3.00 [1.00, 8.00]  |  3.00 [1.00, 7.00]  |  0.058 |    3.00 [1.00, 7.00]  |    3.00 [1.00, 8.00]  |  0.016 |\n",
       "| inpatient_num (median [IQR]) |  1.00 [0.00, 2.00]  |  1.00 [0.00, 2.00]  |  0.259 |    1.00 [0.00, 2.00]  |    1.00 [0.00, 2.00]  |  0.067 |\n",
       "\n"
      ],
      "text/plain": [
       "                                    discontinuation     reinitiation       \n",
       "n                                     917                4637              \n",
       "age (mean (SD))                     74.25 (13.10)       71.46 (13.25)      \n",
       "female = 1 (%)                        462 (50.4)         2053 (44.3)       \n",
       "index_year (%)                                                             \n",
       "   2007                               116 (12.6)          498 (10.7)       \n",
       "   2008                               203 (22.1)         1045 (22.5)       \n",
       "   2009                               248 (27.0)         1259 (27.2)       \n",
       "   2010                               223 (24.3)         1188 (25.6)       \n",
       "   2011                               127 (13.8)          647 (14.0)       \n",
       "duration (median [IQR])              6.00 [2.00, 18.00]  8.00 [2.00, 19.00]\n",
       "potassium_cat (%)                                                          \n",
       "   mild                               687 (74.9)         3823 (82.4)       \n",
       "   moderate                           155 (16.9)          603 (13.0)       \n",
       "   severe                              75 ( 8.2)          211 ( 4.6)       \n",
       "cov_diabetes = 1 (%)                  281 (30.6)         1427 (30.8)       \n",
       "cov_hypertension = 1 (%)              704 (76.8)         3523 (76.0)       \n",
       "cov_MI = 1 (%)                        206 (22.5)         1051 (22.7)       \n",
       "cov_CHF = 1 (%)                       352 (38.4)         1693 (36.5)       \n",
       "cov_cerebrovascular_disease = 1 (%)   201 (21.9)          833 (18.0)       \n",
       "cov_PVD = 1 (%)                       142 (15.5)          609 (13.1)       \n",
       "cov_cancer = 1 (%)                    231 (25.2)          848 (18.3)       \n",
       "cov_COPD = 1 (%)                      203 (22.1)          825 (17.8)       \n",
       "cov_beta_blocker = 1 (%)              506 (55.2)         2698 (58.2)       \n",
       "cov_CCB = 1 (%)                       259 (28.2)         1172 (25.3)       \n",
       "cov_diuretic = 1 (%)                  431 (47.0)         2051 (44.2)       \n",
       "cov_MRA = 1 (%)                       147 (16.0)          726 (15.7)       \n",
       "cov_SPS = 1 (%)                        17 ( 1.9)          112 ( 2.4)       \n",
       "cov_statin = 1 (%)                    290 (31.6)         1925 (41.5)       \n",
       "cov_antiplatelet_agent = 1 (%)        401 (43.7)         2089 (45.1)       \n",
       "cov_egfr_cat (%)                                                           \n",
       "   G1                                 120 (13.1)          696 (15.0)       \n",
       "   G2                                 316 (34.5)         1674 (36.1)       \n",
       "   G3a                                184 (20.1)          920 (19.8)       \n",
       "   G3b                                168 (18.3)          824 (17.8)       \n",
       "   G4-5                               129 (14.1)          523 (11.3)       \n",
       "primary_care_num (median [IQR])      3.00 [1.00, 6.00]   3.00 [1.00, 6.00] \n",
       "cov_hospitalization = 1 (%)            97 (10.6)          403 ( 8.7)       \n",
       "outpatient_num (median [IQR])        3.00 [1.00, 8.00]   3.00 [1.00, 7.00] \n",
       "inpatient_num (median [IQR])         1.00 [0.00, 2.00]   1.00 [0.00, 2.00] \n",
       "                                    SMD    discontinuation      \n",
       "n                                          3732.55              \n",
       "age (mean (SD))                      0.212   72.98 (13.32)      \n",
       "female = 1 (%)                       0.123  1829.6 (49.0)       \n",
       "index_year (%)                       0.062                      \n",
       "   2007                                      460.4 (12.3)       \n",
       "   2008                                      864.6 (23.2)       \n",
       "   2009                                     1010.5 (27.1)       \n",
       "   2010                                      898.7 (24.1)       \n",
       "   2011                                      498.4 (13.4)       \n",
       "duration (median [IQR])              0.063    6.00 [2.00, 17.00]\n",
       "potassium_cat (%)                    0.196                      \n",
       "   mild                                     2987.5 (80.0)       \n",
       "   moderate                                  551.6 (14.8)       \n",
       "   severe                                    193.5 ( 5.2)       \n",
       "cov_diabetes = 1 (%)                 0.003  1143.8 (30.6)       \n",
       "cov_hypertension = 1 (%)             0.019  2836.8 (76.0)       \n",
       "cov_MI = 1 (%)                       0.005   846.9 (22.7)       \n",
       "cov_CHF = 1 (%)                      0.039  1376.2 (36.9)       \n",
       "cov_cerebrovascular_disease = 1 (%)  0.099   718.4 (19.2)       \n",
       "cov_PVD = 1 (%)                      0.067   560.0 (15.0)       \n",
       "cov_cancer = 1 (%)                   0.168   736.8 (19.7)       \n",
       "cov_COPD = 1 (%)                     0.109   716.7 (19.2)       \n",
       "cov_beta_blocker = 1 (%)             0.061  2108.7 (56.5)       \n",
       "cov_CCB = 1 (%)                      0.067  1103.8 (29.6)       \n",
       "cov_diuretic = 1 (%)                 0.056  1663.8 (44.6)       \n",
       "cov_MRA = 1 (%)                      0.010   559.8 (15.0)       \n",
       "cov_SPS = 1 (%)                      0.039    63.5 ( 1.7)       \n",
       "cov_statin = 1 (%)                   0.206  1308.9 (35.1)       \n",
       "cov_antiplatelet_agent = 1 (%)       0.027  1661.9 (44.5)       \n",
       "cov_egfr_cat (%)                     0.099                      \n",
       "   G1                                        538.5 (14.4)       \n",
       "   G2                                       1342.5 (36.0)       \n",
       "   G3a                                       769.6 (20.6)       \n",
       "   G3b                                       617.0 (16.5)       \n",
       "   G4-5                                      465.0 (12.5)       \n",
       "primary_care_num (median [IQR])      0.037    3.00 [1.00, 6.00] \n",
       "cov_hospitalization = 1 (%)          0.064   328.9 ( 8.8)       \n",
       "outpatient_num (median [IQR])        0.058    3.00 [1.00, 7.00] \n",
       "inpatient_num (median [IQR])         0.259    1.00 [0.00, 2.00] \n",
       "                                    reinitiation          SMD   \n",
       "n                                   4639.05                     \n",
       "age (mean (SD))                       71.46 (13.17)        0.115\n",
       "female = 1 (%)                       2057.4 (44.3)         0.094\n",
       "index_year (%)                                             0.060\n",
       "   2007                               499.5 (10.8)              \n",
       "   2008                              1042.4 (22.5)              \n",
       "   2009                              1261.3 (27.2)              \n",
       "   2010                              1188.6 (25.6)              \n",
       "   2011                               647.2 (14.0)              \n",
       "duration (median [IQR])                8.00 [2.00, 19.00]  0.105\n",
       "potassium_cat (%)                                          0.073\n",
       "   mild                              3843.9 (82.9)              \n",
       "   moderate                           591.5 (12.8)              \n",
       "   severe                             203.7 ( 4.4)              \n",
       "cov_diabetes = 1 (%)                 1427.1 (30.8)         0.003\n",
       "cov_hypertension = 1 (%)             3525.0 (76.0)        <0.001\n",
       "cov_MI = 1 (%)                       1056.0 (22.8)         0.002\n",
       "cov_CHF = 1 (%)                      1700.3 (36.7)         0.005\n",
       "cov_cerebrovascular_disease = 1 (%)   829.7 (17.9)         0.035\n",
       "cov_PVD = 1 (%)                       617.5 (13.3)         0.049\n",
       "cov_cancer = 1 (%)                    848.2 (18.3)         0.037\n",
       "cov_COPD = 1 (%)                      830.6 (17.9)         0.033\n",
       "cov_beta_blocker = 1 (%)             2708.3 (58.4)         0.038\n",
       "cov_CCB = 1 (%)                      1176.3 (25.4)         0.095\n",
       "cov_diuretic = 1 (%)                 2054.6 (44.3)         0.006\n",
       "cov_MRA = 1 (%)                       728.5 (15.7)         0.020\n",
       "cov_SPS = 1 (%)                       112.6 ( 2.4)         0.051\n",
       "cov_statin = 1 (%)                   1931.9 (41.6)         0.136\n",
       "cov_antiplatelet_agent = 1 (%)       2103.7 (45.3)         0.017\n",
       "cov_egfr_cat (%)                                           0.060\n",
       "   G1                                 704.1 (15.2)              \n",
       "   G2                                1667.1 (35.9)              \n",
       "   G3a                                908.6 (19.6)              \n",
       "   G3b                                838.6 (18.1)              \n",
       "   G4-5                               520.6 (11.2)              \n",
       "primary_care_num (median [IQR])        3.00 [1.00, 6.00]   0.035\n",
       "cov_hospitalization = 1 (%)           409.0 ( 8.8)        <0.001\n",
       "outpatient_num (median [IQR])          3.00 [1.00, 8.00]   0.016\n",
       "inpatient_num (median [IQR])           1.00 [0.00, 2.00]   0.067"
      ]
     },
     "metadata": {},
     "output_type": "display_data"
    }
   ],
   "source": [
    "tb1"
   ]
  },
  {
   "cell_type": "code",
   "execution_count": 30,
   "metadata": {},
   "outputs": [
    {
     "name": "stderr",
     "output_type": "stream",
     "text": [
      "`summarise()` ungrouping output (override with `.groups` argument)\n",
      "\n",
      "`summarise()` ungrouping output (override with `.groups` argument)\n",
      "\n"
     ]
    },
    {
     "data": {
      "text/html": [
       "<table>\n",
       "<caption>A tibble: 2 × 5</caption>\n",
       "<thead>\n",
       "\t<tr><th scope=col>X</th><th scope=col>n</th><th scope=col>weighted_followup</th><th scope=col>weighted_event</th><th scope=col>weighted_person_years</th></tr>\n",
       "\t<tr><th scope=col>&lt;chr&gt;</th><th scope=col>&lt;int&gt;</th><th scope=col>&lt;chr&gt;</th><th scope=col>&lt;dbl&gt;</th><th scope=col>&lt;dbl&gt;</th></tr>\n",
       "</thead>\n",
       "<tbody>\n",
       "\t<tr><td>discontinuation</td><td>5669</td><td>0.14 [0-0.49]   </td><td>668</td><td> 8434.62</td></tr>\n",
       "\t<tr><td>reinitiation   </td><td>5669</td><td>1.47 [0.41-2.97]</td><td>507</td><td>10490.84</td></tr>\n",
       "</tbody>\n",
       "</table>\n"
      ],
      "text/latex": [
       "A tibble: 2 × 5\n",
       "\\begin{tabular}{lllll}\n",
       " X & n & weighted\\_followup & weighted\\_event & weighted\\_person\\_years\\\\\n",
       " <chr> & <int> & <chr> & <dbl> & <dbl>\\\\\n",
       "\\hline\n",
       "\t discontinuation & 5669 & 0.14 {[}0-0.49{]}    & 668 &  8434.62\\\\\n",
       "\t reinitiation    & 5669 & 1.47 {[}0.41-2.97{]} & 507 & 10490.84\\\\\n",
       "\\end{tabular}\n"
      ],
      "text/markdown": [
       "\n",
       "A tibble: 2 × 5\n",
       "\n",
       "| X &lt;chr&gt; | n &lt;int&gt; | weighted_followup &lt;chr&gt; | weighted_event &lt;dbl&gt; | weighted_person_years &lt;dbl&gt; |\n",
       "|---|---|---|---|---|\n",
       "| discontinuation | 5669 | 0.14 [0-0.49]    | 668 |  8434.62 |\n",
       "| reinitiation    | 5669 | 1.47 [0.41-2.97] | 507 | 10490.84 |\n",
       "\n"
      ],
      "text/plain": [
       "  X               n    weighted_followup weighted_event weighted_person_years\n",
       "1 discontinuation 5669 0.14 [0-0.49]     668             8434.62             \n",
       "2 reinitiation    5669 1.47 [0.41-2.97]  507            10490.84             "
      ]
     },
     "metadata": {},
     "output_type": "display_data"
    }
   ],
   "source": [
    "incid_num_weighted <- function(data = dta_clone_CVD_death_imp1, weights = 'ipw_uns_trunc') {\n",
    "    dta <- data %>% mutate(weights = data[[weights]]) %>% \n",
    "        arrange(ID, index_date) %>% \n",
    "        group_by(ID) %>% \n",
    "        summarise(tstart = as.Date('1970-01-01'), \n",
    "                  tstop = as.Date('1970-01-01') + sum(weights) * 30, \n",
    "                  outcome_CVD_death = sum(outcome_CVD_death * weights), \n",
    "                  X = first(X)) %>% \n",
    "        ungroup() %>% \n",
    "        group_by(X) %>% \n",
    "        summarise(n = length(ID), \n",
    "                  median.followup = round(median(time_length(difftime(tstop, tstart), 'year')), 2), \n",
    "                  q25.followup = round(quantile(time_length(difftime(tstop, tstart), 'year'), 0.25), 2), \n",
    "                  q75.followup = round(quantile(time_length(difftime(tstop, tstart), 'year'), 0.75), 2), \n",
    "                  weighted_followup = paste0(median.followup, \" [\", q25.followup, \"-\", q75.followup, \"]\"), \n",
    "                  weighted_event = round(sum(outcome_CVD_death), 0), \n",
    "                  weighted_person_years = round(sum(time_length(difftime(tstop, tstart), 'year')), 2)) %>% \n",
    "        dplyr::select(c('X', 'n', 'weighted_followup', 'weighted_event', 'weighted_person_years'))\n",
    "    return(dta)\n",
    "} \n",
    "incid_num_weighted()"
   ]
  },
  {
   "cell_type": "markdown",
   "metadata": {},
   "source": [
    "## causal effect estimation"
   ]
  },
  {
   "cell_type": "code",
   "execution_count": 31,
   "metadata": {},
   "outputs": [],
   "source": [
    "dta_clone_CVD_death_imp1 <- dta_clone_CVD_death_imp1 %>% mutate(X = ifelse(X == 'reinitiation', 0, 1))"
   ]
  },
  {
   "cell_type": "code",
   "execution_count": 32,
   "metadata": {},
   "outputs": [],
   "source": [
    "causal_effect_estimation <- function(data = dta_clone_CVD_death_imp1, weights = 'ipw', \n",
    "                                     xvar = c('age', 'female', 'index_year', 'duration', 'potassium_value',\n",
    "                                              'primary_care_num', 'outpatient_num', 'inpatient_num', \n",
    "                                              'cov_diabetes_t0', 'cov_hypertension_t0', \n",
    "                                              'cov_MI_t0', 'cov_CHF_t0', 'cov_cerebrovascular_disease_t0', 'cov_PVD_t0', \n",
    "                                              'cov_cancer_t0', 'cov_COPD_t0', \n",
    "                                              'cov_beta_blocker_t0', 'cov_CCB_t0', 'cov_diuretic_t0', 'cov_MRA_t0', 'cov_SPS_t0', \n",
    "                                              'cov_statin_t0', \n",
    "                                              'cov_antiplatelet_agent_t0', \n",
    "                                              'cov_egfr_t0', \n",
    "                                              'cov_hospitalization_t0')) {\n",
    "    regression_formula <- as.formula(ifelse(length(xvar) == 0, 'outcome_CVD_death ~ X + rms::rcs(rank, 3)', \n",
    "                                            paste('outcome_CVD_death ~ X + rms::rcs(rank, 3) +', \n",
    "                                                  paste(xvar, collapse = ' + '), sep = ' ')))\n",
    "    regression_formula_int <- as.formula(ifelse(length(xvar) == 0, 'outcome_CVD_death ~ X * rms::rcs(rank, 3)', \n",
    "                                                paste('outcome_CVD_death ~ X * rms::rcs(rank, 3) +', \n",
    "                                                      paste(xvar, collapse = ' + '), sep = ' ')))\n",
    "    CVD_death.logistic.adjusted <- parglm(regression_formula, \n",
    "                                      weights = data[[weights]], \n",
    "                                      data = data, \n",
    "                                      family = binomial(link = \"logit\"), \n",
    "                                      control = parglm.control(nthreads = 6))\n",
    "    CVD_death.logistic.adjusted_int <- parglm(regression_formula_int, \n",
    "                                          weights = data[[weights]], \n",
    "                                          data = data, \n",
    "                                          family = binomial(link = \"logit\"), \n",
    "                                          control = parglm.control(nthreads = 6)) \n",
    "    CVD_death.res.adjusted <- summary(CVD_death.logistic.adjusted)\n",
    "    n_month = 60 \n",
    "    CVD_death_risk_summary_discontinuation <- data %>% \n",
    "        filter(rank == 1) %>% \n",
    "        mutate(X = 1) %>% \n",
    "        dplyr::select(c('ID', 'X', 'rank', xvar)) %>% \n",
    "        slice(rep(row_number(), n_month)) %>% \n",
    "        arrange(ID) %>% \n",
    "        group_by(ID) %>% \n",
    "        mutate(rank = cumsum(rank)) %>% \n",
    "        ungroup()\n",
    "    CVD_death_risk_summary_discontinuation$p_CVD_death = predict(CVD_death.logistic.adjusted_int, \n",
    "                                                         CVD_death_risk_summary_discontinuation, \n",
    "                                                         type = 'response')\n",
    "    CVD_death_risk_summary_discontinuation <- CVD_death_risk_summary_discontinuation %>%\n",
    "        mutate(p_surv = 1 - p_CVD_death) %>% \n",
    "        group_by(ID) %>% \n",
    "        mutate(p_cumsurv = cumprod(p_surv), \n",
    "               p_cumCVD_death = 1 - p_cumsurv) %>% \n",
    "        ungroup() %>% \n",
    "        group_by(rank) %>% \n",
    "        summarise(p_cumsurv = mean(p_cumsurv), \n",
    "                  p_cumCVD_death = mean(p_cumCVD_death)) %>% \n",
    "        mutate(X = 'discontinuation')\n",
    "    CVD_death_risk_summary_reinitiation <- data %>% \n",
    "        filter(rank == 1) %>% \n",
    "        mutate(X = 0) %>% \n",
    "        dplyr::select(c('ID', 'X', 'rank', xvar)) %>% \n",
    "        slice(rep(row_number(), n_month)) %>% \n",
    "        arrange(ID) %>% \n",
    "        group_by(ID) %>% \n",
    "        mutate(rank = cumsum(rank)) %>% \n",
    "        ungroup()\n",
    "    CVD_death_risk_summary_reinitiation$p_CVD_death = predict(CVD_death.logistic.adjusted_int, \n",
    "                                                      CVD_death_risk_summary_reinitiation, \n",
    "                                                      type = 'response')\n",
    "    CVD_death_risk_summary_reinitiation <- CVD_death_risk_summary_reinitiation %>%\n",
    "        mutate(p_surv = 1 - p_CVD_death) %>% \n",
    "        group_by(ID) %>% \n",
    "        mutate(p_cumsurv = cumprod(p_surv), \n",
    "               p_cumCVD_death = 1 - p_cumsurv) %>% \n",
    "        ungroup() %>% \n",
    "        group_by(rank) %>% \n",
    "        summarise(p_cumsurv = mean(p_cumsurv), \n",
    "                  p_cumCVD_death = mean(p_cumCVD_death)) %>% \n",
    "        mutate(X = 'reinitiation')\n",
    "    CVD_death_risk_summary <- rbind(CVD_death_risk_summary_discontinuation, CVD_death_risk_summary_reinitiation)\n",
    "    risk_discontinuation_3_y <- CVD_death_risk_summary_discontinuation %>% \n",
    "        filter(rank == 36) %>% \n",
    "        dplyr::select(p_cumCVD_death) %>% as.numeric()\n",
    "    risk_reinitiation_3_y <- CVD_death_risk_summary_reinitiation %>% \n",
    "        filter(rank == 36) %>% \n",
    "        dplyr::select(p_cumCVD_death) %>% as.numeric()\n",
    "    RD <- (risk_discontinuation_3_y - risk_reinitiation_3_y) * 100\n",
    "    RR <- (risk_discontinuation_3_y / risk_reinitiation_3_y)\n",
    "    risk_res <- round(c(risk_discontinuation_3_y * 100, risk_reinitiation_3_y * 100, RD, RR, \n",
    "                        exp(CVD_death.res.adjusted$coefficients[2, 1])), 2)\n",
    "    names(risk_res) <- c('3 year risk for discontinuation (%)', \n",
    "                         '3 year risk for reinitiation (%)', \n",
    "                         'risk difference (%)', \n",
    "                         'risk ratio', \n",
    "                         'hazard ratio')\n",
    "    risk_res <- risk_res %>% t()\n",
    "    risk_res <- list(risk_res, CVD_death_risk_summary)\n",
    "    return(risk_res)\n",
    "}"
   ]
  },
  {
   "cell_type": "code",
   "execution_count": 33,
   "metadata": {},
   "outputs": [
    {
     "name": "stderr",
     "output_type": "stream",
     "text": [
      "Note: Using an external vector in selections is ambiguous.\n",
      "\u001b[34mℹ\u001b[39m Use `all_of(xvar)` instead of `xvar` to silence this message.\n",
      "\u001b[34mℹ\u001b[39m See <https://tidyselect.r-lib.org/reference/faq-external-vector.html>.\n",
      "\u001b[90mThis message is displayed once per session.\u001b[39m\n",
      "\n",
      "`summarise()` ungrouping output (override with `.groups` argument)\n",
      "\n",
      "`summarise()` ungrouping output (override with `.groups` argument)\n",
      "\n"
     ]
    }
   ],
   "source": [
    "main_res = causal_effect_estimation(data = dta_clone_CVD_death_imp1, weights = 'ipw_uns_trunc', \n",
    "                                    xvar = c('duration'))\n",
    "main_point_estimation <- main_res[[1]]\n",
    "main_cum_incidence <- main_res[[2]]"
   ]
  },
  {
   "cell_type": "code",
   "execution_count": 34,
   "metadata": {},
   "outputs": [
    {
     "data": {
      "text/html": [
       "<table>\n",
       "<caption>A matrix: 1 × 5 of type dbl</caption>\n",
       "<thead>\n",
       "\t<tr><th scope=col>3 year risk for discontinuation (%)</th><th scope=col>3 year risk for reinitiation (%)</th><th scope=col>risk difference (%)</th><th scope=col>risk ratio</th><th scope=col>hazard ratio</th></tr>\n",
       "</thead>\n",
       "<tbody>\n",
       "\t<tr><td>15.77</td><td>9.21</td><td>6.55</td><td>1.71</td><td>1.59</td></tr>\n",
       "</tbody>\n",
       "</table>\n"
      ],
      "text/latex": [
       "A matrix: 1 × 5 of type dbl\n",
       "\\begin{tabular}{lllll}\n",
       " 3 year risk for discontinuation (\\%) & 3 year risk for reinitiation (\\%) & risk difference (\\%) & risk ratio & hazard ratio\\\\\n",
       "\\hline\n",
       "\t 15.77 & 9.21 & 6.55 & 1.71 & 1.59\\\\\n",
       "\\end{tabular}\n"
      ],
      "text/markdown": [
       "\n",
       "A matrix: 1 × 5 of type dbl\n",
       "\n",
       "| 3 year risk for discontinuation (%) | 3 year risk for reinitiation (%) | risk difference (%) | risk ratio | hazard ratio |\n",
       "|---|---|---|---|---|\n",
       "| 15.77 | 9.21 | 6.55 | 1.71 | 1.59 |\n",
       "\n"
      ],
      "text/plain": [
       "     3 year risk for discontinuation (%) 3 year risk for reinitiation (%)\n",
       "[1,] 15.77                               9.21                            \n",
       "     risk difference (%) risk ratio hazard ratio\n",
       "[1,] 6.55                1.71       1.59        "
      ]
     },
     "metadata": {},
     "output_type": "display_data"
    }
   ],
   "source": [
    "main_point_estimation"
   ]
  },
  {
   "cell_type": "code",
   "execution_count": 35,
   "metadata": {},
   "outputs": [],
   "source": [
    "data_sample_generation <- function(k = 1, data = dta_clone_CVD_death_imp1) {\n",
    "    set.seed(k * 30)\n",
    "    data_discontinuation <- data %>% filter(X == 1)\n",
    "    ID_random_sample_discontinuation <- sample(unique(data_discontinuation$ID), \n",
    "                                               size = length(unique(data_discontinuation$ID)), \n",
    "                                               replace = T) \n",
    "    ID_random_sample_reinitiation <- ID_random_sample_discontinuation + length(ID_random_sample_discontinuation)\n",
    "    ID_random_sample <- c(ID_random_sample_discontinuation, ID_random_sample_reinitiation)\n",
    "    sub_data <- function(i, j = 1) {\n",
    "        dta <- data %>% filter(ID == i) %>% mutate(ID = j) %>% data.frame()\n",
    "        return(dta)\n",
    "    }\n",
    "    dataset_random_sample <- rbindlist(mapply(sub_data, ID_random_sample,  1 : length(ID_random_sample), SIMPLIFY = F))\n",
    "    return(dataset_random_sample)\n",
    "}"
   ]
  },
  {
   "cell_type": "code",
   "execution_count": 36,
   "metadata": {},
   "outputs": [],
   "source": [
    "bootstrap_sub <- function (data = dta_clone_CVD_death_imp1, weights = 'ipw_uns_trunc', \n",
    "    xvar_boot = c('duration'), k = 1) {\n",
    "    no_of_sample = 50\n",
    "    CI_res_sub <- mclapply((1 + (k - 1) * no_of_sample) : (k * no_of_sample), function(j) {\n",
    "        dataset_random_sample <- data_sample_generation(j, data = data)\n",
    "        Sys.sleep((j - (k - 1) * no_of_sample) * 5)\n",
    "        causal_effect_estimation(data = dataset_random_sample, weights = weights, \n",
    "                                 xvar = xvar_boot)}, mc.cores = 50)   \n",
    "    CI_res_sub <- foreach (i = 1 : no_of_sample, .combine = c) %do% {\n",
    "        CI_res_sub[[i]]\n",
    "    }\n",
    "    return(CI_res_sub)\n",
    "}"
   ]
  },
  {
   "cell_type": "code",
   "execution_count": 37,
   "metadata": {},
   "outputs": [],
   "source": [
    "CI_res <- foreach (i = 1 : 10, .combine = c) %do% {\n",
    "    bootstrap_sub(k = i)\n",
    "}"
   ]
  },
  {
   "cell_type": "raw",
   "metadata": {},
   "source": [
    "## bootstrap on 500 sample\n",
    "no_of_sample = 4\n",
    "cl <- parallel::makeCluster(4, type = \"SOCK\")\n",
    "##clusterEvalQ(cl = cl, {\n",
    "##    library(dplyr)\n",
    "##    library(data.table)\n",
    "##})\n",
    "registerDoParallel(cl)\n",
    "CI_res <- mcapply (j = 1 : no_of_sample, .combine = c, .packages = c(\"data.table\", \"dplyr\", 'parglm')) %dopar% {\n",
    "    dataset_random_sample <- data_sample_generation(j)\n",
    "    causal_effect_estimation(data = dataset_random_sample, weights = 'ipw_uns_trunc', \n",
    "                             xvar = c('duration', \n",
    "                                      'cov_diabetes_t0', 'cov_hypertension_t0', \n",
    "                                      'cov_MI_t0', 'cov_CHF_t0', 'cov_cerebrovascular_disease_t0', 'cov_PVD_t0', \n",
    "                                      'cov_cancer_t0', 'cov_COPD_t0', \n",
    "                                      'cov_beta_blocker_t0', 'cov_CCB_t0', 'cov_diuretic_t0', 'cov_MRA_t0', 'cov_SPS_t0', \n",
    "                                      'cov_statin_t0', \n",
    "                                      'cov_antiplatelet_agent_t0', \n",
    "                                      'cov_egfr_t0', \n",
    "                                      'primary_care_num_t0', 'outpatient_num_t0', 'inpatient_num_t0'))\n",
    "}\n",
    "stopCluster(cl)"
   ]
  },
  {
   "cell_type": "code",
   "execution_count": 38,
   "metadata": {},
   "outputs": [
    {
     "data": {
      "text/html": [
       "<table>\n",
       "<caption>A matrix: 1 × 5 of type chr</caption>\n",
       "<thead>\n",
       "\t<tr><th scope=col>3 year risk for discontinuation (%)</th><th scope=col>3 year risk for reinitiation (%)</th><th scope=col>risk difference (%)</th><th scope=col>risk ratio</th><th scope=col>hazard ratio</th></tr>\n",
       "</thead>\n",
       "<tbody>\n",
       "\t<tr><td>15.77 (13.06-19.18)</td><td>9.21 (8.05-10.39)</td><td>6.55 (3.58-10.06)</td><td>1.71 (1.35-2.13)</td><td>1.59 (1.36-1.84)</td></tr>\n",
       "</tbody>\n",
       "</table>\n"
      ],
      "text/latex": [
       "A matrix: 1 × 5 of type chr\n",
       "\\begin{tabular}{lllll}\n",
       " 3 year risk for discontinuation (\\%) & 3 year risk for reinitiation (\\%) & risk difference (\\%) & risk ratio & hazard ratio\\\\\n",
       "\\hline\n",
       "\t 15.77 (13.06-19.18) & 9.21 (8.05-10.39) & 6.55 (3.58-10.06) & 1.71 (1.35-2.13) & 1.59 (1.36-1.84)\\\\\n",
       "\\end{tabular}\n"
      ],
      "text/markdown": [
       "\n",
       "A matrix: 1 × 5 of type chr\n",
       "\n",
       "| 3 year risk for discontinuation (%) | 3 year risk for reinitiation (%) | risk difference (%) | risk ratio | hazard ratio |\n",
       "|---|---|---|---|---|\n",
       "| 15.77 (13.06-19.18) | 9.21 (8.05-10.39) | 6.55 (3.58-10.06) | 1.71 (1.35-2.13) | 1.59 (1.36-1.84) |\n",
       "\n"
      ],
      "text/plain": [
       "     3 year risk for discontinuation (%) 3 year risk for reinitiation (%)\n",
       "[1,] 15.77 (13.06-19.18)                 9.21 (8.05-10.39)               \n",
       "     risk difference (%) risk ratio       hazard ratio    \n",
       "[1,] 6.55 (3.58-10.06)   1.71 (1.35-2.13) 1.59 (1.36-1.84)"
      ]
     },
     "metadata": {},
     "output_type": "display_data"
    }
   ],
   "source": [
    "no_of_sample = 500\n",
    "CI_point_estimation <- foreach (i = seq(1, 2 * no_of_sample, 2), .combine = rbind) %do% {\n",
    "    CI_res[[i]]\n",
    "}\n",
    "CI_point_estimation <- CI_point_estimation %>% data.frame()\n",
    "colnames(CI_point_estimation) <- c('risk_dis', 'risk_re', 'RD', 'RR', 'HR')\n",
    "CI_point_estimation <- CI_point_estimation %>% \n",
    "    summarise(lci_risk_dis = quantile(risk_dis, 0.025), \n",
    "              uci_risk_dis = quantile(risk_dis, 0.975), \n",
    "              lci_risk_re = quantile(risk_re, 0.025), \n",
    "              uci_risk_re = quantile(risk_re, 0.975), \n",
    "              lci_RD = quantile(RD, 0.025), \n",
    "              uci_RD = quantile(RD, 0.975), \n",
    "              lci_RR = quantile(RR, 0.025), \n",
    "              uci_RR = quantile(RR, 0.975), \n",
    "              lci_HR = quantile(HR, 0.025), \n",
    "              uci_HR = quantile(HR, 0.975))\n",
    "CI_point_estimation <- round(matrix(as.numeric(CI_point_estimation), nrow = 5, ncol = 2, byrow = T), 2)\n",
    "causal_effect_point_estimation <- paste(t(main_point_estimation), \n",
    "                                        ' (', CI_point_estimation[ , 1], '-', \n",
    "                                        CI_point_estimation[ , 2], ')', sep = '')\n",
    "names(causal_effect_point_estimation) <- colnames(main_point_estimation)\n",
    "main_res <- t(causal_effect_point_estimation)\n",
    "main_res"
   ]
  },
  {
   "cell_type": "code",
   "execution_count": 39,
   "metadata": {},
   "outputs": [],
   "source": [
    "CI_cum_incidence <- foreach (i = seq(2, 2 * no_of_sample, 2), .combine = cbind) %do% {\n",
    "    CI_res[[i]]\n",
    "}\n",
    "CI_cum_incidence <- CI_cum_incidence[ , c(c(1, 4), seq(3, no_of_sample * 4, 4))]"
   ]
  },
  {
   "cell_type": "code",
   "execution_count": 40,
   "metadata": {},
   "outputs": [
    {
     "name": "stderr",
     "output_type": "stream",
     "text": [
      "`summarise()` regrouping output by 'rank' (override with `.groups` argument)\n",
      "\n"
     ]
    }
   ],
   "source": [
    "CI_cum_incidence <- CI_cum_incidence %>% \n",
    "    gather(i, p_cumCVD_death, p_cumCVD_death : p_cumCVD_death.499, factor_key = TRUE) %>% ## Note!!!!\n",
    "    arrange(rank, X) %>% \n",
    "    group_by(rank, X) %>% \n",
    "    summarise(lci_p_cumCVD_death = quantile(p_cumCVD_death, 0.025), \n",
    "              uci_p_cumCVD_death = quantile(p_cumCVD_death, 0.975))"
   ]
  },
  {
   "cell_type": "code",
   "execution_count": 41,
   "metadata": {},
   "outputs": [],
   "source": [
    "main_cum_incidence <- rbind(data.frame(rank = 0, p_cumsurv = 1, p_cumCVD_death = 0, X = 'discontinuation'), \n",
    "                            data.frame(rank = 0, p_cumsurv = 1, p_cumCVD_death = 0, X = 'reinitiation'), \n",
    "                            data.frame(main_cum_incidence))"
   ]
  },
  {
   "cell_type": "code",
   "execution_count": 42,
   "metadata": {},
   "outputs": [],
   "source": [
    "CI_cum_incidence <- rbind(data.frame(rank = 0, X = 'discontinuation', lci_p_cumCVD_death = 0, uci_p_cumCVD_death = 0), \n",
    "                          data.frame(rank = 0, X = 'reinitiation', lci_p_cumCVD_death = 0, uci_p_cumCVD_death = 0), \n",
    "                          data.frame(CI_cum_incidence))"
   ]
  },
  {
   "cell_type": "code",
   "execution_count": 43,
   "metadata": {},
   "outputs": [
    {
     "data": {
      "image/png": "[encoded data removed]",
      "text/plain": [
       "plot without title"
      ]
     },
     "metadata": {
      "image/png": {
       "height": 420,
       "width": 420
      }
     },
     "output_type": "display_data"
    }
   ],
   "source": [
    "ggplot(data = main_cum_incidence %>% filter(rank <= 36), aes(x = rank, y = p_cumCVD_death, group = X, colour = X)) + \n",
    "    geom_line() + \n",
    "    geom_line(data = CI_cum_incidence %>% filter(rank <= 36), aes(x = rank, y = lci_p_cumCVD_death, group = X, colour = X), \n",
    "              linetype = \"dashed\") + \n",
    "    geom_line(data = CI_cum_incidence %>% filter(rank <= 36), aes(x = rank, y = uci_p_cumCVD_death, group = X, colour = X), \n",
    "              linetype = \"dashed\") + \n",
    "    xlab('Month') + \n",
    "    ylab('Cumulative incidence') + \n",
    "    scale_x_continuous(breaks = seq(0, 36, 6)) + \n",
    "    ylim(0, 0.4) +\n",
    "    labs(title = 'CVD death', color = \"Treatment strategy\") + \n",
    "    scale_color_manual(labels=c(\"discontinuation\", \"continuation\"),\n",
    "                       values=c(\"red\", \"blue\"))"
   ]
  },
  {
   "cell_type": "markdown",
   "metadata": {},
   "source": [
    "## Sensitivity analyses"
   ]
  },
  {
   "cell_type": "markdown",
   "metadata": {},
   "source": [
    "### <font face = \"Times New Roman\" color='blue'>stabilized IPWs without truncation</font>"
   ]
  },
  {
   "cell_type": "raw",
   "metadata": {},
   "source": [
    "incid_num_weighted(weights = 'ipw')"
   ]
  },
  {
   "cell_type": "raw",
   "metadata": {},
   "source": [
    "sen1_res = causal_effect_estimation(weights = 'ipw')\n",
    "sen1_point_estimation <- sen1_res[[1]]"
   ]
  },
  {
   "cell_type": "raw",
   "metadata": {},
   "source": [
    "sen1_point_estimation"
   ]
  },
  {
   "cell_type": "raw",
   "metadata": {},
   "source": [
    "CI_res <- foreach (i = 1 : 10, .combine = c) %do% {\n",
    "    bootstrap_sub(k = i, weights = 'ipw', \n",
    "                  xvar_boot = c('age', 'female', 'index_year', 'duration', 'potassium_value',\n",
    "                                'primary_care_num', 'outpatient_num', 'inpatient_num', \n",
    "                                'cov_diabetes_t0', 'cov_hypertension_t0', \n",
    "                                'cov_MI_t0', 'cov_CHF_t0', 'cov_cerebrovascular_disease_t0', 'cov_PVD_t0', \n",
    "                                'cov_cancer_t0', 'cov_COPD_t0', \n",
    "                                'cov_beta_blocker_t0', 'cov_CCB_t0', 'cov_diuretic_t0', 'cov_MRA_t0', 'cov_SPS_t0', \n",
    "                                'cov_statin_t0', \n",
    "                                'cov_antiplatelet_agent_t0', \n",
    "                                'cov_egfr_t0', \n",
    "                                'cov_hospitalization_t0'))\n",
    "}"
   ]
  },
  {
   "cell_type": "raw",
   "metadata": {},
   "source": [
    "no_of_sample = 500\n",
    "################################################################################################\n",
    "CI_point_estimation <- foreach (i = seq(1, 2 * no_of_sample, 2), .combine = rbind) %do% {\n",
    "    CI_res[[i]]\n",
    "}\n",
    "CI_point_estimation <- CI_point_estimation %>% data.frame()\n",
    "colnames(CI_point_estimation) <- c('risk_dis', 'risk_re', 'RD', 'RR', 'HR')\n",
    "CI_point_estimation <- CI_point_estimation %>% \n",
    "    summarise(lci_risk_dis = quantile(risk_dis, 0.025), \n",
    "              uci_risk_dis = quantile(risk_dis, 0.975), \n",
    "              lci_risk_re = quantile(risk_re, 0.025), \n",
    "              uci_risk_re = quantile(risk_re, 0.975), \n",
    "              lci_RD = quantile(RD, 0.025), \n",
    "              uci_RD = quantile(RD, 0.975), \n",
    "              lci_RR = quantile(RR, 0.025), \n",
    "              uci_RR = quantile(RR, 0.975), \n",
    "              lci_HR = quantile(HR, 0.025), \n",
    "              uci_HR = quantile(HR, 0.975))\n",
    "CI_point_estimation <- round(matrix(as.numeric(CI_point_estimation), nrow = 5, ncol = 2, byrow = T), 2)\n",
    "causal_effect_point_estimation <- paste(t(sen1_point_estimation), \n",
    "                                        ' (', CI_point_estimation[ , 1], '-', \n",
    "                                        CI_point_estimation[ , 2], ')', sep = '')\n",
    "names(causal_effect_point_estimation) <- colnames(sen1_point_estimation)\n",
    "t(causal_effect_point_estimation)"
   ]
  },
  {
   "cell_type": "markdown",
   "metadata": {},
   "source": [
    "### <font face = \"Times New Roman\" color='blue'>stabilized IPWs by ML</font>"
   ]
  },
  {
   "cell_type": "raw",
   "metadata": {},
   "source": [
    "incid_num_weighted(weights = 'ipw_ML')"
   ]
  },
  {
   "cell_type": "raw",
   "metadata": {},
   "source": [
    "sen2_res = causal_effect_estimation(weights = 'ipw_ML')\n",
    "sen2_point_estimation <- sen2_res[[1]]"
   ]
  },
  {
   "cell_type": "raw",
   "metadata": {},
   "source": [
    "CI_res <- foreach (i = 1 : 10, .combine = c) %do% {\n",
    "    bootstrap_sub(k = i, weights = 'ipw_ML', \n",
    "                  xvar_boot = c('age', 'female', 'index_year', 'duration', 'potassium_value',\n",
    "                                'primary_care_num', 'outpatient_num', 'inpatient_num', \n",
    "                                'cov_diabetes_t0', 'cov_hypertension_t0', \n",
    "                                'cov_MI_t0', 'cov_CHF_t0', 'cov_cerebrovascular_disease_t0', 'cov_PVD_t0', \n",
    "                                'cov_cancer_t0', 'cov_COPD_t0', \n",
    "                                'cov_beta_blocker_t0', 'cov_CCB_t0', 'cov_diuretic_t0', 'cov_MRA_t0', 'cov_SPS_t0', \n",
    "                                'cov_statin_t0', \n",
    "                                'cov_antiplatelet_agent_t0', \n",
    "                                'cov_egfr_t0', \n",
    "                                'cov_hospitalization_t0'))\n",
    "}\n",
    "no_of_sample = 500\n",
    "################################################################################################\n",
    "CI_point_estimation <- foreach (i = seq(1, 2 * no_of_sample, 2), .combine = rbind) %do% {\n",
    "    CI_res[[i]]\n",
    "}\n",
    "CI_point_estimation <- CI_point_estimation %>% data.frame()\n",
    "colnames(CI_point_estimation) <- c('risk_dis', 'risk_re', 'RD', 'RR', 'HR')\n",
    "CI_point_estimation <- CI_point_estimation %>% \n",
    "    summarise(lci_risk_dis = quantile(risk_dis, 0.025), \n",
    "              uci_risk_dis = quantile(risk_dis, 0.975), \n",
    "              lci_risk_re = quantile(risk_re, 0.025), \n",
    "              uci_risk_re = quantile(risk_re, 0.975), \n",
    "              lci_RD = quantile(RD, 0.025), \n",
    "              uci_RD = quantile(RD, 0.975), \n",
    "              lci_RR = quantile(RR, 0.025), \n",
    "              uci_RR = quantile(RR, 0.975), \n",
    "              lci_HR = quantile(HR, 0.025), \n",
    "              uci_HR = quantile(HR, 0.975))\n",
    "CI_point_estimation <- round(matrix(as.numeric(CI_point_estimation), nrow = 5, ncol = 2, byrow = T), 2)\n",
    "causal_effect_point_estimation <- paste(t(sen2_point_estimation), \n",
    "                                        ' (', CI_point_estimation[ , 1], '-', \n",
    "                                        CI_point_estimation[ , 2], ')', sep = '')\n",
    "names(causal_effect_point_estimation) <- colnames(sen2_point_estimation)\n",
    "t(causal_effect_point_estimation)"
   ]
  },
  {
   "cell_type": "markdown",
   "metadata": {},
   "source": [
    "### <font face = \"Times New Roman\" color='blue'>albuminuria included as a time-varying confounder</font>"
   ]
  },
  {
   "cell_type": "raw",
   "metadata": {},
   "source": [
    "dta_clone_CVD_death_ALB <- dta_clone_CVD_death %>% \n",
    "    filter(!is.na(cov_acr_t0)) ## exclude patients with baseline missing albuminuria\n",
    "length(unique(dta_clone_CVD_death_ALB$lopnr))"
   ]
  },
  {
   "cell_type": "raw",
   "metadata": {},
   "source": [
    "x_adjusted_var_ALB <- c('age', 'female', 'index_year', 'rcs(duration, 3)', 'rcs(potassium_value, 3)', \n",
    "                        # 'cov_diabetes_t0', 'cov_hypertension_t0', \n",
    "                        # 'cov_MI_t0', 'cov_CHF_t0', 'cov_cerebrovascular_disease_t0', 'cov_PVD_t0', \n",
    "                        # 'cov_COPD_t0', \n",
    "                        # 'cov_beta_blocker_t0', 'cov_CCB_t0', 'cov_diuretic_t0', 'cov_MRA_t0', 'cov_SPS_t0', \n",
    "                        # 'cov_statin_t0', \n",
    "                        # 'cov_antiplatelet_agent_t0', \n",
    "                        # 'cov_egfr_t0', \n",
    "                        'primary_care_num', \n",
    "                        'outpatient_num', \n",
    "                        'inpatient_num', # 'cov_hospitalization_t0', \n",
    "                        'cov_diabetes', 'cov_hypertension', \n",
    "                        'cov_MI', 'cov_CHF', 'cov_cerebrovascular_disease', 'cov_PVD', \n",
    "                        'cov_cancer', 'cov_COPD',  \n",
    "                        'cov_beta_blocker', 'cov_CCB', 'cov_diuretic', 'cov_MRA', 'cov_SPS', \n",
    "                        'cov_statin', \n",
    "                        'cov_antiplatelet_agent', \n",
    "                        'rcs(cov_egfr, 6)', \n",
    "                        'rcs(cov_acr, 6)', \n",
    "                        # 'rcs(cov_potassium, 12)', \n",
    "                        'cov_hospitalization')"
   ]
  },
  {
   "cell_type": "raw",
   "metadata": {},
   "source": [
    "dta_clone_CVD_death_ALB_discontinuation <- dta_clone_CVD_death_ALB %>% \n",
    "    filter(X == 'discontinuation') %>% \n",
    "    arrange(ID, index_date)\n",
    "dta_clone_CVD_death_ALB_discontinuation_censor_part <- dta_clone_CVD_death_ALB_discontinuation %>% \n",
    "    filter(rank %in% 1 : 6)\n",
    "dta_clone_CVD_death_ALB_discontinuation_noncensor_part <- dta_clone_CVD_death_ALB_discontinuation %>% \n",
    "    filter(rank > 6)\n",
    "## logistic regression formula\n",
    "regression_formula_IPCW <- as.formula(paste0('censor ~ rank + rank ^ 2 + ', \n",
    "                                             paste(x_adjusted_var, collapse = \" + \"), \n",
    "                                             sep = ' '))\n",
    "denominator.fit <- glm(regression_formula_IPCW, \n",
    "                       data = dta_clone_CVD_death_ALB_discontinuation_censor_part, \n",
    "                       family  = binomial(link = \"logit\"))\n",
    "## ===============================================================================================================\n",
    "## Unstabilized IPW\n",
    "dta_clone_CVD_death_ALB_discontinuation_censor_part$ipw_uns_per_month <- \n",
    "    ifelse(dta_clone_CVD_death_ALB_discontinuation_censor_part$censor == 1, \n",
    "           0, \n",
    "           1 / (1 - fitted(denominator.fit)))\n",
    "dta_clone_CVD_death_ALB_discontinuation_noncensor_part$ipw_uns_per_month <- 1\n",
    "## ===============================================================================================================\n",
    "dta_clone_CVD_death_ALB_discontinuation <- rbind(dta_clone_CVD_death_ALB_discontinuation_censor_part, \n",
    "                                             dta_clone_CVD_death_ALB_discontinuation_noncensor_part) %>% \n",
    "    arrange(ID, index_date)\n",
    "## Unstabilized IPW\n",
    "dta_clone_CVD_death_ALB_discontinuation$ipw_uns <- unlist(tapply(dta_clone_CVD_death_ALB_discontinuation$ipw_uns_per_month, \n",
    "                                                             dta_clone_CVD_death_ALB_discontinuation$ID, cumprod))\n",
    "## ============================================================================================================="
   ]
  },
  {
   "cell_type": "raw",
   "metadata": {},
   "source": [
    "dta_clone_CVD_death_ALB_reinitiation <- dta_clone_CVD_death_ALB %>% \n",
    "    filter(X == 'reinitiation') %>% \n",
    "    arrange(ID, index_date)\n",
    "dta_clone_CVD_death_ALB_reinitiation_censor_part <- dta_clone_CVD_death_ALB_reinitiation %>% \n",
    "    filter(rank == 6)\n",
    "dta_clone_CVD_death_ALB_reinitiation_noncensor_part <- dta_clone_CVD_death_ALB_reinitiation %>% \n",
    "    filter(rank %in% 1 : 5 | rank > 6)\n",
    "regression_formula_IPCW <- as.formula(paste0('censor ~ ', \n",
    "                                             paste(x_adjusted_var, collapse = \" + \"), \n",
    "                                             sep = ' '))\n",
    "denominator.fit <- glm(regression_formula_IPCW, \n",
    "                       data = dta_clone_CVD_death_ALB_reinitiation_censor_part, \n",
    "                       family  = binomial(link = \"logit\"))\n",
    "## Unstabilized IPW\n",
    "dta_clone_CVD_death_ALB_reinitiation_censor_part$ipw_uns_per_month <- \n",
    "    ifelse(dta_clone_CVD_death_ALB_reinitiation_censor_part$censor == 1, \n",
    "           0, \n",
    "           1 / (1 - fitted(denominator.fit)))\n",
    "dta_clone_CVD_death_ALB_reinitiation_noncensor_part$ipw_uns_per_month <- 1\n",
    "## =============================================================================================================\n",
    "dta_clone_CVD_death_ALB_reinitiation <- rbind(dta_clone_CVD_death_ALB_reinitiation_censor_part, \n",
    "                                          dta_clone_CVD_death_ALB_reinitiation_noncensor_part) %>% \n",
    "    arrange(ID, index_date)\n",
    "## Unstabilized IPW\n",
    "dta_clone_CVD_death_ALB_reinitiation$ipw_uns <- unlist(tapply(dta_clone_CVD_death_ALB_reinitiation$ipw_uns_per_month, \n",
    "                                                          dta_clone_CVD_death_ALB_reinitiation$ID, cumprod))\n",
    "## ============================================================================================================="
   ]
  },
  {
   "cell_type": "raw",
   "metadata": {},
   "source": [
    "dta_clone_CVD_death_ALB <- rbind(dta_clone_CVD_death_ALB_discontinuation, dta_clone_CVD_death_ALB_reinitiation) %>% \n",
    "    arrange(ID, index_date)\n",
    "dta_clone_CVD_death_ALB$ipw_uns_trunc <- ipw.truncation(dta_clone_CVD_death_ALB$ipw_uns, \n",
    "                                                    trunc.u = quantile(dta_clone_CVD_death_ALB$ipw_uns, 0.99))\n",
    "dta_clone_CVD_death_ALB <- dta_clone_CVD_death_ALB %>% mutate(X = ifelse(X == 'reinitiation', 0, 1))"
   ]
  },
  {
   "cell_type": "raw",
   "metadata": {},
   "source": [
    "incid_num_weighted(data = dta_clone_CVD_death_ALB, weights = 'ipw_uns_trunc')"
   ]
  },
  {
   "cell_type": "raw",
   "metadata": {},
   "source": [
    "sen3_res = causal_effect_estimation(data = dta_clone_CVD_death_ALB, weights = 'ipw_uns_trunc', \n",
    "                                    xvar = c('duration'))\n",
    "sen3_point_estimation <- sen3_res[[1]]\n",
    "## bootstrap on 500 sample\n",
    "CI_res <- foreach (i = 1 : 10, .combine = c) %do% {\n",
    "    bootstrap_sub(data = dta_clone_CVD_death_ALB, k = i, weights = 'ipw_uns_trunc')\n",
    "}\n",
    "##############################################################################################################\n",
    "CI_point_estimation <- foreach (i = seq(1, 2 * no_of_sample, 2), .combine = rbind) %do% {\n",
    "    CI_res[[i]]\n",
    "}\n",
    "CI_point_estimation <- CI_point_estimation %>% data.frame()\n",
    "colnames(CI_point_estimation) <- c('risk_dis', 'risk_re', 'RD', 'RR', 'HR')\n",
    "CI_point_estimation <- CI_point_estimation %>% \n",
    "    summarise(lci_risk_dis = quantile(risk_dis, 0.025), \n",
    "              uci_risk_dis = quantile(risk_dis, 0.975), \n",
    "              lci_risk_re = quantile(risk_re, 0.025), \n",
    "              uci_risk_re = quantile(risk_re, 0.975), \n",
    "              lci_RD = quantile(RD, 0.025), \n",
    "              uci_RD = quantile(RD, 0.975), \n",
    "              lci_RR = quantile(RR, 0.025), \n",
    "              uci_RR = quantile(RR, 0.975), \n",
    "              lci_HR = quantile(HR, 0.025), \n",
    "              uci_HR = quantile(HR, 0.975))\n",
    "CI_point_estimation <- round(matrix(as.numeric(CI_point_estimation), nrow = 5, ncol = 2, byrow = T), 2)\n",
    "causal_effect_point_estimation <- paste(t(sen3_point_estimation), \n",
    "                                        ' (', CI_point_estimation[ , 1], '-', \n",
    "                                        CI_point_estimation[ , 2], ')', sep = '')\n",
    "names(causal_effect_point_estimation) <- colnames(sen3_point_estimation)\n",
    "t(causal_effect_point_estimation)"
   ]
  },
  {
   "cell_type": "markdown",
   "metadata": {},
   "source": [
    "## subgroup analysis"
   ]
  },
  {
   "cell_type": "raw",
   "metadata": {},
   "source": [
    "subgroup_analysis <- function(data = dta_clone_CVD_death_imp1, by = 'age_cat', \n",
    "                              xvar = c('duration')) {\n",
    "    data1 = data[data[[by]] == 1, ]\n",
    "    data0 = data[data[[by]] == 0, ]\n",
    "    no_of_sample = 500\n",
    "    ##################################################\n",
    "    ### SUBGROUP 1 RESULTS\n",
    "    ##################################################\n",
    "    sub1_res = causal_effect_estimation(data = data1, weights = 'ipw_uns_trunc', \n",
    "                                        xvar = xvar)\n",
    "    sub1_point_estimation <- sub1_res[[1]]\n",
    "    ## bootstrap on 500 sample\n",
    "    sub1_CI_res <- foreach (i = 1 : 10, .combine = c) %do% {\n",
    "        bootstrap_sub(data = data1, k = i * 7, weights = 'ipw_uns_trunc', xvar_boot = xvar)\n",
    "    }\n",
    "    ##############################################################################################\n",
    "    sub1_CI_point_estimation <- foreach (i = seq(1, 2 * no_of_sample, 2), .combine = rbind) %do% {\n",
    "        sub1_CI_res[[i]]\n",
    "    }\n",
    "    sub1_CI_point_estimation <- sub1_CI_point_estimation %>% data.frame()\n",
    "    colnames(sub1_CI_point_estimation) <- c('risk_dis', 'risk_re', 'RD', 'RR', 'HR')\n",
    "    sub1_CI_point_estimation <- sub1_CI_point_estimation %>% \n",
    "        summarise(lci_risk_dis = quantile(risk_dis, 0.025), \n",
    "                  uci_risk_dis = quantile(risk_dis, 0.975), \n",
    "                  lci_risk_re = quantile(risk_re, 0.025), \n",
    "                  uci_risk_re = quantile(risk_re, 0.975), \n",
    "                  lci_RD = quantile(RD, 0.025), \n",
    "                  uci_RD = quantile(RD, 0.975), \n",
    "                  lci_RR = quantile(RR, 0.025), \n",
    "                  uci_RR = quantile(RR, 0.975), \n",
    "                  lci_HR = quantile(HR, 0.025), \n",
    "                  uci_HR = quantile(HR, 0.975))\n",
    "    sub1_CI_point_estimation <- round(matrix(as.numeric(sub1_CI_point_estimation), nrow = 5, ncol = 2, byrow = T), 2)\n",
    "    causal_effect_point_estimation <- paste(t(sub1_point_estimation), \n",
    "                                            ' (', sub1_CI_point_estimation[ , 1], '-', \n",
    "                                            sub1_CI_point_estimation[ , 2], ')', sep = '')\n",
    "    sub1_res <- t(causal_effect_point_estimation)\n",
    "    ##################################################\n",
    "    ### SUBGROUP 0 RESULTS\n",
    "    ##################################################\n",
    "    sub0_res = causal_effect_estimation(data = data0, weights = 'ipw_uns_trunc', \n",
    "                                        xvar = xvar)\n",
    "    sub0_point_estimation <- sub0_res[[1]]\n",
    "    ## bootstrap on 500 sample\n",
    "    sub0_CI_res <- foreach (i = 1 : 10, .combine = c) %do% {\n",
    "        bootstrap_sub(data = data0, k = i * 11, weights = 'ipw_uns_trunc', xvar_boot = xvar)\n",
    "    }\n",
    "    ######################################################################################################\n",
    "    sub0_CI_point_estimation <- foreach (i = seq(1, 2 * no_of_sample, 2), .combine = rbind) %do% {\n",
    "        sub0_CI_res[[i]]\n",
    "    }\n",
    "    sub0_CI_point_estimation <- sub0_CI_point_estimation %>% data.frame()\n",
    "    colnames(sub0_CI_point_estimation) <- c('risk_dis', 'risk_re', 'RD', 'RR', 'HR')\n",
    "    sub0_CI_point_estimation <- sub0_CI_point_estimation %>% \n",
    "        summarise(lci_risk_dis = quantile(risk_dis, 0.025), \n",
    "                  uci_risk_dis = quantile(risk_dis, 0.975), \n",
    "                  lci_risk_re = quantile(risk_re, 0.025), \n",
    "                  uci_risk_re = quantile(risk_re, 0.975), \n",
    "                  lci_RD = quantile(RD, 0.025), \n",
    "                  uci_RD = quantile(RD, 0.975), \n",
    "                  lci_RR = quantile(RR, 0.025), \n",
    "                  uci_RR = quantile(RR, 0.975), \n",
    "                  lci_HR = quantile(HR, 0.025), \n",
    "                  uci_HR = quantile(HR, 0.975))\n",
    "    sub0_CI_point_estimation <- round(matrix(as.numeric(sub0_CI_point_estimation), nrow = 5, ncol = 2, byrow = T), 2)\n",
    "    causal_effect_point_estimation <- paste(t(sub0_point_estimation), \n",
    "                                            ' (', sub0_CI_point_estimation[ , 1], '-', \n",
    "                                            sub0_CI_point_estimation[ , 2], ')', sep = '')\n",
    "    sub0_res <- t(causal_effect_point_estimation)\n",
    "    #####################################################################################\n",
    "    #####################################################################################\n",
    "    AERI_point_estimation <- round(sub1_point_estimation[3] - sub0_point_estimation[3], 2)\n",
    "    CI_AERI_point_estimation <- foreach (i = seq(1, 2 * no_of_sample, 2), .combine = rbind) %do% {\n",
    "        sub1_CI_res[[i]][3] - sub0_CI_res[[i]][3]\n",
    "    }\n",
    "    CI_AERI_point_estimation <- CI_AERI_point_estimation %>% data.frame()\n",
    "    colnames(CI_AERI_point_estimation) <- c('AERI')\n",
    "    CI_AERI_point_estimation <- CI_AERI_point_estimation %>% \n",
    "        summarise(lci_AERI = round(quantile(AERI, 0.025), 2), \n",
    "                  uci_AERI = round(quantile(AERI, 0.975), 2))\n",
    "    causal_effect_AERI <- c(AERI_point_estimation, CI_AERI_point_estimation[ , 1], CI_AERI_point_estimation[ , 2], \n",
    "                            paste(AERI_point_estimation, \n",
    "                                  ' (', CI_AERI_point_estimation[ , 1], '-', \n",
    "                                  CI_AERI_point_estimation[ , 2], ')', sep = ''))\n",
    "    ### think about how to calcualte P value?????????\n",
    "    p_res <- foreach (i = seq(1, 2 * no_of_sample, 2), .combine = c) %do% {\n",
    "        sub1_CI_res[[i]][3] - sub0_CI_res[[i]][3]\n",
    "    }\n",
    "    p_more_than_0 <- sum(p_res > 0) / length(p_res)\n",
    "    p_less_than_0 <- sum(p_res < 0) / length(p_res)\n",
    "    p <- round(min(p_more_than_0, p_less_than_0) * 2, 2)\n",
    "    res <- rbind(c(sub1_res, causal_effect_AERI, p), c(sub0_res, '', '', '', '', ''))\n",
    "    colnames(res) <- c(colnames(sub1_point_estimation), 'AERI point', 'AERI lci', 'AERI uci', 'AERI', 'p')\n",
    "    return(res)\n",
    "}"
   ]
  },
  {
   "cell_type": "raw",
   "metadata": {},
   "source": [
    "### by age\n",
    "dta_clone_CVD_death_imp1 <- dta_clone_CVD_death_imp1 %>% mutate(age_cat = ifelse(age >= 70, 1, 0))\n",
    "sub_res_age <- subgroup_analysis(by = 'age_cat')"
   ]
  },
  {
   "cell_type": "raw",
   "metadata": {},
   "source": [
    "### by sex\n",
    "sub_res_sex <- subgroup_analysis(by = 'female')"
   ]
  },
  {
   "cell_type": "raw",
   "metadata": {},
   "source": [
    "### by diabetes\n",
    "sub_res_diabetes <- subgroup_analysis(by = 'cov_diabetes_t0')"
   ]
  },
  {
   "cell_type": "raw",
   "metadata": {},
   "source": [
    "### by heart failure\n",
    "sub_res_HF <- subgroup_analysis(by = 'cov_CHF_t0')"
   ]
  },
  {
   "cell_type": "raw",
   "metadata": {},
   "source": [
    "### by composite of MI, cerebrovascular disease and peripheral vascular disease\n",
    "dta_clone_CVD_death_imp1 <- dta_clone_CVD_death_imp1 %>% \n",
    "    mutate(cov_CVD_nonHF_subcat_t0 = ifelse(cov_MI_t0 + cov_cerebrovascular_disease_t0 + cov_PVD_t0 >= 1, 1, 0))\n",
    "sub_res_CVD_nonHF <- subgroup_analysis(by = 'cov_CVD_nonHF_subcat_t0')"
   ]
  },
  {
   "cell_type": "raw",
   "metadata": {},
   "source": [
    "### by eGFR\n",
    "dta_clone_CVD_death_imp1 <- dta_clone_CVD_death_imp1 %>% mutate(cov_egfr_subcat_t0 = ifelse(cov_egfr_t0 >= 60, 1, 0))\n",
    "sub_res_eGFR <- subgroup_analysis(by = 'cov_egfr_subcat_t0')"
   ]
  },
  {
   "cell_type": "raw",
   "metadata": {},
   "source": [
    "## needed when main analysis is not run\n",
    "main_res <- c('25.79 (21.87-30.23)', '17.27 (15.72-18.96)', \n",
    "              '8.52 (4.43-13.17)', \n",
    "              '1.49 (1.25-1.81)', '1.49 (1.32-1.72)')"
   ]
  },
  {
   "cell_type": "raw",
   "metadata": {},
   "source": [
    "sub_res <- rbind(sub_res_age, \n",
    "                 sub_res_sex, \n",
    "                 sub_res_diabetes, \n",
    "                 sub_res_HF, \n",
    "                 sub_res_CVD_nonHF, \n",
    "                 sub_res_eGFR) %>% data.frame()\n",
    "sub_res <- sub_res %>% mutate(p = ifelse(p == 0, '<0.01', paste(sub_res$p))) ## when p=0 appeared\n",
    "save(sub_res, file = 'sub results for CVD_death.R')"
   ]
  },
  {
   "cell_type": "raw",
   "metadata": {},
   "source": [
    "load('sub results for CVD_death.R')\n",
    "sub_res <- sub_res %>% mutate(group = c(paste('    ', intToUtf8(8805), '70 years', sep = ''), \n",
    "                                        '    <70 years', \n",
    "                                        '    female', '    male', \n",
    "                                        '    yes', '    no', \n",
    "                                        '    yes', '    no', \n",
    "                                        '    yes', '    no', \n",
    "                                        paste('    ', intToUtf8(8805), '60 ml/min/1.73m^2', sep = ''), \n",
    "                                        '    <60 ml/min/1.73m^2')) %>% \n",
    "    dplyr::select(c(11, 1 : 10))\n",
    "sub_res <- rbind(as.matrix(t(c('Overall', main_res, '', '', '', '', ''))), as.matrix(sub_res)) %>% \n",
    "    data.frame()\n",
    "colnames(sub_res) <- c('group', colnames(sub_res_age))\n",
    "sub_res <- sub_res %>% dplyr::select(c(1 : 4, 7 : 11)) %>% \n",
    "    tibble::add_row(group = 'Age', .before = 2) %>% \n",
    "    tibble::add_row(group = 'Sex', .before = 5) %>% \n",
    "    tibble::add_row(group = 'Diabetes', .before = 8) %>% \n",
    "    tibble::add_row(group = 'HF', .before = 11) %>%  \n",
    "    tibble::add_row(group = 'MI, CeVD and PVD', .before = 14) %>%  \n",
    "    tibble::add_row(group = 'eGFR', .before = 17)"
   ]
  },
  {
   "cell_type": "raw",
   "metadata": {},
   "source": [
    "tabletext <- cbind(c(\"Subgroup\", \"\\n\", as.character(sub_res$group)), \n",
    "                   c(\"3 year risk for\\n discontinuation (%)\", \"\\n\", as.character(sub_res[ , 2])), \n",
    "                   c(\"3 year risk for\\n continuation (%)\", \"\\n\", as.character(sub_res[ , 3])), \n",
    "                   c(\"Risk difference (%)\", \"\\n\", as.character(sub_res[ , 4])), \n",
    "                   c(\"AERI (%)\", \"\\n\", as.character(sub_res$AERI)), \n",
    "                   c(\"P Value\", \"\\n\", as.character(sub_res$p)))"
   ]
  },
  {
   "cell_type": "raw",
   "metadata": {},
   "source": [
    "options(repr.plot.width = 18, repr.plot.height = 12)\n",
    "forestplot(labeltext = tabletext, \n",
    "           graph.pos = 6, \n",
    "           mean = c(NA, NA, as.numeric(as.character(sub_res[['AERI point']]))), \n",
    "           lower = c(NA, NA, as.numeric(as.character(sub_res[['AERI lci']]))), \n",
    "           upper = c(NA, NA, as.numeric(as.character(sub_res[['AERI uci']]))), \n",
    "           title = \"CVD death\", \n",
    "           xlab = \"AERI (95% CI)\",\n",
    "           clip = c(-20, 20), \n",
    "           xticks = seq(-20, 20, 4), \n",
    "           hrzl_lines = list(\"6\" = gpar(lwd = 80, lineend = \"butt\", columns=c(1 : 7), col=\"#99999922\"), \n",
    "                             \"9\" = gpar(lwd = 80, lineend = \"butt\", columns=c(1 : 7), col=\"#99999922\"),\n",
    "                             \"12\" = gpar(lwd = 80, lineend = \"butt\", columns=c(1 : 7), col=\"#99999922\"), \n",
    "                             \"15\" = gpar(lwd = 80, lineend = \"butt\", columns=c(1 : 7), col=\"#99999922\"),\n",
    "                             \"18\" = gpar(lwd = 80, lineend = \"butt\", columns=c(1 : 7), col=\"#99999922\"), \n",
    "                             \"21\" = gpar(lwd = 80, lineend = \"butt\", columns=c(1 : 7), col=\"#99999922\")), \n",
    "           txt_gp = fpTxtGp(label = gpar(cex = 1.25),\n",
    "                            ticks = gpar(cex = 1.1),\n",
    "                            xlab = gpar(cex = 1.2),\n",
    "                            title = gpar(cex = 2)),\n",
    "           col = fpColors(box = \"black\", lines = \"black\", zero = \"red\"),\n",
    "           graphwidth = unit(100, 'mm'), \n",
    "           colgap = unit(6, \"mm\"),\n",
    "           boxsize = 0.3)"
   ]
  },
  {
   "cell_type": "code",
   "execution_count": null,
   "metadata": {},
   "outputs": [],
   "source": []
  },
  {
   "cell_type": "code",
   "execution_count": null,
   "metadata": {},
   "outputs": [],
   "source": []
  },
  {
   "cell_type": "code",
   "execution_count": null,
   "metadata": {},
   "outputs": [],
   "source": []
  },
  {
   "cell_type": "code",
   "execution_count": null,
   "metadata": {},
   "outputs": [],
   "source": []
  },
  {
   "cell_type": "code",
   "execution_count": null,
   "metadata": {},
   "outputs": [],
   "source": []
  }
 ],
 "metadata": {
  "kernelspec": {
   "display_name": "R",
   "language": "R",
   "name": "ir"
  },
  "language_info": {
   "codemirror_mode": "r",
   "file_extension": ".r",
   "mimetype": "text/x-r-source",
   "name": "R",
   "pygments_lexer": "r",
   "version": "3.6.3"
  }
 },
 "nbformat": 4,
 "nbformat_minor": 4
}
