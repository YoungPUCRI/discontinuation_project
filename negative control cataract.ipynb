{
 "cells": [
  {
   "cell_type": "markdown",
   "metadata": {},
   "source": [
    "## load packages"
   ]
  },
  {
   "cell_type": "code",
   "execution_count": 2,
   "metadata": {},
   "outputs": [],
   "source": [
    "library(dplyr)\n",
    "library(lubridate)\n",
    "library(tableone)\n",
    "library(DescTools)\n",
    "library(biostat3)\n",
    "library(survminer)\n",
    "library(mice)\n",
    "library(foreach)\n",
    "library(mgcv)\n",
    "library(doParallel)\n",
    "library(mitools)\n",
    "library(survey)\n",
    "library(ipw)\n",
    "library(rms)\n",
    "library(tidyr)\n",
    "library(EValue)\n",
    "library(rpart)\n",
    "library(data.table)\n",
    "library(snow)\n",
    "library(forestplot)\n",
    "library(parglm)"
   ]
  },
  {
   "cell_type": "code",
   "execution_count": 3,
   "metadata": {},
   "outputs": [],
   "source": [
    "## HR display function\n",
    "OR.result.tidy <- function(result) {\n",
    "    res <- result$coefficients[2, c(1, 2)]\n",
    "    OR <- exp(res[1])\n",
    "    lci <- exp(res[1] - qnorm(0.975) * res[2])\n",
    "    uci <- exp(res[1] + qnorm(0.975) * res[2])\n",
    "    res <- data.frame(OR, lci, uci)\n",
    "    colnames(res) <- c('OR', 'lci', 'uci')\n",
    "    res <- res %>% \n",
    "        data.frame() %>% \n",
    "        mutate_at(vars(OR, lci, uci), funs(round(., 2))) \n",
    "    res <- res %>% \n",
    "        mutate(OR = paste0(res[, 1], \" (\", res[, 2], \"-\", res[, 3], \")\")) %>% \n",
    "        cbind(group = c('discontinuation')) %>% \n",
    "        dplyr::select(c(4, 1))\n",
    "    res <- rbind(data.frame(group = 'reinitiation', OR = 'Ref'), res) \n",
    "    res$group <- as.character(res$group)\n",
    "    return(res)\n",
    "}"
   ]
  },
  {
   "cell_type": "markdown",
   "metadata": {},
   "source": [
    "## import data"
   ]
  },
  {
   "cell_type": "code",
   "execution_count": 4,
   "metadata": {},
   "outputs": [],
   "source": [
    "load('dta_tidied.R')"
   ]
  },
  {
   "cell_type": "code",
   "execution_count": 5,
   "metadata": {},
   "outputs": [],
   "source": [
    "dta_clone_cataract <- dta_clone %>% filter(cov_cataract == 0)"
   ]
  },
  {
   "cell_type": "code",
   "execution_count": 6,
   "metadata": {},
   "outputs": [
    {
     "data": {
      "text/html": [
       "724"
      ],
      "text/latex": [
       "724"
      ],
      "text/markdown": [
       "724"
      ],
      "text/plain": [
       "[1] 724"
      ]
     },
     "metadata": {},
     "output_type": "display_data"
    }
   ],
   "source": [
    "length(unique(dta_clone$lopnr)) - length(unique(dta_clone_cataract$lopnr))"
   ]
  },
  {
   "cell_type": "code",
   "execution_count": 7,
   "metadata": {},
   "outputs": [],
   "source": [
    "dta_clone_cataract <- dta_clone %>% \n",
    "    arrange(X, lopnr, index_date) %>% \n",
    "    group_by(X, lopnr) %>% \n",
    "    mutate(death_filter = cumsum(outcome_death), \n",
    "           censor_filter = cumsum(censor), \n",
    "           cataract_filter = cumsum(outcome_cataract)) %>% \n",
    "    filter(death_filter <= 1 & censor_filter <= 1 & cataract_filter <= 1) %>% \n",
    "    ungroup() %>% \n",
    "    dplyr::select(c('lopnr', 'ID', 'X', \n",
    "                    'index_date', 'after_index_date', 'rank', \n",
    "                    'age', 'female', 'index_year', 'duration', \n",
    "                    'cov_diabetes_t0', 'cov_hypertension_t0', \n",
    "                    'cov_MI_t0', 'cov_CHF_t0', 'cov_cerebrovascular_disease_t0', 'cov_PVD_t0', \n",
    "                    'cov_cancer_t0', 'cov_COPD_t0', \n",
    "                    'cov_beta_blocker_t0', 'cov_CCB_t0', 'cov_diuretic_t0', 'cov_MRA_t0', 'cov_SPS_t0', \n",
    "                    'cov_statin_t0', \n",
    "                    'cov_antiplatelet_agent_t0', \n",
    "                    'cov_egfr_t0', 'cov_egfr_cat_t0', 'cov_acr_t0', 'cov_acr_cat_t0', \n",
    "                    'potassium_value', 'potassium_cat', \n",
    "                    'cov_hospitalization_t0', \n",
    "                    'primary_care_num', 'outpatient_num', 'inpatient_num', \n",
    "                    'cov_diabetes', 'cov_hypertension', \n",
    "                    'cov_MI', 'cov_CHF', 'cov_cerebrovascular_disease', 'cov_PVD', \n",
    "                    'cov_cancer', 'cov_COPD',  \n",
    "                    'cov_beta_blocker', 'cov_CCB', 'cov_diuretic', 'cov_MRA', 'cov_SPS', \n",
    "                    'cov_statin', \n",
    "                    'cov_antiplatelet_agent', \n",
    "                    'cov_egfr', 'cov_egfr_cat', 'cov_acr', 'cov_acr_cat', \n",
    "                    'cov_potassium', 'cov_hospitalization', \n",
    "                    'outcome_cataract', 'censor', 'treatment'))"
   ]
  },
  {
   "cell_type": "markdown",
   "metadata": {},
   "source": [
    "## description of chracteristics at month 6 (unweighted)"
   ]
  },
  {
   "cell_type": "code",
   "execution_count": 8,
   "metadata": {},
   "outputs": [],
   "source": [
    "dta_clone_cataract_6_month <- dta_clone_cataract %>% filter(rank == 6)"
   ]
  },
  {
   "cell_type": "code",
   "execution_count": 9,
   "metadata": {},
   "outputs": [],
   "source": [
    "xvars <- c('age', 'female', 'index_year', 'duration', 'potassium_cat', \n",
    "           'cov_diabetes', 'cov_hypertension', \n",
    "           'cov_MI', 'cov_CHF', 'cov_cerebrovascular_disease', 'cov_PVD', \n",
    "           'cov_cancer', 'cov_COPD',  \n",
    "           'cov_beta_blocker', 'cov_CCB', 'cov_diuretic', 'cov_MRA', 'cov_SPS', \n",
    "           'cov_statin', \n",
    "           'cov_antiplatelet_agent', \n",
    "           # 'cov_potassium', \n",
    "           'cov_egfr_cat', \n",
    "           'primary_care_num', 'cov_hospitalization', 'outpatient_num', 'inpatient_num')\n",
    "xfactorvars <- c('female', 'index_year', 'potassium_cat', \n",
    "                 'cov_diabetes', 'cov_hypertension', \n",
    "                 'cov_MI', 'cov_CHF', 'cov_cerebrovascular_disease', 'cov_PVD', \n",
    "                 'cov_cancer', 'cov_COPD',  \n",
    "                 'cov_beta_blocker', 'cov_CCB', 'cov_diuretic', 'cov_MRA', 'cov_SPS', \n",
    "                 'cov_statin', \n",
    "                 'cov_antiplatelet_agent', \n",
    "                 'cov_egfr_cat', 'cov_hospitalization')\n",
    "xnonnormvars <- c('duration', # 'cov_potassium', \n",
    "                  'primary_care_num', 'outpatient_num', 'inpatient_num')"
   ]
  },
  {
   "cell_type": "code",
   "execution_count": 10,
   "metadata": {},
   "outputs": [],
   "source": [
    "tb1.part <- CreateTableOne(xvars, strata = 'X', data = dta_clone_cataract_6_month, factorVars = xfactorvars, includeNA = T)\n",
    "tb1.part <- print(tb1.part, nonnormal = xnonnormvars, test = F, smd = T, printToggle = F)"
   ]
  },
  {
   "cell_type": "code",
   "execution_count": 11,
   "metadata": {},
   "outputs": [],
   "source": [
    "dta_clone_cataract_imp1 <- dta_clone_cataract"
   ]
  },
  {
   "cell_type": "markdown",
   "metadata": {},
   "source": [
    "## description of cataract event in each arm (unweighted)"
   ]
  },
  {
   "cell_type": "code",
   "execution_count": 13,
   "metadata": {},
   "outputs": [
    {
     "name": "stderr",
     "output_type": "stream",
     "text": [
      "`summarise()` ungrouping output (override with `.groups` argument)\n",
      "`summarise()` ungrouping output (override with `.groups` argument)\n"
     ]
    },
    {
     "data": {
      "text/html": [
       "<table>\n",
       "<thead><tr><th scope=col>group</th><th scope=col>n</th><th scope=col>followup</th><th scope=col>event</th><th scope=col>person_years</th><th scope=col>incidence rate</th></tr></thead>\n",
       "<tbody>\n",
       "\t<tr><td>discontinuation </td><td>5669            </td><td>0.16 [0.08-0.33]</td><td>115             </td><td>2458.68         </td><td>0.05 (0.04-0.06)</td></tr>\n",
       "\t<tr><td>reinitiation    </td><td>5669            </td><td>1.16 [0.5-2.5]  </td><td>337             </td><td>8799.56         </td><td>0.04 (0.03-0.04)</td></tr>\n",
       "</tbody>\n",
       "</table>\n"
      ],
      "text/latex": [
       "\\begin{tabular}{r|llllll}\n",
       " group & n & followup & event & person\\_years & incidence rate\\\\\n",
       "\\hline\n",
       "\t discontinuation      & 5669                 & 0.16 {[}0.08-0.33{]} & 115                  & 2458.68              & 0.05 (0.04-0.06)    \\\\\n",
       "\t reinitiation         & 5669                 & 1.16 {[}0.5-2.5{]}   & 337                  & 8799.56              & 0.04 (0.03-0.04)    \\\\\n",
       "\\end{tabular}\n"
      ],
      "text/markdown": [
       "\n",
       "| group | n | followup | event | person_years | incidence rate |\n",
       "|---|---|---|---|---|---|\n",
       "| discontinuation  | 5669             | 0.16 [0.08-0.33] | 115              | 2458.68          | 0.05 (0.04-0.06) |\n",
       "| reinitiation     | 5669             | 1.16 [0.5-2.5]   | 337              | 8799.56          | 0.04 (0.03-0.04) |\n",
       "\n"
      ],
      "text/plain": [
       "  group           n    followup         event person_years incidence rate  \n",
       "1 discontinuation 5669 0.16 [0.08-0.33] 115   2458.68      0.05 (0.04-0.06)\n",
       "2 reinitiation    5669 1.16 [0.5-2.5]   337   8799.56      0.04 (0.03-0.04)"
      ]
     },
     "metadata": {},
     "output_type": "display_data"
    }
   ],
   "source": [
    "source('results function.R')\n",
    "dta_clone_cataract_imp1_fixed <- dta_clone_cataract_imp1 %>% \n",
    "        arrange(ID, index_date) %>% \n",
    "        group_by(ID) %>% \n",
    "        summarise(index_date = min(index_date), \n",
    "                  after_index_date = max(after_index_date), \n",
    "                  outcome_cataract = sum(outcome_cataract), \n",
    "                  X = first(X))\n",
    "incid_num('outcome_cataract', 'index_date', 'after_index_date', 'X', \n",
    "          dta_clone_cataract_imp1_fixed, digit = 2)"
   ]
  },
  {
   "cell_type": "markdown",
   "metadata": {},
   "source": [
    "## IPW calculation"
   ]
  },
  {
   "cell_type": "code",
   "execution_count": 14,
   "metadata": {},
   "outputs": [],
   "source": [
    "x_adjusted_var <- c('age', 'female', 'index_year', 'rcs(duration, 3)', 'rcs(potassium_value, 3)', \n",
    "                    # 'cov_diabetes_t0', 'cov_hypertension_t0', \n",
    "                    # 'cov_MI_t0', 'cov_CHF_t0', 'cov_cerebrovascular_disease_t0', 'cov_PVD_t0', \n",
    "                    # 'cov_COPD_t0', \n",
    "                    # 'cov_beta_blocker_t0', 'cov_CCB_t0', 'cov_diuretic_t0', 'cov_MRA_t0', 'cov_SPS_t0', \n",
    "                    # 'cov_statin_t0', \n",
    "                    # 'cov_antiplatelet_agent_t0', \n",
    "                    # 'cov_egfr_t0', \n",
    "                    'primary_care_num', \n",
    "                    'outpatient_num', \n",
    "                    'inpatient_num', # 'cov_hospitalization_t0', \n",
    "                    'cov_diabetes', 'cov_hypertension', \n",
    "                    'cov_MI', 'cov_CHF', 'cov_cerebrovascular_disease', 'cov_PVD', \n",
    "                    'cov_cancer', 'cov_COPD',  \n",
    "                    'cov_beta_blocker', 'cov_CCB', 'cov_diuretic', 'cov_MRA', 'cov_SPS', \n",
    "                    'cov_statin', \n",
    "                    'cov_antiplatelet_agent', \n",
    "                    'rcs(cov_egfr, 6)', \n",
    "                    # 'rcs(cov_potassium, 12)', \n",
    "                    'cov_hospitalization')"
   ]
  },
  {
   "cell_type": "code",
   "execution_count": 15,
   "metadata": {},
   "outputs": [],
   "source": [
    "x_adjusted_var_ML <- c('age', 'female', 'index_year', 'duration', 'potassium_value', \n",
    "                       # 'cov_diabetes_t0', 'cov_hypertension_t0', \n",
    "                       # 'cov_MI_t0', 'cov_CHF_t0', 'cov_cerebrovascular_disease_t0', 'cov_PVD_t0', \n",
    "                       # 'cov_COPD_t0', \n",
    "                       # 'cov_beta_blocker_t0', 'cov_CCB_t0', 'cov_diuretic_t0', 'cov_MRA_t0', 'cov_SPS_t0', \n",
    "                       # 'cov_statin_t0', \n",
    "                       # 'cov_antiplatelet_agent_t0', \n",
    "                       # 'cov_egfr_t0', \n",
    "                       'primary_care_num', \n",
    "                       'outpatient_num', \n",
    "                       'inpatient_num', # 'cov_hospitalization_t0', \n",
    "                       'cov_diabetes', 'cov_hypertension', \n",
    "                       'cov_MI', 'cov_CHF', 'cov_cerebrovascular_disease', 'cov_PVD', \n",
    "                       'cov_cancer', 'cov_COPD',  \n",
    "                       'cov_beta_blocker', 'cov_CCB', 'cov_diuretic', 'cov_MRA', 'cov_SPS', \n",
    "                       'cov_statin', \n",
    "                       'cov_antiplatelet_agent', \n",
    "                       'cov_egfr', \n",
    "                       # 'cov_potassium',\n",
    "                       'cov_hospitalization')"
   ]
  },
  {
   "cell_type": "code",
   "execution_count": 16,
   "metadata": {},
   "outputs": [],
   "source": [
    "dta_clone_cataract_imp1_discontinuation <- dta_clone_cataract_imp1 %>% \n",
    "    filter(X == 'discontinuation') %>% \n",
    "    arrange(ID, index_date)\n",
    "dta_clone_cataract_imp1_discontinuation_censor_part <- dta_clone_cataract_imp1_discontinuation %>% \n",
    "    filter(rank %in% 1 : 6)\n",
    "dta_clone_cataract_imp1_discontinuation_noncensor_part <- dta_clone_cataract_imp1_discontinuation %>% \n",
    "    filter(rank > 6)"
   ]
  },
  {
   "cell_type": "code",
   "execution_count": 17,
   "metadata": {},
   "outputs": [],
   "source": [
    "## logistic regression formula\n",
    "regression_formula_IPCW <- as.formula(paste0('censor ~ rank + rank ^ 2 + ', \n",
    "                                             paste(x_adjusted_var, collapse = \" + \"), \n",
    "                                             sep = ' '))\n",
    "denominator.fit <- glm(regression_formula_IPCW, \n",
    "                       data = dta_clone_cataract_imp1_discontinuation_censor_part, \n",
    "                       family  = binomial(link = \"logit\"))\n",
    "numerator.fit <- glm(censor ~ rank + rank ^ 2 + age + female + index_year + duration + potassium_value + \n",
    "                     primary_care_num + outpatient_num + inpatient_num + \n",
    "                     cov_diabetes_t0 + cov_hypertension_t0 + \n",
    "                     cov_MI_t0 + cov_CHF_t0 + cov_cerebrovascular_disease_t0 + cov_PVD_t0 + \n",
    "                     cov_cancer_t0 + cov_COPD_t0 + \n",
    "                     cov_beta_blocker_t0 + cov_CCB_t0 + cov_diuretic_t0 + \n",
    "                     cov_MRA_t0 + cov_SPS_t0 + \n",
    "                     cov_statin_t0 + \n",
    "                     cov_antiplatelet_agent_t0 + \n",
    "                     cov_egfr_t0 + \n",
    "                     cov_hospitalization_t0, \n",
    "                     data = dta_clone_cataract_imp1_discontinuation_censor_part, \n",
    "                     family  = binomial(link = \"logit\"))\n",
    "## machine learning formula\n",
    "ML_formula_IPCW <- as.formula(paste0('censor ~ rank + ', \n",
    "                                     paste(x_adjusted_var_ML, collapse = \" + \"), \n",
    "                                     sep = ' '))\n",
    "denominator.fit_ML <- rpart(ML_formula_IPCW, \n",
    "                         data = dta_clone_cataract_imp1_discontinuation_censor_part, \n",
    "                         method = 'class')\n",
    "numerator.fit_ML <- rpart(censor ~ rank + age + female + index_year + duration + potassium_value + \n",
    "                          primary_care_num + outpatient_num + inpatient_num + \n",
    "                          cov_diabetes_t0 + cov_hypertension_t0 + \n",
    "                          cov_MI_t0 + cov_CHF_t0 + cov_cerebrovascular_disease_t0 + cov_PVD_t0 + \n",
    "                          cov_cancer_t0 + cov_COPD_t0 + \n",
    "                          cov_beta_blocker_t0 + cov_CCB_t0 + cov_diuretic_t0 + \n",
    "                          cov_MRA_t0 + cov_SPS_t0 + \n",
    "                          cov_statin_t0 + \n",
    "                          cov_antiplatelet_agent_t0 + \n",
    "                          cov_egfr_t0 + \n",
    "                          cov_hospitalization_t0, \n",
    "                          data = dta_clone_cataract_imp1_discontinuation_censor_part, \n",
    "                          method = 'class')\n",
    "## ============================================================================================================="
   ]
  },
  {
   "cell_type": "code",
   "execution_count": 18,
   "metadata": {},
   "outputs": [],
   "source": [
    "## Stabilized IPW\n",
    "dta_clone_cataract_imp1_discontinuation_censor_part$ipw_per_month <- \n",
    "    ifelse(dta_clone_cataract_imp1_discontinuation_censor_part$censor == 1, \n",
    "           0, \n",
    "           (1 - fitted(numerator.fit)) / (1 - fitted(denominator.fit)))\n",
    "dta_clone_cataract_imp1_discontinuation_noncensor_part$ipw_per_month <- 1\n",
    "## =============================================================================================================\n",
    "## Unstabilized IPW\n",
    "dta_clone_cataract_imp1_discontinuation_censor_part$ipw_uns_per_month <- \n",
    "    ifelse(dta_clone_cataract_imp1_discontinuation_censor_part$censor == 1, \n",
    "           0, \n",
    "           1 / (1 - fitted(denominator.fit)))\n",
    "dta_clone_cataract_imp1_discontinuation_noncensor_part$ipw_uns_per_month <- 1\n",
    "## =============================================================================================================\n",
    "## Stabilized IPW by ML\n",
    "dta_clone_cataract_imp1_discontinuation_censor_part$ipw_ML_per_month <- \n",
    "    ifelse(dta_clone_cataract_imp1_discontinuation_censor_part$censor == 1, \n",
    "           0, \n",
    "           predict(numerator.fit_ML)[, 1] / predict(denominator.fit_ML)[, 1])\n",
    "dta_clone_cataract_imp1_discontinuation_noncensor_part$ipw_ML_per_month <- 1\n",
    "## ============================================================================================================="
   ]
  },
  {
   "cell_type": "code",
   "execution_count": 19,
   "metadata": {},
   "outputs": [],
   "source": [
    "dta_clone_cataract_imp1_discontinuation <- rbind(dta_clone_cataract_imp1_discontinuation_censor_part, \n",
    "                                              dta_clone_cataract_imp1_discontinuation_noncensor_part) %>% \n",
    "    arrange(ID, index_date)\n",
    "## Stabilized IPW\n",
    "dta_clone_cataract_imp1_discontinuation$ipw <- unlist(tapply(dta_clone_cataract_imp1_discontinuation$ipw_per_month, \n",
    "                                                         dta_clone_cataract_imp1_discontinuation$ID, cumprod))\n",
    "## =============================================================================================================\n",
    "## Unstabilized IPW\n",
    "dta_clone_cataract_imp1_discontinuation$ipw_uns <- unlist(tapply(dta_clone_cataract_imp1_discontinuation$ipw_uns_per_month, \n",
    "                                                              dta_clone_cataract_imp1_discontinuation$ID, cumprod))\n",
    "## =============================================================================================================\n",
    "## Stabilized IPW by ML\n",
    "dta_clone_cataract_imp1_discontinuation$ipw_ML <- unlist(tapply(dta_clone_cataract_imp1_discontinuation$ipw_ML_per_month, \n",
    "                                                             dta_clone_cataract_imp1_discontinuation$ID, cumprod))\n",
    "## ============================================================================================================="
   ]
  },
  {
   "cell_type": "code",
   "execution_count": 20,
   "metadata": {},
   "outputs": [
    {
     "data": {
      "text/plain": [
       "   Min. 1st Qu.  Median    Mean 3rd Qu.    Max. \n",
       " 0.0000  0.8265  0.9727  0.8626  1.0656  2.1888 "
      ]
     },
     "metadata": {},
     "output_type": "display_data"
    },
    {
     "data": {
      "image/png": "[encoded data removed]",
      "text/plain": [
       "Plot with title \"Stabilized inverse probability weights for discontinuation arm\""
      ]
     },
     "metadata": {},
     "output_type": "display_data"
    },
    {
     "data": {
      "text/plain": [
       "   Min. 1st Qu.  Median    Mean 3rd Qu.    Max. \n",
       "  0.000   1.663   3.102   3.808   5.190  33.948 "
      ]
     },
     "metadata": {},
     "output_type": "display_data"
    },
    {
     "data": {
      "image/png": "[encoded data removed]",
      "text/plain": [
       "Plot with title \"Unstabilized inverse probability weights for discontinuation arm\""
      ]
     },
     "metadata": {},
     "output_type": "display_data"
    },
    {
     "data": {
      "text/plain": [
       "   Min. 1st Qu.  Median    Mean 3rd Qu.    Max. \n",
       " 0.0000  1.0000  1.0000  0.8576  1.0000  1.0000 "
      ]
     },
     "metadata": {},
     "output_type": "display_data"
    },
    {
     "data": {
      "image/png": "[encoded data removed]",
      "text/plain": [
       "Plot with title \"Stabilized inverse probability weights for discontinuation arm (ML)\""
      ]
     },
     "metadata": {},
     "output_type": "display_data"
    }
   ],
   "source": [
    "ipwplot(dta_clone_cataract_imp1_discontinuation$ipw, dta_clone_cataract_imp1_discontinuation$rank, \n",
    "        binwidth = 1, logscale = F, \n",
    "        xlab = 'Months since first hyperkalemia', \n",
    "        ylab = 'Weights', \n",
    "        main = 'Stabilized inverse probability weights for discontinuation arm', \n",
    "        ylim = c(0, 15))\n",
    "summary(dta_clone_cataract_imp1_discontinuation$ipw)\n",
    "ipwplot(dta_clone_cataract_imp1_discontinuation$ipw_uns, dta_clone_cataract_imp1_discontinuation$rank, \n",
    "        binwidth = 1, logscale = F, \n",
    "        xlab = 'Months since first hyperkalemia', \n",
    "        ylab = 'Weights', \n",
    "        main = 'Unstabilized inverse probability weights for discontinuation arm', \n",
    "        ylim = c(0, 15))\n",
    "summary(dta_clone_cataract_imp1_discontinuation$ipw_uns)\n",
    "ipwplot(dta_clone_cataract_imp1_discontinuation$ipw_ML, dta_clone_cataract_imp1_discontinuation$rank, \n",
    "        binwidth = 1, logscale = F, \n",
    "        xlab = 'Months since first hyperkalemia', \n",
    "        ylab = 'Weights', \n",
    "        main = 'Stabilized inverse probability weights for discontinuation arm (ML)', \n",
    "        ylim = c(0, 15))\n",
    "summary(dta_clone_cataract_imp1_discontinuation$ipw_ML)"
   ]
  },
  {
   "cell_type": "code",
   "execution_count": 21,
   "metadata": {},
   "outputs": [],
   "source": [
    "dta_clone_cataract_imp1_reinitiation <- dta_clone_cataract_imp1 %>% \n",
    "    filter(X == 'reinitiation') %>% \n",
    "    arrange(ID, index_date)\n",
    "dta_clone_cataract_imp1_reinitiation_censor_part <- dta_clone_cataract_imp1_reinitiation %>% \n",
    "    filter(rank == 6)\n",
    "dta_clone_cataract_imp1_reinitiation_noncensor_part <- dta_clone_cataract_imp1_reinitiation %>% \n",
    "    filter(rank %in% 1 : 5 | rank > 6)"
   ]
  },
  {
   "cell_type": "code",
   "execution_count": 22,
   "metadata": {},
   "outputs": [
    {
     "data": {
      "text/plain": [
       "   Min. 1st Qu.  Median    Mean 3rd Qu.    Max. \n",
       " 0.0000  0.9746  1.0000  0.9928  1.0157  2.1097 "
      ]
     },
     "metadata": {},
     "output_type": "display_data"
    },
    {
     "data": {
      "image/png": "[encoded data removed]",
      "text/plain": [
       "Plot with title \"Stabilized inverse probability weights for reinitiation arm\""
      ]
     },
     "metadata": {},
     "output_type": "display_data"
    },
    {
     "data": {
      "text/plain": [
       "   Min. 1st Qu.  Median    Mean 3rd Qu.    Max. \n",
       "  0.000   1.000   1.124   1.151   1.217   4.637 "
      ]
     },
     "metadata": {},
     "output_type": "display_data"
    },
    {
     "data": {
      "image/png": "[encoded data removed]",
      "text/plain": [
       "Plot with title \"Unstabilized inverse probability weights for reinitiation arm\""
      ]
     },
     "metadata": {},
     "output_type": "display_data"
    },
    {
     "data": {
      "text/plain": [
       "   Min. 1st Qu.  Median    Mean 3rd Qu.    Max. \n",
       " 0.0000  1.0000  1.0000  0.9923  1.0000  1.0000 "
      ]
     },
     "metadata": {},
     "output_type": "display_data"
    },
    {
     "data": {
      "image/png": "[encoded data removed]",
      "text/plain": [
       "Plot with title \"Stabilized inverse probability weights for reinitiation arm (ML)\""
      ]
     },
     "metadata": {},
     "output_type": "display_data"
    }
   ],
   "source": [
    "regression_formula_IPCW <- as.formula(paste0('censor ~ ', \n",
    "                                             paste(x_adjusted_var, collapse = \" + \"), \n",
    "                                             sep = ' '))\n",
    "denominator.fit <- glm(regression_formula_IPCW, \n",
    "                       data = dta_clone_cataract_imp1_reinitiation_censor_part, \n",
    "                       family  = binomial(link = \"logit\"))\n",
    "numerator.fit <- glm(censor ~ age + female + index_year + duration + potassium_value + \n",
    "                     primary_care_num + outpatient_num + inpatient_num + \n",
    "                     cov_MI_t0 + cov_CHF_t0 + cov_cerebrovascular_disease_t0 + cov_PVD_t0 + \n",
    "                     cov_cancer_t0 + cov_COPD_t0 + \n",
    "                     cov_beta_blocker_t0 + cov_CCB_t0 + cov_diuretic_t0 + \n",
    "                     cov_MRA_t0 + cov_SPS_t0 + \n",
    "                     cov_statin_t0 + \n",
    "                     cov_antiplatelet_agent_t0 + \n",
    "                     cov_egfr_t0 + \n",
    "                     cov_hospitalization_t0, \n",
    "                     data = dta_clone_cataract_imp1_reinitiation_censor_part, \n",
    "                     family  = binomial(link = \"logit\"))\n",
    "## machine learning formula\n",
    "ML_formula_IPCW <- as.formula(paste0('censor ~ ', \n",
    "                                     paste(x_adjusted_var_ML, collapse = \" + \"), \n",
    "                                     sep = ' '))\n",
    "denominator.fit_ML <- rpart(ML_formula_IPCW, \n",
    "                         data = dta_clone_cataract_imp1_reinitiation_censor_part, \n",
    "                         method = 'class')\n",
    "numerator.fit_ML <- rpart(censor ~ age + female + index_year + duration + potassium_value  + \n",
    "                          primary_care_num + outpatient_num + inpatient_num + \n",
    "                          cov_diabetes_t0 + cov_hypertension_t0 + \n",
    "                          cov_MI_t0 + cov_CHF_t0 + cov_cerebrovascular_disease_t0 + cov_PVD_t0 + \n",
    "                          cov_cancer_t0 + cov_COPD_t0 + \n",
    "                          cov_beta_blocker_t0 + cov_CCB_t0 + cov_diuretic_t0 + \n",
    "                          cov_MRA_t0 + cov_SPS_t0 + \n",
    "                          cov_statin_t0 + \n",
    "                          cov_antiplatelet_agent_t0 + \n",
    "                          cov_egfr_t0 + \n",
    "                          cov_hospitalization_t0, \n",
    "                          data = dta_clone_cataract_imp1_reinitiation_censor_part, \n",
    "                          method = 'class')\n",
    "## =============================================================================================================\n",
    "## Stabilized IPW\n",
    "dta_clone_cataract_imp1_reinitiation_censor_part$ipw_per_month <- \n",
    "    ifelse(dta_clone_cataract_imp1_reinitiation_censor_part$censor == 1, \n",
    "           0, \n",
    "           (1 - fitted(numerator.fit)) / (1 - fitted(denominator.fit)))\n",
    "dta_clone_cataract_imp1_reinitiation_noncensor_part$ipw_per_month <- 1\n",
    "## =============================================================================================================\n",
    "## Unstabilized IPW\n",
    "dta_clone_cataract_imp1_reinitiation_censor_part$ipw_uns_per_month <- \n",
    "    ifelse(dta_clone_cataract_imp1_reinitiation_censor_part$censor == 1, \n",
    "           0, \n",
    "           1 / (1 - fitted(denominator.fit)))\n",
    "dta_clone_cataract_imp1_reinitiation_noncensor_part$ipw_uns_per_month <- 1\n",
    "## =============================================================================================================\n",
    "## Stabilized IPW by ML\n",
    "dta_clone_cataract_imp1_reinitiation_censor_part$ipw_ML_per_month <- \n",
    "    ifelse(dta_clone_cataract_imp1_reinitiation_censor_part$censor == 1, \n",
    "           0, \n",
    "           predict(numerator.fit_ML)[, 1] / predict(denominator.fit_ML)[, 1])\n",
    "dta_clone_cataract_imp1_reinitiation_noncensor_part$ipw_ML_per_month <- 1\n",
    "## =============================================================================================================\n",
    "dta_clone_cataract_imp1_reinitiation <- rbind(dta_clone_cataract_imp1_reinitiation_censor_part, \n",
    "                                           dta_clone_cataract_imp1_reinitiation_noncensor_part) %>% \n",
    "    arrange(ID, index_date)\n",
    "## Stabilized IPW\n",
    "dta_clone_cataract_imp1_reinitiation$ipw <- unlist(tapply(dta_clone_cataract_imp1_reinitiation$ipw_per_month, \n",
    "                                                       dta_clone_cataract_imp1_reinitiation$ID, cumprod))\n",
    "## =============================================================================================================\n",
    "## Unstabilized IPW\n",
    "dta_clone_cataract_imp1_reinitiation$ipw_uns <- unlist(tapply(dta_clone_cataract_imp1_reinitiation$ipw_uns_per_month, \n",
    "                                                           dta_clone_cataract_imp1_reinitiation$ID, cumprod))\n",
    "## =============================================================================================================\n",
    "## Stabilized IPW by ML\n",
    "dta_clone_cataract_imp1_reinitiation$ipw_ML <- unlist(tapply(dta_clone_cataract_imp1_reinitiation$ipw_ML_per_month, \n",
    "                                                          dta_clone_cataract_imp1_reinitiation$ID, cumprod))\n",
    "## =============================================================================================================\n",
    "ipwplot(dta_clone_cataract_imp1_reinitiation$ipw, dta_clone_cataract_imp1_reinitiation$rank, \n",
    "        binwidth = 1, logscale = F, \n",
    "        xlab = 'Months since first hyperkalemia', \n",
    "        ylab = 'Weights', \n",
    "        main = 'Stabilized inverse probability weights for reinitiation arm', \n",
    "        ylim = c(0, 5))\n",
    "summary(dta_clone_cataract_imp1_reinitiation$ipw)\n",
    "ipwplot(dta_clone_cataract_imp1_reinitiation$ipw_uns, dta_clone_cataract_imp1_reinitiation$rank, \n",
    "        binwidth = 1, logscale = F, \n",
    "        xlab = 'Months since first hyperkalemia', \n",
    "        ylab = 'Weights', \n",
    "        main = 'Unstabilized inverse probability weights for reinitiation arm', \n",
    "        ylim = c(0, 5))\n",
    "summary(dta_clone_cataract_imp1_reinitiation$ipw_uns)\n",
    "ipwplot(dta_clone_cataract_imp1_reinitiation$ipw_ML, dta_clone_cataract_imp1_reinitiation$rank, \n",
    "        binwidth = 1, logscale = F, \n",
    "        xlab = 'Months since first hyperkalemia', \n",
    "        ylab = 'Weights', \n",
    "        main = 'Stabilized inverse probability weights for reinitiation arm (ML)', \n",
    "        ylim = c(0, 5))\n",
    "summary(dta_clone_cataract_imp1_reinitiation$ipw_ML)"
   ]
  },
  {
   "cell_type": "code",
   "execution_count": 23,
   "metadata": {},
   "outputs": [],
   "source": [
    "## truncate unstabilized weight at 10\n",
    "ipw.truncation <- function(ipw.weights, trunc.u = 10, trunc.l = 0) {\n",
    "    weights.trunc.temp <- ifelse(ipw.weights >= trunc.u, trunc.u, ipw.weights) \n",
    "    weights.trunc <- ifelse(weights.trunc.temp <= trunc.l, trunc.l, weights.trunc.temp) \n",
    "}"
   ]
  },
  {
   "cell_type": "code",
   "execution_count": 24,
   "metadata": {},
   "outputs": [],
   "source": [
    "dta_clone_cataract_imp1 <- rbind(dta_clone_cataract_imp1_discontinuation, dta_clone_cataract_imp1_reinitiation) %>% \n",
    "    arrange(ID, index_date)"
   ]
  },
  {
   "cell_type": "code",
   "execution_count": 25,
   "metadata": {},
   "outputs": [],
   "source": [
    "dta_clone_cataract_imp1$ipw_uns_trunc <- ipw.truncation(dta_clone_cataract_imp1$ipw_uns, \n",
    "                                                     trunc.u = quantile(dta_clone_cataract_imp1$ipw_uns, 0.99))"
   ]
  },
  {
   "cell_type": "markdown",
   "metadata": {},
   "source": [
    "## description of chracteristics at month 6 and cataract event in each arm (weighted)"
   ]
  },
  {
   "cell_type": "code",
   "execution_count": 26,
   "metadata": {},
   "outputs": [],
   "source": [
    "dta_clone_cataract_6_month_weighted <- dta_clone_cataract %>% \n",
    "    left_join(dta_clone_cataract_imp1[ , c('ID', 'rank', 'ipw_uns_trunc')], by = c('ID', 'rank')) %>% \n",
    "    filter(rank == 6)"
   ]
  },
  {
   "cell_type": "code",
   "execution_count": 27,
   "metadata": {},
   "outputs": [],
   "source": [
    "dta_clone_cataract_6_month_weighted <- svydesign(ids = ~ ID, \n",
    "                                              data = dta_clone_cataract_6_month_weighted, \n",
    "                                              weights = ~ dta_clone_cataract_6_month_weighted$ipw_uns_trunc)"
   ]
  },
  {
   "cell_type": "code",
   "execution_count": 28,
   "metadata": {},
   "outputs": [],
   "source": [
    "tb1.part_weighted <- svyCreateTableOne(xvars, strata = 'X', data = dta_clone_cataract_6_month_weighted, factorVars = xfactorvars, includeNA = T)\n",
    "tb1.part_weighted <- print(tb1.part_weighted, nonnormal = xnonnormvars, test = F, smd = T, printToggle = F)"
   ]
  },
  {
   "cell_type": "code",
   "execution_count": 29,
   "metadata": {},
   "outputs": [],
   "source": [
    "tb1 <- cbind(tb1.part, tb1.part_weighted)"
   ]
  },
  {
   "cell_type": "code",
   "execution_count": 30,
   "metadata": {},
   "outputs": [],
   "source": [
    "tb1_SMD_summary <- tb1[ , c(3, 6)] %>% data.frame() %>% filter(SMD != '') %>% \n",
    "    mutate(SMD = as.numeric(as.character(SMD)), \n",
    "           SMD.1 = as.numeric(ifelse(as.character(SMD.1) == '<0.001', '0.001', as.character(SMD.1)))) %>% \n",
    "    mutate(covariates = str_replace(\n",
    "        str_replace(\n",
    "            str_replace(\n",
    "                str_replace_all(xvars, '_', ' '), \n",
    "                'cov ', ''), \n",
    "            'cat', 'categories'), \n",
    "        'num', 'number within 1 year prior')) %>% \n",
    "    mutate(covariates = factor(covariates, levels = rev(covariates)))"
   ]
  },
  {
   "cell_type": "code",
   "execution_count": 31,
   "metadata": {},
   "outputs": [
    {
     "data": {
      "image/png": "[encoded data removed]",
      "text/plain": [
       "plot without title"
      ]
     },
     "metadata": {},
     "output_type": "display_data"
    }
   ],
   "source": [
    "ggplot(data = tb1_SMD_summary, aes(x = SMD, y = covariates)) + \n",
    "    geom_point(aes(color = 'unweighted')) + \n",
    "    geom_point(aes(x = SMD.1, y = covariates, color = 'weighted')) + \n",
    "    scale_x_continuous(breaks = seq(0, 0.3, by = 0.05)) + \n",
    "    labs(title = 'Negative control. Cataract', x = 'SMD at index month 6', y = '') +   \n",
    "    geom_vline(xintercept = 0.1, linetype = \"dashed\", color = \"black\") + \n",
    "    theme(plot.title = element_text(size = 14, face = \"bold\"), \n",
    "          axis.title = element_text(size = 12, face = \"bold\")) + \n",
    "    scale_colour_manual(\"\", values = c(\"unweighted\" = \"red\", \"weighted\" = \"blue\"))"
   ]
  },
  {
   "cell_type": "code",
   "execution_count": 32,
   "metadata": {},
   "outputs": [
    {
     "data": {
      "text/html": [
       "<table>\n",
       "<thead><tr><th></th><th scope=col>discontinuation</th><th scope=col>reinitiation</th><th scope=col>SMD</th><th scope=col>discontinuation</th><th scope=col>reinitiation</th><th scope=col>SMD</th></tr></thead>\n",
       "<tbody>\n",
       "\t<tr><th scope=row>n</th><td>  893                </td><td> 4543                </td><td>                     </td><td>4144.24              </td><td>4546.54              </td><td>                     </td></tr>\n",
       "\t<tr><th scope=row>age (mean (SD))</th><td>74.17 (13.16)        </td><td>71.35 (13.31)        </td><td> 0.213               </td><td>  71.59 (13.77)      </td><td>  71.35 (13.23)      </td><td> 0.018               </td></tr>\n",
       "\t<tr><th scope=row>female = 1 (%)</th><td>  452 (50.6)         </td><td> 2007 (44.2)         </td><td> 0.129               </td><td> 1949.4 (47.0)       </td><td> 2012.1 (44.3)       </td><td> 0.056               </td></tr>\n",
       "\t<tr><th scope=row>index_year (%)</th><td>                     </td><td>                     </td><td> 0.065               </td><td>                     </td><td>                     </td><td> 0.062               </td></tr>\n",
       "\t<tr><th scope=row>   2007</th><td>  115 (12.9)         </td><td>  494 (10.9)         </td><td>                     </td><td>  514.5 (12.4)       </td><td>  496.3 (10.9)       </td><td>                     </td></tr>\n",
       "\t<tr><th scope=row>   2008</th><td>  196 (21.9)         </td><td> 1019 (22.4)         </td><td>                     </td><td>  963.4 (23.2)       </td><td> 1016.9 (22.4)       </td><td>                     </td></tr>\n",
       "\t<tr><th scope=row>   2009</th><td>  242 (27.1)         </td><td> 1229 (27.1)         </td><td>                     </td><td> 1125.0 (27.1)       </td><td> 1231.3 (27.1)       </td><td>                     </td></tr>\n",
       "\t<tr><th scope=row>   2010</th><td>  217 (24.3)         </td><td> 1163 (25.6)         </td><td>                     </td><td> 1000.2 (24.1)       </td><td> 1164.2 (25.6)       </td><td>                     </td></tr>\n",
       "\t<tr><th scope=row>   2011</th><td>  123 (13.8)         </td><td>  638 (14.0)         </td><td>                     </td><td>  541.2 (13.1)       </td><td>  637.8 (14.0)       </td><td>                     </td></tr>\n",
       "\t<tr><th scope=row>duration (median [IQR])</th><td> 7.00 [2.00, 18.00]  </td><td> 8.00 [2.00, 19.00]  </td><td> 0.061               </td><td>   6.00 [2.00, 17.00]</td><td>   8.00 [2.00, 19.00]</td><td> 0.114               </td></tr>\n",
       "\t<tr><th scope=row>potassium_cat (%)</th><td>                     </td><td>                     </td><td> 0.199               </td><td>                     </td><td>                     </td><td> 0.046               </td></tr>\n",
       "\t<tr><th scope=row>   mild</th><td>  668 (74.8)         </td><td> 3746 (82.5)         </td><td>                     </td><td> 3364.4 (81.2)       </td><td> 3767.9 (82.9)       </td><td>                     </td></tr>\n",
       "\t<tr><th scope=row>   moderate</th><td>  152 (17.0)         </td><td>  592 (13.0)         </td><td>                     </td><td>  592.8 (14.3)       </td><td>  580.4 (12.8)       </td><td>                     </td></tr>\n",
       "\t<tr><th scope=row>   severe</th><td>   73 ( 8.2)         </td><td>  205 ( 4.5)         </td><td>                     </td><td>  187.1 ( 4.5)       </td><td>  198.2 ( 4.4)       </td><td>                     </td></tr>\n",
       "\t<tr><th scope=row>cov_diabetes = 1 (%)</th><td>  274 (30.7)         </td><td> 1384 (30.5)         </td><td> 0.005               </td><td> 1286.7 (31.0)       </td><td> 1384.7 (30.5)       </td><td> 0.013               </td></tr>\n",
       "\t<tr><th scope=row>cov_hypertension = 1 (%)</th><td>  685 (76.7)         </td><td> 3445 (75.8)         </td><td> 0.021               </td><td> 3126.5 (75.4)       </td><td> 3448.6 (75.9)       </td><td> 0.010               </td></tr>\n",
       "\t<tr><th scope=row>cov_MI = 1 (%)</th><td>  195 (21.8)         </td><td> 1028 (22.6)         </td><td> 0.019               </td><td>  934.9 (22.6)       </td><td> 1033.2 (22.7)       </td><td> 0.004               </td></tr>\n",
       "\t<tr><th scope=row>cov_CHF = 1 (%)</th><td>  343 (38.4)         </td><td> 1656 (36.5)         </td><td> 0.040               </td><td> 1473.0 (35.5)       </td><td> 1664.8 (36.6)       </td><td> 0.022               </td></tr>\n",
       "\t<tr><th scope=row>cov_cerebrovascular_disease = 1 (%)</th><td>  192 (21.5)         </td><td>  807 (17.8)         </td><td> 0.094               </td><td>  721.2 (17.4)       </td><td>  804.2 (17.7)       </td><td> 0.007               </td></tr>\n",
       "\t<tr><th scope=row>cov_PVD = 1 (%)</th><td>  137 (15.3)         </td><td>  593 (13.1)         </td><td> 0.066               </td><td>  580.5 (14.0)       </td><td>  602.7 (13.3)       </td><td> 0.022               </td></tr>\n",
       "\t<tr><th scope=row>cov_cancer = 1 (%)</th><td>  227 (25.4)         </td><td>  828 (18.2)         </td><td> 0.175               </td><td>  744.8 (18.0)       </td><td>  829.8 (18.3)       </td><td> 0.007               </td></tr>\n",
       "\t<tr><th scope=row>cov_COPD = 1 (%)</th><td>  197 (22.1)         </td><td>  806 (17.7)         </td><td> 0.108               </td><td>  729.3 (17.6)       </td><td>  812.5 (17.9)       </td><td> 0.007               </td></tr>\n",
       "\t<tr><th scope=row>cov_beta_blocker = 1 (%)</th><td>  494 (55.3)         </td><td> 2645 (58.2)         </td><td> 0.059               </td><td> 2366.3 (57.1)       </td><td> 2655.9 (58.4)       </td><td> 0.027               </td></tr>\n",
       "\t<tr><th scope=row>cov_CCB = 1 (%)</th><td>  256 (28.7)         </td><td> 1149 (25.3)         </td><td> 0.076               </td><td> 1232.5 (29.7)       </td><td> 1153.5 (25.4)       </td><td> 0.098               </td></tr>\n",
       "\t<tr><th scope=row>cov_diuretic = 1 (%)</th><td>  418 (46.8)         </td><td> 2000 (44.0)         </td><td> 0.056               </td><td> 1770.2 (42.7)       </td><td> 2004.4 (44.1)       </td><td> 0.028               </td></tr>\n",
       "\t<tr><th scope=row>cov_MRA = 1 (%)</th><td>  141 (15.8)         </td><td>  709 (15.6)         </td><td> 0.005               </td><td>  583.4 (14.1)       </td><td>  711.7 (15.7)       </td><td> 0.044               </td></tr>\n",
       "\t<tr><th scope=row>cov_SPS = 1 (%)</th><td>   17 ( 1.9)         </td><td>  111 ( 2.4)         </td><td> 0.037               </td><td>   65.3 ( 1.6)       </td><td>  111.7 ( 2.5)       </td><td> 0.063               </td></tr>\n",
       "\t<tr><th scope=row>cov_statin = 1 (%)</th><td>  280 (31.4)         </td><td> 1882 (41.4)         </td><td> 0.210               </td><td> 1549.3 (37.4)       </td><td> 1889.3 (41.6)       </td><td> 0.085               </td></tr>\n",
       "\t<tr><th scope=row>cov_antiplatelet_agent = 1 (%)</th><td>  385 (43.1)         </td><td> 2033 (44.8)         </td><td> 0.033               </td><td> 1799.7 (43.4)       </td><td> 2047.8 (45.0)       </td><td> 0.033               </td></tr>\n",
       "\t<tr><th scope=row>cov_egfr_cat (%)</th><td>                     </td><td>                     </td><td> 0.100               </td><td>                     </td><td>                     </td><td> 0.069               </td></tr>\n",
       "\t<tr><th scope=row>   G1</th><td>  118 (13.2)         </td><td>  685 (15.1)         </td><td>                     </td><td>  657.7 (15.9)       </td><td>  692.5 (15.2)       </td><td>                     </td></tr>\n",
       "\t<tr><th scope=row>   G2</th><td>  307 (34.4)         </td><td> 1643 (36.2)         </td><td>                     </td><td> 1507.0 (36.4)       </td><td> 1637.4 (36.0)       </td><td>                     </td></tr>\n",
       "\t<tr><th scope=row>   G3a</th><td>  179 (20.0)         </td><td>  898 (19.8)         </td><td>                     </td><td>  853.9 (20.6)       </td><td>  885.7 (19.5)       </td><td>                     </td></tr>\n",
       "\t<tr><th scope=row>   G3b</th><td>  164 (18.4)         </td><td>  810 (17.8)         </td><td>                     </td><td>  648.7 (15.7)       </td><td>  824.5 (18.1)       </td><td>                     </td></tr>\n",
       "\t<tr><th scope=row>   G4-5</th><td>  125 (14.0)         </td><td>  507 (11.2)         </td><td>                     </td><td>  476.9 (11.5)       </td><td>  506.5 (11.1)       </td><td>                     </td></tr>\n",
       "\t<tr><th scope=row>primary_care_num (median [IQR])</th><td> 3.00 [1.00, 6.00]   </td><td> 3.00 [1.00, 6.00]   </td><td> 0.046               </td><td>   3.00 [1.00, 6.00] </td><td>   3.00 [1.00, 6.00] </td><td> 0.033               </td></tr>\n",
       "\t<tr><th scope=row>cov_hospitalization = 1 (%)</th><td>   97 (10.9)         </td><td>  391 ( 8.6)         </td><td> 0.076               </td><td>  345.6 ( 8.3)       </td><td>  397.9 ( 8.8)       </td><td> 0.015               </td></tr>\n",
       "\t<tr><th scope=row>outpatient_num (median [IQR])</th><td> 3.00 [1.00, 8.00]   </td><td> 3.00 [1.00, 7.00]   </td><td> 0.055               </td><td>   3.00 [1.00, 6.00] </td><td>   3.00 [1.00, 7.00] </td><td> 0.046               </td></tr>\n",
       "\t<tr><th scope=row>inpatient_num (median [IQR])</th><td> 1.00 [0.00, 2.00]   </td><td> 1.00 [0.00, 2.00]   </td><td> 0.263               </td><td>   1.00 [0.00, 2.00] </td><td>   1.00 [0.00, 2.00] </td><td> 0.011               </td></tr>\n",
       "</tbody>\n",
       "</table>\n"
      ],
      "text/latex": [
       "\\begin{tabular}{r|llllll}\n",
       "  & discontinuation & reinitiation & SMD & discontinuation & reinitiation & SMD\\\\\n",
       "\\hline\n",
       "\tn &   893                 &  4543                 &                       & 4144.24               & 4546.54               &                      \\\\\n",
       "\tage (mean (SD)) & 74.17 (13.16)         & 71.35 (13.31)         &  0.213                &   71.59 (13.77)       &   71.35 (13.23)       &  0.018               \\\\\n",
       "\tfemale = 1 (\\%) &   452 (50.6)          &  2007 (44.2)          &  0.129                &  1949.4 (47.0)        &  2012.1 (44.3)        &  0.056               \\\\\n",
       "\tindex\\_year (\\%) &                       &                       &  0.065                &                       &                       &  0.062               \\\\\n",
       "\t   2007 &   115 (12.9)          &   494 (10.9)          &                       &   514.5 (12.4)        &   496.3 (10.9)        &                      \\\\\n",
       "\t   2008 &   196 (21.9)          &  1019 (22.4)          &                       &   963.4 (23.2)        &  1016.9 (22.4)        &                      \\\\\n",
       "\t   2009 &   242 (27.1)          &  1229 (27.1)          &                       &  1125.0 (27.1)        &  1231.3 (27.1)        &                      \\\\\n",
       "\t   2010 &   217 (24.3)          &  1163 (25.6)          &                       &  1000.2 (24.1)        &  1164.2 (25.6)        &                      \\\\\n",
       "\t   2011 &   123 (13.8)          &   638 (14.0)          &                       &   541.2 (13.1)        &   637.8 (14.0)        &                      \\\\\n",
       "\tduration (median {[}IQR{]}) &  7.00 {[}2.00, 18.00{]}   &  8.00 {[}2.00, 19.00{]}   &  0.061                    &    6.00 {[}2.00, 17.00{]} &    8.00 {[}2.00, 19.00{]} &  0.114                   \\\\\n",
       "\tpotassium\\_cat (\\%) &                       &                       &  0.199                &                       &                       &  0.046               \\\\\n",
       "\t   mild &   668 (74.8)          &  3746 (82.5)          &                       &  3364.4 (81.2)        &  3767.9 (82.9)        &                      \\\\\n",
       "\t   moderate &   152 (17.0)          &   592 (13.0)          &                       &   592.8 (14.3)        &   580.4 (12.8)        &                      \\\\\n",
       "\t   severe &    73 ( 8.2)          &   205 ( 4.5)          &                       &   187.1 ( 4.5)        &   198.2 ( 4.4)        &                      \\\\\n",
       "\tcov\\_diabetes = 1 (\\%) &   274 (30.7)          &  1384 (30.5)          &  0.005                &  1286.7 (31.0)        &  1384.7 (30.5)        &  0.013               \\\\\n",
       "\tcov\\_hypertension = 1 (\\%) &   685 (76.7)          &  3445 (75.8)          &  0.021                &  3126.5 (75.4)        &  3448.6 (75.9)        &  0.010               \\\\\n",
       "\tcov\\_MI = 1 (\\%) &   195 (21.8)          &  1028 (22.6)          &  0.019                &   934.9 (22.6)        &  1033.2 (22.7)        &  0.004               \\\\\n",
       "\tcov\\_CHF = 1 (\\%) &   343 (38.4)          &  1656 (36.5)          &  0.040                &  1473.0 (35.5)        &  1664.8 (36.6)        &  0.022               \\\\\n",
       "\tcov\\_cerebrovascular\\_disease = 1 (\\%) &   192 (21.5)          &   807 (17.8)          &  0.094                &   721.2 (17.4)        &   804.2 (17.7)        &  0.007               \\\\\n",
       "\tcov\\_PVD = 1 (\\%) &   137 (15.3)          &   593 (13.1)          &  0.066                &   580.5 (14.0)        &   602.7 (13.3)        &  0.022               \\\\\n",
       "\tcov\\_cancer = 1 (\\%) &   227 (25.4)          &   828 (18.2)          &  0.175                &   744.8 (18.0)        &   829.8 (18.3)        &  0.007               \\\\\n",
       "\tcov\\_COPD = 1 (\\%) &   197 (22.1)          &   806 (17.7)          &  0.108                &   729.3 (17.6)        &   812.5 (17.9)        &  0.007               \\\\\n",
       "\tcov\\_beta\\_blocker = 1 (\\%) &   494 (55.3)          &  2645 (58.2)          &  0.059                &  2366.3 (57.1)        &  2655.9 (58.4)        &  0.027               \\\\\n",
       "\tcov\\_CCB = 1 (\\%) &   256 (28.7)          &  1149 (25.3)          &  0.076                &  1232.5 (29.7)        &  1153.5 (25.4)        &  0.098               \\\\\n",
       "\tcov\\_diuretic = 1 (\\%) &   418 (46.8)          &  2000 (44.0)          &  0.056                &  1770.2 (42.7)        &  2004.4 (44.1)        &  0.028               \\\\\n",
       "\tcov\\_MRA = 1 (\\%) &   141 (15.8)          &   709 (15.6)          &  0.005                &   583.4 (14.1)        &   711.7 (15.7)        &  0.044               \\\\\n",
       "\tcov\\_SPS = 1 (\\%) &    17 ( 1.9)          &   111 ( 2.4)          &  0.037                &    65.3 ( 1.6)        &   111.7 ( 2.5)        &  0.063               \\\\\n",
       "\tcov\\_statin = 1 (\\%) &   280 (31.4)          &  1882 (41.4)          &  0.210                &  1549.3 (37.4)        &  1889.3 (41.6)        &  0.085               \\\\\n",
       "\tcov\\_antiplatelet\\_agent = 1 (\\%) &   385 (43.1)          &  2033 (44.8)          &  0.033                &  1799.7 (43.4)        &  2047.8 (45.0)        &  0.033               \\\\\n",
       "\tcov\\_egfr\\_cat (\\%) &                       &                       &  0.100                &                       &                       &  0.069               \\\\\n",
       "\t   G1 &   118 (13.2)          &   685 (15.1)          &                       &   657.7 (15.9)        &   692.5 (15.2)        &                      \\\\\n",
       "\t   G2 &   307 (34.4)          &  1643 (36.2)          &                       &  1507.0 (36.4)        &  1637.4 (36.0)        &                      \\\\\n",
       "\t   G3a &   179 (20.0)          &   898 (19.8)          &                       &   853.9 (20.6)        &   885.7 (19.5)        &                      \\\\\n",
       "\t   G3b &   164 (18.4)          &   810 (17.8)          &                       &   648.7 (15.7)        &   824.5 (18.1)        &                      \\\\\n",
       "\t   G4-5 &   125 (14.0)          &   507 (11.2)          &                       &   476.9 (11.5)        &   506.5 (11.1)        &                      \\\\\n",
       "\tprimary\\_care\\_num (median {[}IQR{]}) &  3.00 {[}1.00, 6.00{]}    &  3.00 {[}1.00, 6.00{]}    &  0.046                    &    3.00 {[}1.00, 6.00{]}  &    3.00 {[}1.00, 6.00{]}  &  0.033                   \\\\\n",
       "\tcov\\_hospitalization = 1 (\\%) &    97 (10.9)          &   391 ( 8.6)          &  0.076                &   345.6 ( 8.3)        &   397.9 ( 8.8)        &  0.015               \\\\\n",
       "\toutpatient\\_num (median {[}IQR{]}) &  3.00 {[}1.00, 8.00{]}    &  3.00 {[}1.00, 7.00{]}    &  0.055                    &    3.00 {[}1.00, 6.00{]}  &    3.00 {[}1.00, 7.00{]}  &  0.046                   \\\\\n",
       "\tinpatient\\_num (median {[}IQR{]}) &  1.00 {[}0.00, 2.00{]}    &  1.00 {[}0.00, 2.00{]}    &  0.263                    &    1.00 {[}0.00, 2.00{]}  &    1.00 {[}0.00, 2.00{]}  &  0.011                   \\\\\n",
       "\\end{tabular}\n"
      ],
      "text/markdown": [
       "\n",
       "| <!--/--> | discontinuation | reinitiation | SMD | discontinuation | reinitiation | SMD |\n",
       "|---|---|---|---|---|---|---|\n",
       "| n |   893                 |  4543                 |                       | 4144.24               | 4546.54               |                       |\n",
       "| age (mean (SD)) | 74.17 (13.16)         | 71.35 (13.31)         |  0.213                |   71.59 (13.77)       |   71.35 (13.23)       |  0.018                |\n",
       "| female = 1 (%) |   452 (50.6)          |  2007 (44.2)          |  0.129                |  1949.4 (47.0)        |  2012.1 (44.3)        |  0.056                |\n",
       "| index_year (%) |                       |                       |  0.065                |                       |                       |  0.062                |\n",
       "|    2007 |   115 (12.9)          |   494 (10.9)          |                       |   514.5 (12.4)        |   496.3 (10.9)        |                       |\n",
       "|    2008 |   196 (21.9)          |  1019 (22.4)          |                       |   963.4 (23.2)        |  1016.9 (22.4)        |                       |\n",
       "|    2009 |   242 (27.1)          |  1229 (27.1)          |                       |  1125.0 (27.1)        |  1231.3 (27.1)        |                       |\n",
       "|    2010 |   217 (24.3)          |  1163 (25.6)          |                       |  1000.2 (24.1)        |  1164.2 (25.6)        |                       |\n",
       "|    2011 |   123 (13.8)          |   638 (14.0)          |                       |   541.2 (13.1)        |   637.8 (14.0)        |                       |\n",
       "| duration (median [IQR]) |  7.00 [2.00, 18.00]   |  8.00 [2.00, 19.00]   |  0.061                |    6.00 [2.00, 17.00] |    8.00 [2.00, 19.00] |  0.114                |\n",
       "| potassium_cat (%) |                       |                       |  0.199                |                       |                       |  0.046                |\n",
       "|    mild |   668 (74.8)          |  3746 (82.5)          |                       |  3364.4 (81.2)        |  3767.9 (82.9)        |                       |\n",
       "|    moderate |   152 (17.0)          |   592 (13.0)          |                       |   592.8 (14.3)        |   580.4 (12.8)        |                       |\n",
       "|    severe |    73 ( 8.2)          |   205 ( 4.5)          |                       |   187.1 ( 4.5)        |   198.2 ( 4.4)        |                       |\n",
       "| cov_diabetes = 1 (%) |   274 (30.7)          |  1384 (30.5)          |  0.005                |  1286.7 (31.0)        |  1384.7 (30.5)        |  0.013                |\n",
       "| cov_hypertension = 1 (%) |   685 (76.7)          |  3445 (75.8)          |  0.021                |  3126.5 (75.4)        |  3448.6 (75.9)        |  0.010                |\n",
       "| cov_MI = 1 (%) |   195 (21.8)          |  1028 (22.6)          |  0.019                |   934.9 (22.6)        |  1033.2 (22.7)        |  0.004                |\n",
       "| cov_CHF = 1 (%) |   343 (38.4)          |  1656 (36.5)          |  0.040                |  1473.0 (35.5)        |  1664.8 (36.6)        |  0.022                |\n",
       "| cov_cerebrovascular_disease = 1 (%) |   192 (21.5)          |   807 (17.8)          |  0.094                |   721.2 (17.4)        |   804.2 (17.7)        |  0.007                |\n",
       "| cov_PVD = 1 (%) |   137 (15.3)          |   593 (13.1)          |  0.066                |   580.5 (14.0)        |   602.7 (13.3)        |  0.022                |\n",
       "| cov_cancer = 1 (%) |   227 (25.4)          |   828 (18.2)          |  0.175                |   744.8 (18.0)        |   829.8 (18.3)        |  0.007                |\n",
       "| cov_COPD = 1 (%) |   197 (22.1)          |   806 (17.7)          |  0.108                |   729.3 (17.6)        |   812.5 (17.9)        |  0.007                |\n",
       "| cov_beta_blocker = 1 (%) |   494 (55.3)          |  2645 (58.2)          |  0.059                |  2366.3 (57.1)        |  2655.9 (58.4)        |  0.027                |\n",
       "| cov_CCB = 1 (%) |   256 (28.7)          |  1149 (25.3)          |  0.076                |  1232.5 (29.7)        |  1153.5 (25.4)        |  0.098                |\n",
       "| cov_diuretic = 1 (%) |   418 (46.8)          |  2000 (44.0)          |  0.056                |  1770.2 (42.7)        |  2004.4 (44.1)        |  0.028                |\n",
       "| cov_MRA = 1 (%) |   141 (15.8)          |   709 (15.6)          |  0.005                |   583.4 (14.1)        |   711.7 (15.7)        |  0.044                |\n",
       "| cov_SPS = 1 (%) |    17 ( 1.9)          |   111 ( 2.4)          |  0.037                |    65.3 ( 1.6)        |   111.7 ( 2.5)        |  0.063                |\n",
       "| cov_statin = 1 (%) |   280 (31.4)          |  1882 (41.4)          |  0.210                |  1549.3 (37.4)        |  1889.3 (41.6)        |  0.085                |\n",
       "| cov_antiplatelet_agent = 1 (%) |   385 (43.1)          |  2033 (44.8)          |  0.033                |  1799.7 (43.4)        |  2047.8 (45.0)        |  0.033                |\n",
       "| cov_egfr_cat (%) |                       |                       |  0.100                |                       |                       |  0.069                |\n",
       "|    G1 |   118 (13.2)          |   685 (15.1)          |                       |   657.7 (15.9)        |   692.5 (15.2)        |                       |\n",
       "|    G2 |   307 (34.4)          |  1643 (36.2)          |                       |  1507.0 (36.4)        |  1637.4 (36.0)        |                       |\n",
       "|    G3a |   179 (20.0)          |   898 (19.8)          |                       |   853.9 (20.6)        |   885.7 (19.5)        |                       |\n",
       "|    G3b |   164 (18.4)          |   810 (17.8)          |                       |   648.7 (15.7)        |   824.5 (18.1)        |                       |\n",
       "|    G4-5 |   125 (14.0)          |   507 (11.2)          |                       |   476.9 (11.5)        |   506.5 (11.1)        |                       |\n",
       "| primary_care_num (median [IQR]) |  3.00 [1.00, 6.00]    |  3.00 [1.00, 6.00]    |  0.046                |    3.00 [1.00, 6.00]  |    3.00 [1.00, 6.00]  |  0.033                |\n",
       "| cov_hospitalization = 1 (%) |    97 (10.9)          |   391 ( 8.6)          |  0.076                |   345.6 ( 8.3)        |   397.9 ( 8.8)        |  0.015                |\n",
       "| outpatient_num (median [IQR]) |  3.00 [1.00, 8.00]    |  3.00 [1.00, 7.00]    |  0.055                |    3.00 [1.00, 6.00]  |    3.00 [1.00, 7.00]  |  0.046                |\n",
       "| inpatient_num (median [IQR]) |  1.00 [0.00, 2.00]    |  1.00 [0.00, 2.00]    |  0.263                |    1.00 [0.00, 2.00]  |    1.00 [0.00, 2.00]  |  0.011                |\n",
       "\n"
      ],
      "text/plain": [
       "                                    discontinuation     reinitiation       \n",
       "n                                     893                4543              \n",
       "age (mean (SD))                     74.17 (13.16)       71.35 (13.31)      \n",
       "female = 1 (%)                        452 (50.6)         2007 (44.2)       \n",
       "index_year (%)                                                             \n",
       "   2007                               115 (12.9)          494 (10.9)       \n",
       "   2008                               196 (21.9)         1019 (22.4)       \n",
       "   2009                               242 (27.1)         1229 (27.1)       \n",
       "   2010                               217 (24.3)         1163 (25.6)       \n",
       "   2011                               123 (13.8)          638 (14.0)       \n",
       "duration (median [IQR])              7.00 [2.00, 18.00]  8.00 [2.00, 19.00]\n",
       "potassium_cat (%)                                                          \n",
       "   mild                               668 (74.8)         3746 (82.5)       \n",
       "   moderate                           152 (17.0)          592 (13.0)       \n",
       "   severe                              73 ( 8.2)          205 ( 4.5)       \n",
       "cov_diabetes = 1 (%)                  274 (30.7)         1384 (30.5)       \n",
       "cov_hypertension = 1 (%)              685 (76.7)         3445 (75.8)       \n",
       "cov_MI = 1 (%)                        195 (21.8)         1028 (22.6)       \n",
       "cov_CHF = 1 (%)                       343 (38.4)         1656 (36.5)       \n",
       "cov_cerebrovascular_disease = 1 (%)   192 (21.5)          807 (17.8)       \n",
       "cov_PVD = 1 (%)                       137 (15.3)          593 (13.1)       \n",
       "cov_cancer = 1 (%)                    227 (25.4)          828 (18.2)       \n",
       "cov_COPD = 1 (%)                      197 (22.1)          806 (17.7)       \n",
       "cov_beta_blocker = 1 (%)              494 (55.3)         2645 (58.2)       \n",
       "cov_CCB = 1 (%)                       256 (28.7)         1149 (25.3)       \n",
       "cov_diuretic = 1 (%)                  418 (46.8)         2000 (44.0)       \n",
       "cov_MRA = 1 (%)                       141 (15.8)          709 (15.6)       \n",
       "cov_SPS = 1 (%)                        17 ( 1.9)          111 ( 2.4)       \n",
       "cov_statin = 1 (%)                    280 (31.4)         1882 (41.4)       \n",
       "cov_antiplatelet_agent = 1 (%)        385 (43.1)         2033 (44.8)       \n",
       "cov_egfr_cat (%)                                                           \n",
       "   G1                                 118 (13.2)          685 (15.1)       \n",
       "   G2                                 307 (34.4)         1643 (36.2)       \n",
       "   G3a                                179 (20.0)          898 (19.8)       \n",
       "   G3b                                164 (18.4)          810 (17.8)       \n",
       "   G4-5                               125 (14.0)          507 (11.2)       \n",
       "primary_care_num (median [IQR])      3.00 [1.00, 6.00]   3.00 [1.00, 6.00] \n",
       "cov_hospitalization = 1 (%)            97 (10.9)          391 ( 8.6)       \n",
       "outpatient_num (median [IQR])        3.00 [1.00, 8.00]   3.00 [1.00, 7.00] \n",
       "inpatient_num (median [IQR])         1.00 [0.00, 2.00]   1.00 [0.00, 2.00] \n",
       "                                    SMD    discontinuation      \n",
       "n                                          4144.24              \n",
       "age (mean (SD))                      0.213   71.59 (13.77)      \n",
       "female = 1 (%)                       0.129  1949.4 (47.0)       \n",
       "index_year (%)                       0.065                      \n",
       "   2007                                      514.5 (12.4)       \n",
       "   2008                                      963.4 (23.2)       \n",
       "   2009                                     1125.0 (27.1)       \n",
       "   2010                                     1000.2 (24.1)       \n",
       "   2011                                      541.2 (13.1)       \n",
       "duration (median [IQR])              0.061    6.00 [2.00, 17.00]\n",
       "potassium_cat (%)                    0.199                      \n",
       "   mild                                     3364.4 (81.2)       \n",
       "   moderate                                  592.8 (14.3)       \n",
       "   severe                                    187.1 ( 4.5)       \n",
       "cov_diabetes = 1 (%)                 0.005  1286.7 (31.0)       \n",
       "cov_hypertension = 1 (%)             0.021  3126.5 (75.4)       \n",
       "cov_MI = 1 (%)                       0.019   934.9 (22.6)       \n",
       "cov_CHF = 1 (%)                      0.040  1473.0 (35.5)       \n",
       "cov_cerebrovascular_disease = 1 (%)  0.094   721.2 (17.4)       \n",
       "cov_PVD = 1 (%)                      0.066   580.5 (14.0)       \n",
       "cov_cancer = 1 (%)                   0.175   744.8 (18.0)       \n",
       "cov_COPD = 1 (%)                     0.108   729.3 (17.6)       \n",
       "cov_beta_blocker = 1 (%)             0.059  2366.3 (57.1)       \n",
       "cov_CCB = 1 (%)                      0.076  1232.5 (29.7)       \n",
       "cov_diuretic = 1 (%)                 0.056  1770.2 (42.7)       \n",
       "cov_MRA = 1 (%)                      0.005   583.4 (14.1)       \n",
       "cov_SPS = 1 (%)                      0.037    65.3 ( 1.6)       \n",
       "cov_statin = 1 (%)                   0.210  1549.3 (37.4)       \n",
       "cov_antiplatelet_agent = 1 (%)       0.033  1799.7 (43.4)       \n",
       "cov_egfr_cat (%)                     0.100                      \n",
       "   G1                                        657.7 (15.9)       \n",
       "   G2                                       1507.0 (36.4)       \n",
       "   G3a                                       853.9 (20.6)       \n",
       "   G3b                                       648.7 (15.7)       \n",
       "   G4-5                                      476.9 (11.5)       \n",
       "primary_care_num (median [IQR])      0.046    3.00 [1.00, 6.00] \n",
       "cov_hospitalization = 1 (%)          0.076   345.6 ( 8.3)       \n",
       "outpatient_num (median [IQR])        0.055    3.00 [1.00, 6.00] \n",
       "inpatient_num (median [IQR])         0.263    1.00 [0.00, 2.00] \n",
       "                                    reinitiation          SMD   \n",
       "n                                   4546.54                     \n",
       "age (mean (SD))                       71.35 (13.23)        0.018\n",
       "female = 1 (%)                       2012.1 (44.3)         0.056\n",
       "index_year (%)                                             0.062\n",
       "   2007                               496.3 (10.9)              \n",
       "   2008                              1016.9 (22.4)              \n",
       "   2009                              1231.3 (27.1)              \n",
       "   2010                              1164.2 (25.6)              \n",
       "   2011                               637.8 (14.0)              \n",
       "duration (median [IQR])                8.00 [2.00, 19.00]  0.114\n",
       "potassium_cat (%)                                          0.046\n",
       "   mild                              3767.9 (82.9)              \n",
       "   moderate                           580.4 (12.8)              \n",
       "   severe                             198.2 ( 4.4)              \n",
       "cov_diabetes = 1 (%)                 1384.7 (30.5)         0.013\n",
       "cov_hypertension = 1 (%)             3448.6 (75.9)         0.010\n",
       "cov_MI = 1 (%)                       1033.2 (22.7)         0.004\n",
       "cov_CHF = 1 (%)                      1664.8 (36.6)         0.022\n",
       "cov_cerebrovascular_disease = 1 (%)   804.2 (17.7)         0.007\n",
       "cov_PVD = 1 (%)                       602.7 (13.3)         0.022\n",
       "cov_cancer = 1 (%)                    829.8 (18.3)         0.007\n",
       "cov_COPD = 1 (%)                      812.5 (17.9)         0.007\n",
       "cov_beta_blocker = 1 (%)             2655.9 (58.4)         0.027\n",
       "cov_CCB = 1 (%)                      1153.5 (25.4)         0.098\n",
       "cov_diuretic = 1 (%)                 2004.4 (44.1)         0.028\n",
       "cov_MRA = 1 (%)                       711.7 (15.7)         0.044\n",
       "cov_SPS = 1 (%)                       111.7 ( 2.5)         0.063\n",
       "cov_statin = 1 (%)                   1889.3 (41.6)         0.085\n",
       "cov_antiplatelet_agent = 1 (%)       2047.8 (45.0)         0.033\n",
       "cov_egfr_cat (%)                                           0.069\n",
       "   G1                                 692.5 (15.2)              \n",
       "   G2                                1637.4 (36.0)              \n",
       "   G3a                                885.7 (19.5)              \n",
       "   G3b                                824.5 (18.1)              \n",
       "   G4-5                               506.5 (11.1)              \n",
       "primary_care_num (median [IQR])        3.00 [1.00, 6.00]   0.033\n",
       "cov_hospitalization = 1 (%)           397.9 ( 8.8)         0.015\n",
       "outpatient_num (median [IQR])          3.00 [1.00, 7.00]   0.046\n",
       "inpatient_num (median [IQR])           1.00 [0.00, 2.00]   0.011"
      ]
     },
     "metadata": {},
     "output_type": "display_data"
    }
   ],
   "source": [
    "tb1"
   ]
  },
  {
   "cell_type": "code",
   "execution_count": 33,
   "metadata": {},
   "outputs": [
    {
     "name": "stderr",
     "output_type": "stream",
     "text": [
      "`summarise()` ungrouping output (override with `.groups` argument)\n",
      "`summarise()` ungrouping output (override with `.groups` argument)\n"
     ]
    },
    {
     "data": {
      "text/html": [
       "<table>\n",
       "<thead><tr><th scope=col>X</th><th scope=col>n</th><th scope=col>weighted_followup</th><th scope=col>weighted_event</th><th scope=col>weighted_person_years</th></tr></thead>\n",
       "<tbody>\n",
       "\t<tr><td>discontinuation </td><td>5669            </td><td>0.14 [0-0.48]   </td><td>378             </td><td>8980.14         </td></tr>\n",
       "\t<tr><td>reinitiation    </td><td>5669            </td><td>1.33 [0.41-2.85]</td><td>390             </td><td>9995.65         </td></tr>\n",
       "</tbody>\n",
       "</table>\n"
      ],
      "text/latex": [
       "\\begin{tabular}{r|lllll}\n",
       " X & n & weighted\\_followup & weighted\\_event & weighted\\_person\\_years\\\\\n",
       "\\hline\n",
       "\t discontinuation      & 5669                 & 0.14 {[}0-0.48{]}    & 378                  & 8980.14             \\\\\n",
       "\t reinitiation         & 5669                 & 1.33 {[}0.41-2.85{]} & 390                  & 9995.65             \\\\\n",
       "\\end{tabular}\n"
      ],
      "text/markdown": [
       "\n",
       "| X | n | weighted_followup | weighted_event | weighted_person_years |\n",
       "|---|---|---|---|---|\n",
       "| discontinuation  | 5669             | 0.14 [0-0.48]    | 378              | 8980.14          |\n",
       "| reinitiation     | 5669             | 1.33 [0.41-2.85] | 390              | 9995.65          |\n",
       "\n"
      ],
      "text/plain": [
       "  X               n    weighted_followup weighted_event weighted_person_years\n",
       "1 discontinuation 5669 0.14 [0-0.48]     378            8980.14              \n",
       "2 reinitiation    5669 1.33 [0.41-2.85]  390            9995.65              "
      ]
     },
     "metadata": {},
     "output_type": "display_data"
    }
   ],
   "source": [
    "incid_num_weighted <- function(data = dta_clone_cataract_imp1, weights = 'ipw_uns_trunc') {\n",
    "    dta <- data %>% mutate(weights = data[[weights]]) %>% \n",
    "        arrange(ID, index_date) %>% \n",
    "        group_by(ID) %>% \n",
    "        summarise(tstart = as.Date('1970-01-01'), \n",
    "                  tstop = as.Date('1970-01-01') + sum(weights) * 30, \n",
    "                  outcome_cataract = sum(outcome_cataract * weights), \n",
    "                  X = first(X)) %>% \n",
    "        ungroup() %>% \n",
    "        group_by(X) %>% \n",
    "        summarise(n = length(ID), \n",
    "                  median.followup = round(median(time_length(difftime(tstop, tstart), 'year')), 2), \n",
    "                  q25.followup = round(quantile(time_length(difftime(tstop, tstart), 'year'), 0.25), 2), \n",
    "                  q75.followup = round(quantile(time_length(difftime(tstop, tstart), 'year'), 0.75), 2), \n",
    "                  weighted_followup = paste0(median.followup, \" [\", q25.followup, \"-\", q75.followup, \"]\"), \n",
    "                  weighted_event = round(sum(outcome_cataract), 0), \n",
    "                  weighted_person_years = round(sum(time_length(difftime(tstop, tstart), 'year')), 2)) %>% \n",
    "        dplyr::select(c('X', 'n', 'weighted_followup', 'weighted_event', 'weighted_person_years'))\n",
    "    return(dta)\n",
    "} \n",
    "incid_num_weighted()"
   ]
  },
  {
   "cell_type": "markdown",
   "metadata": {},
   "source": [
    "## causal effect estimation"
   ]
  },
  {
   "cell_type": "code",
   "execution_count": 34,
   "metadata": {},
   "outputs": [],
   "source": [
    "dta_clone_cataract_imp1 <- dta_clone_cataract_imp1 %>% mutate(X = ifelse(X == 'reinitiation', 0, 1))"
   ]
  },
  {
   "cell_type": "code",
   "execution_count": 35,
   "metadata": {},
   "outputs": [],
   "source": [
    "causal_effect_estimation <- function(data = dta_clone_cataract_imp1, weights = 'ipw', \n",
    "                                     xvar = c('age', 'female', 'index_year', 'duration', 'potassium_value',\n",
    "                                              'primary_care_num', 'outpatient_num', 'inpatient_num', \n",
    "                                              'cov_diabetes_t0', 'cov_hypertension_t0', \n",
    "                                              'cov_MI_t0', 'cov_CHF_t0', 'cov_cerebrovascular_disease_t0', 'cov_PVD_t0', \n",
    "                                              'cov_cancer_t0', 'cov_COPD_t0', \n",
    "                                              'cov_beta_blocker_t0', 'cov_CCB_t0', 'cov_diuretic_t0', 'cov_MRA_t0', 'cov_SPS_t0', \n",
    "                                              'cov_statin_t0', \n",
    "                                              'cov_antiplatelet_agent_t0', \n",
    "                                              'cov_egfr_t0', \n",
    "                                              'cov_hospitalization_t0')) {\n",
    "    regression_formula <- as.formula(ifelse(length(xvar) == 0, 'outcome_cataract ~ X + rms::rcs(rank, 3)', \n",
    "                                            paste('outcome_cataract ~ X + rms::rcs(rank, 3) +', \n",
    "                                                  paste(xvar, collapse = ' + '), sep = ' ')))\n",
    "    regression_formula_int <- as.formula(ifelse(length(xvar) == 0, 'outcome_cataract ~ X * rms::rcs(rank, 3)', \n",
    "                                                paste('outcome_cataract ~ X * rms::rcs(rank, 3) +', \n",
    "                                                      paste(xvar, collapse = ' + '), sep = ' ')))\n",
    "    cataract.logistic.adjusted <- parglm(regression_formula, \n",
    "                                      weights = data[[weights]], \n",
    "                                      data = data, \n",
    "                                      family = binomial(link = \"logit\"), \n",
    "                                      control = parglm.control(nthreads = 6))\n",
    "    cataract.logistic.adjusted_int <- parglm(regression_formula_int, \n",
    "                                          weights = data[[weights]], \n",
    "                                          data = data, \n",
    "                                          family = binomial(link = \"logit\"), \n",
    "                                          control = parglm.control(nthreads = 6)) \n",
    "    cataract.res.adjusted <- summary(cataract.logistic.adjusted)\n",
    "    n_month = 60 \n",
    "    cataract_risk_summary_discontinuation <- data %>% \n",
    "        filter(rank == 1) %>% \n",
    "        mutate(X = 1) %>% \n",
    "        dplyr::select(c('ID', 'X', 'rank', xvar)) %>% \n",
    "        slice(rep(row_number(), n_month)) %>% \n",
    "        arrange(ID) %>% \n",
    "        group_by(ID) %>% \n",
    "        mutate(rank = cumsum(rank)) %>% \n",
    "        ungroup()\n",
    "    cataract_risk_summary_discontinuation$p_cataract = predict(cataract.logistic.adjusted_int, \n",
    "                                                         cataract_risk_summary_discontinuation, \n",
    "                                                         type = 'response')\n",
    "    cataract_risk_summary_discontinuation <- cataract_risk_summary_discontinuation %>%\n",
    "        mutate(p_surv = 1 - p_cataract) %>% \n",
    "        group_by(ID) %>% \n",
    "        mutate(p_cumsurv = cumprod(p_surv), \n",
    "               p_cumcataract = 1 - p_cumsurv) %>% \n",
    "        ungroup() %>% \n",
    "        group_by(rank) %>% \n",
    "        summarise(p_cumsurv = mean(p_cumsurv), \n",
    "                  p_cumcataract = mean(p_cumcataract)) %>% \n",
    "        mutate(X = 'discontinuation')\n",
    "    cataract_risk_summary_reinitiation <- data %>% \n",
    "        filter(rank == 1) %>% \n",
    "        mutate(X = 0) %>% \n",
    "        dplyr::select(c('ID', 'X', 'rank', xvar)) %>% \n",
    "        slice(rep(row_number(), n_month)) %>% \n",
    "        arrange(ID) %>% \n",
    "        group_by(ID) %>% \n",
    "        mutate(rank = cumsum(rank)) %>% \n",
    "        ungroup()\n",
    "    cataract_risk_summary_reinitiation$p_cataract = predict(cataract.logistic.adjusted_int, \n",
    "                                                      cataract_risk_summary_reinitiation, \n",
    "                                                      type = 'response')\n",
    "    cataract_risk_summary_reinitiation <- cataract_risk_summary_reinitiation %>%\n",
    "        mutate(p_surv = 1 - p_cataract) %>% \n",
    "        group_by(ID) %>% \n",
    "        mutate(p_cumsurv = cumprod(p_surv), \n",
    "               p_cumcataract = 1 - p_cumsurv) %>% \n",
    "        ungroup() %>% \n",
    "        group_by(rank) %>% \n",
    "        summarise(p_cumsurv = mean(p_cumsurv), \n",
    "                  p_cumcataract = mean(p_cumcataract)) %>% \n",
    "        mutate(X = 'reinitiation')\n",
    "    cataract_risk_summary <- rbind(cataract_risk_summary_discontinuation, cataract_risk_summary_reinitiation)\n",
    "    risk_discontinuation_3_y <- cataract_risk_summary_discontinuation %>% \n",
    "        filter(rank == 36) %>% \n",
    "        dplyr::select(p_cumcataract) %>% as.numeric()\n",
    "    risk_reinitiation_3_y <- cataract_risk_summary_reinitiation %>% \n",
    "        filter(rank == 36) %>% \n",
    "        dplyr::select(p_cumcataract) %>% as.numeric()\n",
    "    RD <- (risk_discontinuation_3_y - risk_reinitiation_3_y) * 100\n",
    "    RR <- (risk_discontinuation_3_y / risk_reinitiation_3_y)\n",
    "    risk_res <- round(c(risk_discontinuation_3_y * 100, risk_reinitiation_3_y * 100, RD, RR, \n",
    "                        exp(cataract.res.adjusted$coefficients[2, 1])), 2)\n",
    "    names(risk_res) <- c('3 year risk for discontinuation (%)', \n",
    "                         '3 year risk for reinitiation (%)', \n",
    "                         'risk difference (%)', \n",
    "                         'risk ratio', \n",
    "                         'hazard ratio')\n",
    "    risk_res <- risk_res %>% t()\n",
    "    risk_res <- list(risk_res, cataract_risk_summary)\n",
    "    return(risk_res)\n",
    "}"
   ]
  },
  {
   "cell_type": "code",
   "execution_count": 36,
   "metadata": {},
   "outputs": [
    {
     "name": "stderr",
     "output_type": "stream",
     "text": [
      "Note: Using an external vector in selections is ambiguous.\n",
      "i Use `all_of(xvar)` instead of `xvar` to silence this message.\n",
      "i See <https://tidyselect.r-lib.org/reference/faq-external-vector.html>.\n",
      "This message is displayed once per session.\n",
      "`summarise()` ungrouping output (override with `.groups` argument)\n",
      "`summarise()` ungrouping output (override with `.groups` argument)\n"
     ]
    }
   ],
   "source": [
    "main_res = causal_effect_estimation(data = dta_clone_cataract_imp1, weights = 'ipw_uns_trunc', \n",
    "                                    xvar = c('duration'))\n",
    "main_point_estimation <- main_res[[1]]\n",
    "main_cum_incidence <- main_res[[2]]"
   ]
  },
  {
   "cell_type": "code",
   "execution_count": 37,
   "metadata": {},
   "outputs": [
    {
     "data": {
      "text/html": [
       "<table>\n",
       "<thead><tr><th scope=col>3 year risk for discontinuation (%)</th><th scope=col>3 year risk for reinitiation (%)</th><th scope=col>risk difference (%)</th><th scope=col>risk ratio</th><th scope=col>hazard ratio</th></tr></thead>\n",
       "<tbody>\n",
       "\t<tr><td>9.88</td><td>9.1 </td><td>0.79</td><td>1.09</td><td>1.08</td></tr>\n",
       "</tbody>\n",
       "</table>\n"
      ],
      "text/latex": [
       "\\begin{tabular}{lllll}\n",
       " 3 year risk for discontinuation (\\%) & 3 year risk for reinitiation (\\%) & risk difference (\\%) & risk ratio & hazard ratio\\\\\n",
       "\\hline\n",
       "\t 9.88 & 9.1  & 0.79 & 1.09 & 1.08\\\\\n",
       "\\end{tabular}\n"
      ],
      "text/markdown": [
       "\n",
       "| 3 year risk for discontinuation (%) | 3 year risk for reinitiation (%) | risk difference (%) | risk ratio | hazard ratio |\n",
       "|---|---|---|---|---|\n",
       "| 9.88 | 9.1  | 0.79 | 1.09 | 1.08 |\n",
       "\n"
      ],
      "text/plain": [
       "     3 year risk for discontinuation (%) 3 year risk for reinitiation (%)\n",
       "[1,] 9.88                                9.1                             \n",
       "     risk difference (%) risk ratio hazard ratio\n",
       "[1,] 0.79                1.09       1.08        "
      ]
     },
     "metadata": {},
     "output_type": "display_data"
    }
   ],
   "source": [
    "main_point_estimation"
   ]
  },
  {
   "cell_type": "code",
   "execution_count": 35,
   "metadata": {},
   "outputs": [],
   "source": [
    "data_sample_generation <- function(k = 1, data = dta_clone_cataract_imp1) {\n",
    "    set.seed(k)\n",
    "    data_discontinuation <- data %>% filter(X == 1)\n",
    "    ID_random_sample_discontinuation <- sample(unique(data_discontinuation$ID), \n",
    "                                               size = length(unique(data_discontinuation$ID)), \n",
    "                                               replace = T) \n",
    "    ID_random_sample_reinitiation <- ID_random_sample_discontinuation + length(ID_random_sample_discontinuation)\n",
    "    ID_random_sample <- c(ID_random_sample_discontinuation, ID_random_sample_reinitiation)\n",
    "    sub_data <- function(i, j = 1) {\n",
    "        dta <- data %>% filter(ID == i) %>% mutate(ID = j) %>% data.frame()\n",
    "        return(dta)\n",
    "    }\n",
    "    dataset_random_sample <- rbindlist(mapply(sub_data, ID_random_sample,  1 : length(ID_random_sample), SIMPLIFY = F))\n",
    "    return(dataset_random_sample)\n",
    "}"
   ]
  },
  {
   "cell_type": "code",
   "execution_count": 36,
   "metadata": {},
   "outputs": [],
   "source": [
    "bootstrap_sub <- function (data = dta_clone_cataract_imp1, weights = 'ipw_uns_trunc', \n",
    "    xvar_boot = c('duration'), k = 1) {\n",
    "    no_of_sample = 50\n",
    "    CI_res_sub <- mclapply ((1 + (k - 1) * no_of_sample) : (k * no_of_sample), function(j) {\n",
    "        dataset_random_sample <- data_sample_generation(j, data = data)\n",
    "        Sys.sleep((j - (k - 1) * no_of_sample) * 5)\n",
    "        causal_effect_estimation(data = dataset_random_sample, weights = weights, \n",
    "                                 xvar = xvar_boot)}, mc.cores = 50)   \n",
    "    CI_res_sub <- foreach (i = 1 : no_of_sample, .combine = c) %do% {\n",
    "        CI_res_sub[[i]]\n",
    "    }\n",
    "    return(CI_res_sub)\n",
    "}"
   ]
  },
  {
   "cell_type": "code",
   "execution_count": 37,
   "metadata": {},
   "outputs": [],
   "source": [
    "CI_res <- foreach (i = 1 : 10, .combine = c) %do% {\n",
    "    bootstrap_sub(k = i)\n",
    "}"
   ]
  },
  {
   "cell_type": "raw",
   "metadata": {},
   "source": [
    "## bootstrap on 500 sample\n",
    "no_of_sample = 4\n",
    "cl <- parallel::makeCluster(4, type = \"SOCK\")\n",
    "##clusterEvalQ(cl = cl, {\n",
    "##    library(dplyr)\n",
    "##    library(data.table)\n",
    "##})\n",
    "registerDoParallel(cl)\n",
    "CI_res <- mcapply (j = 1 : no_of_sample, .combine = c, .packages = c(\"data.table\", \"dplyr\", 'parglm')) %dopar% {\n",
    "    dataset_random_sample <- data_sample_generation(j)\n",
    "    causal_effect_estimation(data = dataset_random_sample, weights = 'ipw_uns_trunc', \n",
    "                             xvar = c('duration', \n",
    "                                      'cov_diabetes_t0', 'cov_hypertension_t0', \n",
    "                                      'cov_MI_t0', 'cov_CHF_t0', 'cov_cerebrovascular_disease_t0', 'cov_PVD_t0', \n",
    "                                      'cov_cancer_t0', 'cov_COPD_t0', \n",
    "                                      'cov_beta_blocker_t0', 'cov_CCB_t0', 'cov_diuretic_t0', 'cov_MRA_t0', 'cov_SPS_t0', \n",
    "                                      'cov_statin_t0', \n",
    "                                      'cov_antiplatelet_agent_t0', \n",
    "                                      'cov_egfr_t0', \n",
    "                                      'primary_care_num_t0', 'outpatient_num_t0', 'inpatient_num_t0'))\n",
    "}\n",
    "stopCluster(cl)"
   ]
  },
  {
   "cell_type": "code",
   "execution_count": 38,
   "metadata": {},
   "outputs": [
    {
     "data": {
      "text/html": [
       "<table>\n",
       "<caption>A matrix: 1 × 5 of type chr</caption>\n",
       "<thead>\n",
       "\t<tr><th scope=col>3 year risk for discontinuation (%)</th><th scope=col>3 year risk for reinitiation (%)</th><th scope=col>risk difference (%)</th><th scope=col>risk ratio</th><th scope=col>hazard ratio</th></tr>\n",
       "</thead>\n",
       "<tbody>\n",
       "\t<tr><td>25.79 (21.87-30.23)</td><td>17.27 (15.72-18.96)</td><td>8.52 (4.43-13.17)</td><td>1.49 (1.25-1.81)</td><td>1.49 (1.32-1.72)</td></tr>\n",
       "</tbody>\n",
       "</table>\n"
      ],
      "text/latex": [
       "A matrix: 1 × 5 of type chr\n",
       "\\begin{tabular}{lllll}\n",
       " 3 year risk for discontinuation (\\%) & 3 year risk for reinitiation (\\%) & risk difference (\\%) & risk ratio & hazard ratio\\\\\n",
       "\\hline\n",
       "\t 25.79 (21.87-30.23) & 17.27 (15.72-18.96) & 8.52 (4.43-13.17) & 1.49 (1.25-1.81) & 1.49 (1.32-1.72)\\\\\n",
       "\\end{tabular}\n"
      ],
      "text/markdown": [
       "\n",
       "A matrix: 1 × 5 of type chr\n",
       "\n",
       "| 3 year risk for discontinuation (%) | 3 year risk for reinitiation (%) | risk difference (%) | risk ratio | hazard ratio |\n",
       "|---|---|---|---|---|\n",
       "| 25.79 (21.87-30.23) | 17.27 (15.72-18.96) | 8.52 (4.43-13.17) | 1.49 (1.25-1.81) | 1.49 (1.32-1.72) |\n",
       "\n"
      ],
      "text/plain": [
       "     3 year risk for discontinuation (%) 3 year risk for reinitiation (%)\n",
       "[1,] 25.79 (21.87-30.23)                 17.27 (15.72-18.96)             \n",
       "     risk difference (%) risk ratio       hazard ratio    \n",
       "[1,] 8.52 (4.43-13.17)   1.49 (1.25-1.81) 1.49 (1.32-1.72)"
      ]
     },
     "metadata": {},
     "output_type": "display_data"
    }
   ],
   "source": [
    "no_of_sample = 500\n",
    "CI_point_estimation <- foreach (i = seq(1, 2 * no_of_sample, 2), .combine = rbind) %do% {\n",
    "    CI_res[[i]]\n",
    "}\n",
    "CI_point_estimation <- CI_point_estimation %>% data.frame()\n",
    "colnames(CI_point_estimation) <- c('risk_dis', 'risk_re', 'RD', 'RR', 'HR')\n",
    "CI_point_estimation <- CI_point_estimation %>% \n",
    "    summarise(lci_risk_dis = quantile(risk_dis, 0.025), \n",
    "              uci_risk_dis = quantile(risk_dis, 0.975), \n",
    "              lci_risk_re = quantile(risk_re, 0.025), \n",
    "              uci_risk_re = quantile(risk_re, 0.975), \n",
    "              lci_RD = quantile(RD, 0.025), \n",
    "              uci_RD = quantile(RD, 0.975), \n",
    "              lci_RR = quantile(RR, 0.025), \n",
    "              uci_RR = quantile(RR, 0.975), \n",
    "              lci_HR = quantile(HR, 0.025), \n",
    "              uci_HR = quantile(HR, 0.975))\n",
    "CI_point_estimation <- round(matrix(as.numeric(CI_point_estimation), nrow = 5, ncol = 2, byrow = T), 2)\n",
    "causal_effect_point_estimation <- paste(t(main_point_estimation), \n",
    "                                        ' (', CI_point_estimation[ , 1], '-', \n",
    "                                        CI_point_estimation[ , 2], ')', sep = '')\n",
    "names(causal_effect_point_estimation) <- colnames(main_point_estimation)\n",
    "main_res <- t(causal_effect_point_estimation)\n",
    "main_res"
   ]
  },
  {
   "cell_type": "code",
   "execution_count": 39,
   "metadata": {},
   "outputs": [],
   "source": [
    "CI_cum_incidence <- foreach (i = seq(2, 2 * no_of_sample, 2), .combine = cbind) %do% {\n",
    "    CI_res[[i]]\n",
    "}\n",
    "CI_cum_incidence <- CI_cum_incidence[ , c(c(1, 4), seq(3, no_of_sample * 4, 4))]"
   ]
  },
  {
   "cell_type": "code",
   "execution_count": 40,
   "metadata": {},
   "outputs": [
    {
     "name": "stderr",
     "output_type": "stream",
     "text": [
      "`summarise()` regrouping output by 'rank' (override with `.groups` argument)\n",
      "\n"
     ]
    }
   ],
   "source": [
    "CI_cum_incidence <- CI_cum_incidence %>% \n",
    "    gather(i, p_cumcataract, p_cumcataract : p_cumcataract.499, factor_key = TRUE) %>% ## Note!!!!\n",
    "    arrange(rank, X) %>% \n",
    "    group_by(rank, X) %>% \n",
    "    summarise(lci_p_cumcataract = quantile(p_cumcataract, 0.025), \n",
    "              uci_p_cumcataract = quantile(p_cumcataract, 0.975))"
   ]
  },
  {
   "cell_type": "code",
   "execution_count": 41,
   "metadata": {},
   "outputs": [],
   "source": [
    "main_cum_incidence <- rbind(data.frame(rank = 0, p_cumsurv = 1, p_cumcataract = 0, X = 'discontinuation'), \n",
    "                            data.frame(rank = 0, p_cumsurv = 1, p_cumcataract = 0, X = 'reinitiation'), \n",
    "                            data.frame(main_cum_incidence))"
   ]
  },
  {
   "cell_type": "code",
   "execution_count": 42,
   "metadata": {},
   "outputs": [],
   "source": [
    "CI_cum_incidence <- rbind(data.frame(rank = 0, X = 'discontinuation', lci_p_cumcataract = 0, uci_p_cumcataract = 0), \n",
    "                          data.frame(rank = 0, X = 'reinitiation', lci_p_cumcataract = 0, uci_p_cumcataract = 0), \n",
    "                          data.frame(CI_cum_incidence))"
   ]
  },
  {
   "cell_type": "code",
   "execution_count": 45,
   "metadata": {},
   "outputs": [
    {
     "data": {
      "image/png": "[encoded data removed]",
      "text/plain": [
       "plot without title"
      ]
     },
     "metadata": {
      "image/png": {
       "height": 420,
       "width": 420
      }
     },
     "output_type": "display_data"
    }
   ],
   "source": [
    "ggplot(data = main_cum_incidence, aes(x = rank, y = p_cumcataract, group = X, colour = X)) + \n",
    "    geom_line() + \n",
    "    geom_line(data = CI_cum_incidence, aes(x = rank, y = lci_p_cumcataract, group = X, colour = X), \n",
    "              linetype = \"dashed\") + \n",
    "    geom_line(data = CI_cum_incidence, aes(x = rank, y = uci_p_cumcataract, group = X, colour = X), \n",
    "              linetype = \"dashed\") + \n",
    "    xlab('Month') + \n",
    "    ylab('Cumulative incidence') + \n",
    "    labs(title = 'Negative control. Cataract', color = \"Treatment strategy\") + \n",
    "    scale_color_manual(labels=c(\"discontinuation\",\"continuation\"),\n",
    "                       values=c(\"red\", \"blue\"))"
   ]
  },
  {
   "cell_type": "markdown",
   "metadata": {},
   "source": [
    "## Sensitivity analyses"
   ]
  },
  {
   "cell_type": "markdown",
   "metadata": {},
   "source": [
    "### <font face = \"Times New Roman\" color='blue'>stabilized IPWs without truncation</font>"
   ]
  },
  {
   "cell_type": "code",
   "execution_count": 38,
   "metadata": {},
   "outputs": [
    {
     "name": "stderr",
     "output_type": "stream",
     "text": [
      "`summarise()` ungrouping output (override with `.groups` argument)\n",
      "`summarise()` ungrouping output (override with `.groups` argument)\n"
     ]
    },
    {
     "data": {
      "text/html": [
       "<table>\n",
       "<thead><tr><th scope=col>X</th><th scope=col>n</th><th scope=col>weighted_followup</th><th scope=col>weighted_event</th><th scope=col>weighted_person_years</th></tr></thead>\n",
       "<tbody>\n",
       "\t<tr><td>0               </td><td>5669            </td><td>1.18 [0.41-2.44]</td><td>335             </td><td>8623.68         </td></tr>\n",
       "\t<tr><td>1               </td><td>5669            </td><td>0.08 [0-0.23]   </td><td> 95             </td><td>2103.43         </td></tr>\n",
       "</tbody>\n",
       "</table>\n"
      ],
      "text/latex": [
       "\\begin{tabular}{r|lllll}\n",
       " X & n & weighted\\_followup & weighted\\_event & weighted\\_person\\_years\\\\\n",
       "\\hline\n",
       "\t 0                    & 5669                 & 1.18 {[}0.41-2.44{]} & 335                  & 8623.68             \\\\\n",
       "\t 1                    & 5669                 & 0.08 {[}0-0.23{]}    &  95                  & 2103.43             \\\\\n",
       "\\end{tabular}\n"
      ],
      "text/markdown": [
       "\n",
       "| X | n | weighted_followup | weighted_event | weighted_person_years |\n",
       "|---|---|---|---|---|\n",
       "| 0                | 5669             | 1.18 [0.41-2.44] | 335              | 8623.68          |\n",
       "| 1                | 5669             | 0.08 [0-0.23]    |  95              | 2103.43          |\n",
       "\n"
      ],
      "text/plain": [
       "  X n    weighted_followup weighted_event weighted_person_years\n",
       "1 0 5669 1.18 [0.41-2.44]  335            8623.68              \n",
       "2 1 5669 0.08 [0-0.23]      95            2103.43              "
      ]
     },
     "metadata": {},
     "output_type": "display_data"
    }
   ],
   "source": [
    "incid_num_weighted(weights = 'ipw')"
   ]
  },
  {
   "cell_type": "code",
   "execution_count": 39,
   "metadata": {},
   "outputs": [
    {
     "name": "stderr",
     "output_type": "stream",
     "text": [
      "`summarise()` ungrouping output (override with `.groups` argument)\n",
      "`summarise()` ungrouping output (override with `.groups` argument)\n"
     ]
    }
   ],
   "source": [
    "sen1_res = causal_effect_estimation(weights = 'ipw')\n",
    "sen1_point_estimation <- sen1_res[[1]]"
   ]
  },
  {
   "cell_type": "code",
   "execution_count": 40,
   "metadata": {},
   "outputs": [
    {
     "data": {
      "text/html": [
       "<table>\n",
       "<thead><tr><th scope=col>3 year risk for discontinuation (%)</th><th scope=col>3 year risk for reinitiation (%)</th><th scope=col>risk difference (%)</th><th scope=col>risk ratio</th><th scope=col>hazard ratio</th></tr></thead>\n",
       "<tbody>\n",
       "\t<tr><td>9.75</td><td>9.08</td><td>0.68</td><td>1.07</td><td>1   </td></tr>\n",
       "</tbody>\n",
       "</table>\n"
      ],
      "text/latex": [
       "\\begin{tabular}{lllll}\n",
       " 3 year risk for discontinuation (\\%) & 3 year risk for reinitiation (\\%) & risk difference (\\%) & risk ratio & hazard ratio\\\\\n",
       "\\hline\n",
       "\t 9.75 & 9.08 & 0.68 & 1.07 & 1   \\\\\n",
       "\\end{tabular}\n"
      ],
      "text/markdown": [
       "\n",
       "| 3 year risk for discontinuation (%) | 3 year risk for reinitiation (%) | risk difference (%) | risk ratio | hazard ratio |\n",
       "|---|---|---|---|---|\n",
       "| 9.75 | 9.08 | 0.68 | 1.07 | 1    |\n",
       "\n"
      ],
      "text/plain": [
       "     3 year risk for discontinuation (%) 3 year risk for reinitiation (%)\n",
       "[1,] 9.75                                9.08                            \n",
       "     risk difference (%) risk ratio hazard ratio\n",
       "[1,] 0.68                1.07       1           "
      ]
     },
     "metadata": {},
     "output_type": "display_data"
    }
   ],
   "source": [
    "sen1_point_estimation"
   ]
  },
  {
   "cell_type": "code",
   "execution_count": 50,
   "metadata": {},
   "outputs": [],
   "source": [
    "CI_res <- foreach (i = 1 : 10, .combine = c) %do% {\n",
    "    bootstrap_sub(k = i, weights = 'ipw', \n",
    "                  xvar_boot = c('age', 'female', 'index_year', 'duration', 'potassium_value',\n",
    "                                'primary_care_num', 'outpatient_num', 'inpatient_num', \n",
    "                                'cov_diabetes_t0', 'cov_hypertension_t0', \n",
    "                                'cov_MI_t0', 'cov_CHF_t0', 'cov_cerebrovascular_disease_t0', 'cov_PVD_t0', \n",
    "                                'cov_cancer_t0', 'cov_COPD_t0', \n",
    "                                'cov_beta_blocker_t0', 'cov_CCB_t0', 'cov_diuretic_t0', 'cov_MRA_t0', 'cov_SPS_t0', \n",
    "                                'cov_statin_t0', \n",
    "                                'cov_antiplatelet_agent_t0', \n",
    "                                'cov_egfr_t0', \n",
    "                                'cov_hospitalization_t0'))\n",
    "}"
   ]
  },
  {
   "cell_type": "code",
   "execution_count": 51,
   "metadata": {},
   "outputs": [
    {
     "data": {
      "text/html": [
       "<table>\n",
       "<caption>A matrix: 1 × 5 of type chr</caption>\n",
       "<thead>\n",
       "\t<tr><th scope=col>3 year risk for discontinuation (%)</th><th scope=col>3 year risk for reinitiation (%)</th><th scope=col>risk difference (%)</th><th scope=col>risk ratio</th><th scope=col>hazard ratio</th></tr>\n",
       "</thead>\n",
       "<tbody>\n",
       "\t<tr><td>23 (20.11-26.29)</td><td>18.19 (16.57-19.98)</td><td>4.81 (1.58-8.16)</td><td>1.26 (1.08-1.46)</td><td>1.48 (1.34-1.65)</td></tr>\n",
       "</tbody>\n",
       "</table>\n"
      ],
      "text/latex": [
       "A matrix: 1 × 5 of type chr\n",
       "\\begin{tabular}{lllll}\n",
       " 3 year risk for discontinuation (\\%) & 3 year risk for reinitiation (\\%) & risk difference (\\%) & risk ratio & hazard ratio\\\\\n",
       "\\hline\n",
       "\t 23 (20.11-26.29) & 18.19 (16.57-19.98) & 4.81 (1.58-8.16) & 1.26 (1.08-1.46) & 1.48 (1.34-1.65)\\\\\n",
       "\\end{tabular}\n"
      ],
      "text/markdown": [
       "\n",
       "A matrix: 1 × 5 of type chr\n",
       "\n",
       "| 3 year risk for discontinuation (%) | 3 year risk for reinitiation (%) | risk difference (%) | risk ratio | hazard ratio |\n",
       "|---|---|---|---|---|\n",
       "| 23 (20.11-26.29) | 18.19 (16.57-19.98) | 4.81 (1.58-8.16) | 1.26 (1.08-1.46) | 1.48 (1.34-1.65) |\n",
       "\n"
      ],
      "text/plain": [
       "     3 year risk for discontinuation (%) 3 year risk for reinitiation (%)\n",
       "[1,] 23 (20.11-26.29)                    18.19 (16.57-19.98)             \n",
       "     risk difference (%) risk ratio       hazard ratio    \n",
       "[1,] 4.81 (1.58-8.16)    1.26 (1.08-1.46) 1.48 (1.34-1.65)"
      ]
     },
     "metadata": {},
     "output_type": "display_data"
    }
   ],
   "source": [
    "################################################################################################\n",
    "CI_point_estimation <- foreach (i = seq(1, 2 * no_of_sample, 2), .combine = rbind) %do% {\n",
    "    CI_res[[i]]\n",
    "}\n",
    "CI_point_estimation <- CI_point_estimation %>% data.frame()\n",
    "colnames(CI_point_estimation) <- c('risk_dis', 'risk_re', 'RD', 'RR', 'HR')\n",
    "CI_point_estimation <- CI_point_estimation %>% \n",
    "    summarise(lci_risk_dis = quantile(risk_dis, 0.025), \n",
    "              uci_risk_dis = quantile(risk_dis, 0.975), \n",
    "              lci_risk_re = quantile(risk_re, 0.025), \n",
    "              uci_risk_re = quantile(risk_re, 0.975), \n",
    "              lci_RD = quantile(RD, 0.025), \n",
    "              uci_RD = quantile(RD, 0.975), \n",
    "              lci_RR = quantile(RR, 0.025), \n",
    "              uci_RR = quantile(RR, 0.975), \n",
    "              lci_HR = quantile(HR, 0.025), \n",
    "              uci_HR = quantile(HR, 0.975))\n",
    "CI_point_estimation <- round(matrix(as.numeric(CI_point_estimation), nrow = 5, ncol = 2, byrow = T), 2)\n",
    "causal_effect_point_estimation <- paste(t(sen1_point_estimation), \n",
    "                                        ' (', CI_point_estimation[ , 1], '-', \n",
    "                                        CI_point_estimation[ , 2], ')', sep = '')\n",
    "names(causal_effect_point_estimation) <- colnames(sen1_point_estimation)\n",
    "t(causal_effect_point_estimation)"
   ]
  },
  {
   "cell_type": "markdown",
   "metadata": {},
   "source": [
    "### <font face = \"Times New Roman\" color='blue'>stabilized IPWs by ML</font>"
   ]
  },
  {
   "cell_type": "code",
   "execution_count": 37,
   "metadata": {},
   "outputs": [
    {
     "name": "stderr",
     "output_type": "stream",
     "text": [
      "`summarise()` ungrouping output (override with `.groups` argument)\n",
      "\n",
      "`summarise()` ungrouping output (override with `.groups` argument)\n",
      "\n"
     ]
    },
    {
     "data": {
      "text/html": [
       "<table>\n",
       "<caption>A tibble: 2 × 5</caption>\n",
       "<thead>\n",
       "\t<tr><th scope=col>X</th><th scope=col>n</th><th scope=col>weighted_followup</th><th scope=col>weighted_event</th><th scope=col>weighted_person_years</th></tr>\n",
       "\t<tr><th scope=col>&lt;dbl&gt;</th><th scope=col>&lt;int&gt;</th><th scope=col>&lt;chr&gt;</th><th scope=col>&lt;dbl&gt;</th><th scope=col>&lt;dbl&gt;</th></tr>\n",
       "</thead>\n",
       "<tbody>\n",
       "\t<tr><td>0</td><td>4720</td><td>1.4 [0.41-2.71]</td><td>709</td><td>7925.26</td></tr>\n",
       "\t<tr><td>1</td><td>4720</td><td>0.08 [0-0.25]  </td><td>388</td><td>1788.58</td></tr>\n",
       "</tbody>\n",
       "</table>\n"
      ],
      "text/latex": [
       "A tibble: 2 × 5\n",
       "\\begin{tabular}{lllll}\n",
       " X & n & weighted\\_followup & weighted\\_event & weighted\\_person\\_years\\\\\n",
       " <dbl> & <int> & <chr> & <dbl> & <dbl>\\\\\n",
       "\\hline\n",
       "\t 0 & 4720 & 1.4 {[}0.41-2.71{]} & 709 & 7925.26\\\\\n",
       "\t 1 & 4720 & 0.08 {[}0-0.25{]}   & 388 & 1788.58\\\\\n",
       "\\end{tabular}\n"
      ],
      "text/markdown": [
       "\n",
       "A tibble: 2 × 5\n",
       "\n",
       "| X &lt;dbl&gt; | n &lt;int&gt; | weighted_followup &lt;chr&gt; | weighted_event &lt;dbl&gt; | weighted_person_years &lt;dbl&gt; |\n",
       "|---|---|---|---|---|\n",
       "| 0 | 4720 | 1.4 [0.41-2.71] | 709 | 7925.26 |\n",
       "| 1 | 4720 | 0.08 [0-0.25]   | 388 | 1788.58 |\n",
       "\n"
      ],
      "text/plain": [
       "  X n    weighted_followup weighted_event weighted_person_years\n",
       "1 0 4720 1.4 [0.41-2.71]   709            7925.26              \n",
       "2 1 4720 0.08 [0-0.25]     388            1788.58              "
      ]
     },
     "metadata": {},
     "output_type": "display_data"
    }
   ],
   "source": [
    "incid_num_weighted(weights = 'ipw_ML')"
   ]
  },
  {
   "cell_type": "code",
   "execution_count": 38,
   "metadata": {},
   "outputs": [
    {
     "name": "stderr",
     "output_type": "stream",
     "text": [
      "`summarise()` ungrouping output (override with `.groups` argument)\n",
      "\n",
      "`summarise()` ungrouping output (override with `.groups` argument)\n",
      "\n"
     ]
    }
   ],
   "source": [
    "sen2_res = causal_effect_estimation(weights = 'ipw_ML')\n",
    "sen2_point_estimation <- sen2_res[[1]]"
   ]
  },
  {
   "cell_type": "code",
   "execution_count": 39,
   "metadata": {},
   "outputs": [
    {
     "data": {
      "text/html": [
       "<table>\n",
       "<caption>A matrix: 1 × 5 of type chr</caption>\n",
       "<thead>\n",
       "\t<tr><th scope=col>3 year risk for discontinuation (%)</th><th scope=col>3 year risk for reinitiation (%)</th><th scope=col>risk difference (%)</th><th scope=col>risk ratio</th><th scope=col>hazard ratio</th></tr>\n",
       "</thead>\n",
       "<tbody>\n",
       "\t<tr><td>23.61 (20.65-26.93)</td><td>18.05 (16.41-19.82)</td><td>5.55 (2.28-9.13)</td><td>1.31 (1.12-1.51)</td><td>1.52 (1.38-1.69)</td></tr>\n",
       "</tbody>\n",
       "</table>\n"
      ],
      "text/latex": [
       "A matrix: 1 × 5 of type chr\n",
       "\\begin{tabular}{lllll}\n",
       " 3 year risk for discontinuation (\\%) & 3 year risk for reinitiation (\\%) & risk difference (\\%) & risk ratio & hazard ratio\\\\\n",
       "\\hline\n",
       "\t 23.61 (20.65-26.93) & 18.05 (16.41-19.82) & 5.55 (2.28-9.13) & 1.31 (1.12-1.51) & 1.52 (1.38-1.69)\\\\\n",
       "\\end{tabular}\n"
      ],
      "text/markdown": [
       "\n",
       "A matrix: 1 × 5 of type chr\n",
       "\n",
       "| 3 year risk for discontinuation (%) | 3 year risk for reinitiation (%) | risk difference (%) | risk ratio | hazard ratio |\n",
       "|---|---|---|---|---|\n",
       "| 23.61 (20.65-26.93) | 18.05 (16.41-19.82) | 5.55 (2.28-9.13) | 1.31 (1.12-1.51) | 1.52 (1.38-1.69) |\n",
       "\n"
      ],
      "text/plain": [
       "     3 year risk for discontinuation (%) 3 year risk for reinitiation (%)\n",
       "[1,] 23.61 (20.65-26.93)                 18.05 (16.41-19.82)             \n",
       "     risk difference (%) risk ratio       hazard ratio    \n",
       "[1,] 5.55 (2.28-9.13)    1.31 (1.12-1.51) 1.52 (1.38-1.69)"
      ]
     },
     "metadata": {},
     "output_type": "display_data"
    }
   ],
   "source": [
    "CI_res <- foreach (i = 1 : 10, .combine = c) %do% {\n",
    "    bootstrap_sub(k = i, weights = 'ipw_ML', \n",
    "                  xvar_boot = c('age', 'female', 'index_year', 'duration', 'potassium_value',\n",
    "                                'primary_care_num', 'outpatient_num', 'inpatient_num', \n",
    "                                'cov_diabetes_t0', 'cov_hypertension_t0', \n",
    "                                'cov_MI_t0', 'cov_CHF_t0', 'cov_cerebrovascular_disease_t0', 'cov_PVD_t0', \n",
    "                                'cov_cancer_t0', 'cov_COPD_t0', \n",
    "                                'cov_beta_blocker_t0', 'cov_CCB_t0', 'cov_diuretic_t0', 'cov_MRA_t0', 'cov_SPS_t0', \n",
    "                                'cov_statin_t0', \n",
    "                                'cov_antiplatelet_agent_t0', \n",
    "                                'cov_egfr_t0', \n",
    "                                'cov_hospitalization_t0'))\n",
    "}\n",
    "no_of_sample = 500\n",
    "################################################################################################\n",
    "CI_point_estimation <- foreach (i = seq(1, 2 * no_of_sample, 2), .combine = rbind) %do% {\n",
    "    CI_res[[i]]\n",
    "}\n",
    "CI_point_estimation <- CI_point_estimation %>% data.frame()\n",
    "colnames(CI_point_estimation) <- c('risk_dis', 'risk_re', 'RD', 'RR', 'HR')\n",
    "CI_point_estimation <- CI_point_estimation %>% \n",
    "    summarise(lci_risk_dis = quantile(risk_dis, 0.025), \n",
    "              uci_risk_dis = quantile(risk_dis, 0.975), \n",
    "              lci_risk_re = quantile(risk_re, 0.025), \n",
    "              uci_risk_re = quantile(risk_re, 0.975), \n",
    "              lci_RD = quantile(RD, 0.025), \n",
    "              uci_RD = quantile(RD, 0.975), \n",
    "              lci_RR = quantile(RR, 0.025), \n",
    "              uci_RR = quantile(RR, 0.975), \n",
    "              lci_HR = quantile(HR, 0.025), \n",
    "              uci_HR = quantile(HR, 0.975))\n",
    "CI_point_estimation <- round(matrix(as.numeric(CI_point_estimation), nrow = 5, ncol = 2, byrow = T), 2)\n",
    "causal_effect_point_estimation <- paste(t(sen2_point_estimation), \n",
    "                                        ' (', CI_point_estimation[ , 1], '-', \n",
    "                                        CI_point_estimation[ , 2], ')', sep = '')\n",
    "names(causal_effect_point_estimation) <- colnames(sen2_point_estimation)\n",
    "t(causal_effect_point_estimation)"
   ]
  },
  {
   "cell_type": "markdown",
   "metadata": {},
   "source": [
    "### <font face = \"Times New Roman\" color='blue'>albuminuria included as a time-varying confounder</font>"
   ]
  },
  {
   "cell_type": "code",
   "execution_count": 40,
   "metadata": {},
   "outputs": [],
   "source": [
    "dta_clone_cataract_ALB <- dta_clone_cataract %>% \n",
    "    filter(!is.na(cov_acr_t0)) ## exclude patients with baseline missing albuminuria"
   ]
  },
  {
   "cell_type": "code",
   "execution_count": 41,
   "metadata": {},
   "outputs": [
    {
     "data": {
      "text/html": [
       "2036"
      ],
      "text/latex": [
       "2036"
      ],
      "text/markdown": [
       "2036"
      ],
      "text/plain": [
       "[1] 2036"
      ]
     },
     "metadata": {},
     "output_type": "display_data"
    }
   ],
   "source": [
    "length(unique(dta_clone_cataract_ALB$lopnr))"
   ]
  },
  {
   "cell_type": "code",
   "execution_count": 42,
   "metadata": {},
   "outputs": [],
   "source": [
    "x_adjusted_var_ALB <- c('age', 'female', 'index_year', 'rcs(duration, 3)', 'rcs(potassium_value, 3)', \n",
    "                        # 'cov_diabetes_t0', 'cov_hypertension_t0', \n",
    "                        # 'cov_MI_t0', 'cov_CHF_t0', 'cov_cerebrovascular_disease_t0', 'cov_PVD_t0', \n",
    "                        # 'cov_COPD_t0', \n",
    "                        # 'cov_beta_blocker_t0', 'cov_CCB_t0', 'cov_diuretic_t0', 'cov_MRA_t0', 'cov_SPS_t0', \n",
    "                        # 'cov_statin_t0', \n",
    "                        # 'cov_antiplatelet_agent_t0', \n",
    "                        # 'cov_egfr_t0', \n",
    "                        'primary_care_num', \n",
    "                        'outpatient_num', \n",
    "                        'inpatient_num', # 'cov_hospitalization_t0', \n",
    "                        'cov_diabetes', 'cov_hypertension', \n",
    "                        'cov_MI', 'cov_CHF', 'cov_cerebrovascular_disease', 'cov_PVD', \n",
    "                        'cov_cancer', 'cov_COPD',  \n",
    "                        'cov_beta_blocker', 'cov_CCB', 'cov_diuretic', 'cov_MRA', 'cov_SPS', \n",
    "                        'cov_statin', \n",
    "                        'cov_antiplatelet_agent', \n",
    "                        'rcs(cov_egfr, 6)', \n",
    "                        'rcs(cov_acr, 6)', \n",
    "                        # 'rcs(cov_potassium, 12)', \n",
    "                        'cov_hospitalization')"
   ]
  },
  {
   "cell_type": "code",
   "execution_count": 43,
   "metadata": {},
   "outputs": [],
   "source": [
    "dta_clone_cataract_ALB_discontinuation <- dta_clone_cataract_ALB %>% \n",
    "    filter(X == 'discontinuation') %>% \n",
    "    arrange(ID, index_date)\n",
    "dta_clone_cataract_ALB_discontinuation_censor_part <- dta_clone_cataract_ALB_discontinuation %>% \n",
    "    filter(rank %in% 1 : 6)\n",
    "dta_clone_cataract_ALB_discontinuation_noncensor_part <- dta_clone_cataract_ALB_discontinuation %>% \n",
    "    filter(rank > 6)\n",
    "## logistic regression formula\n",
    "regression_formula_IPCW <- as.formula(paste0('censor ~ rank + rank ^ 2 + ', \n",
    "                                             paste(x_adjusted_var, collapse = \" + \"), \n",
    "                                             sep = ' '))\n",
    "denominator.fit <- glm(regression_formula_IPCW, \n",
    "                       data = dta_clone_cataract_ALB_discontinuation_censor_part, \n",
    "                       family  = binomial(link = \"logit\"))\n",
    "## ===============================================================================================================\n",
    "## Unstabilized IPW\n",
    "dta_clone_cataract_ALB_discontinuation_censor_part$ipw_uns_per_month <- \n",
    "    ifelse(dta_clone_cataract_ALB_discontinuation_censor_part$censor == 1, \n",
    "           0, \n",
    "           1 / (1 - fitted(denominator.fit)))\n",
    "dta_clone_cataract_ALB_discontinuation_noncensor_part$ipw_uns_per_month <- 1\n",
    "## ===============================================================================================================\n",
    "dta_clone_cataract_ALB_discontinuation <- rbind(dta_clone_cataract_ALB_discontinuation_censor_part, \n",
    "                                             dta_clone_cataract_ALB_discontinuation_noncensor_part) %>% \n",
    "    arrange(ID, index_date)\n",
    "## Unstabilized IPW\n",
    "dta_clone_cataract_ALB_discontinuation$ipw_uns <- unlist(tapply(dta_clone_cataract_ALB_discontinuation$ipw_uns_per_month, \n",
    "                                                             dta_clone_cataract_ALB_discontinuation$ID, cumprod))\n",
    "## ============================================================================================================="
   ]
  },
  {
   "cell_type": "code",
   "execution_count": 44,
   "metadata": {},
   "outputs": [],
   "source": [
    "dta_clone_cataract_ALB_reinitiation <- dta_clone_cataract_ALB %>% \n",
    "    filter(X == 'reinitiation') %>% \n",
    "    arrange(ID, index_date)\n",
    "dta_clone_cataract_ALB_reinitiation_censor_part <- dta_clone_cataract_ALB_reinitiation %>% \n",
    "    filter(rank == 6)\n",
    "dta_clone_cataract_ALB_reinitiation_noncensor_part <- dta_clone_cataract_ALB_reinitiation %>% \n",
    "    filter(rank %in% 1 : 5 | rank > 6)\n",
    "regression_formula_IPCW <- as.formula(paste0('censor ~ ', \n",
    "                                             paste(x_adjusted_var, collapse = \" + \"), \n",
    "                                             sep = ' '))\n",
    "denominator.fit <- glm(regression_formula_IPCW, \n",
    "                       data = dta_clone_cataract_ALB_reinitiation_censor_part, \n",
    "                       family  = binomial(link = \"logit\"))\n",
    "## Unstabilized IPW\n",
    "dta_clone_cataract_ALB_reinitiation_censor_part$ipw_uns_per_month <- \n",
    "    ifelse(dta_clone_cataract_ALB_reinitiation_censor_part$censor == 1, \n",
    "           0, \n",
    "           1 / (1 - fitted(denominator.fit)))\n",
    "dta_clone_cataract_ALB_reinitiation_noncensor_part$ipw_uns_per_month <- 1\n",
    "## =============================================================================================================\n",
    "dta_clone_cataract_ALB_reinitiation <- rbind(dta_clone_cataract_ALB_reinitiation_censor_part, \n",
    "                                          dta_clone_cataract_ALB_reinitiation_noncensor_part) %>% \n",
    "    arrange(ID, index_date)\n",
    "## Unstabilized IPW\n",
    "dta_clone_cataract_ALB_reinitiation$ipw_uns <- unlist(tapply(dta_clone_cataract_ALB_reinitiation$ipw_uns_per_month, \n",
    "                                                          dta_clone_cataract_ALB_reinitiation$ID, cumprod))\n",
    "## ============================================================================================================="
   ]
  },
  {
   "cell_type": "code",
   "execution_count": 45,
   "metadata": {},
   "outputs": [],
   "source": [
    "dta_clone_cataract_ALB <- rbind(dta_clone_cataract_ALB_discontinuation, dta_clone_cataract_ALB_reinitiation) %>% \n",
    "    arrange(ID, index_date)\n",
    "dta_clone_cataract_ALB$ipw_uns_trunc <- ipw.truncation(dta_clone_cataract_ALB$ipw_uns, \n",
    "                                                    trunc.u = quantile(dta_clone_cataract_ALB$ipw_uns, 0.99))\n",
    "dta_clone_cataract_ALB <- dta_clone_cataract_ALB %>% mutate(X = ifelse(X == 'reinitiation', 0, 1))"
   ]
  },
  {
   "cell_type": "code",
   "execution_count": 46,
   "metadata": {},
   "outputs": [
    {
     "name": "stderr",
     "output_type": "stream",
     "text": [
      "`summarise()` ungrouping output (override with `.groups` argument)\n",
      "\n",
      "`summarise()` ungrouping output (override with `.groups` argument)\n",
      "\n"
     ]
    },
    {
     "data": {
      "text/html": [
       "<table>\n",
       "<caption>A tibble: 2 × 5</caption>\n",
       "<thead>\n",
       "\t<tr><th scope=col>X</th><th scope=col>n</th><th scope=col>weighted_followup</th><th scope=col>weighted_event</th><th scope=col>weighted_person_years</th></tr>\n",
       "\t<tr><th scope=col>&lt;dbl&gt;</th><th scope=col>&lt;int&gt;</th><th scope=col>&lt;chr&gt;</th><th scope=col>&lt;dbl&gt;</th><th scope=col>&lt;dbl&gt;</th></tr>\n",
       "</thead>\n",
       "<tbody>\n",
       "\t<tr><td>0</td><td>2036</td><td>1.57 [0.41-3]</td><td>332</td><td>3796.12</td></tr>\n",
       "\t<tr><td>1</td><td>2036</td><td>0.14 [0-0.45]</td><td>423</td><td>3544.09</td></tr>\n",
       "</tbody>\n",
       "</table>\n"
      ],
      "text/latex": [
       "A tibble: 2 × 5\n",
       "\\begin{tabular}{lllll}\n",
       " X & n & weighted\\_followup & weighted\\_event & weighted\\_person\\_years\\\\\n",
       " <dbl> & <int> & <chr> & <dbl> & <dbl>\\\\\n",
       "\\hline\n",
       "\t 0 & 2036 & 1.57 {[}0.41-3{]} & 332 & 3796.12\\\\\n",
       "\t 1 & 2036 & 0.14 {[}0-0.45{]} & 423 & 3544.09\\\\\n",
       "\\end{tabular}\n"
      ],
      "text/markdown": [
       "\n",
       "A tibble: 2 × 5\n",
       "\n",
       "| X &lt;dbl&gt; | n &lt;int&gt; | weighted_followup &lt;chr&gt; | weighted_event &lt;dbl&gt; | weighted_person_years &lt;dbl&gt; |\n",
       "|---|---|---|---|---|\n",
       "| 0 | 2036 | 1.57 [0.41-3] | 332 | 3796.12 |\n",
       "| 1 | 2036 | 0.14 [0-0.45] | 423 | 3544.09 |\n",
       "\n"
      ],
      "text/plain": [
       "  X n    weighted_followup weighted_event weighted_person_years\n",
       "1 0 2036 1.57 [0.41-3]     332            3796.12              \n",
       "2 1 2036 0.14 [0-0.45]     423            3544.09              "
      ]
     },
     "metadata": {},
     "output_type": "display_data"
    }
   ],
   "source": [
    "incid_num_weighted(data = dta_clone_cataract_ALB, weights = 'ipw_uns_trunc')"
   ]
  },
  {
   "cell_type": "code",
   "execution_count": 47,
   "metadata": {},
   "outputs": [
    {
     "name": "stderr",
     "output_type": "stream",
     "text": [
      "`summarise()` ungrouping output (override with `.groups` argument)\n",
      "\n",
      "`summarise()` ungrouping output (override with `.groups` argument)\n",
      "\n"
     ]
    },
    {
     "data": {
      "text/html": [
       "<table>\n",
       "<caption>A matrix: 1 × 5 of type chr</caption>\n",
       "<thead>\n",
       "\t<tr><th scope=col>3 year risk for discontinuation (%)</th><th scope=col>3 year risk for reinitiation (%)</th><th scope=col>risk difference (%)</th><th scope=col>risk ratio</th><th scope=col>hazard ratio</th></tr>\n",
       "</thead>\n",
       "<tbody>\n",
       "\t<tr><td>20.72 (16.21-26.72)</td><td>14.86 (9.76-19.18)</td><td>5.86 (0.11-13.91)</td><td>1.39 (1.01-2.24)</td><td>1.37 (1-1.99)</td></tr>\n",
       "</tbody>\n",
       "</table>\n"
      ],
      "text/latex": [
       "A matrix: 1 × 5 of type chr\n",
       "\\begin{tabular}{lllll}\n",
       " 3 year risk for discontinuation (\\%) & 3 year risk for reinitiation (\\%) & risk difference (\\%) & risk ratio & hazard ratio\\\\\n",
       "\\hline\n",
       "\t 20.72 (16.21-26.72) & 14.86 (9.76-19.18) & 5.86 (0.11-13.91) & 1.39 (1.01-2.24) & 1.37 (1-1.99)\\\\\n",
       "\\end{tabular}\n"
      ],
      "text/markdown": [
       "\n",
       "A matrix: 1 × 5 of type chr\n",
       "\n",
       "| 3 year risk for discontinuation (%) | 3 year risk for reinitiation (%) | risk difference (%) | risk ratio | hazard ratio |\n",
       "|---|---|---|---|---|\n",
       "| 20.72 (16.21-26.72) | 14.86 (9.76-19.18) | 5.86 (0.11-13.91) | 1.39 (1.01-2.24) | 1.37 (1-1.99) |\n",
       "\n"
      ],
      "text/plain": [
       "     3 year risk for discontinuation (%) 3 year risk for reinitiation (%)\n",
       "[1,] 20.72 (16.21-26.72)                 14.86 (9.76-19.18)              \n",
       "     risk difference (%) risk ratio       hazard ratio \n",
       "[1,] 5.86 (0.11-13.91)   1.39 (1.01-2.24) 1.37 (1-1.99)"
      ]
     },
     "metadata": {},
     "output_type": "display_data"
    }
   ],
   "source": [
    "sen3_res = causal_effect_estimation(data = dta_clone_cataract_ALB, weights = 'ipw_uns_trunc', \n",
    "                                    xvar = c('duration'))\n",
    "sen3_point_estimation <- sen3_res[[1]]\n",
    "## bootstrap on 500 sample\n",
    "CI_res <- foreach (i = 1 : 10, .combine = c) %do% {\n",
    "    bootstrap_sub(data = dta_clone_cataract_ALB, k = i, weights = 'ipw_uns_trunc')\n",
    "}\n",
    "##############################################################################################################\n",
    "CI_point_estimation <- foreach (i = seq(1, 2 * no_of_sample, 2), .combine = rbind) %do% {\n",
    "    CI_res[[i]]\n",
    "}\n",
    "CI_point_estimation <- CI_point_estimation %>% data.frame()\n",
    "colnames(CI_point_estimation) <- c('risk_dis', 'risk_re', 'RD', 'RR', 'HR')\n",
    "CI_point_estimation <- CI_point_estimation %>% \n",
    "    summarise(lci_risk_dis = quantile(risk_dis, 0.025), \n",
    "              uci_risk_dis = quantile(risk_dis, 0.975), \n",
    "              lci_risk_re = quantile(risk_re, 0.025), \n",
    "              uci_risk_re = quantile(risk_re, 0.975), \n",
    "              lci_RD = quantile(RD, 0.025), \n",
    "              uci_RD = quantile(RD, 0.975), \n",
    "              lci_RR = quantile(RR, 0.025), \n",
    "              uci_RR = quantile(RR, 0.975), \n",
    "              lci_HR = quantile(HR, 0.025), \n",
    "              uci_HR = quantile(HR, 0.975))\n",
    "CI_point_estimation <- round(matrix(as.numeric(CI_point_estimation), nrow = 5, ncol = 2, byrow = T), 2)\n",
    "causal_effect_point_estimation <- paste(t(sen3_point_estimation), \n",
    "                                        ' (', CI_point_estimation[ , 1], '-', \n",
    "                                        CI_point_estimation[ , 2], ')', sep = '')\n",
    "names(causal_effect_point_estimation) <- colnames(sen3_point_estimation)\n",
    "t(causal_effect_point_estimation)"
   ]
  },
  {
   "cell_type": "markdown",
   "metadata": {},
   "source": [
    "## subgroup analysis"
   ]
  },
  {
   "cell_type": "code",
   "execution_count": 48,
   "metadata": {},
   "outputs": [],
   "source": [
    "subgroup_analysis <- function(data = dta_clone_cataract_imp1, by = 'age_cat', \n",
    "                              xvar = c('duration')) {\n",
    "    data1 = data[data[[by]] == 1, ]\n",
    "    data0 = data[data[[by]] == 0, ]\n",
    "    no_of_sample = 500\n",
    "    ##################################################\n",
    "    ### SUBGROUP 1 RESULTS\n",
    "    ##################################################\n",
    "    sub1_res = causal_effect_estimation(data = data1, weights = 'ipw_uns_trunc', \n",
    "                                        xvar = xvar)\n",
    "    sub1_point_estimation <- sub1_res[[1]]\n",
    "    ## bootstrap on 500 sample\n",
    "    sub1_CI_res <- foreach (i = 1 : 10, .combine = c) %do% {\n",
    "        bootstrap_sub(data = data1, k = i, weights = 'ipw_uns_trunc', xvar_boot = xvar)\n",
    "    }\n",
    "    ##############################################################################################\n",
    "    sub1_CI_point_estimation <- foreach (i = seq(1, 2 * no_of_sample, 2), .combine = rbind) %do% {\n",
    "        sub1_CI_res[[i]]\n",
    "    }\n",
    "    sub1_CI_point_estimation <- sub1_CI_point_estimation %>% data.frame()\n",
    "    colnames(sub1_CI_point_estimation) <- c('risk_dis', 'risk_re', 'RD', 'RR', 'HR')\n",
    "    sub1_CI_point_estimation <- sub1_CI_point_estimation %>% \n",
    "        summarise(lci_risk_dis = quantile(risk_dis, 0.025), \n",
    "                  uci_risk_dis = quantile(risk_dis, 0.975), \n",
    "                  lci_risk_re = quantile(risk_re, 0.025), \n",
    "                  uci_risk_re = quantile(risk_re, 0.975), \n",
    "                  lci_RD = quantile(RD, 0.025), \n",
    "                  uci_RD = quantile(RD, 0.975), \n",
    "                  lci_RR = quantile(RR, 0.025), \n",
    "                  uci_RR = quantile(RR, 0.975), \n",
    "                  lci_HR = quantile(HR, 0.025), \n",
    "                  uci_HR = quantile(HR, 0.975))\n",
    "    sub1_CI_point_estimation <- round(matrix(as.numeric(sub1_CI_point_estimation), nrow = 5, ncol = 2, byrow = T), 2)\n",
    "    causal_effect_point_estimation <- paste(t(sub1_point_estimation), \n",
    "                                            ' (', sub1_CI_point_estimation[ , 1], '-', \n",
    "                                            sub1_CI_point_estimation[ , 2], ')', sep = '')\n",
    "    sub1_res <- t(causal_effect_point_estimation)\n",
    "    ##################################################\n",
    "    ### SUBGROUP 0 RESULTS\n",
    "    ##################################################\n",
    "    sub0_res = causal_effect_estimation(data = data0, weights = 'ipw_uns_trunc', \n",
    "                                        xvar = xvar)\n",
    "    sub0_point_estimation <- sub0_res[[1]]\n",
    "    ## bootstrap on 500 sample\n",
    "    sub0_CI_res <- foreach (i = 1 : 10, .combine = c) %do% {\n",
    "        bootstrap_sub(data = data0, k = i, weights = 'ipw_uns_trunc', xvar_boot = xvar)\n",
    "    }\n",
    "    ######################################################################################################\n",
    "    sub0_CI_point_estimation <- foreach (i = seq(1, 2 * no_of_sample, 2), .combine = rbind) %do% {\n",
    "        sub0_CI_res[[i]]\n",
    "    }\n",
    "    sub0_CI_point_estimation <- sub0_CI_point_estimation %>% data.frame()\n",
    "    colnames(sub0_CI_point_estimation) <- c('risk_dis', 'risk_re', 'RD', 'RR', 'HR')\n",
    "    sub0_CI_point_estimation <- sub0_CI_point_estimation %>% \n",
    "        summarise(lci_risk_dis = quantile(risk_dis, 0.025), \n",
    "                  uci_risk_dis = quantile(risk_dis, 0.975), \n",
    "                  lci_risk_re = quantile(risk_re, 0.025), \n",
    "                  uci_risk_re = quantile(risk_re, 0.975), \n",
    "                  lci_RD = quantile(RD, 0.025), \n",
    "                  uci_RD = quantile(RD, 0.975), \n",
    "                  lci_RR = quantile(RR, 0.025), \n",
    "                  uci_RR = quantile(RR, 0.975), \n",
    "                  lci_HR = quantile(HR, 0.025), \n",
    "                  uci_HR = quantile(HR, 0.975))\n",
    "    sub0_CI_point_estimation <- round(matrix(as.numeric(sub0_CI_point_estimation), nrow = 5, ncol = 2, byrow = T), 2)\n",
    "    causal_effect_point_estimation <- paste(t(sub0_point_estimation), \n",
    "                                            ' (', sub0_CI_point_estimation[ , 1], '-', \n",
    "                                            sub0_CI_point_estimation[ , 2], ')', sep = '')\n",
    "    sub0_res <- t(causal_effect_point_estimation)\n",
    "    #####################################################################################\n",
    "    #####################################################################################\n",
    "    AERI_point_estimation <- round(sub1_point_estimation[3] - sub0_point_estimation[3], 2)\n",
    "    CI_AERI_point_estimation <- foreach (i = seq(1, 2 * no_of_sample, 2), .combine = rbind) %do% {\n",
    "        sub1_CI_res[[i]][3] - sub0_CI_res[[i]][3]\n",
    "    }\n",
    "    CI_AERI_point_estimation <- CI_AERI_point_estimation %>% data.frame()\n",
    "    colnames(CI_AERI_point_estimation) <- c('AERI')\n",
    "    CI_AERI_point_estimation <- CI_AERI_point_estimation %>% \n",
    "        summarise(lci_AERI = round(quantile(AERI, 0.025), 2), \n",
    "                  uci_AERI = round(quantile(AERI, 0.975), 2))\n",
    "    causal_effect_AERI <- c(AERI_point_estimation, CI_AERI_point_estimation[ , 1], CI_AERI_point_estimation[ , 2], \n",
    "                            paste(AERI_point_estimation, \n",
    "                                  ' (', CI_AERI_point_estimation[ , 1], '-', \n",
    "                                  CI_AERI_point_estimation[ , 2], ')', sep = ''))\n",
    "    ### think about how to calcualte P value?????????\n",
    "    p_res <- foreach (i = seq(1, 2 * no_of_sample, 2), .combine = c) %do% {\n",
    "        sub1_CI_res[[i]][3] - sub0_CI_res[[i]][3]\n",
    "    }\n",
    "    p_more_than_0 <- sum(p_res > 0) / length(p_res)\n",
    "    p_less_than_0 <- sum(p_res < 0) / length(p_res)\n",
    "    p <- round(min(p_more_than_0, p_less_than_0) * 2, 2)\n",
    "    res <- rbind(c(sub1_res, causal_effect_AERI, p), c(sub0_res, '', '', '', '', ''))\n",
    "    colnames(res) <- c(colnames(sub1_point_estimation), 'AERI point', 'AERI lci', 'AERI uci', 'AERI', 'p')\n",
    "    return(res)\n",
    "}"
   ]
  },
  {
   "cell_type": "code",
   "execution_count": 49,
   "metadata": {},
   "outputs": [
    {
     "name": "stderr",
     "output_type": "stream",
     "text": [
      "`summarise()` ungrouping output (override with `.groups` argument)\n",
      "\n",
      "`summarise()` ungrouping output (override with `.groups` argument)\n",
      "\n",
      "`summarise()` ungrouping output (override with `.groups` argument)\n",
      "\n",
      "`summarise()` ungrouping output (override with `.groups` argument)\n",
      "\n"
     ]
    }
   ],
   "source": [
    "### by age\n",
    "dta_clone_cataract_imp1 <- dta_clone_cataract_imp1 %>% mutate(age_cat = ifelse(age >= 70, 1, 0))\n",
    "sub_res_age <- subgroup_analysis(by = 'age_cat')"
   ]
  },
  {
   "cell_type": "code",
   "execution_count": 50,
   "metadata": {},
   "outputs": [
    {
     "name": "stderr",
     "output_type": "stream",
     "text": [
      "`summarise()` ungrouping output (override with `.groups` argument)\n",
      "\n",
      "`summarise()` ungrouping output (override with `.groups` argument)\n",
      "\n",
      "`summarise()` ungrouping output (override with `.groups` argument)\n",
      "\n",
      "`summarise()` ungrouping output (override with `.groups` argument)\n",
      "\n"
     ]
    }
   ],
   "source": [
    "### by sex\n",
    "sub_res_sex <- subgroup_analysis(by = 'female')"
   ]
  },
  {
   "cell_type": "code",
   "execution_count": 51,
   "metadata": {},
   "outputs": [
    {
     "name": "stderr",
     "output_type": "stream",
     "text": [
      "`summarise()` ungrouping output (override with `.groups` argument)\n",
      "\n",
      "`summarise()` ungrouping output (override with `.groups` argument)\n",
      "\n",
      "`summarise()` ungrouping output (override with `.groups` argument)\n",
      "\n",
      "`summarise()` ungrouping output (override with `.groups` argument)\n",
      "\n"
     ]
    }
   ],
   "source": [
    "### by diabetes\n",
    "sub_res_diabetes <- subgroup_analysis(by = 'cov_diabetes_t0')"
   ]
  },
  {
   "cell_type": "code",
   "execution_count": 52,
   "metadata": {},
   "outputs": [
    {
     "name": "stderr",
     "output_type": "stream",
     "text": [
      "`summarise()` ungrouping output (override with `.groups` argument)\n",
      "\n",
      "`summarise()` ungrouping output (override with `.groups` argument)\n",
      "\n",
      "`summarise()` ungrouping output (override with `.groups` argument)\n",
      "\n",
      "`summarise()` ungrouping output (override with `.groups` argument)\n",
      "\n"
     ]
    }
   ],
   "source": [
    "### by heart failure\n",
    "sub_res_HF <- subgroup_analysis(by = 'cov_CHF_t0')"
   ]
  },
  {
   "cell_type": "code",
   "execution_count": 53,
   "metadata": {},
   "outputs": [
    {
     "name": "stderr",
     "output_type": "stream",
     "text": [
      "`summarise()` ungrouping output (override with `.groups` argument)\n",
      "\n",
      "`summarise()` ungrouping output (override with `.groups` argument)\n",
      "\n",
      "`summarise()` ungrouping output (override with `.groups` argument)\n",
      "\n",
      "`summarise()` ungrouping output (override with `.groups` argument)\n",
      "\n"
     ]
    }
   ],
   "source": [
    "### by eGFR\n",
    "dta_clone_cataract_imp1 <- dta_clone_cataract_imp1 %>% mutate(cov_egfr_subcat_t0 = ifelse(cov_egfr_t0 >= 60, 1, 0))\n",
    "sub_res_eGFR <- subgroup_analysis(by = 'cov_egfr_subcat_t0')"
   ]
  },
  {
   "cell_type": "raw",
   "metadata": {},
   "source": [
    "## needed when main analysis is not run\n",
    "main_res <- c('25.79 (21.87-30.23)', '17.27 (15.72-18.96)', \n",
    "              '8.52 (4.43-13.17)', \n",
    "              '1.49 (1.25-1.81)', '1.49 (1.32-1.72)')"
   ]
  },
  {
   "cell_type": "code",
   "execution_count": 68,
   "metadata": {},
   "outputs": [],
   "source": [
    "sub_res <- rbind(sub_res_age, \n",
    "                 sub_res_sex, \n",
    "                 sub_res_diabetes, \n",
    "                 sub_res_HF, \n",
    "                 sub_res_eGFR) %>% data.frame()\n",
    "sub_res <- sub_res %>% mutate(group = c(paste('    ', intToUtf8(8805), '70 years', sep = ''), \n",
    "                                        '    <70 years', \n",
    "                                        '    female', '    male', \n",
    "                                        '    yes', '    no', \n",
    "                                        '    yes', '    no', \n",
    "                                        paste('    ', intToUtf8(8805), '60 ml/min/1.73m^2', sep = ''), \n",
    "                                        '    <60 ml/min/1.73m^2')) %>% \n",
    "    dplyr::select(c(11, 1 : 10))\n",
    "sub_res <- rbind(as.matrix(t(c('Overall', main_res, '', '', '', '', ''))), as.matrix(sub_res)) %>% \n",
    "    data.frame()\n",
    "colnames(sub_res) <- c('group', colnames(sub_res_age))\n",
    "sub_res <- sub_res %>% dplyr::select(c(1 : 4, 7 : 11)) %>% \n",
    "    tibble::add_row(group = 'Age', .before = 2) %>% \n",
    "    tibble::add_row(group = 'Sex', .before = 5) %>% \n",
    "    tibble::add_row(group = 'Diabetes', .before = 8) %>% \n",
    "    tibble::add_row(group = 'Heart failure', .before = 11) %>%  \n",
    "    tibble::add_row(group = 'eGFR', .before = 14)"
   ]
  },
  {
   "cell_type": "code",
   "execution_count": 69,
   "metadata": {},
   "outputs": [],
   "source": [
    "tabletext <- cbind(c(\"Subgroup\", \"\\n\", as.character(sub_res$group)), \n",
    "                   c(\"3 year risk for\\n discontinuation (%)\", \"\\n\", as.character(sub_res[ , 2])), \n",
    "                   c(\"3 year risk for\\n reinitiation (%)\", \"\\n\", as.character(sub_res[ , 3])), \n",
    "                   c(\"Risk difference (%)\", \"\\n\", as.character(sub_res[ , 4])), \n",
    "                   c(\"AERI (%)\", \"\\n\", as.character(sub_res$AERI)), \n",
    "                   c(\"P Value\", \"\\n\", as.character(sub_res$p)))"
   ]
  },
  {
   "cell_type": "code",
   "execution_count": 70,
   "metadata": {},
   "outputs": [
    {
     "data": {
      "image/png": "[encoded data removed]",
      "text/plain": [
       "plot without title"
      ]
     },
     "metadata": {
      "image/png": {
       "height": 600,
       "width": 1080
      }
     },
     "output_type": "display_data"
    }
   ],
   "source": [
    "options(repr.plot.width = 18, repr.plot.height = 10)\n",
    "forestplot(labeltext = tabletext, \n",
    "           graph.pos = 6, \n",
    "           mean = c(NA, NA, as.numeric(as.character(sub_res[['AERI point']]))), \n",
    "           lower = c(NA, NA, as.numeric(as.character(sub_res[['AERI lci']]))), \n",
    "           upper = c(NA, NA, as.numeric(as.character(sub_res[['AERI uci']]))), \n",
    "           title = \"\", \n",
    "           xlab = \"<---Discontinuation Better---                    ---Reinitiation Better--->\",\n",
    "           hrzl_lines = list(\"6\" = gpar(lwd = 80, lineend = \"butt\", columns=c(1 : 7), col=\"#99999922\"), \n",
    "                             \"9\" = gpar(lwd = 80, lineend = \"butt\", columns=c(1 : 7), col=\"#99999922\"),\n",
    "                             \"12\" = gpar(lwd = 80, lineend = \"butt\", columns=c(1 : 7), col=\"#99999922\"), \n",
    "                             \"15\" = gpar(lwd = 80, lineend = \"butt\", columns=c(1 : 7), col=\"#99999922\"),\n",
    "                             \"18\" = gpar(lwd = 80, lineend = \"butt\", columns=c(1 : 7), col=\"#99999922\")), \n",
    "           txt_gp = fpTxtGp(label = gpar(cex = 1.25),\n",
    "                            ticks = gpar(cex = 1.1),\n",
    "                            xlab = gpar(cex = 1.2),\n",
    "                            title = gpar(cex = 1.2)),\n",
    "           col = fpColors(box = \"black\", lines = \"black\", zero = \"red\"),\n",
    "           graphwidth = unit(100, 'mm'), \n",
    "           colgap = unit(6, \"mm\"),\n",
    "           boxsize = 0.3)"
   ]
  },
  {
   "cell_type": "code",
   "execution_count": null,
   "metadata": {},
   "outputs": [],
   "source": []
  },
  {
   "cell_type": "code",
   "execution_count": null,
   "metadata": {},
   "outputs": [],
   "source": []
  },
  {
   "cell_type": "code",
   "execution_count": null,
   "metadata": {},
   "outputs": [],
   "source": []
  },
  {
   "cell_type": "code",
   "execution_count": null,
   "metadata": {},
   "outputs": [],
   "source": []
  },
  {
   "cell_type": "code",
   "execution_count": null,
   "metadata": {},
   "outputs": [],
   "source": []
  },
  {
   "cell_type": "code",
   "execution_count": null,
   "metadata": {},
   "outputs": [],
   "source": []
  }
 ],
 "metadata": {
  "kernelspec": {
   "display_name": "R",
   "language": "R",
   "name": "ir"
  },
  "language_info": {
   "codemirror_mode": "r",
   "file_extension": ".r",
   "mimetype": "text/x-r-source",
   "name": "R",
   "pygments_lexer": "r",
   "version": "3.6.1"
  }
 },
 "nbformat": 4,
 "nbformat_minor": 4
}
