{
 "cells": [
  {
   "cell_type": "markdown",
   "metadata": {},
   "source": [
    "## load packages"
   ]
  },
  {
   "cell_type": "code",
   "execution_count": 2,
   "metadata": {},
   "outputs": [],
   "source": [
    "library(dplyr)\n",
    "library(lubridate)\n",
    "library(tableone)\n",
    "library(DescTools)\n",
    "library(biostat3)\n",
    "library(survminer)\n",
    "library(mice)\n",
    "library(foreach)\n",
    "library(mgcv)\n",
    "library(doParallel)\n",
    "library(mitools)\n",
    "library(survey)\n",
    "library(ipw)\n",
    "library(rms)\n",
    "library(tidyr)\n",
    "library(EValue)\n",
    "library(rpart)\n",
    "library(data.table)\n",
    "library(snow)\n",
    "library(forestplot)\n",
    "library(parglm)"
   ]
  },
  {
   "cell_type": "code",
   "execution_count": 3,
   "metadata": {},
   "outputs": [],
   "source": [
    "## HR display function\n",
    "OR.result.tidy <- function(result) {\n",
    "    res <- result$coefficients[2, c(1, 2)]\n",
    "    OR <- exp(res[1])\n",
    "    lci <- exp(res[1] - qnorm(0.975) * res[2])\n",
    "    uci <- exp(res[1] + qnorm(0.975) * res[2])\n",
    "    res <- data.frame(OR, lci, uci)\n",
    "    colnames(res) <- c('OR', 'lci', 'uci')\n",
    "    res <- res %>% \n",
    "        data.frame() %>% \n",
    "        mutate_at(vars(OR, lci, uci), funs(round(., 2))) \n",
    "    res <- res %>% \n",
    "        mutate(OR = paste0(res[, 1], \" (\", res[, 2], \"-\", res[, 3], \")\")) %>% \n",
    "        cbind(group = c('discontinuation')) %>% \n",
    "        dplyr::select(c(4, 1))\n",
    "    res <- rbind(data.frame(group = 'reinitiation', OR = 'Ref'), res) \n",
    "    res$group <- as.character(res$group)\n",
    "    return(res)\n",
    "}"
   ]
  },
  {
   "cell_type": "markdown",
   "metadata": {},
   "source": [
    "## import data"
   ]
  },
  {
   "cell_type": "code",
   "execution_count": 4,
   "metadata": {},
   "outputs": [],
   "source": [
    "load('dta_tidied_PP.R')"
   ]
  },
  {
   "cell_type": "code",
   "execution_count": 5,
   "metadata": {},
   "outputs": [],
   "source": [
    "dta_clone_fracture <- dta_clone %>% \n",
    "    arrange(X, lopnr, index_date) %>% \n",
    "    group_by(X, lopnr) %>% \n",
    "    mutate(death_filter = cumsum(outcome_death), \n",
    "           censor_filter = cumsum(censor), \n",
    "           fracture_filter = cumsum(outcome_fracture)) %>% \n",
    "    filter(death_filter <= 1 & censor_filter <= 1 & fracture_filter <= 1) %>% \n",
    "    ungroup() %>% \n",
    "    dplyr::select(c('lopnr', 'ID', 'X', \n",
    "                    'index_date', 'after_index_date', 'rank', \n",
    "                    'age', 'female', 'index_year', 'duration', \n",
    "                    'cov_diabetes_t0', 'cov_hypertension_t0', \n",
    "                    'cov_MI_t0', 'cov_CHF_t0', 'cov_cerebrovascular_disease_t0', 'cov_PVD_t0', \n",
    "                    'cov_cancer_t0', 'cov_COPD_t0', \n",
    "                    'cov_beta_blocker_t0', 'cov_CCB_t0', 'cov_diuretic_t0', 'cov_MRA_t0', 'cov_SPS_t0', \n",
    "                    'cov_statin_t0', \n",
    "                    'cov_antiplatelet_agent_t0', \n",
    "                    'cov_egfr_t0', 'cov_egfr_cat_t0', 'cov_acr_t0', 'cov_acr_cat_t0', \n",
    "                    'potassium_value', 'potassium_cat', \n",
    "                    'cov_hospitalization_t0', 'cov_fracture_t0', \n",
    "                    'primary_care_num', 'outpatient_num', 'inpatient_num', \n",
    "                    'cov_diabetes', 'cov_hypertension', \n",
    "                    'cov_MI', 'cov_CHF', 'cov_cerebrovascular_disease', 'cov_PVD', \n",
    "                    'cov_cancer', 'cov_COPD',  \n",
    "                    'cov_beta_blocker', 'cov_CCB', 'cov_diuretic', 'cov_MRA', 'cov_SPS', \n",
    "                    'cov_statin', \n",
    "                    'cov_antiplatelet_agent', \n",
    "                    'cov_egfr', 'cov_egfr_cat', 'cov_acr', 'cov_acr_cat', \n",
    "                    'cov_potassium', 'cov_hospitalization', 'cov_fracture', \n",
    "                    'outcome_fracture', 'censor', 'treatment'))"
   ]
  },
  {
   "cell_type": "markdown",
   "metadata": {},
   "source": [
    "## description of chracteristics at month 6 (unweighted)"
   ]
  },
  {
   "cell_type": "code",
   "execution_count": 6,
   "metadata": {},
   "outputs": [],
   "source": [
    "dta_clone_fracture_6_month <- dta_clone_fracture %>% filter(rank == 6)"
   ]
  },
  {
   "cell_type": "code",
   "execution_count": 7,
   "metadata": {},
   "outputs": [],
   "source": [
    "xvars <- c('age', 'female', 'index_year', 'duration', 'potassium_cat', \n",
    "           'cov_diabetes', 'cov_hypertension', \n",
    "           'cov_MI', 'cov_CHF', 'cov_cerebrovascular_disease', 'cov_PVD', \n",
    "           'cov_cancer', 'cov_COPD', 'cov_fracture', \n",
    "           'cov_beta_blocker', 'cov_CCB', 'cov_diuretic', 'cov_MRA', 'cov_SPS', \n",
    "           'cov_statin', \n",
    "           'cov_antiplatelet_agent', \n",
    "           # 'cov_potassium', \n",
    "           'cov_egfr_cat', \n",
    "           'primary_care_num', 'cov_hospitalization', 'outpatient_num', 'inpatient_num')\n",
    "xfactorvars <- c('female', 'index_year', 'potassium_cat', \n",
    "                 'cov_diabetes', 'cov_hypertension', \n",
    "                 'cov_MI', 'cov_CHF', 'cov_cerebrovascular_disease', 'cov_PVD', \n",
    "                 'cov_cancer', 'cov_COPD', 'cov_fracture', \n",
    "                 'cov_beta_blocker', 'cov_CCB', 'cov_diuretic', 'cov_MRA', 'cov_SPS', \n",
    "                 'cov_statin', \n",
    "                 'cov_antiplatelet_agent', \n",
    "                 'cov_egfr_cat', 'cov_hospitalization')\n",
    "xnonnormvars <- c('duration', # 'cov_potassium', \n",
    "                  'primary_care_num', 'outpatient_num', 'inpatient_num')"
   ]
  },
  {
   "cell_type": "code",
   "execution_count": 8,
   "metadata": {},
   "outputs": [],
   "source": [
    "tb1.part <- CreateTableOne(xvars, strata = 'X', data = dta_clone_fracture_6_month, factorVars = xfactorvars, includeNA = T)\n",
    "tb1.part <- print(tb1.part, nonnormal = xnonnormvars, test = F, smd = T, printToggle = F)"
   ]
  },
  {
   "cell_type": "code",
   "execution_count": 9,
   "metadata": {},
   "outputs": [],
   "source": [
    "dta_clone_fracture_imp1 <- dta_clone_fracture"
   ]
  },
  {
   "cell_type": "markdown",
   "metadata": {},
   "source": [
    "## description of fracture event in each arm (unweighted)"
   ]
  },
  {
   "cell_type": "code",
   "execution_count": 10,
   "metadata": {},
   "outputs": [
    {
     "name": "stderr",
     "output_type": "stream",
     "text": [
      "`summarise()` ungrouping output (override with `.groups` argument)\n",
      "\n",
      "`summarise()` ungrouping output (override with `.groups` argument)\n",
      "\n",
      "Warning message:\n",
      "“`funs()` is deprecated as of dplyr 0.8.0.\n",
      "Please use a list of either functions or lambdas: \n",
      "\n",
      "  # Simple named list: \n",
      "  list(mean = mean, median = median)\n",
      "\n",
      "  # Auto named with `tibble::lst()`: \n",
      "  tibble::lst(mean, median)\n",
      "\n",
      "  # Using lambdas\n",
      "  list(~ mean(., trim = .2), ~ median(., na.rm = TRUE))\n",
      "\u001b[90mThis warning is displayed once every 8 hours.\u001b[39m\n",
      "\u001b[90mCall `lifecycle::last_warnings()` to see where this warning was generated.\u001b[39m”\n"
     ]
    },
    {
     "data": {
      "text/html": [
       "<table>\n",
       "<caption>A data.frame: 2 × 6</caption>\n",
       "<thead>\n",
       "\t<tr><th scope=col>group</th><th scope=col>n</th><th scope=col>followup</th><th scope=col>event</th><th scope=col>person_years</th><th scope=col>incidence rate</th></tr>\n",
       "\t<tr><th scope=col>&lt;chr&gt;</th><th scope=col>&lt;int&gt;</th><th scope=col>&lt;chr&gt;</th><th scope=col>&lt;dbl&gt;</th><th scope=col>&lt;dbl&gt;</th><th scope=col>&lt;chr&gt;</th></tr>\n",
       "</thead>\n",
       "<tbody>\n",
       "\t<tr><td>discontinuation</td><td>5669</td><td>0.16 [0.08-0.25]</td><td>332</td><td>2000.37</td><td>0.17 (0.15-0.18)</td></tr>\n",
       "\t<tr><td>reinitiation   </td><td>5669</td><td>0.58 [0.42-1.16]</td><td>567</td><td>4970.39</td><td>0.11 (0.1-0.12) </td></tr>\n",
       "</tbody>\n",
       "</table>\n"
      ],
      "text/latex": [
       "A data.frame: 2 × 6\n",
       "\\begin{tabular}{llllll}\n",
       " group & n & followup & event & person\\_years & incidence rate\\\\\n",
       " <chr> & <int> & <chr> & <dbl> & <dbl> & <chr>\\\\\n",
       "\\hline\n",
       "\t discontinuation & 5669 & 0.16 {[}0.08-0.25{]} & 332 & 2000.37 & 0.17 (0.15-0.18)\\\\\n",
       "\t reinitiation    & 5669 & 0.58 {[}0.42-1.16{]} & 567 & 4970.39 & 0.11 (0.1-0.12) \\\\\n",
       "\\end{tabular}\n"
      ],
      "text/markdown": [
       "\n",
       "A data.frame: 2 × 6\n",
       "\n",
       "| group &lt;chr&gt; | n &lt;int&gt; | followup &lt;chr&gt; | event &lt;dbl&gt; | person_years &lt;dbl&gt; | incidence rate &lt;chr&gt; |\n",
       "|---|---|---|---|---|---|\n",
       "| discontinuation | 5669 | 0.16 [0.08-0.25] | 332 | 2000.37 | 0.17 (0.15-0.18) |\n",
       "| reinitiation    | 5669 | 0.58 [0.42-1.16] | 567 | 4970.39 | 0.11 (0.1-0.12)  |\n",
       "\n"
      ],
      "text/plain": [
       "  group           n    followup         event person_years incidence rate  \n",
       "1 discontinuation 5669 0.16 [0.08-0.25] 332   2000.37      0.17 (0.15-0.18)\n",
       "2 reinitiation    5669 0.58 [0.42-1.16] 567   4970.39      0.11 (0.1-0.12) "
      ]
     },
     "metadata": {},
     "output_type": "display_data"
    }
   ],
   "source": [
    "source('results function.R')\n",
    "dta_clone_fracture_imp1_fixed <- dta_clone_fracture_imp1 %>% \n",
    "        arrange(ID, index_date) %>% \n",
    "        group_by(ID) %>% \n",
    "        summarise(index_date = min(index_date), \n",
    "                  after_index_date = max(after_index_date), \n",
    "                  outcome_fracture = sum(outcome_fracture), \n",
    "                  X = first(X))\n",
    "incid_num('outcome_fracture', 'index_date', 'after_index_date', 'X', \n",
    "          dta_clone_fracture_imp1_fixed, digit = 2)"
   ]
  },
  {
   "cell_type": "markdown",
   "metadata": {},
   "source": [
    "## IPW calculation"
   ]
  },
  {
   "cell_type": "code",
   "execution_count": 11,
   "metadata": {},
   "outputs": [],
   "source": [
    "x_adjusted_var <- c('age', 'female', 'index_year', 'rcs(duration, 3)', 'rcs(potassium_value, 3)', \n",
    "                    # 'cov_diabetes_t0', 'cov_hypertension_t0', \n",
    "                    # 'cov_MI_t0', 'cov_CHF_t0', 'cov_cerebrovascular_disease_t0', 'cov_PVD_t0', \n",
    "                    # 'cov_COPD_t0', \n",
    "                    # 'cov_beta_blocker_t0', 'cov_CCB_t0', 'cov_diuretic_t0', 'cov_MRA_t0', 'cov_SPS_t0', \n",
    "                    # 'cov_statin_t0', \n",
    "                    # 'cov_antiplatelet_agent_t0', \n",
    "                    # 'cov_egfr_t0', \n",
    "                    'primary_care_num', \n",
    "                    'outpatient_num', \n",
    "                    'inpatient_num', # 'cov_hospitalization_t0', \n",
    "                    'cov_diabetes', 'cov_hypertension', \n",
    "                    'cov_MI', 'cov_CHF', 'cov_cerebrovascular_disease', 'cov_PVD', \n",
    "                    'cov_cancer', 'cov_COPD', 'cov_fracture',  \n",
    "                    'cov_beta_blocker', 'cov_CCB', 'cov_diuretic', 'cov_MRA', 'cov_SPS', \n",
    "                    'cov_statin', \n",
    "                    'cov_antiplatelet_agent', \n",
    "                    'rcs(cov_egfr, 6)', \n",
    "                    # 'rcs(cov_potassium, 12)', \n",
    "                    'cov_hospitalization')"
   ]
  },
  {
   "cell_type": "code",
   "execution_count": 12,
   "metadata": {},
   "outputs": [],
   "source": [
    "x_adjusted_var_ML <- c('age', 'female', 'index_year', 'duration', 'potassium_value', \n",
    "                       # 'cov_diabetes_t0', 'cov_hypertension_t0', \n",
    "                       # 'cov_MI_t0', 'cov_CHF_t0', 'cov_cerebrovascular_disease_t0', 'cov_PVD_t0', \n",
    "                       # 'cov_COPD_t0', \n",
    "                       # 'cov_beta_blocker_t0', 'cov_CCB_t0', 'cov_diuretic_t0', 'cov_MRA_t0', 'cov_SPS_t0', \n",
    "                       # 'cov_statin_t0', \n",
    "                       # 'cov_antiplatelet_agent_t0', \n",
    "                       # 'cov_egfr_t0', \n",
    "                       'primary_care_num', \n",
    "                       'outpatient_num', \n",
    "                       'inpatient_num', # 'cov_hospitalization_t0', \n",
    "                       'cov_diabetes', 'cov_hypertension', \n",
    "                       'cov_MI', 'cov_CHF', 'cov_cerebrovascular_disease', 'cov_PVD', \n",
    "                       'cov_cancer', 'cov_COPD', 'cov_fracture',  \n",
    "                       'cov_beta_blocker', 'cov_CCB', 'cov_diuretic', 'cov_MRA', 'cov_SPS', \n",
    "                       'cov_statin', \n",
    "                       'cov_antiplatelet_agent', \n",
    "                       'cov_egfr', \n",
    "                       # 'cov_potassium',\n",
    "                       'cov_hospitalization')"
   ]
  },
  {
   "cell_type": "code",
   "execution_count": 13,
   "metadata": {},
   "outputs": [],
   "source": [
    "dta_clone_fracture_imp1_discontinuation <- dta_clone_fracture_imp1 %>% \n",
    "    filter(X == 'discontinuation') %>% \n",
    "    arrange(ID, index_date)\n",
    "dta_clone_fracture_imp1_discontinuation_censor_part <- dta_clone_fracture_imp1_discontinuation\n",
    "dta_clone_fracture_imp1_discontinuation_noncensor_part <- dta_clone_fracture_imp1_discontinuation %>% \n",
    "    filter(rank == 0)"
   ]
  },
  {
   "cell_type": "code",
   "execution_count": 14,
   "metadata": {},
   "outputs": [],
   "source": [
    "## logistic regression formula\n",
    "regression_formula_IPCW <- as.formula(paste0('censor ~ rank + rank ^ 2 + ', \n",
    "                                             paste(x_adjusted_var, collapse = \" + \"), \n",
    "                                             sep = ' '))\n",
    "denominator.fit <- glm(regression_formula_IPCW, \n",
    "                       data = dta_clone_fracture_imp1_discontinuation_censor_part, \n",
    "                       family  = binomial(link = \"logit\"))\n",
    "numerator.fit <- glm(censor ~ rank + rank ^ 2 + age + female + index_year + duration + potassium_value + \n",
    "                     primary_care_num + outpatient_num + inpatient_num + \n",
    "                     cov_diabetes_t0 + cov_hypertension_t0 + \n",
    "                     cov_MI_t0 + cov_CHF_t0 + cov_cerebrovascular_disease_t0 + cov_PVD_t0 + \n",
    "                     cov_cancer_t0 + cov_COPD_t0 + cov_fracture_t0 + \n",
    "                     cov_beta_blocker_t0 + cov_CCB_t0 + cov_diuretic_t0 + \n",
    "                     cov_MRA_t0 + cov_SPS_t0 + \n",
    "                     cov_statin_t0 + \n",
    "                     cov_antiplatelet_agent_t0 + \n",
    "                     cov_egfr_t0 + \n",
    "                     cov_hospitalization_t0, \n",
    "                     data = dta_clone_fracture_imp1_discontinuation_censor_part, \n",
    "                     family  = binomial(link = \"logit\"))\n",
    "## machine learning formula\n",
    "ML_formula_IPCW <- as.formula(paste0('censor ~ rank + ', \n",
    "                                     paste(x_adjusted_var_ML, collapse = \" + \"), \n",
    "                                     sep = ' '))\n",
    "denominator.fit_ML <- rpart(ML_formula_IPCW, \n",
    "                         data = dta_clone_fracture_imp1_discontinuation_censor_part, \n",
    "                         method = 'class')\n",
    "numerator.fit_ML <- rpart(censor ~ rank + age + female + index_year + duration + potassium_value + \n",
    "                          primary_care_num + outpatient_num + inpatient_num + \n",
    "                          cov_diabetes_t0 + cov_hypertension_t0 + \n",
    "                          cov_MI_t0 + cov_CHF_t0 + cov_cerebrovascular_disease_t0 + cov_PVD_t0 + \n",
    "                          cov_cancer_t0 + cov_COPD_t0 + cov_fracture_t0 + \n",
    "                          cov_beta_blocker_t0 + cov_CCB_t0 + cov_diuretic_t0 + \n",
    "                          cov_MRA_t0 + cov_SPS_t0 + \n",
    "                          cov_statin_t0 + \n",
    "                          cov_antiplatelet_agent_t0 + \n",
    "                          cov_egfr_t0 + \n",
    "                          cov_hospitalization_t0,\n",
    "                          data = dta_clone_fracture_imp1_discontinuation_censor_part, \n",
    "                          method = 'class')\n",
    "## ============================================================================================================="
   ]
  },
  {
   "cell_type": "code",
   "execution_count": 15,
   "metadata": {},
   "outputs": [],
   "source": [
    "## Stabilized IPW\n",
    "dta_clone_fracture_imp1_discontinuation_censor_part$ipw_per_month <- \n",
    "    ifelse(dta_clone_fracture_imp1_discontinuation_censor_part$censor == 1, \n",
    "           0, \n",
    "           (1 - fitted(numerator.fit)) / (1 - fitted(denominator.fit)))\n",
    "dta_clone_fracture_imp1_discontinuation_noncensor_part$ipw_per_month <- 1\n",
    "## =============================================================================================================\n",
    "## Unstabilized IPW\n",
    "dta_clone_fracture_imp1_discontinuation_censor_part$ipw_uns_per_month <- \n",
    "    ifelse(dta_clone_fracture_imp1_discontinuation_censor_part$censor == 1, \n",
    "           0, \n",
    "           1 / (1 - fitted(denominator.fit)))\n",
    "dta_clone_fracture_imp1_discontinuation_noncensor_part$ipw_uns_per_month <- 1\n",
    "## =============================================================================================================\n",
    "## Stabilized IPW by ML\n",
    "dta_clone_fracture_imp1_discontinuation_censor_part$ipw_ML_per_month <- \n",
    "    ifelse(dta_clone_fracture_imp1_discontinuation_censor_part$censor == 1, \n",
    "           0, \n",
    "           predict(numerator.fit_ML)[, 1] / predict(denominator.fit_ML)[, 1])\n",
    "dta_clone_fracture_imp1_discontinuation_noncensor_part$ipw_ML_per_month <- 1\n",
    "## ============================================================================================================="
   ]
  },
  {
   "cell_type": "code",
   "execution_count": 16,
   "metadata": {},
   "outputs": [],
   "source": [
    "dta_clone_fracture_imp1_discontinuation <- rbind(dta_clone_fracture_imp1_discontinuation_censor_part, \n",
    "                                              dta_clone_fracture_imp1_discontinuation_noncensor_part) %>% \n",
    "    arrange(ID, index_date)\n",
    "## Stabilized IPW\n",
    "dta_clone_fracture_imp1_discontinuation$ipw <- unlist(tapply(dta_clone_fracture_imp1_discontinuation$ipw_per_month, \n",
    "                                                         dta_clone_fracture_imp1_discontinuation$ID, cumprod))\n",
    "## =============================================================================================================\n",
    "## Unstabilized IPW\n",
    "dta_clone_fracture_imp1_discontinuation$ipw_uns <- unlist(tapply(dta_clone_fracture_imp1_discontinuation$ipw_uns_per_month, \n",
    "                                                              dta_clone_fracture_imp1_discontinuation$ID, cumprod))\n",
    "## =============================================================================================================\n",
    "## Stabilized IPW by ML\n",
    "dta_clone_fracture_imp1_discontinuation$ipw_ML <- unlist(tapply(dta_clone_fracture_imp1_discontinuation$ipw_ML_per_month, \n",
    "                                                             dta_clone_fracture_imp1_discontinuation$ID, cumprod))\n",
    "## ============================================================================================================="
   ]
  },
  {
   "cell_type": "code",
   "execution_count": 17,
   "metadata": {},
   "outputs": [
    {
     "data": {
      "text/plain": [
       "   Min. 1st Qu.  Median    Mean 3rd Qu.    Max. \n",
       " 0.0000  0.7403  0.9648  0.8366  1.0616  3.6599 "
      ]
     },
     "metadata": {},
     "output_type": "display_data"
    },
    {
     "data": {
      "image/png": "[encoded data removed]",
      "text/plain": [
       "Plot with title “Stabilized inverse probability weights for discontinuation arm”"
      ]
     },
     "metadata": {
      "image/png": {
       "height": 420,
       "width": 420
      }
     },
     "output_type": "display_data"
    },
    {
     "data": {
      "text/plain": [
       "   Min. 1st Qu.  Median    Mean 3rd Qu.    Max. \n",
       "  0.000   1.440   2.743   5.399   6.499  94.314 "
      ]
     },
     "metadata": {},
     "output_type": "display_data"
    },
    {
     "data": {
      "image/png": "[encoded data removed]",
      "text/plain": [
       "Plot with title “Unstabilized inverse probability weights for discontinuation arm”"
      ]
     },
     "metadata": {
      "image/png": {
       "height": 420,
       "width": 420
      }
     },
     "output_type": "display_data"
    },
    {
     "data": {
      "text/plain": [
       "   Min. 1st Qu.  Median    Mean 3rd Qu.    Max. \n",
       " 0.0000  1.0000  1.0000  0.8188  1.0000  1.0000 "
      ]
     },
     "metadata": {},
     "output_type": "display_data"
    },
    {
     "data": {
      "image/png": "[encoded data removed]",
      "text/plain": [
       "Plot with title “Stabilized inverse probability weights for discontinuation arm (ML)”"
      ]
     },
     "metadata": {
      "image/png": {
       "height": 420,
       "width": 420
      }
     },
     "output_type": "display_data"
    }
   ],
   "source": [
    "ipwplot(dta_clone_fracture_imp1_discontinuation$ipw, dta_clone_fracture_imp1_discontinuation$rank, \n",
    "        binwidth = 1, logscale = F, \n",
    "        xlab = 'Months since first hyperkalemia', \n",
    "        ylab = 'Weights', \n",
    "        main = 'Stabilized inverse probability weights for discontinuation arm', \n",
    "        ylim = c(0, 30))\n",
    "summary(dta_clone_fracture_imp1_discontinuation$ipw)\n",
    "ipwplot(dta_clone_fracture_imp1_discontinuation$ipw_uns, dta_clone_fracture_imp1_discontinuation$rank, \n",
    "        binwidth = 1, logscale = F, \n",
    "        xlab = 'Months since first hyperkalemia', \n",
    "        ylab = 'Weights', \n",
    "        main = 'Unstabilized inverse probability weights for discontinuation arm', \n",
    "        ylim = c(0, 30))\n",
    "summary(dta_clone_fracture_imp1_discontinuation$ipw_uns)\n",
    "ipwplot(dta_clone_fracture_imp1_discontinuation$ipw_ML, dta_clone_fracture_imp1_discontinuation$rank, \n",
    "        binwidth = 1, logscale = F, \n",
    "        xlab = 'Months since first hyperkalemia', \n",
    "        ylab = 'Weights', \n",
    "        main = 'Stabilized inverse probability weights for discontinuation arm (ML)', \n",
    "        ylim = c(0, 30))\n",
    "summary(dta_clone_fracture_imp1_discontinuation$ipw_ML)"
   ]
  },
  {
   "cell_type": "code",
   "execution_count": 18,
   "metadata": {},
   "outputs": [],
   "source": [
    "dta_clone_fracture_imp1_reinitiation <- dta_clone_fracture_imp1 %>% \n",
    "    filter(X == 'reinitiation') %>% \n",
    "    arrange(ID, index_date)\n",
    "dta_clone_fracture_imp1_reinitiation_censor_part <- dta_clone_fracture_imp1_reinitiation %>% \n",
    "    filter(rank >= 2)\n",
    "dta_clone_fracture_imp1_reinitiation_noncensor_part <- dta_clone_fracture_imp1_reinitiation %>% \n",
    "    filter(rank == 1)"
   ]
  },
  {
   "cell_type": "code",
   "execution_count": 19,
   "metadata": {},
   "outputs": [
    {
     "data": {
      "text/plain": [
       "   Min. 1st Qu.  Median    Mean 3rd Qu.    Max. \n",
       " 0.0000  0.9560  0.9946  0.9472  1.0111  4.4014 "
      ]
     },
     "metadata": {},
     "output_type": "display_data"
    },
    {
     "data": {
      "image/png": "[encoded data removed]",
      "text/plain": [
       "Plot with title “Stabilized inverse probability weights for reinitiation arm”"
      ]
     },
     "metadata": {
      "image/png": {
       "height": 420,
       "width": 420
      }
     },
     "output_type": "display_data"
    },
    {
     "data": {
      "text/plain": [
       "   Min. 1st Qu.  Median    Mean 3rd Qu.    Max. \n",
       "  0.000   1.097   1.344   2.033   2.013 346.673 "
      ]
     },
     "metadata": {},
     "output_type": "display_data"
    },
    {
     "data": {
      "image/png": "[encoded data removed]",
      "text/plain": [
       "Plot with title “Unstabilized inverse probability weights for reinitiation arm”"
      ]
     },
     "metadata": {
      "image/png": {
       "height": 420,
       "width": 420
      }
     },
     "output_type": "display_data"
    },
    {
     "data": {
      "text/plain": [
       "   Min. 1st Qu.  Median    Mean 3rd Qu.    Max. \n",
       " 0.0000  1.0000  1.0000  0.9468  1.0000  1.0000 "
      ]
     },
     "metadata": {},
     "output_type": "display_data"
    },
    {
     "data": {
      "image/png": "[encoded data removed]",
      "text/plain": [
       "Plot with title “Stabilized inverse probability weights for reinitiation arm (ML)”"
      ]
     },
     "metadata": {
      "image/png": {
       "height": 420,
       "width": 420
      }
     },
     "output_type": "display_data"
    }
   ],
   "source": [
    "regression_formula_IPCW <- as.formula(paste0('censor ~ rank + rank ^ 2 + ', \n",
    "                                             paste(x_adjusted_var, collapse = \" + \"), \n",
    "                                             sep = ' '))\n",
    "denominator.fit <- glm(regression_formula_IPCW, \n",
    "                       data = dta_clone_fracture_imp1_reinitiation_censor_part, \n",
    "                       family  = binomial(link = \"logit\"))\n",
    "numerator.fit <- glm(censor ~ age + female + index_year + duration + potassium_value + \n",
    "                     primary_care_num + outpatient_num + inpatient_num + \n",
    "                     cov_MI_t0 + cov_CHF_t0 + cov_cerebrovascular_disease_t0 + cov_PVD_t0 + \n",
    "                     cov_cancer_t0 + cov_COPD_t0 + cov_fracture_t0 + \n",
    "                     cov_beta_blocker_t0 + cov_CCB_t0 + cov_diuretic_t0 + \n",
    "                     cov_MRA_t0 + cov_SPS_t0 + \n",
    "                     cov_statin_t0 + \n",
    "                     cov_antiplatelet_agent_t0 + \n",
    "                     cov_egfr_t0 + \n",
    "                     cov_hospitalization_t0, , \n",
    "                     data = dta_clone_fracture_imp1_reinitiation_censor_part, \n",
    "                     family  = binomial(link = \"logit\"))\n",
    "## machine learning formula\n",
    "ML_formula_IPCW <- as.formula(paste0('censor ~ rank + ', \n",
    "                                     paste(x_adjusted_var_ML, collapse = \" + \"), \n",
    "                                     sep = ' '))\n",
    "denominator.fit_ML <- rpart(ML_formula_IPCW, \n",
    "                         data = dta_clone_fracture_imp1_reinitiation_censor_part, \n",
    "                         method = 'class')\n",
    "numerator.fit_ML <- rpart(censor ~ age + female + index_year + duration + potassium_value  + \n",
    "                          primary_care_num + outpatient_num + inpatient_num + \n",
    "                          cov_diabetes_t0 + cov_hypertension_t0 + \n",
    "                          cov_MI_t0 + cov_CHF_t0 + cov_cerebrovascular_disease_t0 + cov_PVD_t0 + \n",
    "                          cov_cancer_t0 + cov_COPD_t0 + cov_fracture_t0 + \n",
    "                          cov_beta_blocker_t0 + cov_CCB_t0 + cov_diuretic_t0 + \n",
    "                          cov_MRA_t0 + cov_SPS_t0 + \n",
    "                          cov_statin_t0 + \n",
    "                          cov_antiplatelet_agent_t0 + \n",
    "                          cov_egfr_t0 + \n",
    "                          cov_hospitalization_t0, \n",
    "                          data = dta_clone_fracture_imp1_reinitiation_censor_part, \n",
    "                          method = 'class')\n",
    "## =============================================================================================================\n",
    "## Stabilized IPW\n",
    "dta_clone_fracture_imp1_reinitiation_censor_part$ipw_per_month <- \n",
    "    ifelse(dta_clone_fracture_imp1_reinitiation_censor_part$censor == 1, \n",
    "           0, \n",
    "           (1 - fitted(numerator.fit)) / (1 - fitted(denominator.fit)))\n",
    "dta_clone_fracture_imp1_reinitiation_noncensor_part$ipw_per_month <- 1\n",
    "## =============================================================================================================\n",
    "## Unstabilized IPW\n",
    "dta_clone_fracture_imp1_reinitiation_censor_part$ipw_uns_per_month <- \n",
    "    ifelse(dta_clone_fracture_imp1_reinitiation_censor_part$censor == 1, \n",
    "           0, \n",
    "           1 / (1 - fitted(denominator.fit)))\n",
    "dta_clone_fracture_imp1_reinitiation_noncensor_part$ipw_uns_per_month <- 1\n",
    "## =============================================================================================================\n",
    "## Stabilized IPW by ML\n",
    "dta_clone_fracture_imp1_reinitiation_censor_part$ipw_ML_per_month <- \n",
    "    ifelse(dta_clone_fracture_imp1_reinitiation_censor_part$censor == 1, \n",
    "           0, \n",
    "           predict(numerator.fit_ML)[, 1] / predict(denominator.fit_ML)[, 1])\n",
    "dta_clone_fracture_imp1_reinitiation_noncensor_part$ipw_ML_per_month <- 1\n",
    "## =============================================================================================================\n",
    "dta_clone_fracture_imp1_reinitiation <- rbind(dta_clone_fracture_imp1_reinitiation_censor_part, \n",
    "                                           dta_clone_fracture_imp1_reinitiation_noncensor_part) %>% \n",
    "    arrange(ID, index_date)\n",
    "## Stabilized IPW\n",
    "dta_clone_fracture_imp1_reinitiation$ipw <- unlist(tapply(dta_clone_fracture_imp1_reinitiation$ipw_per_month, \n",
    "                                                       dta_clone_fracture_imp1_reinitiation$ID, cumprod))\n",
    "## =============================================================================================================\n",
    "## Unstabilized IPW\n",
    "dta_clone_fracture_imp1_reinitiation$ipw_uns <- unlist(tapply(dta_clone_fracture_imp1_reinitiation$ipw_uns_per_month, \n",
    "                                                           dta_clone_fracture_imp1_reinitiation$ID, cumprod))\n",
    "## =============================================================================================================\n",
    "## Stabilized IPW by ML\n",
    "dta_clone_fracture_imp1_reinitiation$ipw_ML <- unlist(tapply(dta_clone_fracture_imp1_reinitiation$ipw_ML_per_month, \n",
    "                                                          dta_clone_fracture_imp1_reinitiation$ID, cumprod))\n",
    "## =============================================================================================================\n",
    "ipwplot(dta_clone_fracture_imp1_reinitiation$ipw, dta_clone_fracture_imp1_reinitiation$rank, \n",
    "        binwidth = 1, logscale = F, \n",
    "        xlab = 'Months since first hyperkalemia', \n",
    "        ylab = 'Weights', \n",
    "        main = 'Stabilized inverse probability weights for reinitiation arm', \n",
    "        ylim = c(0, 30))\n",
    "summary(dta_clone_fracture_imp1_reinitiation$ipw)\n",
    "ipwplot(dta_clone_fracture_imp1_reinitiation$ipw_uns, dta_clone_fracture_imp1_reinitiation$rank, \n",
    "        binwidth = 1, logscale = F, \n",
    "        xlab = 'Months since first hyperkalemia', \n",
    "        ylab = 'Weights', \n",
    "        main = 'Unstabilized inverse probability weights for reinitiation arm', \n",
    "        ylim = c(0, 30))\n",
    "summary(dta_clone_fracture_imp1_reinitiation$ipw_uns)\n",
    "ipwplot(dta_clone_fracture_imp1_reinitiation$ipw_ML, dta_clone_fracture_imp1_reinitiation$rank, \n",
    "        binwidth = 1, logscale = F, \n",
    "        xlab = 'Months since first hyperkalemia', \n",
    "        ylab = 'Weights', \n",
    "        main = 'Stabilized inverse probability weights for reinitiation arm (ML)', \n",
    "        ylim = c(0, 30))\n",
    "summary(dta_clone_fracture_imp1_reinitiation$ipw_ML)"
   ]
  },
  {
   "cell_type": "code",
   "execution_count": 20,
   "metadata": {},
   "outputs": [],
   "source": [
    "## truncate unstabilized weight at 10\n",
    "ipw.truncation <- function(ipw.weights, trunc.u = 10, trunc.l = 0) {\n",
    "    weights.trunc.temp <- ifelse(ipw.weights >= trunc.u, trunc.u, ipw.weights) \n",
    "    weights.trunc <- ifelse(weights.trunc.temp <= trunc.l, trunc.l, weights.trunc.temp) \n",
    "}\n",
    "dta_clone_fracture_imp1_discontinuation$ipw_uns_trunc <- \n",
    "    ipw.truncation(dta_clone_fracture_imp1_discontinuation$ipw_uns,\n",
    "                   trunc.u = quantile(dta_clone_fracture_imp1_discontinuation$ipw_uns, 0.99))\n",
    "dta_clone_fracture_imp1_reinitiation$ipw_uns_trunc <- \n",
    "    ipw.truncation(dta_clone_fracture_imp1_reinitiation$ipw_uns,\n",
    "                   trunc.u = quantile(dta_clone_fracture_imp1_reinitiation$ipw_uns, 0.99))\n",
    "dta_clone_fracture_imp1 <- rbind(dta_clone_fracture_imp1_discontinuation, dta_clone_fracture_imp1_reinitiation) %>% \n",
    "    arrange(ID, index_date)"
   ]
  },
  {
   "cell_type": "markdown",
   "metadata": {},
   "source": [
    "## description of chracteristics at month 6 and fracture event in each arm (weighted)"
   ]
  },
  {
   "cell_type": "code",
   "execution_count": 21,
   "metadata": {},
   "outputs": [],
   "source": [
    "dta_clone_fracture_6_month_weighted <- dta_clone_fracture %>% \n",
    "    left_join(dta_clone_fracture_imp1[ , c('ID', 'rank', 'ipw_uns_trunc')], by = c('ID', 'rank')) %>% \n",
    "    filter(rank == 6)"
   ]
  },
  {
   "cell_type": "code",
   "execution_count": 22,
   "metadata": {},
   "outputs": [],
   "source": [
    "dta_clone_fracture_6_month_weighted <- svydesign(ids = ~ ID, \n",
    "                                              data = dta_clone_fracture_6_month_weighted, \n",
    "                                              weights = ~ dta_clone_fracture_6_month_weighted$ipw_uns_trunc)"
   ]
  },
  {
   "cell_type": "code",
   "execution_count": 23,
   "metadata": {},
   "outputs": [],
   "source": [
    "tb1.part_weighted <- svyCreateTableOne(xvars, strata = 'X', data = dta_clone_fracture_6_month_weighted, factorVars = xfactorvars, includeNA = T)\n",
    "tb1.part_weighted <- print(tb1.part_weighted, nonnormal = xnonnormvars, test = F, smd = T, printToggle = F)"
   ]
  },
  {
   "cell_type": "code",
   "execution_count": 24,
   "metadata": {},
   "outputs": [],
   "source": [
    "tb1 <- cbind(tb1.part, tb1.part_weighted)"
   ]
  },
  {
   "cell_type": "code",
   "execution_count": 25,
   "metadata": {},
   "outputs": [],
   "source": [
    "tb1_SMD_summary <- tb1[ , c(3, 6)] %>% data.frame() %>% filter(SMD != '') %>% \n",
    "    mutate(SMD = as.numeric(as.character(SMD)), \n",
    "           SMD.1 = as.numeric(ifelse(as.character(SMD.1) == '<0.001', '0.001', as.character(SMD.1)))) %>% \n",
    "    mutate(covariates = str_replace(\n",
    "        str_replace(\n",
    "            str_replace(\n",
    "                str_replace_all(xvars, '_', ' '), \n",
    "                'cov ', ''), \n",
    "            'cat', 'categories'), \n",
    "        'num', 'number within 1 year prior')) %>% \n",
    "    mutate(covariates = factor(covariates, levels = rev(covariates)))"
   ]
  },
  {
   "cell_type": "code",
   "execution_count": 26,
   "metadata": {},
   "outputs": [
    {
     "data": {
      "image/png": "[encoded data removed]",
      "text/plain": [
       "plot without title"
      ]
     },
     "metadata": {
      "image/png": {
       "height": 420,
       "width": 420
      }
     },
     "output_type": "display_data"
    }
   ],
   "source": [
    "ggplot(data = tb1_SMD_summary, aes(x = SMD, y = covariates)) + \n",
    "    geom_point(aes(color = 'unweighted')) + \n",
    "    geom_point(aes(x = SMD.1, y = covariates, color = 'weighted')) + \n",
    "    scale_x_continuous(breaks = seq(0, 0.3, by = 0.05)) + \n",
    "    labs(title = 'Negative control. Fracture', x = 'SMD at index month 6', y = '') +   \n",
    "    geom_vline(xintercept = 0.1, linetype = \"dashed\", color = \"black\") + \n",
    "    theme(plot.title = element_text(size = 14, face = \"bold\"), \n",
    "          axis.title = element_text(size = 12, face = \"bold\")) + \n",
    "    scale_colour_manual(\"\", values = c(\"unweighted\" = \"red\", \"weighted\" = \"blue\"))"
   ]
  },
  {
   "cell_type": "code",
   "execution_count": 27,
   "metadata": {},
   "outputs": [
    {
     "data": {
      "text/html": [
       "<table>\n",
       "<caption>A matrix: 40 × 6 of type chr</caption>\n",
       "<thead>\n",
       "\t<tr><th></th><th scope=col>discontinuation</th><th scope=col>reinitiation</th><th scope=col>SMD</th><th scope=col>discontinuation</th><th scope=col>reinitiation</th><th scope=col>SMD</th></tr>\n",
       "</thead>\n",
       "<tbody>\n",
       "\t<tr><th scope=row>n</th><td>  836              </td><td> 4013              </td><td>      </td><td>4004.17              </td><td>4023.92              </td><td>      </td></tr>\n",
       "\t<tr><th scope=row>age (mean (SD))</th><td>73.74 (13.01)      </td><td>71.07 (13.15)      </td><td> 0.204</td><td>  70.42 (13.89)      </td><td>  70.86 (13.04)      </td><td> 0.033</td></tr>\n",
       "\t<tr><th scope=row>female = 1 (%)</th><td>  411 (49.2)       </td><td> 1745 (43.5)       </td><td> 0.114</td><td> 1771.6 (44.2)       </td><td> 1728.2 (42.9)       </td><td> 0.026</td></tr>\n",
       "\t<tr><th scope=row>index_year (%)</th><td>                   </td><td>                   </td><td> 0.079</td><td>                     </td><td>                     </td><td> 0.117</td></tr>\n",
       "\t<tr><th scope=row>   2007</th><td>  109 (13.0)       </td><td>  429 (10.7)       </td><td>      </td><td>  530.6 (13.3)       </td><td>  415.4 (10.3)       </td><td>      </td></tr>\n",
       "\t<tr><th scope=row>   2008</th><td>  183 (21.9)       </td><td>  887 (22.1)       </td><td>      </td><td>  966.7 (24.1)       </td><td>  894.4 (22.2)       </td><td>      </td></tr>\n",
       "\t<tr><th scope=row>   2009</th><td>  231 (27.6)       </td><td> 1097 (27.3)       </td><td>      </td><td> 1050.5 (26.2)       </td><td> 1101.0 (27.4)       </td><td>      </td></tr>\n",
       "\t<tr><th scope=row>   2010</th><td>  202 (24.2)       </td><td> 1028 (25.6)       </td><td>      </td><td>  932.5 (23.3)       </td><td> 1065.7 (26.5)       </td><td>      </td></tr>\n",
       "\t<tr><th scope=row>   2011</th><td>  111 (13.3)       </td><td>  572 (14.3)       </td><td>      </td><td>  523.7 (13.1)       </td><td>  547.4 (13.6)       </td><td>      </td></tr>\n",
       "\t<tr><th scope=row>duration (median [IQR])</th><td> 6.00 [2.00, 17.00]</td><td> 8.00 [2.00, 19.00]</td><td> 0.090</td><td>   6.00 [2.00, 16.00]</td><td>   8.00 [2.00, 19.00]</td><td> 0.156</td></tr>\n",
       "\t<tr><th scope=row>potassium_cat (%)</th><td>                   </td><td>                   </td><td> 0.208</td><td>                     </td><td>                     </td><td> 0.072</td></tr>\n",
       "\t<tr><th scope=row>   mild</th><td>  624 (74.6)       </td><td> 3309 (82.5)       </td><td>      </td><td> 3267.1 (81.6)       </td><td> 3388.6 (84.2)       </td><td>      </td></tr>\n",
       "\t<tr><th scope=row>   moderate</th><td>  139 (16.6)       </td><td>  520 (13.0)       </td><td>      </td><td>  550.8 (13.8)       </td><td>  487.5 (12.1)       </td><td>      </td></tr>\n",
       "\t<tr><th scope=row>   severe</th><td>   73 ( 8.7)       </td><td>  184 ( 4.6)       </td><td>      </td><td>  186.3 ( 4.7)       </td><td>  147.9 ( 3.7)       </td><td>      </td></tr>\n",
       "\t<tr><th scope=row>cov_diabetes = 1 (%)</th><td>  258 (30.9)       </td><td> 1249 (31.1)       </td><td> 0.006</td><td> 1284.2 (32.1)       </td><td> 1282.1 (31.9)       </td><td> 0.004</td></tr>\n",
       "\t<tr><th scope=row>cov_hypertension = 1 (%)</th><td>  638 (76.3)       </td><td> 3052 (76.1)       </td><td> 0.006</td><td> 3005.1 (75.1)       </td><td> 3057.1 (76.0)       </td><td> 0.021</td></tr>\n",
       "\t<tr><th scope=row>cov_MI = 1 (%)</th><td>  185 (22.1)       </td><td>  899 (22.4)       </td><td> 0.007</td><td>  955.1 (23.9)       </td><td>  905.9 (22.5)       </td><td> 0.032</td></tr>\n",
       "\t<tr><th scope=row>cov_CHF = 1 (%)</th><td>  310 (37.1)       </td><td> 1417 (35.3)       </td><td> 0.037</td><td> 1372.3 (34.3)       </td><td> 1427.5 (35.5)       </td><td> 0.025</td></tr>\n",
       "\t<tr><th scope=row>cov_cerebrovascular_disease = 1 (%)</th><td>  177 (21.2)       </td><td>  706 (17.6)       </td><td> 0.091</td><td>  684.1 (17.1)       </td><td>  698.1 (17.3)       </td><td> 0.007</td></tr>\n",
       "\t<tr><th scope=row>cov_PVD = 1 (%)</th><td>  124 (14.8)       </td><td>  508 (12.7)       </td><td> 0.063</td><td>  527.7 (13.2)       </td><td>  496.4 (12.3)       </td><td> 0.025</td></tr>\n",
       "\t<tr><th scope=row>cov_cancer = 1 (%)</th><td>  214 (25.6)       </td><td>  726 (18.1)       </td><td> 0.182</td><td>  709.9 (17.7)       </td><td>  682.3 (17.0)       </td><td> 0.020</td></tr>\n",
       "\t<tr><th scope=row>cov_COPD = 1 (%)</th><td>  180 (21.5)       </td><td>  704 (17.5)       </td><td> 0.101</td><td>  679.9 (17.0)       </td><td>  711.1 (17.7)       </td><td> 0.018</td></tr>\n",
       "\t<tr><th scope=row>cov_fracture = 1 (%)</th><td>  325 (38.9)       </td><td> 1310 (32.6)       </td><td> 0.130</td><td> 1268.1 (31.7)       </td><td> 1280.9 (31.8)       </td><td> 0.003</td></tr>\n",
       "\t<tr><th scope=row>cov_beta_blocker = 1 (%)</th><td>  455 (54.4)       </td><td> 2324 (57.9)       </td><td> 0.070</td><td> 2290.0 (57.2)       </td><td> 2342.6 (58.2)       </td><td> 0.021</td></tr>\n",
       "\t<tr><th scope=row>cov_CCB = 1 (%)</th><td>  237 (28.3)       </td><td> 1005 (25.0)       </td><td> 0.075</td><td> 1167.9 (29.2)       </td><td>  958.3 (23.8)       </td><td> 0.122</td></tr>\n",
       "\t<tr><th scope=row>cov_diuretic = 1 (%)</th><td>  383 (45.8)       </td><td> 1722 (42.9)       </td><td> 0.058</td><td> 1675.1 (41.8)       </td><td> 1736.5 (43.2)       </td><td> 0.027</td></tr>\n",
       "\t<tr><th scope=row>cov_MRA = 1 (%)</th><td>  138 (16.5)       </td><td>  614 (15.3)       </td><td> 0.033</td><td>  600.0 (15.0)       </td><td>  609.1 (15.1)       </td><td> 0.004</td></tr>\n",
       "\t<tr><th scope=row>cov_SPS = 1 (%)</th><td>   16 ( 1.9)       </td><td>   88 ( 2.2)       </td><td> 0.020</td><td>   63.3 ( 1.6)       </td><td>   90.0 ( 2.2)       </td><td> 0.048</td></tr>\n",
       "\t<tr><th scope=row>cov_statin = 1 (%)</th><td>  272 (32.5)       </td><td> 1690 (42.1)       </td><td> 0.199</td><td> 1570.8 (39.2)       </td><td> 1755.4 (43.6)       </td><td> 0.089</td></tr>\n",
       "\t<tr><th scope=row>cov_antiplatelet_agent = 1 (%)</th><td>  366 (43.8)       </td><td> 1782 (44.4)       </td><td> 0.013</td><td> 1822.8 (45.5)       </td><td> 1814.4 (45.1)       </td><td> 0.009</td></tr>\n",
       "\t<tr><th scope=row>cov_egfr_cat (%)</th><td>                   </td><td>                   </td><td> 0.116</td><td>                     </td><td>                     </td><td> 0.075</td></tr>\n",
       "\t<tr><th scope=row>   G1</th><td>  112 (13.4)       </td><td>  616 (15.4)       </td><td>      </td><td>  662.4 (16.5)       </td><td>  618.5 (15.4)       </td><td>      </td></tr>\n",
       "\t<tr><th scope=row>   G2</th><td>  285 (34.1)       </td><td> 1469 (36.6)       </td><td>      </td><td> 1465.4 (36.6)       </td><td> 1470.1 (36.5)       </td><td>      </td></tr>\n",
       "\t<tr><th scope=row>   G3a</th><td>  167 (20.0)       </td><td>  794 (19.8)       </td><td>      </td><td>  816.8 (20.4)       </td><td>  796.9 (19.8)       </td><td>      </td></tr>\n",
       "\t<tr><th scope=row>   G3b</th><td>  151 (18.1)       </td><td>  684 (17.0)       </td><td>      </td><td>  602.4 (15.0)       </td><td>  709.2 (17.6)       </td><td>      </td></tr>\n",
       "\t<tr><th scope=row>   G4-5</th><td>  121 (14.5)       </td><td>  450 (11.2)       </td><td>      </td><td>  457.1 (11.4)       </td><td>  429.2 (10.7)       </td><td>      </td></tr>\n",
       "\t<tr><th scope=row>primary_care_num (median [IQR])</th><td> 3.00 [1.00, 6.00] </td><td> 3.00 [1.00, 6.00] </td><td> 0.033</td><td>   3.00 [1.00, 6.00] </td><td>   3.00 [1.00, 6.00] </td><td> 0.017</td></tr>\n",
       "\t<tr><th scope=row>cov_hospitalization = 1 (%)</th><td>   82 ( 9.8)       </td><td>  323 ( 8.0)       </td><td> 0.062</td><td>  299.5 ( 7.5)       </td><td>  305.7 ( 7.6)       </td><td> 0.004</td></tr>\n",
       "\t<tr><th scope=row>outpatient_num (median [IQR])</th><td> 3.00 [1.00, 8.00] </td><td> 3.00 [1.00, 7.00] </td><td> 0.073</td><td>   3.00 [1.00, 6.00] </td><td>   3.00 [1.00, 7.00] </td><td> 0.020</td></tr>\n",
       "\t<tr><th scope=row>inpatient_num (median [IQR])</th><td> 1.00 [0.00, 2.00] </td><td> 1.00 [0.00, 2.00] </td><td> 0.261</td><td>   1.00 [0.00, 2.00] </td><td>   1.00 [0.00, 2.00] </td><td> 0.062</td></tr>\n",
       "</tbody>\n",
       "</table>\n"
      ],
      "text/latex": [
       "A matrix: 40 × 6 of type chr\n",
       "\\begin{tabular}{r|llllll}\n",
       "  & discontinuation & reinitiation & SMD & discontinuation & reinitiation & SMD\\\\\n",
       "\\hline\n",
       "\tn &   836               &  4013               &        & 4004.17               & 4023.92               &       \\\\\n",
       "\tage (mean (SD)) & 73.74 (13.01)       & 71.07 (13.15)       &  0.204 &   70.42 (13.89)       &   70.86 (13.04)       &  0.033\\\\\n",
       "\tfemale = 1 (\\%) &   411 (49.2)        &  1745 (43.5)        &  0.114 &  1771.6 (44.2)        &  1728.2 (42.9)        &  0.026\\\\\n",
       "\tindex\\_year (\\%) &                     &                     &  0.079 &                       &                       &  0.117\\\\\n",
       "\t   2007 &   109 (13.0)        &   429 (10.7)        &        &   530.6 (13.3)        &   415.4 (10.3)        &       \\\\\n",
       "\t   2008 &   183 (21.9)        &   887 (22.1)        &        &   966.7 (24.1)        &   894.4 (22.2)        &       \\\\\n",
       "\t   2009 &   231 (27.6)        &  1097 (27.3)        &        &  1050.5 (26.2)        &  1101.0 (27.4)        &       \\\\\n",
       "\t   2010 &   202 (24.2)        &  1028 (25.6)        &        &   932.5 (23.3)        &  1065.7 (26.5)        &       \\\\\n",
       "\t   2011 &   111 (13.3)        &   572 (14.3)        &        &   523.7 (13.1)        &   547.4 (13.6)        &       \\\\\n",
       "\tduration (median {[}IQR{]}) &  6.00 {[}2.00, 17.00{]} &  8.00 {[}2.00, 19.00{]} &  0.090 &    6.00 {[}2.00, 16.00{]} &    8.00 {[}2.00, 19.00{]} &  0.156\\\\\n",
       "\tpotassium\\_cat (\\%) &                     &                     &  0.208 &                       &                       &  0.072\\\\\n",
       "\t   mild &   624 (74.6)        &  3309 (82.5)        &        &  3267.1 (81.6)        &  3388.6 (84.2)        &       \\\\\n",
       "\t   moderate &   139 (16.6)        &   520 (13.0)        &        &   550.8 (13.8)        &   487.5 (12.1)        &       \\\\\n",
       "\t   severe &    73 ( 8.7)        &   184 ( 4.6)        &        &   186.3 ( 4.7)        &   147.9 ( 3.7)        &       \\\\\n",
       "\tcov\\_diabetes = 1 (\\%) &   258 (30.9)        &  1249 (31.1)        &  0.006 &  1284.2 (32.1)        &  1282.1 (31.9)        &  0.004\\\\\n",
       "\tcov\\_hypertension = 1 (\\%) &   638 (76.3)        &  3052 (76.1)        &  0.006 &  3005.1 (75.1)        &  3057.1 (76.0)        &  0.021\\\\\n",
       "\tcov\\_MI = 1 (\\%) &   185 (22.1)        &   899 (22.4)        &  0.007 &   955.1 (23.9)        &   905.9 (22.5)        &  0.032\\\\\n",
       "\tcov\\_CHF = 1 (\\%) &   310 (37.1)        &  1417 (35.3)        &  0.037 &  1372.3 (34.3)        &  1427.5 (35.5)        &  0.025\\\\\n",
       "\tcov\\_cerebrovascular\\_disease = 1 (\\%) &   177 (21.2)        &   706 (17.6)        &  0.091 &   684.1 (17.1)        &   698.1 (17.3)        &  0.007\\\\\n",
       "\tcov\\_PVD = 1 (\\%) &   124 (14.8)        &   508 (12.7)        &  0.063 &   527.7 (13.2)        &   496.4 (12.3)        &  0.025\\\\\n",
       "\tcov\\_cancer = 1 (\\%) &   214 (25.6)        &   726 (18.1)        &  0.182 &   709.9 (17.7)        &   682.3 (17.0)        &  0.020\\\\\n",
       "\tcov\\_COPD = 1 (\\%) &   180 (21.5)        &   704 (17.5)        &  0.101 &   679.9 (17.0)        &   711.1 (17.7)        &  0.018\\\\\n",
       "\tcov\\_fracture = 1 (\\%) &   325 (38.9)        &  1310 (32.6)        &  0.130 &  1268.1 (31.7)        &  1280.9 (31.8)        &  0.003\\\\\n",
       "\tcov\\_beta\\_blocker = 1 (\\%) &   455 (54.4)        &  2324 (57.9)        &  0.070 &  2290.0 (57.2)        &  2342.6 (58.2)        &  0.021\\\\\n",
       "\tcov\\_CCB = 1 (\\%) &   237 (28.3)        &  1005 (25.0)        &  0.075 &  1167.9 (29.2)        &   958.3 (23.8)        &  0.122\\\\\n",
       "\tcov\\_diuretic = 1 (\\%) &   383 (45.8)        &  1722 (42.9)        &  0.058 &  1675.1 (41.8)        &  1736.5 (43.2)        &  0.027\\\\\n",
       "\tcov\\_MRA = 1 (\\%) &   138 (16.5)        &   614 (15.3)        &  0.033 &   600.0 (15.0)        &   609.1 (15.1)        &  0.004\\\\\n",
       "\tcov\\_SPS = 1 (\\%) &    16 ( 1.9)        &    88 ( 2.2)        &  0.020 &    63.3 ( 1.6)        &    90.0 ( 2.2)        &  0.048\\\\\n",
       "\tcov\\_statin = 1 (\\%) &   272 (32.5)        &  1690 (42.1)        &  0.199 &  1570.8 (39.2)        &  1755.4 (43.6)        &  0.089\\\\\n",
       "\tcov\\_antiplatelet\\_agent = 1 (\\%) &   366 (43.8)        &  1782 (44.4)        &  0.013 &  1822.8 (45.5)        &  1814.4 (45.1)        &  0.009\\\\\n",
       "\tcov\\_egfr\\_cat (\\%) &                     &                     &  0.116 &                       &                       &  0.075\\\\\n",
       "\t   G1 &   112 (13.4)        &   616 (15.4)        &        &   662.4 (16.5)        &   618.5 (15.4)        &       \\\\\n",
       "\t   G2 &   285 (34.1)        &  1469 (36.6)        &        &  1465.4 (36.6)        &  1470.1 (36.5)        &       \\\\\n",
       "\t   G3a &   167 (20.0)        &   794 (19.8)        &        &   816.8 (20.4)        &   796.9 (19.8)        &       \\\\\n",
       "\t   G3b &   151 (18.1)        &   684 (17.0)        &        &   602.4 (15.0)        &   709.2 (17.6)        &       \\\\\n",
       "\t   G4-5 &   121 (14.5)        &   450 (11.2)        &        &   457.1 (11.4)        &   429.2 (10.7)        &       \\\\\n",
       "\tprimary\\_care\\_num (median {[}IQR{]}) &  3.00 {[}1.00, 6.00{]}  &  3.00 {[}1.00, 6.00{]}  &  0.033 &    3.00 {[}1.00, 6.00{]}  &    3.00 {[}1.00, 6.00{]}  &  0.017\\\\\n",
       "\tcov\\_hospitalization = 1 (\\%) &    82 ( 9.8)        &   323 ( 8.0)        &  0.062 &   299.5 ( 7.5)        &   305.7 ( 7.6)        &  0.004\\\\\n",
       "\toutpatient\\_num (median {[}IQR{]}) &  3.00 {[}1.00, 8.00{]}  &  3.00 {[}1.00, 7.00{]}  &  0.073 &    3.00 {[}1.00, 6.00{]}  &    3.00 {[}1.00, 7.00{]}  &  0.020\\\\\n",
       "\tinpatient\\_num (median {[}IQR{]}) &  1.00 {[}0.00, 2.00{]}  &  1.00 {[}0.00, 2.00{]}  &  0.261 &    1.00 {[}0.00, 2.00{]}  &    1.00 {[}0.00, 2.00{]}  &  0.062\\\\\n",
       "\\end{tabular}\n"
      ],
      "text/markdown": [
       "\n",
       "A matrix: 40 × 6 of type chr\n",
       "\n",
       "| <!--/--> | discontinuation | reinitiation | SMD | discontinuation | reinitiation | SMD |\n",
       "|---|---|---|---|---|---|---|\n",
       "| n |   836               |  4013               | <!----> | 4004.17               | 4023.92               | <!----> |\n",
       "| age (mean (SD)) | 73.74 (13.01)       | 71.07 (13.15)       |  0.204 |   70.42 (13.89)       |   70.86 (13.04)       |  0.033 |\n",
       "| female = 1 (%) |   411 (49.2)        |  1745 (43.5)        |  0.114 |  1771.6 (44.2)        |  1728.2 (42.9)        |  0.026 |\n",
       "| index_year (%) | <!----> | <!----> |  0.079 | <!----> | <!----> |  0.117 |\n",
       "|    2007 |   109 (13.0)        |   429 (10.7)        | <!----> |   530.6 (13.3)        |   415.4 (10.3)        | <!----> |\n",
       "|    2008 |   183 (21.9)        |   887 (22.1)        | <!----> |   966.7 (24.1)        |   894.4 (22.2)        | <!----> |\n",
       "|    2009 |   231 (27.6)        |  1097 (27.3)        | <!----> |  1050.5 (26.2)        |  1101.0 (27.4)        | <!----> |\n",
       "|    2010 |   202 (24.2)        |  1028 (25.6)        | <!----> |   932.5 (23.3)        |  1065.7 (26.5)        | <!----> |\n",
       "|    2011 |   111 (13.3)        |   572 (14.3)        | <!----> |   523.7 (13.1)        |   547.4 (13.6)        | <!----> |\n",
       "| duration (median [IQR]) |  6.00 [2.00, 17.00] |  8.00 [2.00, 19.00] |  0.090 |    6.00 [2.00, 16.00] |    8.00 [2.00, 19.00] |  0.156 |\n",
       "| potassium_cat (%) | <!----> | <!----> |  0.208 | <!----> | <!----> |  0.072 |\n",
       "|    mild |   624 (74.6)        |  3309 (82.5)        | <!----> |  3267.1 (81.6)        |  3388.6 (84.2)        | <!----> |\n",
       "|    moderate |   139 (16.6)        |   520 (13.0)        | <!----> |   550.8 (13.8)        |   487.5 (12.1)        | <!----> |\n",
       "|    severe |    73 ( 8.7)        |   184 ( 4.6)        | <!----> |   186.3 ( 4.7)        |   147.9 ( 3.7)        | <!----> |\n",
       "| cov_diabetes = 1 (%) |   258 (30.9)        |  1249 (31.1)        |  0.006 |  1284.2 (32.1)        |  1282.1 (31.9)        |  0.004 |\n",
       "| cov_hypertension = 1 (%) |   638 (76.3)        |  3052 (76.1)        |  0.006 |  3005.1 (75.1)        |  3057.1 (76.0)        |  0.021 |\n",
       "| cov_MI = 1 (%) |   185 (22.1)        |   899 (22.4)        |  0.007 |   955.1 (23.9)        |   905.9 (22.5)        |  0.032 |\n",
       "| cov_CHF = 1 (%) |   310 (37.1)        |  1417 (35.3)        |  0.037 |  1372.3 (34.3)        |  1427.5 (35.5)        |  0.025 |\n",
       "| cov_cerebrovascular_disease = 1 (%) |   177 (21.2)        |   706 (17.6)        |  0.091 |   684.1 (17.1)        |   698.1 (17.3)        |  0.007 |\n",
       "| cov_PVD = 1 (%) |   124 (14.8)        |   508 (12.7)        |  0.063 |   527.7 (13.2)        |   496.4 (12.3)        |  0.025 |\n",
       "| cov_cancer = 1 (%) |   214 (25.6)        |   726 (18.1)        |  0.182 |   709.9 (17.7)        |   682.3 (17.0)        |  0.020 |\n",
       "| cov_COPD = 1 (%) |   180 (21.5)        |   704 (17.5)        |  0.101 |   679.9 (17.0)        |   711.1 (17.7)        |  0.018 |\n",
       "| cov_fracture = 1 (%) |   325 (38.9)        |  1310 (32.6)        |  0.130 |  1268.1 (31.7)        |  1280.9 (31.8)        |  0.003 |\n",
       "| cov_beta_blocker = 1 (%) |   455 (54.4)        |  2324 (57.9)        |  0.070 |  2290.0 (57.2)        |  2342.6 (58.2)        |  0.021 |\n",
       "| cov_CCB = 1 (%) |   237 (28.3)        |  1005 (25.0)        |  0.075 |  1167.9 (29.2)        |   958.3 (23.8)        |  0.122 |\n",
       "| cov_diuretic = 1 (%) |   383 (45.8)        |  1722 (42.9)        |  0.058 |  1675.1 (41.8)        |  1736.5 (43.2)        |  0.027 |\n",
       "| cov_MRA = 1 (%) |   138 (16.5)        |   614 (15.3)        |  0.033 |   600.0 (15.0)        |   609.1 (15.1)        |  0.004 |\n",
       "| cov_SPS = 1 (%) |    16 ( 1.9)        |    88 ( 2.2)        |  0.020 |    63.3 ( 1.6)        |    90.0 ( 2.2)        |  0.048 |\n",
       "| cov_statin = 1 (%) |   272 (32.5)        |  1690 (42.1)        |  0.199 |  1570.8 (39.2)        |  1755.4 (43.6)        |  0.089 |\n",
       "| cov_antiplatelet_agent = 1 (%) |   366 (43.8)        |  1782 (44.4)        |  0.013 |  1822.8 (45.5)        |  1814.4 (45.1)        |  0.009 |\n",
       "| cov_egfr_cat (%) | <!----> | <!----> |  0.116 | <!----> | <!----> |  0.075 |\n",
       "|    G1 |   112 (13.4)        |   616 (15.4)        | <!----> |   662.4 (16.5)        |   618.5 (15.4)        | <!----> |\n",
       "|    G2 |   285 (34.1)        |  1469 (36.6)        | <!----> |  1465.4 (36.6)        |  1470.1 (36.5)        | <!----> |\n",
       "|    G3a |   167 (20.0)        |   794 (19.8)        | <!----> |   816.8 (20.4)        |   796.9 (19.8)        | <!----> |\n",
       "|    G3b |   151 (18.1)        |   684 (17.0)        | <!----> |   602.4 (15.0)        |   709.2 (17.6)        | <!----> |\n",
       "|    G4-5 |   121 (14.5)        |   450 (11.2)        | <!----> |   457.1 (11.4)        |   429.2 (10.7)        | <!----> |\n",
       "| primary_care_num (median [IQR]) |  3.00 [1.00, 6.00]  |  3.00 [1.00, 6.00]  |  0.033 |    3.00 [1.00, 6.00]  |    3.00 [1.00, 6.00]  |  0.017 |\n",
       "| cov_hospitalization = 1 (%) |    82 ( 9.8)        |   323 ( 8.0)        |  0.062 |   299.5 ( 7.5)        |   305.7 ( 7.6)        |  0.004 |\n",
       "| outpatient_num (median [IQR]) |  3.00 [1.00, 8.00]  |  3.00 [1.00, 7.00]  |  0.073 |    3.00 [1.00, 6.00]  |    3.00 [1.00, 7.00]  |  0.020 |\n",
       "| inpatient_num (median [IQR]) |  1.00 [0.00, 2.00]  |  1.00 [0.00, 2.00]  |  0.261 |    1.00 [0.00, 2.00]  |    1.00 [0.00, 2.00]  |  0.062 |\n",
       "\n"
      ],
      "text/plain": [
       "                                    discontinuation     reinitiation       \n",
       "n                                     836                4013              \n",
       "age (mean (SD))                     73.74 (13.01)       71.07 (13.15)      \n",
       "female = 1 (%)                        411 (49.2)         1745 (43.5)       \n",
       "index_year (%)                                                             \n",
       "   2007                               109 (13.0)          429 (10.7)       \n",
       "   2008                               183 (21.9)          887 (22.1)       \n",
       "   2009                               231 (27.6)         1097 (27.3)       \n",
       "   2010                               202 (24.2)         1028 (25.6)       \n",
       "   2011                               111 (13.3)          572 (14.3)       \n",
       "duration (median [IQR])              6.00 [2.00, 17.00]  8.00 [2.00, 19.00]\n",
       "potassium_cat (%)                                                          \n",
       "   mild                               624 (74.6)         3309 (82.5)       \n",
       "   moderate                           139 (16.6)          520 (13.0)       \n",
       "   severe                              73 ( 8.7)          184 ( 4.6)       \n",
       "cov_diabetes = 1 (%)                  258 (30.9)         1249 (31.1)       \n",
       "cov_hypertension = 1 (%)              638 (76.3)         3052 (76.1)       \n",
       "cov_MI = 1 (%)                        185 (22.1)          899 (22.4)       \n",
       "cov_CHF = 1 (%)                       310 (37.1)         1417 (35.3)       \n",
       "cov_cerebrovascular_disease = 1 (%)   177 (21.2)          706 (17.6)       \n",
       "cov_PVD = 1 (%)                       124 (14.8)          508 (12.7)       \n",
       "cov_cancer = 1 (%)                    214 (25.6)          726 (18.1)       \n",
       "cov_COPD = 1 (%)                      180 (21.5)          704 (17.5)       \n",
       "cov_fracture = 1 (%)                  325 (38.9)         1310 (32.6)       \n",
       "cov_beta_blocker = 1 (%)              455 (54.4)         2324 (57.9)       \n",
       "cov_CCB = 1 (%)                       237 (28.3)         1005 (25.0)       \n",
       "cov_diuretic = 1 (%)                  383 (45.8)         1722 (42.9)       \n",
       "cov_MRA = 1 (%)                       138 (16.5)          614 (15.3)       \n",
       "cov_SPS = 1 (%)                        16 ( 1.9)           88 ( 2.2)       \n",
       "cov_statin = 1 (%)                    272 (32.5)         1690 (42.1)       \n",
       "cov_antiplatelet_agent = 1 (%)        366 (43.8)         1782 (44.4)       \n",
       "cov_egfr_cat (%)                                                           \n",
       "   G1                                 112 (13.4)          616 (15.4)       \n",
       "   G2                                 285 (34.1)         1469 (36.6)       \n",
       "   G3a                                167 (20.0)          794 (19.8)       \n",
       "   G3b                                151 (18.1)          684 (17.0)       \n",
       "   G4-5                               121 (14.5)          450 (11.2)       \n",
       "primary_care_num (median [IQR])      3.00 [1.00, 6.00]   3.00 [1.00, 6.00] \n",
       "cov_hospitalization = 1 (%)            82 ( 9.8)          323 ( 8.0)       \n",
       "outpatient_num (median [IQR])        3.00 [1.00, 8.00]   3.00 [1.00, 7.00] \n",
       "inpatient_num (median [IQR])         1.00 [0.00, 2.00]   1.00 [0.00, 2.00] \n",
       "                                    SMD    discontinuation      \n",
       "n                                          4004.17              \n",
       "age (mean (SD))                      0.204   70.42 (13.89)      \n",
       "female = 1 (%)                       0.114  1771.6 (44.2)       \n",
       "index_year (%)                       0.079                      \n",
       "   2007                                      530.6 (13.3)       \n",
       "   2008                                      966.7 (24.1)       \n",
       "   2009                                     1050.5 (26.2)       \n",
       "   2010                                      932.5 (23.3)       \n",
       "   2011                                      523.7 (13.1)       \n",
       "duration (median [IQR])              0.090    6.00 [2.00, 16.00]\n",
       "potassium_cat (%)                    0.208                      \n",
       "   mild                                     3267.1 (81.6)       \n",
       "   moderate                                  550.8 (13.8)       \n",
       "   severe                                    186.3 ( 4.7)       \n",
       "cov_diabetes = 1 (%)                 0.006  1284.2 (32.1)       \n",
       "cov_hypertension = 1 (%)             0.006  3005.1 (75.1)       \n",
       "cov_MI = 1 (%)                       0.007   955.1 (23.9)       \n",
       "cov_CHF = 1 (%)                      0.037  1372.3 (34.3)       \n",
       "cov_cerebrovascular_disease = 1 (%)  0.091   684.1 (17.1)       \n",
       "cov_PVD = 1 (%)                      0.063   527.7 (13.2)       \n",
       "cov_cancer = 1 (%)                   0.182   709.9 (17.7)       \n",
       "cov_COPD = 1 (%)                     0.101   679.9 (17.0)       \n",
       "cov_fracture = 1 (%)                 0.130  1268.1 (31.7)       \n",
       "cov_beta_blocker = 1 (%)             0.070  2290.0 (57.2)       \n",
       "cov_CCB = 1 (%)                      0.075  1167.9 (29.2)       \n",
       "cov_diuretic = 1 (%)                 0.058  1675.1 (41.8)       \n",
       "cov_MRA = 1 (%)                      0.033   600.0 (15.0)       \n",
       "cov_SPS = 1 (%)                      0.020    63.3 ( 1.6)       \n",
       "cov_statin = 1 (%)                   0.199  1570.8 (39.2)       \n",
       "cov_antiplatelet_agent = 1 (%)       0.013  1822.8 (45.5)       \n",
       "cov_egfr_cat (%)                     0.116                      \n",
       "   G1                                        662.4 (16.5)       \n",
       "   G2                                       1465.4 (36.6)       \n",
       "   G3a                                       816.8 (20.4)       \n",
       "   G3b                                       602.4 (15.0)       \n",
       "   G4-5                                      457.1 (11.4)       \n",
       "primary_care_num (median [IQR])      0.033    3.00 [1.00, 6.00] \n",
       "cov_hospitalization = 1 (%)          0.062   299.5 ( 7.5)       \n",
       "outpatient_num (median [IQR])        0.073    3.00 [1.00, 6.00] \n",
       "inpatient_num (median [IQR])         0.261    1.00 [0.00, 2.00] \n",
       "                                    reinitiation          SMD   \n",
       "n                                   4023.92                     \n",
       "age (mean (SD))                       70.86 (13.04)        0.033\n",
       "female = 1 (%)                       1728.2 (42.9)         0.026\n",
       "index_year (%)                                             0.117\n",
       "   2007                               415.4 (10.3)              \n",
       "   2008                               894.4 (22.2)              \n",
       "   2009                              1101.0 (27.4)              \n",
       "   2010                              1065.7 (26.5)              \n",
       "   2011                               547.4 (13.6)              \n",
       "duration (median [IQR])                8.00 [2.00, 19.00]  0.156\n",
       "potassium_cat (%)                                          0.072\n",
       "   mild                              3388.6 (84.2)              \n",
       "   moderate                           487.5 (12.1)              \n",
       "   severe                             147.9 ( 3.7)              \n",
       "cov_diabetes = 1 (%)                 1282.1 (31.9)         0.004\n",
       "cov_hypertension = 1 (%)             3057.1 (76.0)         0.021\n",
       "cov_MI = 1 (%)                        905.9 (22.5)         0.032\n",
       "cov_CHF = 1 (%)                      1427.5 (35.5)         0.025\n",
       "cov_cerebrovascular_disease = 1 (%)   698.1 (17.3)         0.007\n",
       "cov_PVD = 1 (%)                       496.4 (12.3)         0.025\n",
       "cov_cancer = 1 (%)                    682.3 (17.0)         0.020\n",
       "cov_COPD = 1 (%)                      711.1 (17.7)         0.018\n",
       "cov_fracture = 1 (%)                 1280.9 (31.8)         0.003\n",
       "cov_beta_blocker = 1 (%)             2342.6 (58.2)         0.021\n",
       "cov_CCB = 1 (%)                       958.3 (23.8)         0.122\n",
       "cov_diuretic = 1 (%)                 1736.5 (43.2)         0.027\n",
       "cov_MRA = 1 (%)                       609.1 (15.1)         0.004\n",
       "cov_SPS = 1 (%)                        90.0 ( 2.2)         0.048\n",
       "cov_statin = 1 (%)                   1755.4 (43.6)         0.089\n",
       "cov_antiplatelet_agent = 1 (%)       1814.4 (45.1)         0.009\n",
       "cov_egfr_cat (%)                                           0.075\n",
       "   G1                                 618.5 (15.4)              \n",
       "   G2                                1470.1 (36.5)              \n",
       "   G3a                                796.9 (19.8)              \n",
       "   G3b                                709.2 (17.6)              \n",
       "   G4-5                               429.2 (10.7)              \n",
       "primary_care_num (median [IQR])        3.00 [1.00, 6.00]   0.017\n",
       "cov_hospitalization = 1 (%)           305.7 ( 7.6)         0.004\n",
       "outpatient_num (median [IQR])          3.00 [1.00, 7.00]   0.020\n",
       "inpatient_num (median [IQR])           1.00 [0.00, 2.00]   0.062"
      ]
     },
     "metadata": {},
     "output_type": "display_data"
    }
   ],
   "source": [
    "tb1"
   ]
  },
  {
   "cell_type": "code",
   "execution_count": 28,
   "metadata": {},
   "outputs": [
    {
     "name": "stderr",
     "output_type": "stream",
     "text": [
      "`summarise()` ungrouping output (override with `.groups` argument)\n",
      "\n",
      "`summarise()` ungrouping output (override with `.groups` argument)\n",
      "\n"
     ]
    },
    {
     "data": {
      "text/html": [
       "<table>\n",
       "<caption>A tibble: 2 × 5</caption>\n",
       "<thead>\n",
       "\t<tr><th scope=col>X</th><th scope=col>n</th><th scope=col>weighted_followup</th><th scope=col>weighted_event</th><th scope=col>weighted_person_years</th></tr>\n",
       "\t<tr><th scope=col>&lt;chr&gt;</th><th scope=col>&lt;int&gt;</th><th scope=col>&lt;chr&gt;</th><th scope=col>&lt;dbl&gt;</th><th scope=col>&lt;dbl&gt;</th></tr>\n",
       "</thead>\n",
       "<tbody>\n",
       "\t<tr><td>discontinuation</td><td>5669</td><td>0.13 [0-0.44]   </td><td>947</td><td>10424.01</td></tr>\n",
       "\t<tr><td>reinitiation   </td><td>5669</td><td>0.58 [0.37-1.61]</td><td>918</td><td> 9387.34</td></tr>\n",
       "</tbody>\n",
       "</table>\n"
      ],
      "text/latex": [
       "A tibble: 2 × 5\n",
       "\\begin{tabular}{lllll}\n",
       " X & n & weighted\\_followup & weighted\\_event & weighted\\_person\\_years\\\\\n",
       " <chr> & <int> & <chr> & <dbl> & <dbl>\\\\\n",
       "\\hline\n",
       "\t discontinuation & 5669 & 0.13 {[}0-0.44{]}    & 947 & 10424.01\\\\\n",
       "\t reinitiation    & 5669 & 0.58 {[}0.37-1.61{]} & 918 &  9387.34\\\\\n",
       "\\end{tabular}\n"
      ],
      "text/markdown": [
       "\n",
       "A tibble: 2 × 5\n",
       "\n",
       "| X &lt;chr&gt; | n &lt;int&gt; | weighted_followup &lt;chr&gt; | weighted_event &lt;dbl&gt; | weighted_person_years &lt;dbl&gt; |\n",
       "|---|---|---|---|---|\n",
       "| discontinuation | 5669 | 0.13 [0-0.44]    | 947 | 10424.01 |\n",
       "| reinitiation    | 5669 | 0.58 [0.37-1.61] | 918 |  9387.34 |\n",
       "\n"
      ],
      "text/plain": [
       "  X               n    weighted_followup weighted_event weighted_person_years\n",
       "1 discontinuation 5669 0.13 [0-0.44]     947            10424.01             \n",
       "2 reinitiation    5669 0.58 [0.37-1.61]  918             9387.34             "
      ]
     },
     "metadata": {},
     "output_type": "display_data"
    }
   ],
   "source": [
    "incid_num_weighted <- function(data = dta_clone_fracture_imp1, weights = 'ipw_uns_trunc') {\n",
    "    dta <- data %>% mutate(weights = data[[weights]]) %>% \n",
    "        arrange(ID, index_date) %>% \n",
    "        group_by(ID) %>% \n",
    "        summarise(tstart = as.Date('1970-01-01'), \n",
    "                  tstop = as.Date('1970-01-01') + sum(weights) * 30, \n",
    "                  outcome_fracture = sum(outcome_fracture * weights), \n",
    "                  X = first(X)) %>% \n",
    "        ungroup() %>% \n",
    "        group_by(X) %>% \n",
    "        summarise(n = length(ID), \n",
    "                  median.followup = round(median(time_length(difftime(tstop, tstart), 'year')), 2), \n",
    "                  q25.followup = round(quantile(time_length(difftime(tstop, tstart), 'year'), 0.25), 2), \n",
    "                  q75.followup = round(quantile(time_length(difftime(tstop, tstart), 'year'), 0.75), 2), \n",
    "                  weighted_followup = paste0(median.followup, \" [\", q25.followup, \"-\", q75.followup, \"]\"), \n",
    "                  weighted_event = round(sum(outcome_fracture), 0), \n",
    "                  weighted_person_years = round(sum(time_length(difftime(tstop, tstart), 'year')), 2)) %>% \n",
    "        dplyr::select(c('X', 'n', 'weighted_followup', 'weighted_event', 'weighted_person_years'))\n",
    "    return(dta)\n",
    "} \n",
    "incid_num_weighted()"
   ]
  },
  {
   "cell_type": "markdown",
   "metadata": {},
   "source": [
    "## causal effect estimation"
   ]
  },
  {
   "cell_type": "code",
   "execution_count": 29,
   "metadata": {},
   "outputs": [],
   "source": [
    "dta_clone_fracture_imp1 <- dta_clone_fracture_imp1 %>% mutate(X = ifelse(X == 'reinitiation', 0, 1))"
   ]
  },
  {
   "cell_type": "code",
   "execution_count": 30,
   "metadata": {},
   "outputs": [],
   "source": [
    "causal_effect_estimation <- function(data = dta_clone_fracture_imp1, weights = 'ipw', \n",
    "                                     xvar = c('age', 'female', 'index_year', 'duration', 'potassium_value',\n",
    "                                              'primary_care_num', 'outpatient_num', 'inpatient_num', \n",
    "                                              'cov_diabetes_t0', 'cov_hypertension_t0', \n",
    "                                              'cov_MI_t0', 'cov_CHF_t0', 'cov_cerebrovascular_disease_t0', 'cov_PVD_t0', \n",
    "                                              'cov_cancer_t0', 'cov_COPD_t0', 'cov_fracture_t0', \n",
    "                                              'cov_beta_blocker_t0', 'cov_CCB_t0', 'cov_diuretic_t0', 'cov_MRA_t0', 'cov_SPS_t0', \n",
    "                                              'cov_statin_t0', \n",
    "                                              'cov_antiplatelet_agent_t0', \n",
    "                                              'cov_egfr_t0', \n",
    "                                              'cov_hospitalization_t0')) {\n",
    "    regression_formula <- as.formula(ifelse(length(xvar) == 0, 'outcome_fracture ~ X + rms::rcs(rank, 3)', \n",
    "                                            paste('outcome_fracture ~ X + rms::rcs(rank, 3) +', \n",
    "                                                  paste(xvar, collapse = ' + '), sep = ' ')))\n",
    "    regression_formula_int <- as.formula(ifelse(length(xvar) == 0, 'outcome_fracture ~ X * rms::rcs(rank, 3)', \n",
    "                                                paste('outcome_fracture ~ X * rms::rcs(rank, 3) +', \n",
    "                                                      paste(xvar, collapse = ' + '), sep = ' ')))\n",
    "    fracture.logistic.adjusted <- parglm(regression_formula, \n",
    "                                      weights = data[[weights]], \n",
    "                                      data = data, \n",
    "                                      family = binomial(link = \"logit\"), \n",
    "                                      control = parglm.control(nthreads = 6))\n",
    "    fracture.logistic.adjusted_int <- parglm(regression_formula_int, \n",
    "                                          weights = data[[weights]], \n",
    "                                          data = data, \n",
    "                                          family = binomial(link = \"logit\"), \n",
    "                                          control = parglm.control(nthreads = 6)) \n",
    "    fracture.res.adjusted <- summary(fracture.logistic.adjusted)\n",
    "    n_month = 60 \n",
    "    fracture_risk_summary_discontinuation <- data %>% \n",
    "        filter(rank == 1) %>% \n",
    "        mutate(X = 1) %>% \n",
    "        dplyr::select(c('ID', 'X', 'rank', xvar)) %>% \n",
    "        slice(rep(row_number(), n_month)) %>% \n",
    "        arrange(ID) %>% \n",
    "        group_by(ID) %>% \n",
    "        mutate(rank = cumsum(rank)) %>% \n",
    "        ungroup()\n",
    "    fracture_risk_summary_discontinuation$p_fracture = predict(fracture.logistic.adjusted_int, \n",
    "                                                         fracture_risk_summary_discontinuation, \n",
    "                                                         type = 'response')\n",
    "    fracture_risk_summary_discontinuation <- fracture_risk_summary_discontinuation %>%\n",
    "        mutate(p_surv = 1 - p_fracture) %>% \n",
    "        group_by(ID) %>% \n",
    "        mutate(p_cumsurv = cumprod(p_surv), \n",
    "               p_cumfracture = 1 - p_cumsurv) %>% \n",
    "        ungroup() %>% \n",
    "        group_by(rank) %>% \n",
    "        summarise(p_cumsurv = mean(p_cumsurv), \n",
    "                  p_cumfracture = mean(p_cumfracture)) %>% \n",
    "        mutate(X = 'discontinuation')\n",
    "    fracture_risk_summary_reinitiation <- data %>% \n",
    "        filter(rank == 1) %>% \n",
    "        mutate(X = 0) %>% \n",
    "        dplyr::select(c('ID', 'X', 'rank', xvar)) %>% \n",
    "        slice(rep(row_number(), n_month)) %>% \n",
    "        arrange(ID) %>% \n",
    "        group_by(ID) %>% \n",
    "        mutate(rank = cumsum(rank)) %>% \n",
    "        ungroup()\n",
    "    fracture_risk_summary_reinitiation$p_fracture = predict(fracture.logistic.adjusted_int, \n",
    "                                                      fracture_risk_summary_reinitiation, \n",
    "                                                      type = 'response')\n",
    "    fracture_risk_summary_reinitiation <- fracture_risk_summary_reinitiation %>%\n",
    "        mutate(p_surv = 1 - p_fracture) %>% \n",
    "        group_by(ID) %>% \n",
    "        mutate(p_cumsurv = cumprod(p_surv), \n",
    "               p_cumfracture = 1 - p_cumsurv) %>% \n",
    "        ungroup() %>% \n",
    "        group_by(rank) %>% \n",
    "        summarise(p_cumsurv = mean(p_cumsurv), \n",
    "                  p_cumfracture = mean(p_cumfracture)) %>% \n",
    "        mutate(X = 'reinitiation')\n",
    "    fracture_risk_summary <- rbind(fracture_risk_summary_discontinuation, fracture_risk_summary_reinitiation)\n",
    "    risk_discontinuation_3_y <- fracture_risk_summary_discontinuation %>% \n",
    "        filter(rank == 36) %>% \n",
    "        dplyr::select(p_cumfracture) %>% as.numeric()\n",
    "    risk_reinitiation_3_y <- fracture_risk_summary_reinitiation %>% \n",
    "        filter(rank == 36) %>% \n",
    "        dplyr::select(p_cumfracture) %>% as.numeric()\n",
    "    RD <- (risk_discontinuation_3_y - risk_reinitiation_3_y) * 100\n",
    "    RR <- (risk_discontinuation_3_y / risk_reinitiation_3_y)\n",
    "    risk_res <- round(c(risk_discontinuation_3_y * 100, risk_reinitiation_3_y * 100, RD, RR, \n",
    "                        exp(fracture.res.adjusted$coefficients[2, 1])), 2)\n",
    "    names(risk_res) <- c('3 year risk for discontinuation (%)', \n",
    "                         '3 year risk for reinitiation (%)', \n",
    "                         'risk difference (%)', \n",
    "                         'risk ratio', \n",
    "                         'hazard ratio')\n",
    "    risk_res <- risk_res %>% t()\n",
    "    risk_res <- list(risk_res, fracture_risk_summary)\n",
    "    return(risk_res)\n",
    "}"
   ]
  },
  {
   "cell_type": "code",
   "execution_count": 31,
   "metadata": {},
   "outputs": [
    {
     "name": "stderr",
     "output_type": "stream",
     "text": [
      "Note: Using an external vector in selections is ambiguous.\n",
      "\u001b[34mℹ\u001b[39m Use `all_of(xvar)` instead of `xvar` to silence this message.\n",
      "\u001b[34mℹ\u001b[39m See <https://tidyselect.r-lib.org/reference/faq-external-vector.html>.\n",
      "\u001b[90mThis message is displayed once per session.\u001b[39m\n",
      "\n",
      "`summarise()` ungrouping output (override with `.groups` argument)\n",
      "\n",
      "`summarise()` ungrouping output (override with `.groups` argument)\n",
      "\n"
     ]
    }
   ],
   "source": [
    "main_res = causal_effect_estimation(data = dta_clone_fracture_imp1, weights = 'ipw_uns_trunc', \n",
    "                                    xvar = c('index_year', 'duration'))\n",
    "main_point_estimation <- main_res[[1]]\n",
    "main_cum_incidence <- main_res[[2]]"
   ]
  },
  {
   "cell_type": "code",
   "execution_count": 32,
   "metadata": {},
   "outputs": [
    {
     "data": {
      "text/html": [
       "<table>\n",
       "<caption>A matrix: 1 × 5 of type dbl</caption>\n",
       "<thead>\n",
       "\t<tr><th scope=col>3 year risk for discontinuation (%)</th><th scope=col>3 year risk for reinitiation (%)</th><th scope=col>risk difference (%)</th><th scope=col>risk ratio</th><th scope=col>hazard ratio</th></tr>\n",
       "</thead>\n",
       "<tbody>\n",
       "\t<tr><td>13.52</td><td>14.38</td><td>-0.86</td><td>0.94</td><td>0.99</td></tr>\n",
       "</tbody>\n",
       "</table>\n"
      ],
      "text/latex": [
       "A matrix: 1 × 5 of type dbl\n",
       "\\begin{tabular}{lllll}\n",
       " 3 year risk for discontinuation (\\%) & 3 year risk for reinitiation (\\%) & risk difference (\\%) & risk ratio & hazard ratio\\\\\n",
       "\\hline\n",
       "\t 13.52 & 14.38 & -0.86 & 0.94 & 0.99\\\\\n",
       "\\end{tabular}\n"
      ],
      "text/markdown": [
       "\n",
       "A matrix: 1 × 5 of type dbl\n",
       "\n",
       "| 3 year risk for discontinuation (%) | 3 year risk for reinitiation (%) | risk difference (%) | risk ratio | hazard ratio |\n",
       "|---|---|---|---|---|\n",
       "| 13.52 | 14.38 | -0.86 | 0.94 | 0.99 |\n",
       "\n"
      ],
      "text/plain": [
       "     3 year risk for discontinuation (%) 3 year risk for reinitiation (%)\n",
       "[1,] 13.52                               14.38                           \n",
       "     risk difference (%) risk ratio hazard ratio\n",
       "[1,] -0.86               0.94       0.99        "
      ]
     },
     "metadata": {},
     "output_type": "display_data"
    }
   ],
   "source": [
    "main_point_estimation"
   ]
  },
  {
   "cell_type": "code",
   "execution_count": 33,
   "metadata": {},
   "outputs": [],
   "source": [
    "data_sample_generation <- function(k = 1, data = dta_clone_fracture_imp1) {\n",
    "    set.seed(k)\n",
    "    data_discontinuation <- data %>% filter(X == 1)\n",
    "    ID_random_sample_discontinuation <- sample(unique(data_discontinuation$ID), \n",
    "                                               size = length(unique(data_discontinuation$ID)), \n",
    "                                               replace = T) \n",
    "    ID_random_sample_reinitiation <- ID_random_sample_discontinuation + length(ID_random_sample_discontinuation)\n",
    "    ID_random_sample <- c(ID_random_sample_discontinuation, ID_random_sample_reinitiation)\n",
    "    sub_data <- function(i, j = 1) {\n",
    "        dta <- data %>% filter(ID == i) %>% mutate(ID = j) %>% data.frame()\n",
    "        return(dta)\n",
    "    }\n",
    "    dataset_random_sample <- rbindlist(mapply(sub_data, ID_random_sample,  1 : length(ID_random_sample), SIMPLIFY = F))\n",
    "    return(dataset_random_sample)\n",
    "}"
   ]
  },
  {
   "cell_type": "code",
   "execution_count": 34,
   "metadata": {},
   "outputs": [],
   "source": [
    "bootstrap_sub <- function (data = dta_clone_fracture_imp1, weights = 'ipw_uns_trunc', \n",
    "    xvar_boot = c('duration', 'index_year'), k = 1) {\n",
    "    no_of_sample = 50\n",
    "    CI_res_sub <- mclapply ((1 + (k - 1) * no_of_sample) : (k * no_of_sample), function(j) {\n",
    "        dataset_random_sample <- data_sample_generation(j, data = data)\n",
    "        Sys.sleep((j - (k - 1) * no_of_sample) * 3)\n",
    "        causal_effect_estimation(data = dataset_random_sample, weights = weights, \n",
    "                                 xvar = xvar_boot)}, mc.cores = 50)   \n",
    "    CI_res_sub <- foreach (i = 1 : no_of_sample, .combine = c) %do% {\n",
    "        CI_res_sub[[i]]\n",
    "    }\n",
    "    return(CI_res_sub)\n",
    "}"
   ]
  },
  {
   "cell_type": "code",
   "execution_count": 35,
   "metadata": {},
   "outputs": [],
   "source": [
    "CI_res <- foreach (i = 1 : 10, .combine = c) %do% {\n",
    "    bootstrap_sub(k = i)\n",
    "}"
   ]
  },
  {
   "cell_type": "raw",
   "metadata": {},
   "source": [
    "## bootstrap on 500 sample\n",
    "no_of_sample = 4\n",
    "cl <- parallel::makeCluster(4, type = \"SOCK\")\n",
    "##clusterEvalQ(cl = cl, {\n",
    "##    library(dplyr)\n",
    "##    library(data.table)\n",
    "##})\n",
    "registerDoParallel(cl)\n",
    "CI_res <- mcapply (j = 1 : no_of_sample, .combine = c, .packages = c(\"data.table\", \"dplyr\", 'parglm')) %dopar% {\n",
    "    dataset_random_sample <- data_sample_generation(j)\n",
    "    causal_effect_estimation(data = dataset_random_sample, weights = 'ipw_uns_trunc', \n",
    "                             xvar = c('duration', \n",
    "                                      'cov_diabetes_t0', 'cov_hypertension_t0', \n",
    "                                      'cov_MI_t0', 'cov_CHF_t0', 'cov_cerebrovascular_disease_t0', 'cov_PVD_t0', \n",
    "                                      'cov_cancer_t0', 'cov_COPD_t0', \n",
    "                                      'cov_beta_blocker_t0', 'cov_CCB_t0', 'cov_diuretic_t0', 'cov_MRA_t0', 'cov_SPS_t0', \n",
    "                                      'cov_statin_t0', \n",
    "                                      'cov_antiplatelet_agent_t0', \n",
    "                                      'cov_egfr_t0', \n",
    "                                      'primary_care_num_t0', 'outpatient_num_t0', 'inpatient_num_t0'))\n",
    "}\n",
    "stopCluster(cl)"
   ]
  },
  {
   "cell_type": "code",
   "execution_count": 36,
   "metadata": {},
   "outputs": [
    {
     "data": {
      "text/html": [
       "<table>\n",
       "<caption>A matrix: 1 × 5 of type chr</caption>\n",
       "<thead>\n",
       "\t<tr><th scope=col>3 year risk for discontinuation (%)</th><th scope=col>3 year risk for reinitiation (%)</th><th scope=col>risk difference (%)</th><th scope=col>risk ratio</th><th scope=col>hazard ratio</th></tr>\n",
       "</thead>\n",
       "<tbody>\n",
       "\t<tr><td>13.52 (10.83-18.01)</td><td>14.38 (11.9-19.27)</td><td>-0.86 (-6.14-3.81)</td><td>0.94 (0.67-1.28)</td><td>0.99 (0.79-1.19)</td></tr>\n",
       "</tbody>\n",
       "</table>\n"
      ],
      "text/latex": [
       "A matrix: 1 × 5 of type chr\n",
       "\\begin{tabular}{lllll}\n",
       " 3 year risk for discontinuation (\\%) & 3 year risk for reinitiation (\\%) & risk difference (\\%) & risk ratio & hazard ratio\\\\\n",
       "\\hline\n",
       "\t 13.52 (10.83-18.01) & 14.38 (11.9-19.27) & -0.86 (-6.14-3.81) & 0.94 (0.67-1.28) & 0.99 (0.79-1.19)\\\\\n",
       "\\end{tabular}\n"
      ],
      "text/markdown": [
       "\n",
       "A matrix: 1 × 5 of type chr\n",
       "\n",
       "| 3 year risk for discontinuation (%) | 3 year risk for reinitiation (%) | risk difference (%) | risk ratio | hazard ratio |\n",
       "|---|---|---|---|---|\n",
       "| 13.52 (10.83-18.01) | 14.38 (11.9-19.27) | -0.86 (-6.14-3.81) | 0.94 (0.67-1.28) | 0.99 (0.79-1.19) |\n",
       "\n"
      ],
      "text/plain": [
       "     3 year risk for discontinuation (%) 3 year risk for reinitiation (%)\n",
       "[1,] 13.52 (10.83-18.01)                 14.38 (11.9-19.27)              \n",
       "     risk difference (%) risk ratio       hazard ratio    \n",
       "[1,] -0.86 (-6.14-3.81)  0.94 (0.67-1.28) 0.99 (0.79-1.19)"
      ]
     },
     "metadata": {},
     "output_type": "display_data"
    }
   ],
   "source": [
    "no_of_sample = 500\n",
    "CI_point_estimation <- foreach (i = seq(1, 2 * no_of_sample, 2), .combine = rbind) %do% {\n",
    "    CI_res[[i]]\n",
    "}\n",
    "CI_point_estimation <- CI_point_estimation %>% data.frame()\n",
    "colnames(CI_point_estimation) <- c('risk_dis', 'risk_re', 'RD', 'RR', 'HR')\n",
    "CI_point_estimation <- CI_point_estimation %>% \n",
    "    summarise(lci_risk_dis = quantile(risk_dis, 0.025), \n",
    "              uci_risk_dis = quantile(risk_dis, 0.975), \n",
    "              lci_risk_re = quantile(risk_re, 0.025), \n",
    "              uci_risk_re = quantile(risk_re, 0.975), \n",
    "              lci_RD = quantile(RD, 0.025), \n",
    "              uci_RD = quantile(RD, 0.975), \n",
    "              lci_RR = quantile(RR, 0.025), \n",
    "              uci_RR = quantile(RR, 0.975), \n",
    "              lci_HR = quantile(HR, 0.025), \n",
    "              uci_HR = quantile(HR, 0.975))\n",
    "CI_point_estimation <- round(matrix(as.numeric(CI_point_estimation), nrow = 5, ncol = 2, byrow = T), 2)\n",
    "causal_effect_point_estimation <- paste(t(main_point_estimation), \n",
    "                                        ' (', CI_point_estimation[ , 1], '-', \n",
    "                                        CI_point_estimation[ , 2], ')', sep = '')\n",
    "names(causal_effect_point_estimation) <- colnames(main_point_estimation)\n",
    "main_res <- t(causal_effect_point_estimation)\n",
    "main_res"
   ]
  },
  {
   "cell_type": "code",
   "execution_count": 37,
   "metadata": {},
   "outputs": [],
   "source": [
    "CI_cum_incidence <- foreach (i = seq(2, 2 * no_of_sample, 2), .combine = cbind) %do% {\n",
    "    CI_res[[i]]\n",
    "}\n",
    "CI_cum_incidence <- CI_cum_incidence[ , c(c(1, 4), seq(3, no_of_sample * 4, 4))]"
   ]
  },
  {
   "cell_type": "code",
   "execution_count": 38,
   "metadata": {},
   "outputs": [
    {
     "name": "stderr",
     "output_type": "stream",
     "text": [
      "`summarise()` regrouping output by 'rank' (override with `.groups` argument)\n",
      "\n"
     ]
    }
   ],
   "source": [
    "CI_cum_incidence <- CI_cum_incidence %>% \n",
    "    gather(i, p_cumfracture, p_cumfracture : p_cumfracture.499, factor_key = TRUE) %>% ## Note!!!!\n",
    "    arrange(rank, X) %>% \n",
    "    group_by(rank, X) %>% \n",
    "    summarise(lci_p_cumfracture = quantile(p_cumfracture, 0.025), \n",
    "              uci_p_cumfracture = quantile(p_cumfracture, 0.975))"
   ]
  },
  {
   "cell_type": "code",
   "execution_count": 39,
   "metadata": {},
   "outputs": [],
   "source": [
    "main_cum_incidence <- rbind(data.frame(rank = 0, p_cumsurv = 1, p_cumfracture = 0, X = 'discontinuation'), \n",
    "                            data.frame(rank = 0, p_cumsurv = 1, p_cumfracture = 0, X = 'reinitiation'), \n",
    "                            data.frame(main_cum_incidence))"
   ]
  },
  {
   "cell_type": "code",
   "execution_count": 40,
   "metadata": {},
   "outputs": [],
   "source": [
    "CI_cum_incidence <- rbind(data.frame(rank = 0, X = 'discontinuation', lci_p_cumfracture = 0, uci_p_cumfracture = 0), \n",
    "                          data.frame(rank = 0, X = 'reinitiation', lci_p_cumfracture = 0, uci_p_cumfracture = 0), \n",
    "                          data.frame(CI_cum_incidence))"
   ]
  },
  {
   "cell_type": "code",
   "execution_count": 41,
   "metadata": {},
   "outputs": [
    {
     "data": {
      "image/png": "[encoded data removed]",
      "text/plain": [
       "plot without title"
      ]
     },
     "metadata": {
      "image/png": {
       "height": 420,
       "width": 420
      }
     },
     "output_type": "display_data"
    }
   ],
   "source": [
    "save(main_cum_incidence, file = 'cum fracture figure PP.R')\n",
    "load('cum fracture figure PP.R')\n",
    "figure_PP_fracture <- ggplot(data = main_cum_incidence %>% filter(rank <= 36), aes(x = rank, y = p_cumfracture, group = X, colour = X)) + \n",
    "    geom_line() + \n",
    "    geom_line(data = CI_cum_incidence %>% filter(rank <= 36), aes(x = rank, y = lci_p_cumfracture, group = X, colour = X), \n",
    "              linetype = \"dashed\") + \n",
    "    geom_line(data = CI_cum_incidence %>% filter(rank <= 36), aes(x = rank, y = uci_p_cumfracture, group = X, colour = X), \n",
    "              linetype = \"dashed\") + \n",
    "    xlab('Month') + \n",
    "    ylab('Cumulative incidence') + \n",
    "    scale_x_continuous(breaks = seq(0, 36, 6)) + \n",
    "    ylim(0, 0.3) +\n",
    "    labs(title = 'B. PP effect: Negative control Fracture', color = \"Treatment strategy\") + \n",
    "    scale_color_manual(labels=c(\"stop RASi\", \"continue RASi\"),\n",
    "                       values=c(\"red\", \"blue\"))\n",
    "save(figure_PP_fracture, file = 'supple figure 7 panel B.Rdata')\n",
    "figure_PP_fracture"
   ]
  },
  {
   "cell_type": "markdown",
   "metadata": {},
   "source": [
    "## Sensitivity analyses"
   ]
  },
  {
   "cell_type": "markdown",
   "metadata": {},
   "source": [
    "### <font face = \"Times New Roman\" color='blue'>stabilized IPWs without truncation</font>"
   ]
  },
  {
   "cell_type": "code",
   "execution_count": 36,
   "metadata": {},
   "outputs": [
    {
     "name": "stderr",
     "output_type": "stream",
     "text": [
      "`summarise()` ungrouping output (override with `.groups` argument)\n",
      "\n",
      "`summarise()` ungrouping output (override with `.groups` argument)\n",
      "\n"
     ]
    },
    {
     "data": {
      "text/html": [
       "<table>\n",
       "<caption>A tibble: 2 × 5</caption>\n",
       "<thead>\n",
       "\t<tr><th scope=col>X</th><th scope=col>n</th><th scope=col>weighted_followup</th><th scope=col>weighted_event</th><th scope=col>weighted_person_years</th></tr>\n",
       "\t<tr><th scope=col>&lt;dbl&gt;</th><th scope=col>&lt;int&gt;</th><th scope=col>&lt;chr&gt;</th><th scope=col>&lt;dbl&gt;</th><th scope=col>&lt;dbl&gt;</th></tr>\n",
       "</thead>\n",
       "<tbody>\n",
       "\t<tr><td>0</td><td>5669</td><td>0.49 [0.33-1.09]</td><td>546</td><td>4654.29</td></tr>\n",
       "\t<tr><td>1</td><td>5669</td><td>0.08 [0-0.22]   </td><td>267</td><td>1662.45</td></tr>\n",
       "</tbody>\n",
       "</table>\n"
      ],
      "text/latex": [
       "A tibble: 2 × 5\n",
       "\\begin{tabular}{lllll}\n",
       " X & n & weighted\\_followup & weighted\\_event & weighted\\_person\\_years\\\\\n",
       " <dbl> & <int> & <chr> & <dbl> & <dbl>\\\\\n",
       "\\hline\n",
       "\t 0 & 5669 & 0.49 {[}0.33-1.09{]} & 546 & 4654.29\\\\\n",
       "\t 1 & 5669 & 0.08 {[}0-0.22{]}    & 267 & 1662.45\\\\\n",
       "\\end{tabular}\n"
      ],
      "text/markdown": [
       "\n",
       "A tibble: 2 × 5\n",
       "\n",
       "| X &lt;dbl&gt; | n &lt;int&gt; | weighted_followup &lt;chr&gt; | weighted_event &lt;dbl&gt; | weighted_person_years &lt;dbl&gt; |\n",
       "|---|---|---|---|---|\n",
       "| 0 | 5669 | 0.49 [0.33-1.09] | 546 | 4654.29 |\n",
       "| 1 | 5669 | 0.08 [0-0.22]    | 267 | 1662.45 |\n",
       "\n"
      ],
      "text/plain": [
       "  X n    weighted_followup weighted_event weighted_person_years\n",
       "1 0 5669 0.49 [0.33-1.09]  546            4654.29              \n",
       "2 1 5669 0.08 [0-0.22]     267            1662.45              "
      ]
     },
     "metadata": {},
     "output_type": "display_data"
    }
   ],
   "source": [
    "incid_num_weighted(weights = 'ipw')"
   ]
  },
  {
   "cell_type": "code",
   "execution_count": 37,
   "metadata": {},
   "outputs": [
    {
     "name": "stderr",
     "output_type": "stream",
     "text": [
      "`summarise()` ungrouping output (override with `.groups` argument)\n",
      "\n",
      "`summarise()` ungrouping output (override with `.groups` argument)\n",
      "\n"
     ]
    }
   ],
   "source": [
    "sen1_res = causal_effect_estimation(weights = 'ipw')\n",
    "sen1_point_estimation <- sen1_res[[1]]"
   ]
  },
  {
   "cell_type": "code",
   "execution_count": 38,
   "metadata": {},
   "outputs": [
    {
     "data": {
      "text/html": [
       "<table>\n",
       "<caption>A matrix: 1 × 5 of type dbl</caption>\n",
       "<thead>\n",
       "\t<tr><th scope=col>3 year risk for discontinuation (%)</th><th scope=col>3 year risk for reinitiation (%)</th><th scope=col>risk difference (%)</th><th scope=col>risk ratio</th><th scope=col>hazard ratio</th></tr>\n",
       "</thead>\n",
       "<tbody>\n",
       "\t<tr><td>12.44</td><td>15.7</td><td>-3.26</td><td>0.79</td><td>0.97</td></tr>\n",
       "</tbody>\n",
       "</table>\n"
      ],
      "text/latex": [
       "A matrix: 1 × 5 of type dbl\n",
       "\\begin{tabular}{lllll}\n",
       " 3 year risk for discontinuation (\\%) & 3 year risk for reinitiation (\\%) & risk difference (\\%) & risk ratio & hazard ratio\\\\\n",
       "\\hline\n",
       "\t 12.44 & 15.7 & -3.26 & 0.79 & 0.97\\\\\n",
       "\\end{tabular}\n"
      ],
      "text/markdown": [
       "\n",
       "A matrix: 1 × 5 of type dbl\n",
       "\n",
       "| 3 year risk for discontinuation (%) | 3 year risk for reinitiation (%) | risk difference (%) | risk ratio | hazard ratio |\n",
       "|---|---|---|---|---|\n",
       "| 12.44 | 15.7 | -3.26 | 0.79 | 0.97 |\n",
       "\n"
      ],
      "text/plain": [
       "     3 year risk for discontinuation (%) 3 year risk for reinitiation (%)\n",
       "[1,] 12.44                               15.7                            \n",
       "     risk difference (%) risk ratio hazard ratio\n",
       "[1,] -3.26               0.79       0.97        "
      ]
     },
     "metadata": {},
     "output_type": "display_data"
    }
   ],
   "source": [
    "sen1_point_estimation"
   ]
  },
  {
   "cell_type": "code",
   "execution_count": 43,
   "metadata": {},
   "outputs": [],
   "source": [
    "CI_res <- foreach (i = 1 : 10, .combine = c) %do% {\n",
    "    bootstrap_sub(k = i, weights = 'ipw', \n",
    "                  xvar_boot = c('age', 'female', 'index_year', 'duration', 'potassium_value',\n",
    "                                'primary_care_num', 'outpatient_num', 'inpatient_num', \n",
    "                                'cov_diabetes_t0', 'cov_hypertension_t0', \n",
    "                                'cov_MI_t0', 'cov_CHF_t0', 'cov_cerebrovascular_disease_t0', 'cov_PVD_t0', \n",
    "                                'cov_cancer_t0', 'cov_COPD_t0', 'cov_fracture_t0', \n",
    "                                'cov_beta_blocker_t0', 'cov_CCB_t0', 'cov_diuretic_t0', 'cov_MRA_t0', 'cov_SPS_t0', \n",
    "                                'cov_statin_t0', \n",
    "                                'cov_antiplatelet_agent_t0', \n",
    "                                'cov_egfr_t0', \n",
    "                                'cov_hospitalization_t0'))\n",
    "}"
   ]
  },
  {
   "cell_type": "code",
   "execution_count": 44,
   "metadata": {},
   "outputs": [
    {
     "data": {
      "text/html": [
       "<table>\n",
       "<caption>A matrix: 1 × 5 of type chr</caption>\n",
       "<thead>\n",
       "\t<tr><th scope=col>3 year risk for discontinuation (%)</th><th scope=col>3 year risk for reinitiation (%)</th><th scope=col>risk difference (%)</th><th scope=col>risk ratio</th><th scope=col>hazard ratio</th></tr>\n",
       "</thead>\n",
       "<tbody>\n",
       "\t<tr><td>12.44 (10.35-15.74)</td><td>15.7 (13.37-19.63)</td><td>-3.26 (-7.67-1.12)</td><td>0.79 (0.59-1.08)</td><td>0.97 (0.87-1.12)</td></tr>\n",
       "</tbody>\n",
       "</table>\n"
      ],
      "text/latex": [
       "A matrix: 1 × 5 of type chr\n",
       "\\begin{tabular}{lllll}\n",
       " 3 year risk for discontinuation (\\%) & 3 year risk for reinitiation (\\%) & risk difference (\\%) & risk ratio & hazard ratio\\\\\n",
       "\\hline\n",
       "\t 12.44 (10.35-15.74) & 15.7 (13.37-19.63) & -3.26 (-7.67-1.12) & 0.79 (0.59-1.08) & 0.97 (0.87-1.12)\\\\\n",
       "\\end{tabular}\n"
      ],
      "text/markdown": [
       "\n",
       "A matrix: 1 × 5 of type chr\n",
       "\n",
       "| 3 year risk for discontinuation (%) | 3 year risk for reinitiation (%) | risk difference (%) | risk ratio | hazard ratio |\n",
       "|---|---|---|---|---|\n",
       "| 12.44 (10.35-15.74) | 15.7 (13.37-19.63) | -3.26 (-7.67-1.12) | 0.79 (0.59-1.08) | 0.97 (0.87-1.12) |\n",
       "\n"
      ],
      "text/plain": [
       "     3 year risk for discontinuation (%) 3 year risk for reinitiation (%)\n",
       "[1,] 12.44 (10.35-15.74)                 15.7 (13.37-19.63)              \n",
       "     risk difference (%) risk ratio       hazard ratio    \n",
       "[1,] -3.26 (-7.67-1.12)  0.79 (0.59-1.08) 0.97 (0.87-1.12)"
      ]
     },
     "metadata": {},
     "output_type": "display_data"
    }
   ],
   "source": [
    "no_of_sample = 500\n",
    "################################################################################################\n",
    "CI_point_estimation <- foreach (i = seq(1, 2 * no_of_sample, 2), .combine = rbind) %do% {\n",
    "    CI_res[[i]]\n",
    "}\n",
    "CI_point_estimation <- CI_point_estimation %>% data.frame()\n",
    "colnames(CI_point_estimation) <- c('risk_dis', 'risk_re', 'RD', 'RR', 'HR')\n",
    "CI_point_estimation <- CI_point_estimation %>% \n",
    "    summarise(lci_risk_dis = quantile(risk_dis, 0.025), \n",
    "              uci_risk_dis = quantile(risk_dis, 0.975), \n",
    "              lci_risk_re = quantile(risk_re, 0.025), \n",
    "              uci_risk_re = quantile(risk_re, 0.975), \n",
    "              lci_RD = quantile(RD, 0.025), \n",
    "              uci_RD = quantile(RD, 0.975), \n",
    "              lci_RR = quantile(RR, 0.025), \n",
    "              uci_RR = quantile(RR, 0.975), \n",
    "              lci_HR = quantile(HR, 0.025), \n",
    "              uci_HR = quantile(HR, 0.975))\n",
    "CI_point_estimation <- round(matrix(as.numeric(CI_point_estimation), nrow = 5, ncol = 2, byrow = T), 2)\n",
    "causal_effect_point_estimation <- paste(t(sen1_point_estimation), \n",
    "                                        ' (', CI_point_estimation[ , 1], '-', \n",
    "                                        CI_point_estimation[ , 2], ')', sep = '')\n",
    "names(causal_effect_point_estimation) <- colnames(sen1_point_estimation)\n",
    "t(causal_effect_point_estimation)"
   ]
  },
  {
   "cell_type": "raw",
   "metadata": {},
   "source": [
    "###################################################STOP HERE#######################################"
   ]
  },
  {
   "cell_type": "markdown",
   "metadata": {},
   "source": [
    "### <font face = \"Times New Roman\" color='blue'>stabilized IPWs by ML</font>"
   ]
  },
  {
   "cell_type": "raw",
   "metadata": {},
   "source": [
    "incid_num_weighted(weights = 'ipw_ML')"
   ]
  },
  {
   "cell_type": "raw",
   "metadata": {},
   "source": [
    "sen2_res = causal_effect_estimation(weights = 'ipw_ML')\n",
    "sen2_point_estimation <- sen2_res[[1]]"
   ]
  },
  {
   "cell_type": "raw",
   "metadata": {},
   "source": [
    "CI_res <- foreach (i = 1 : 10, .combine = c) %do% {\n",
    "    bootstrap_sub(k = i, weights = 'ipw_ML', \n",
    "                  xvar_boot = c('age', 'female', 'index_year', 'duration', 'potassium_value',\n",
    "                                'primary_care_num', 'outpatient_num', 'inpatient_num', \n",
    "                                'cov_diabetes_t0', 'cov_hypertension_t0', \n",
    "                                'cov_MI_t0', 'cov_CHF_t0', 'cov_cerebrovascular_disease_t0', 'cov_PVD_t0', \n",
    "                                'cov_cancer_t0', 'cov_COPD_t0', 'cov_fracture_t0', \n",
    "                                'cov_beta_blocker_t0', 'cov_CCB_t0', 'cov_diuretic_t0', 'cov_MRA_t0', 'cov_SPS_t0', \n",
    "                                'cov_statin_t0', \n",
    "                                'cov_antiplatelet_agent_t0', \n",
    "                                'cov_egfr_t0', \n",
    "                                'cov_hospitalization_t0'))\n",
    "}\n",
    "################################################################################################\n",
    "CI_point_estimation <- foreach (i = seq(1, 2 * no_of_sample, 2), .combine = rbind) %do% {\n",
    "    CI_res[[i]]\n",
    "}\n",
    "CI_point_estimation <- CI_point_estimation %>% data.frame()\n",
    "colnames(CI_point_estimation) <- c('risk_dis', 'risk_re', 'RD', 'RR', 'HR')\n",
    "CI_point_estimation <- CI_point_estimation %>% \n",
    "    summarise(lci_risk_dis = quantile(risk_dis, 0.025), \n",
    "              uci_risk_dis = quantile(risk_dis, 0.975), \n",
    "              lci_risk_re = quantile(risk_re, 0.025), \n",
    "              uci_risk_re = quantile(risk_re, 0.975), \n",
    "              lci_RD = quantile(RD, 0.025), \n",
    "              uci_RD = quantile(RD, 0.975), \n",
    "              lci_RR = quantile(RR, 0.025), \n",
    "              uci_RR = quantile(RR, 0.975), \n",
    "              lci_HR = quantile(HR, 0.025), \n",
    "              uci_HR = quantile(HR, 0.975))\n",
    "CI_point_estimation <- round(matrix(as.numeric(CI_point_estimation), nrow = 5, ncol = 2, byrow = T), 2)\n",
    "causal_effect_point_estimation <- paste(t(sen2_point_estimation), \n",
    "                                        ' (', CI_point_estimation[ , 1], '-', \n",
    "                                        CI_point_estimation[ , 2], ')', sep = '')\n",
    "names(causal_effect_point_estimation) <- colnames(sen2_point_estimation)\n",
    "t(causal_effect_point_estimation)"
   ]
  },
  {
   "cell_type": "markdown",
   "metadata": {},
   "source": [
    "### <font face = \"Times New Roman\" color='blue'>albuminuria included as a time-varying confounder</font>"
   ]
  },
  {
   "cell_type": "code",
   "execution_count": 42,
   "metadata": {},
   "outputs": [
    {
     "data": {
      "text/html": [
       "2447"
      ],
      "text/latex": [
       "2447"
      ],
      "text/markdown": [
       "2447"
      ],
      "text/plain": [
       "[1] 2447"
      ]
     },
     "metadata": {},
     "output_type": "display_data"
    }
   ],
   "source": [
    "dta_clone_fracture_ALB <- dta_clone_fracture %>% \n",
    "    filter(!is.na(cov_acr_t0)) ## exclude patients with baseline missing albuminuria\n",
    "length(unique(dta_clone_fracture_ALB$lopnr))"
   ]
  },
  {
   "cell_type": "code",
   "execution_count": 43,
   "metadata": {},
   "outputs": [],
   "source": [
    "x_adjusted_var_ALB <- c('age', 'female', 'index_year', 'rcs(duration, 3)', 'rcs(potassium_value, 3)', \n",
    "                        # 'cov_diabetes_t0', 'cov_hypertension_t0', \n",
    "                        # 'cov_MI_t0', 'cov_CHF_t0', 'cov_cerebrovascular_disease_t0', 'cov_PVD_t0', \n",
    "                        # 'cov_COPD_t0', \n",
    "                        # 'cov_beta_blocker_t0', 'cov_CCB_t0', 'cov_diuretic_t0', 'cov_MRA_t0', 'cov_SPS_t0', \n",
    "                        # 'cov_statin_t0', \n",
    "                        # 'cov_antiplatelet_agent_t0', \n",
    "                        # 'cov_egfr_t0', \n",
    "                        'primary_care_num', \n",
    "                        'outpatient_num', \n",
    "                        'inpatient_num', # 'cov_hospitalization_t0', \n",
    "                        'cov_diabetes', 'cov_hypertension', \n",
    "                        'cov_MI', 'cov_CHF', 'cov_cerebrovascular_disease', 'cov_PVD', \n",
    "                        'cov_cancer', 'cov_COPD', 'cov_fracture',  \n",
    "                        'cov_beta_blocker', 'cov_CCB', 'cov_diuretic', 'cov_MRA', 'cov_SPS', \n",
    "                        'cov_statin', \n",
    "                        'cov_antiplatelet_agent', \n",
    "                        'rcs(cov_egfr, 6)', \n",
    "                        'rcs(cov_acr, 6)', \n",
    "                        # 'rcs(cov_potassium, 12)', \n",
    "                        'cov_hospitalization')"
   ]
  },
  {
   "cell_type": "code",
   "execution_count": 44,
   "metadata": {},
   "outputs": [],
   "source": [
    "dta_clone_fracture_ALB_discontinuation <- dta_clone_fracture_ALB %>% \n",
    "    filter(X == 'discontinuation') %>% \n",
    "    arrange(ID, index_date)\n",
    "dta_clone_fracture_ALB_discontinuation_censor_part <- dta_clone_fracture_ALB_discontinuation\n",
    "dta_clone_fracture_ALB_discontinuation_noncensor_part <- dta_clone_fracture_ALB_discontinuation %>% \n",
    "    filter(rank == 0)\n",
    "## logistic regression formula\n",
    "regression_formula_IPCW <- as.formula(paste0('censor ~ rank + rank ^ 2 + ', \n",
    "                                             paste(x_adjusted_var, collapse = \" + \"), \n",
    "                                             sep = ' '))\n",
    "denominator.fit <- glm(regression_formula_IPCW, \n",
    "                       data = dta_clone_fracture_ALB_discontinuation_censor_part, \n",
    "                       family  = binomial(link = \"logit\"))\n",
    "## ===============================================================================================================\n",
    "## Unstabilized IPW\n",
    "dta_clone_fracture_ALB_discontinuation_censor_part$ipw_uns_per_month <- \n",
    "    ifelse(dta_clone_fracture_ALB_discontinuation_censor_part$censor == 1, \n",
    "           0, \n",
    "           1 / (1 - fitted(denominator.fit)))\n",
    "dta_clone_fracture_ALB_discontinuation_noncensor_part$ipw_uns_per_month <- 1\n",
    "## ===============================================================================================================\n",
    "dta_clone_fracture_ALB_discontinuation <- rbind(dta_clone_fracture_ALB_discontinuation_censor_part, \n",
    "                                             dta_clone_fracture_ALB_discontinuation_noncensor_part) %>% \n",
    "    arrange(ID, index_date)\n",
    "## Unstabilized IPW\n",
    "dta_clone_fracture_ALB_discontinuation$ipw_uns <- unlist(tapply(dta_clone_fracture_ALB_discontinuation$ipw_uns_per_month, \n",
    "                                                             dta_clone_fracture_ALB_discontinuation$ID, cumprod))\n",
    "## ============================================================================================================="
   ]
  },
  {
   "cell_type": "code",
   "execution_count": 45,
   "metadata": {},
   "outputs": [],
   "source": [
    "dta_clone_fracture_ALB_reinitiation <- dta_clone_fracture_ALB %>% \n",
    "    filter(X == 'reinitiation') %>% \n",
    "    arrange(ID, index_date)\n",
    "dta_clone_fracture_ALB_reinitiation_censor_part <- dta_clone_fracture_ALB_reinitiation %>% \n",
    "    filter(rank >= 2)\n",
    "dta_clone_fracture_ALB_reinitiation_noncensor_part <- dta_clone_fracture_ALB_reinitiation %>% \n",
    "    filter(rank == 1)\n",
    "## logistic regression formula\n",
    "regression_formula_IPCW <- as.formula(paste0('censor ~ rank + rank ^ 2 + ', \n",
    "                                             paste(x_adjusted_var, collapse = \" + \"), \n",
    "                                             sep = ' '))\n",
    "denominator.fit <- glm(regression_formula_IPCW, \n",
    "                       data = dta_clone_fracture_ALB_reinitiation_censor_part, \n",
    "                       family  = binomial(link = \"logit\"))\n",
    "## Unstabilized IPW\n",
    "dta_clone_fracture_ALB_reinitiation_censor_part$ipw_uns_per_month <- \n",
    "    ifelse(dta_clone_fracture_ALB_reinitiation_censor_part$censor == 1, \n",
    "           0, \n",
    "           1 / (1 - fitted(denominator.fit)))\n",
    "dta_clone_fracture_ALB_reinitiation_noncensor_part$ipw_uns_per_month <- 1\n",
    "## =============================================================================================================\n",
    "dta_clone_fracture_ALB_reinitiation <- rbind(dta_clone_fracture_ALB_reinitiation_censor_part, \n",
    "                                          dta_clone_fracture_ALB_reinitiation_noncensor_part) %>% \n",
    "    arrange(ID, index_date)\n",
    "## Unstabilized IPW\n",
    "dta_clone_fracture_ALB_reinitiation$ipw_uns <- unlist(tapply(dta_clone_fracture_ALB_reinitiation$ipw_uns_per_month, \n",
    "                                                          dta_clone_fracture_ALB_reinitiation$ID, cumprod))\n",
    "## ============================================================================================================="
   ]
  },
  {
   "cell_type": "code",
   "execution_count": 46,
   "metadata": {},
   "outputs": [],
   "source": [
    "dta_clone_fracture_ALB <- rbind(dta_clone_fracture_ALB_discontinuation, dta_clone_fracture_ALB_reinitiation) %>% \n",
    "    arrange(ID, index_date)\n",
    "dta_clone_fracture_ALB$ipw_uns_trunc <- ipw.truncation(dta_clone_fracture_ALB$ipw_uns, \n",
    "                                                    trunc.u = quantile(dta_clone_fracture_ALB$ipw_uns, 0.99))\n",
    "dta_clone_fracture_ALB <- dta_clone_fracture_ALB %>% mutate(X = ifelse(X == 'reinitiation', 0, 1))"
   ]
  },
  {
   "cell_type": "code",
   "execution_count": 47,
   "metadata": {},
   "outputs": [
    {
     "name": "stderr",
     "output_type": "stream",
     "text": [
      "`summarise()` ungrouping output (override with `.groups` argument)\n",
      "\n",
      "`summarise()` ungrouping output (override with `.groups` argument)\n",
      "\n"
     ]
    },
    {
     "data": {
      "text/html": [
       "<table>\n",
       "<caption>A tibble: 2 × 5</caption>\n",
       "<thead>\n",
       "\t<tr><th scope=col>X</th><th scope=col>n</th><th scope=col>weighted_followup</th><th scope=col>weighted_event</th><th scope=col>weighted_person_years</th></tr>\n",
       "\t<tr><th scope=col>&lt;dbl&gt;</th><th scope=col>&lt;int&gt;</th><th scope=col>&lt;chr&gt;</th><th scope=col>&lt;dbl&gt;</th><th scope=col>&lt;dbl&gt;</th></tr>\n",
       "</thead>\n",
       "<tbody>\n",
       "\t<tr><td>0</td><td>2447</td><td>0.62 [0.37-1.56]</td><td>443</td><td>3903.84</td></tr>\n",
       "\t<tr><td>1</td><td>2447</td><td>0.13 [0-0.42]   </td><td>377</td><td>4038.05</td></tr>\n",
       "</tbody>\n",
       "</table>\n"
      ],
      "text/latex": [
       "A tibble: 2 × 5\n",
       "\\begin{tabular}{lllll}\n",
       " X & n & weighted\\_followup & weighted\\_event & weighted\\_person\\_years\\\\\n",
       " <dbl> & <int> & <chr> & <dbl> & <dbl>\\\\\n",
       "\\hline\n",
       "\t 0 & 2447 & 0.62 {[}0.37-1.56{]} & 443 & 3903.84\\\\\n",
       "\t 1 & 2447 & 0.13 {[}0-0.42{]}    & 377 & 4038.05\\\\\n",
       "\\end{tabular}\n"
      ],
      "text/markdown": [
       "\n",
       "A tibble: 2 × 5\n",
       "\n",
       "| X &lt;dbl&gt; | n &lt;int&gt; | weighted_followup &lt;chr&gt; | weighted_event &lt;dbl&gt; | weighted_person_years &lt;dbl&gt; |\n",
       "|---|---|---|---|---|\n",
       "| 0 | 2447 | 0.62 [0.37-1.56] | 443 | 3903.84 |\n",
       "| 1 | 2447 | 0.13 [0-0.42]    | 377 | 4038.05 |\n",
       "\n"
      ],
      "text/plain": [
       "  X n    weighted_followup weighted_event weighted_person_years\n",
       "1 0 2447 0.62 [0.37-1.56]  443            3903.84              \n",
       "2 1 2447 0.13 [0-0.42]     377            4038.05              "
      ]
     },
     "metadata": {},
     "output_type": "display_data"
    },
    {
     "name": "stderr",
     "output_type": "stream",
     "text": [
      "`summarise()` ungrouping output (override with `.groups` argument)\n",
      "\n",
      "`summarise()` ungrouping output (override with `.groups` argument)\n",
      "\n"
     ]
    },
    {
     "data": {
      "text/html": [
       "<table>\n",
       "<caption>A matrix: 1 × 5 of type dbl</caption>\n",
       "<thead>\n",
       "\t<tr><th scope=col>3 year risk for discontinuation (%)</th><th scope=col>3 year risk for reinitiation (%)</th><th scope=col>risk difference (%)</th><th scope=col>risk ratio</th><th scope=col>hazard ratio</th></tr>\n",
       "</thead>\n",
       "<tbody>\n",
       "\t<tr><td>12.63</td><td>12.43</td><td>0.2</td><td>1.02</td><td>0.88</td></tr>\n",
       "</tbody>\n",
       "</table>\n"
      ],
      "text/latex": [
       "A matrix: 1 × 5 of type dbl\n",
       "\\begin{tabular}{lllll}\n",
       " 3 year risk for discontinuation (\\%) & 3 year risk for reinitiation (\\%) & risk difference (\\%) & risk ratio & hazard ratio\\\\\n",
       "\\hline\n",
       "\t 12.63 & 12.43 & 0.2 & 1.02 & 0.88\\\\\n",
       "\\end{tabular}\n"
      ],
      "text/markdown": [
       "\n",
       "A matrix: 1 × 5 of type dbl\n",
       "\n",
       "| 3 year risk for discontinuation (%) | 3 year risk for reinitiation (%) | risk difference (%) | risk ratio | hazard ratio |\n",
       "|---|---|---|---|---|\n",
       "| 12.63 | 12.43 | 0.2 | 1.02 | 0.88 |\n",
       "\n"
      ],
      "text/plain": [
       "     3 year risk for discontinuation (%) 3 year risk for reinitiation (%)\n",
       "[1,] 12.63                               12.43                           \n",
       "     risk difference (%) risk ratio hazard ratio\n",
       "[1,] 0.2                 1.02       0.88        "
      ]
     },
     "metadata": {},
     "output_type": "display_data"
    }
   ],
   "source": [
    "incid_num_weighted(data = dta_clone_fracture_ALB, weights = 'ipw_uns_trunc')\n",
    "sen3_res = causal_effect_estimation(data = dta_clone_fracture_ALB, weights = 'ipw_uns_trunc', \n",
    "                                    xvar = c('index_year', 'duration'))\n",
    "sen3_point_estimation <- sen3_res[[1]]\n",
    "sen3_point_estimation"
   ]
  },
  {
   "cell_type": "code",
   "execution_count": 48,
   "metadata": {},
   "outputs": [
    {
     "data": {
      "text/html": [
       "<table>\n",
       "<caption>A matrix: 1 × 5 of type chr</caption>\n",
       "<thead>\n",
       "\t<tr><th scope=col>3 year risk for discontinuation (%)</th><th scope=col>3 year risk for reinitiation (%)</th><th scope=col>risk difference (%)</th><th scope=col>risk ratio</th><th scope=col>hazard ratio</th></tr>\n",
       "</thead>\n",
       "<tbody>\n",
       "\t<tr><td>12.63 (9.2-17.55)</td><td>12.43 (6.95-50.78)</td><td>0.2 (-39.57-7.85)</td><td>1.02 (0.21-1.96)</td><td>0.88 (0.53-1.38)</td></tr>\n",
       "</tbody>\n",
       "</table>\n"
      ],
      "text/latex": [
       "A matrix: 1 × 5 of type chr\n",
       "\\begin{tabular}{lllll}\n",
       " 3 year risk for discontinuation (\\%) & 3 year risk for reinitiation (\\%) & risk difference (\\%) & risk ratio & hazard ratio\\\\\n",
       "\\hline\n",
       "\t 12.63 (9.2-17.55) & 12.43 (6.95-50.78) & 0.2 (-39.57-7.85) & 1.02 (0.21-1.96) & 0.88 (0.53-1.38)\\\\\n",
       "\\end{tabular}\n"
      ],
      "text/markdown": [
       "\n",
       "A matrix: 1 × 5 of type chr\n",
       "\n",
       "| 3 year risk for discontinuation (%) | 3 year risk for reinitiation (%) | risk difference (%) | risk ratio | hazard ratio |\n",
       "|---|---|---|---|---|\n",
       "| 12.63 (9.2-17.55) | 12.43 (6.95-50.78) | 0.2 (-39.57-7.85) | 1.02 (0.21-1.96) | 0.88 (0.53-1.38) |\n",
       "\n"
      ],
      "text/plain": [
       "     3 year risk for discontinuation (%) 3 year risk for reinitiation (%)\n",
       "[1,] 12.63 (9.2-17.55)                   12.43 (6.95-50.78)              \n",
       "     risk difference (%) risk ratio       hazard ratio    \n",
       "[1,] 0.2 (-39.57-7.85)   1.02 (0.21-1.96) 0.88 (0.53-1.38)"
      ]
     },
     "metadata": {},
     "output_type": "display_data"
    }
   ],
   "source": [
    "## bootstrap on 500 sample\n",
    "CI_res <- foreach (i = 1 : 10, .combine = c) %do% {\n",
    "    bootstrap_sub(data = dta_clone_fracture_ALB, k = i, weights = 'ipw_uns_trunc')\n",
    "}\n",
    "##############################################################################################################\n",
    "CI_point_estimation <- foreach (i = seq(1, 2 * no_of_sample, 2), .combine = rbind) %do% {\n",
    "    CI_res[[i]]\n",
    "}\n",
    "CI_point_estimation <- CI_point_estimation %>% data.frame()\n",
    "colnames(CI_point_estimation) <- c('risk_dis', 'risk_re', 'RD', 'RR', 'HR')\n",
    "CI_point_estimation <- CI_point_estimation %>% \n",
    "    summarise(lci_risk_dis = quantile(risk_dis, 0.025), \n",
    "              uci_risk_dis = quantile(risk_dis, 0.975), \n",
    "              lci_risk_re = quantile(risk_re, 0.025), \n",
    "              uci_risk_re = quantile(risk_re, 0.975), \n",
    "              lci_RD = quantile(RD, 0.025), \n",
    "              uci_RD = quantile(RD, 0.975), \n",
    "              lci_RR = quantile(RR, 0.025), \n",
    "              uci_RR = quantile(RR, 0.975), \n",
    "              lci_HR = quantile(HR, 0.025), \n",
    "              uci_HR = quantile(HR, 0.975))\n",
    "CI_point_estimation <- round(matrix(as.numeric(CI_point_estimation), nrow = 5, ncol = 2, byrow = T), 2)\n",
    "causal_effect_point_estimation <- paste(t(sen3_point_estimation), \n",
    "                                        ' (', CI_point_estimation[ , 1], '-', \n",
    "                                        CI_point_estimation[ , 2], ')', sep = '')\n",
    "names(causal_effect_point_estimation) <- colnames(sen3_point_estimation)\n",
    "t(causal_effect_point_estimation)"
   ]
  },
  {
   "cell_type": "markdown",
   "metadata": {},
   "source": [
    "## subgroup analysis"
   ]
  },
  {
   "cell_type": "raw",
   "metadata": {},
   "source": [
    "subgroup_analysis <- function(data = dta_clone_fracture_imp1, by = 'age_cat', \n",
    "                              xvar = c('index_year', 'duration')) {\n",
    "    data1 = data[data[[by]] == 1, ]\n",
    "    data0 = data[data[[by]] == 0, ]\n",
    "    no_of_sample = 500\n",
    "    ##################################################\n",
    "    ### SUBGROUP 1 RESULTS\n",
    "    ##################################################\n",
    "    sub1_res = causal_effect_estimation(data = data1, weights = 'ipw_uns_trunc', \n",
    "                                        xvar = xvar)\n",
    "    sub1_point_estimation <- sub1_res[[1]]\n",
    "    ## bootstrap on 500 sample\n",
    "    sub1_CI_res <- foreach (i = 1 : 10, .combine = c) %do% {\n",
    "        bootstrap_sub(data = data1, k = i, weights = 'ipw_uns_trunc', xvar_boot = xvar)\n",
    "    }\n",
    "    ##############################################################################################\n",
    "    sub1_CI_point_estimation <- foreach (i = seq(1, 2 * no_of_sample, 2), .combine = rbind) %do% {\n",
    "        sub1_CI_res[[i]]\n",
    "    }\n",
    "    sub1_CI_point_estimation <- sub1_CI_point_estimation %>% data.frame()\n",
    "    colnames(sub1_CI_point_estimation) <- c('risk_dis', 'risk_re', 'RD', 'RR', 'HR')\n",
    "    sub1_CI_point_estimation <- sub1_CI_point_estimation %>% \n",
    "        summarise(lci_risk_dis = quantile(risk_dis, 0.025), \n",
    "                  uci_risk_dis = quantile(risk_dis, 0.975), \n",
    "                  lci_risk_re = quantile(risk_re, 0.025), \n",
    "                  uci_risk_re = quantile(risk_re, 0.975), \n",
    "                  lci_RD = quantile(RD, 0.025), \n",
    "                  uci_RD = quantile(RD, 0.975), \n",
    "                  lci_RR = quantile(RR, 0.025), \n",
    "                  uci_RR = quantile(RR, 0.975), \n",
    "                  lci_HR = quantile(HR, 0.025), \n",
    "                  uci_HR = quantile(HR, 0.975))\n",
    "    sub1_CI_point_estimation <- round(matrix(as.numeric(sub1_CI_point_estimation), nrow = 5, ncol = 2, byrow = T), 2)\n",
    "    causal_effect_point_estimation <- paste(t(sub1_point_estimation), \n",
    "                                            ' (', sub1_CI_point_estimation[ , 1], '-', \n",
    "                                            sub1_CI_point_estimation[ , 2], ')', sep = '')\n",
    "    sub1_res <- t(causal_effect_point_estimation)\n",
    "    ##################################################\n",
    "    ### SUBGROUP 0 RESULTS\n",
    "    ##################################################\n",
    "    sub0_res = causal_effect_estimation(data = data0, weights = 'ipw_uns_trunc', \n",
    "                                        xvar = xvar)\n",
    "    sub0_point_estimation <- sub0_res[[1]]\n",
    "    ## bootstrap on 500 sample\n",
    "    sub0_CI_res <- foreach (i = 1 : 10, .combine = c) %do% {\n",
    "        bootstrap_sub(data = data0, k = i, weights = 'ipw_uns_trunc', xvar_boot = xvar)\n",
    "    }\n",
    "    ######################################################################################################\n",
    "    sub0_CI_point_estimation <- foreach (i = seq(1, 2 * no_of_sample, 2), .combine = rbind) %do% {\n",
    "        sub0_CI_res[[i]]\n",
    "    }\n",
    "    sub0_CI_point_estimation <- sub0_CI_point_estimation %>% data.frame()\n",
    "    colnames(sub0_CI_point_estimation) <- c('risk_dis', 'risk_re', 'RD', 'RR', 'HR')\n",
    "    sub0_CI_point_estimation <- sub0_CI_point_estimation %>% \n",
    "        summarise(lci_risk_dis = quantile(risk_dis, 0.025), \n",
    "                  uci_risk_dis = quantile(risk_dis, 0.975), \n",
    "                  lci_risk_re = quantile(risk_re, 0.025), \n",
    "                  uci_risk_re = quantile(risk_re, 0.975), \n",
    "                  lci_RD = quantile(RD, 0.025), \n",
    "                  uci_RD = quantile(RD, 0.975), \n",
    "                  lci_RR = quantile(RR, 0.025), \n",
    "                  uci_RR = quantile(RR, 0.975), \n",
    "                  lci_HR = quantile(HR, 0.025), \n",
    "                  uci_HR = quantile(HR, 0.975))\n",
    "    sub0_CI_point_estimation <- round(matrix(as.numeric(sub0_CI_point_estimation), nrow = 5, ncol = 2, byrow = T), 2)\n",
    "    causal_effect_point_estimation <- paste(t(sub0_point_estimation), \n",
    "                                            ' (', sub0_CI_point_estimation[ , 1], '-', \n",
    "                                            sub0_CI_point_estimation[ , 2], ')', sep = '')\n",
    "    sub0_res <- t(causal_effect_point_estimation)\n",
    "    #####################################################################################\n",
    "    #####################################################################################\n",
    "    AERI_point_estimation <- round(sub1_point_estimation[3] - sub0_point_estimation[3], 2)\n",
    "    CI_AERI_point_estimation <- foreach (i = seq(1, 2 * no_of_sample, 2), .combine = rbind) %do% {\n",
    "        sub1_CI_res[[i]][3] - sub0_CI_res[[i]][3]\n",
    "    }\n",
    "    CI_AERI_point_estimation <- CI_AERI_point_estimation %>% data.frame()\n",
    "    colnames(CI_AERI_point_estimation) <- c('AERI')\n",
    "    CI_AERI_point_estimation <- CI_AERI_point_estimation %>% \n",
    "        summarise(lci_AERI = round(quantile(AERI, 0.025), 2), \n",
    "                  uci_AERI = round(quantile(AERI, 0.975), 2))\n",
    "    causal_effect_AERI <- c(AERI_point_estimation, CI_AERI_point_estimation[ , 1], CI_AERI_point_estimation[ , 2], \n",
    "                            paste(AERI_point_estimation, \n",
    "                                  ' (', CI_AERI_point_estimation[ , 1], '-', \n",
    "                                  CI_AERI_point_estimation[ , 2], ')', sep = ''))\n",
    "    ### think about how to calcualte P value?????????\n",
    "    p_res <- foreach (i = seq(1, 2 * no_of_sample, 2), .combine = c) %do% {\n",
    "        sub1_CI_res[[i]][3] - sub0_CI_res[[i]][3]\n",
    "    }\n",
    "    p_more_than_0 <- sum(p_res > 0) / length(p_res)\n",
    "    p_less_than_0 <- sum(p_res < 0) / length(p_res)\n",
    "    p <- round(min(p_more_than_0, p_less_than_0) * 2, 2)\n",
    "    res <- rbind(c(sub1_res, causal_effect_AERI, p), c(sub0_res, '', '', '', '', ''))\n",
    "    colnames(res) <- c(colnames(sub1_point_estimation), 'AERI point', 'AERI lci', 'AERI uci', 'AERI', 'p')\n",
    "    return(res)\n",
    "}"
   ]
  },
  {
   "cell_type": "raw",
   "metadata": {},
   "source": [
    "### by age\n",
    "dta_clone_fracture_imp1 <- dta_clone_fracture_imp1 %>% mutate(age_cat = ifelse(age >= 70, 1, 0))\n",
    "sub_res_age <- subgroup_analysis(by = 'age_cat')"
   ]
  },
  {
   "cell_type": "raw",
   "metadata": {},
   "source": [
    "### by sex\n",
    "sub_res_sex <- subgroup_analysis(by = 'female')"
   ]
  },
  {
   "cell_type": "raw",
   "metadata": {},
   "source": [
    "### by diabetes\n",
    "sub_res_diabetes <- subgroup_analysis(by = 'cov_diabetes_t0')"
   ]
  },
  {
   "cell_type": "raw",
   "metadata": {},
   "source": [
    "### by heart failure\n",
    "sub_res_HF <- subgroup_analysis(by = 'cov_CHF_t0')"
   ]
  },
  {
   "cell_type": "raw",
   "metadata": {},
   "source": [
    "### by eGFR\n",
    "dta_clone_fracture_imp1 <- dta_clone_fracture_imp1 %>% mutate(cov_egfr_subcat_t0 = ifelse(cov_egfr_t0 >= 60, 1, 0))\n",
    "sub_res_eGFR <- subgroup_analysis(by = 'cov_egfr_subcat_t0')"
   ]
  },
  {
   "cell_type": "raw",
   "metadata": {},
   "source": [
    "sub_res <- rbind(sub_res_age, \n",
    "                 sub_res_sex, \n",
    "                 sub_res_diabetes, \n",
    "                 sub_res_HF, \n",
    "                 sub_res_eGFR) %>% data.frame()\n",
    "sub_res <- sub_res %>% mutate(group = c(paste('    ', intToUtf8(8805), '70 years', sep = ''), \n",
    "                                        '    <70 years', \n",
    "                                        '    female', '    male', \n",
    "                                        '    yes', '    no', \n",
    "                                        '    yes', '    no', \n",
    "                                        paste('    ', intToUtf8(8805), '60 ml/min/1.73m^2', sep = ''), \n",
    "                                        '    <60 ml/min/1.73m^2')) %>% \n",
    "    dplyr::select(c(11, 1 : 10))\n",
    "sub_res <- rbind(as.matrix(t(c('Overall', main_res, '', '', '', '', ''))), as.matrix(sub_res)) %>% \n",
    "    data.frame()\n",
    "colnames(sub_res) <- c('group', colnames(sub_res_age))\n",
    "sub_res <- sub_res %>% dplyr::select(c(1 : 4, 7 : 11)) %>% \n",
    "    tibble::add_row(group = 'Age', .before = 2) %>% \n",
    "    tibble::add_row(group = 'Sex', .before = 5) %>% \n",
    "    tibble::add_row(group = 'Diabetes', .before = 8) %>% \n",
    "    tibble::add_row(group = 'Heart failure', .before = 11) %>%  \n",
    "    tibble::add_row(group = 'eGFR', .before = 14)"
   ]
  },
  {
   "cell_type": "raw",
   "metadata": {},
   "source": [
    "tabletext <- cbind(c(\"Subgroup\", \"\\n\", as.character(sub_res$group)), \n",
    "                   c(\"3 year risk for\\n discontinuation (%)\", \"\\n\", as.character(sub_res[ , 2])), \n",
    "                   c(\"3 year risk for\\n reinitiation (%)\", \"\\n\", as.character(sub_res[ , 3])), \n",
    "                   c(\"Risk difference (%)\", \"\\n\", as.character(sub_res[ , 4])), \n",
    "                   c(\"AERI (%)\", \"\\n\", as.character(sub_res$AERI)), \n",
    "                   c(\"P Value\", \"\\n\", as.character(sub_res$p)))\n",
    "options(repr.plot.width = 18, repr.plot.height = 10)\n",
    "forestplot(labeltext = tabletext, \n",
    "           graph.pos = 6, \n",
    "           mean = c(NA, NA, as.numeric(as.character(sub_res[['AERI point']]))), \n",
    "           lower = c(NA, NA, as.numeric(as.character(sub_res[['AERI lci']]))), \n",
    "           upper = c(NA, NA, as.numeric(as.character(sub_res[['AERI uci']]))), \n",
    "           title = \"\", \n",
    "           xlab = \"<---Discontinuation Better---                    ---Reinitiation Better--->\",\n",
    "           hrzl_lines = list(\"6\" = gpar(lwd = 80, lineend = \"butt\", columns=c(1 : 7), col=\"#99999922\"), \n",
    "                             \"9\" = gpar(lwd = 80, lineend = \"butt\", columns=c(1 : 7), col=\"#99999922\"),\n",
    "                             \"12\" = gpar(lwd = 80, lineend = \"butt\", columns=c(1 : 7), col=\"#99999922\"), \n",
    "                             \"15\" = gpar(lwd = 80, lineend = \"butt\", columns=c(1 : 7), col=\"#99999922\"),\n",
    "                             \"18\" = gpar(lwd = 80, lineend = \"butt\", columns=c(1 : 7), col=\"#99999922\")), \n",
    "           txt_gp = fpTxtGp(label = gpar(cex = 1.25),\n",
    "                            ticks = gpar(cex = 1.1),\n",
    "                            xlab = gpar(cex = 1.2),\n",
    "                            title = gpar(cex = 1.2)),\n",
    "           col = fpColors(box = \"black\", lines = \"black\", zero = \"red\"),\n",
    "           graphwidth = unit(100, 'mm'), \n",
    "           colgap = unit(6, \"mm\"),\n",
    "           boxsize = 0.3)"
   ]
  },
  {
   "cell_type": "code",
   "execution_count": null,
   "metadata": {},
   "outputs": [],
   "source": []
  },
  {
   "cell_type": "code",
   "execution_count": null,
   "metadata": {},
   "outputs": [],
   "source": []
  },
  {
   "cell_type": "code",
   "execution_count": null,
   "metadata": {},
   "outputs": [],
   "source": []
  },
  {
   "cell_type": "code",
   "execution_count": null,
   "metadata": {},
   "outputs": [],
   "source": []
  },
  {
   "cell_type": "code",
   "execution_count": null,
   "metadata": {},
   "outputs": [],
   "source": []
  },
  {
   "cell_type": "code",
   "execution_count": null,
   "metadata": {},
   "outputs": [],
   "source": []
  }
 ],
 "metadata": {
  "kernelspec": {
   "display_name": "R",
   "language": "R",
   "name": "ir"
  },
  "language_info": {
   "codemirror_mode": "r",
   "file_extension": ".r",
   "mimetype": "text/x-r-source",
   "name": "R",
   "pygments_lexer": "r",
   "version": "3.6.1"
  }
 },
 "nbformat": 4,
 "nbformat_minor": 4
}
