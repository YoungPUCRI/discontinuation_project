{
 "cells": [
  {
   "cell_type": "code",
   "execution_count": 2,
   "metadata": {},
   "outputs": [],
   "source": [
    "library(ggplot2)\n",
    "library(ggpubr)"
   ]
  },
  {
   "cell_type": "code",
   "execution_count": 3,
   "metadata": {},
   "outputs": [],
   "source": [
    "load('figure 1 panel A.Rdata')\n",
    "load('figure 1 panel B.Rdata')\n",
    "load('figure 1 panel C.Rdata')\n",
    "load('figure 1 panel D.Rdata')"
   ]
  },
  {
   "cell_type": "code",
   "execution_count": 4,
   "metadata": {},
   "outputs": [],
   "source": [
    "figure_1 <- ggarrange(figure_ITT_death, figure_ITT_MACE, \n",
    "                      figure_ITT_hyperkalemia, figure_ITT_MS_hyperkalemia, \n",
    "          labels = c('', '', '', ''), \n",
    "          ncol = 2, nrow = 2)"
   ]
  },
  {
   "cell_type": "code",
   "execution_count": 5,
   "metadata": {},
   "outputs": [],
   "source": [
    "ggsave(\"Figure 1.tiff\", figure_1, width = 35, height = 20, units = \"cm\", dpi = 600, compression = \"lzw\")"
   ]
  },
  {
   "cell_type": "code",
   "execution_count": 6,
   "metadata": {},
   "outputs": [],
   "source": [
    "load('figure 2 panel A.Rdata')\n",
    "load('figure 2 panel B.Rdata')\n",
    "load('figure 2 panel C.Rdata')\n",
    "load('figure 2 panel D.Rdata')"
   ]
  },
  {
   "cell_type": "code",
   "execution_count": 7,
   "metadata": {},
   "outputs": [],
   "source": [
    "figure_2 <- ggarrange(figure_PP_death, figure_PP_MACE, \n",
    "                      figure_PP_hyperkalemia, figure_PP_MS_hyperkalemia, \n",
    "          labels = c('', '', '', ''), \n",
    "          ncol = 2, nrow = 2)"
   ]
  },
  {
   "cell_type": "code",
   "execution_count": 8,
   "metadata": {},
   "outputs": [],
   "source": [
    "ggsave(\"Figure 2.tiff\", figure_2, width = 35, height = 20, units = \"cm\", dpi = 600, compression = \"lzw\")"
   ]
  },
  {
   "cell_type": "code",
   "execution_count": 9,
   "metadata": {},
   "outputs": [],
   "source": [
    "load('supple figure 7 panel A.Rdata')\n",
    "load('supple figure 7 panel B.Rdata')"
   ]
  },
  {
   "cell_type": "code",
   "execution_count": 10,
   "metadata": {},
   "outputs": [],
   "source": [
    "figure_negative <- ggarrange(figure_ITT_fracture, figure_PP_fracture, \n",
    "                             labels = c('', ''), \n",
    "                             ncol = 2, nrow = 1)"
   ]
  },
  {
   "cell_type": "code",
   "execution_count": 11,
   "metadata": {},
   "outputs": [],
   "source": [
    "ggsave(\"Figure negative.tiff\", figure_negative, width = 35, height = 10, units = \"cm\", dpi = 600, \n",
    "       compression = \"lzw\")"
   ]
  },
  {
   "cell_type": "code",
   "execution_count": null,
   "metadata": {},
   "outputs": [],
   "source": []
  }
 ],
 "metadata": {
  "kernelspec": {
   "display_name": "R",
   "language": "R",
   "name": "ir"
  },
  "language_info": {
   "codemirror_mode": "r",
   "file_extension": ".r",
   "mimetype": "text/x-r-source",
   "name": "R",
   "pygments_lexer": "r",
   "version": "3.6.3"
  }
 },
 "nbformat": 4,
 "nbformat_minor": 4
}
