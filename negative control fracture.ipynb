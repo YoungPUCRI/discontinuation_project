{
 "cells": [
  {
   "cell_type": "markdown",
   "metadata": {},
   "source": [
    "## load packages"
   ]
  },
  {
   "cell_type": "code",
   "execution_count": 2,
   "metadata": {},
   "outputs": [],
   "source": [
    "library(dplyr)\n",
    "library(lubridate)\n",
    "library(tableone)\n",
    "library(DescTools)\n",
    "library(biostat3)\n",
    "library(survminer)\n",
    "library(mice)\n",
    "library(foreach)\n",
    "library(mgcv)\n",
    "library(doParallel)\n",
    "library(mitools)\n",
    "library(survey)\n",
    "library(ipw)\n",
    "library(rms)\n",
    "library(tidyr)\n",
    "library(EValue)\n",
    "library(rpart)\n",
    "library(data.table)\n",
    "library(snow)\n",
    "library(forestplot)\n",
    "library(parglm)"
   ]
  },
  {
   "cell_type": "code",
   "execution_count": 3,
   "metadata": {},
   "outputs": [],
   "source": [
    "## HR display function\n",
    "OR.result.tidy <- function(result) {\n",
    "    res <- result$coefficients[2, c(1, 2)]\n",
    "    OR <- exp(res[1])\n",
    "    lci <- exp(res[1] - qnorm(0.975) * res[2])\n",
    "    uci <- exp(res[1] + qnorm(0.975) * res[2])\n",
    "    res <- data.frame(OR, lci, uci)\n",
    "    colnames(res) <- c('OR', 'lci', 'uci')\n",
    "    res <- res %>% \n",
    "        data.frame() %>% \n",
    "        mutate_at(vars(OR, lci, uci), funs(round(., 2))) \n",
    "    res <- res %>% \n",
    "        mutate(OR = paste0(res[, 1], \" (\", res[, 2], \"-\", res[, 3], \")\")) %>% \n",
    "        cbind(group = c('discontinuation')) %>% \n",
    "        dplyr::select(c(4, 1))\n",
    "    res <- rbind(data.frame(group = 'reinitiation', OR = 'Ref'), res) \n",
    "    res$group <- as.character(res$group)\n",
    "    return(res)\n",
    "}"
   ]
  },
  {
   "cell_type": "markdown",
   "metadata": {},
   "source": [
    "## import data"
   ]
  },
  {
   "cell_type": "code",
   "execution_count": 4,
   "metadata": {},
   "outputs": [],
   "source": [
    "load('dta_tidied.R')"
   ]
  },
  {
   "cell_type": "code",
   "execution_count": 5,
   "metadata": {},
   "outputs": [],
   "source": [
    "dta_clone_fracture <- dta_clone %>% \n",
    "    arrange(X, lopnr, index_date) %>% \n",
    "    group_by(X, lopnr) %>% \n",
    "    mutate(death_filter = cumsum(outcome_death), \n",
    "           censor_filter = cumsum(censor), \n",
    "           fracture_filter = cumsum(outcome_fracture)) %>% \n",
    "    filter(death_filter <= 1 & censor_filter <= 1 & fracture_filter <= 1) %>% \n",
    "    ungroup() %>% \n",
    "    dplyr::select(c('lopnr', 'ID', 'X', \n",
    "                    'index_date', 'after_index_date', 'rank', \n",
    "                    'age', 'female', 'index_year', 'duration', \n",
    "                    'cov_diabetes_t0', 'cov_hypertension_t0', \n",
    "                    'cov_MI_t0', 'cov_CHF_t0', 'cov_cerebrovascular_disease_t0', 'cov_PVD_t0', \n",
    "                    'cov_cancer_t0', 'cov_COPD_t0', \n",
    "                    'cov_beta_blocker_t0', 'cov_CCB_t0', 'cov_diuretic_t0', 'cov_MRA_t0', 'cov_SPS_t0', \n",
    "                    'cov_statin_t0', \n",
    "                    'cov_antiplatelet_agent_t0', \n",
    "                    'cov_egfr_t0', 'cov_egfr_cat_t0', 'cov_acr_t0', 'cov_acr_cat_t0', \n",
    "                    'potassium_value', 'potassium_cat', \n",
    "                    'cov_hospitalization_t0', 'cov_fracture_t0', \n",
    "                    'primary_care_num', 'outpatient_num', 'inpatient_num', \n",
    "                    'cov_diabetes', 'cov_hypertension', \n",
    "                    'cov_MI', 'cov_CHF', 'cov_cerebrovascular_disease', 'cov_PVD', \n",
    "                    'cov_cancer', 'cov_COPD',  \n",
    "                    'cov_beta_blocker', 'cov_CCB', 'cov_diuretic', 'cov_MRA', 'cov_SPS', \n",
    "                    'cov_statin', \n",
    "                    'cov_antiplatelet_agent', \n",
    "                    'cov_egfr', 'cov_egfr_cat', 'cov_acr', 'cov_acr_cat', \n",
    "                    'cov_potassium', 'cov_hospitalization', 'cov_fracture', \n",
    "                    'outcome_fracture', 'censor', 'treatment'))"
   ]
  },
  {
   "cell_type": "markdown",
   "metadata": {},
   "source": [
    "## description of chracteristics at month 6 (unweighted)"
   ]
  },
  {
   "cell_type": "code",
   "execution_count": 6,
   "metadata": {},
   "outputs": [],
   "source": [
    "dta_clone_fracture_6_month <- dta_clone_fracture %>% filter(rank == 6)"
   ]
  },
  {
   "cell_type": "code",
   "execution_count": 7,
   "metadata": {},
   "outputs": [],
   "source": [
    "xvars <- c('age', 'female', 'index_year', 'duration', 'potassium_cat', \n",
    "           'cov_diabetes', 'cov_hypertension', \n",
    "           'cov_MI', 'cov_CHF', 'cov_cerebrovascular_disease', 'cov_PVD', \n",
    "           'cov_cancer', 'cov_COPD', 'cov_fracture', \n",
    "           'cov_beta_blocker', 'cov_CCB', 'cov_diuretic', 'cov_MRA', 'cov_SPS', \n",
    "           'cov_statin', \n",
    "           'cov_antiplatelet_agent', \n",
    "           # 'cov_potassium', \n",
    "           'cov_egfr_cat', \n",
    "           'primary_care_num', 'cov_hospitalization', 'outpatient_num', 'inpatient_num')\n",
    "xfactorvars <- c('female', 'index_year', 'potassium_cat', \n",
    "                 'cov_diabetes', 'cov_hypertension', \n",
    "                 'cov_MI', 'cov_CHF', 'cov_cerebrovascular_disease', 'cov_PVD', \n",
    "                 'cov_cancer', 'cov_COPD', 'cov_fracture', \n",
    "                 'cov_beta_blocker', 'cov_CCB', 'cov_diuretic', 'cov_MRA', 'cov_SPS', \n",
    "                 'cov_statin', \n",
    "                 'cov_antiplatelet_agent', \n",
    "                 'cov_egfr_cat', 'cov_hospitalization')\n",
    "xnonnormvars <- c('duration', # 'cov_potassium', \n",
    "                  'primary_care_num', 'outpatient_num', 'inpatient_num')"
   ]
  },
  {
   "cell_type": "code",
   "execution_count": 8,
   "metadata": {},
   "outputs": [],
   "source": [
    "tb1.part <- CreateTableOne(xvars, strata = 'X', data = dta_clone_fracture_6_month, factorVars = xfactorvars, includeNA = T)\n",
    "tb1.part <- print(tb1.part, nonnormal = xnonnormvars, test = F, smd = T, printToggle = F)"
   ]
  },
  {
   "cell_type": "code",
   "execution_count": 9,
   "metadata": {},
   "outputs": [],
   "source": [
    "dta_clone_fracture_imp1 <- dta_clone_fracture"
   ]
  },
  {
   "cell_type": "markdown",
   "metadata": {},
   "source": [
    "## description of fracture event in each arm (unweighted)"
   ]
  },
  {
   "cell_type": "code",
   "execution_count": 10,
   "metadata": {},
   "outputs": [
    {
     "name": "stderr",
     "output_type": "stream",
     "text": [
      "`summarise()` ungrouping output (override with `.groups` argument)\n",
      "\n",
      "`summarise()` ungrouping output (override with `.groups` argument)\n",
      "\n",
      "Warning message:\n",
      "“`funs()` is deprecated as of dplyr 0.8.0.\n",
      "Please use a list of either functions or lambdas: \n",
      "\n",
      "  # Simple named list: \n",
      "  list(mean = mean, median = median)\n",
      "\n",
      "  # Auto named with `tibble::lst()`: \n",
      "  tibble::lst(mean, median)\n",
      "\n",
      "  # Using lambdas\n",
      "  list(~ mean(., trim = .2), ~ median(., na.rm = TRUE))\n",
      "\u001b[90mThis warning is displayed once every 8 hours.\u001b[39m\n",
      "\u001b[90mCall `lifecycle::last_warnings()` to see where this warning was generated.\u001b[39m”\n"
     ]
    },
    {
     "data": {
      "text/html": [
       "<table>\n",
       "<caption>A data.frame: 2 × 6</caption>\n",
       "<thead>\n",
       "\t<tr><th scope=col>group</th><th scope=col>n</th><th scope=col>followup</th><th scope=col>event</th><th scope=col>person_years</th><th scope=col>incidence rate</th></tr>\n",
       "\t<tr><th scope=col>&lt;chr&gt;</th><th scope=col>&lt;int&gt;</th><th scope=col>&lt;chr&gt;</th><th scope=col>&lt;dbl&gt;</th><th scope=col>&lt;dbl&gt;</th><th scope=col>&lt;chr&gt;</th></tr>\n",
       "</thead>\n",
       "<tbody>\n",
       "\t<tr><td>discontinuation</td><td>5669</td><td>0.16 [0.08-0.25]</td><td>363</td><td>2285.34</td><td>0.16 (0.14-0.18)</td></tr>\n",
       "\t<tr><td>reinitiation   </td><td>5669</td><td>1 [0.49-2.33]   </td><td>845</td><td>8228.82</td><td>0.1 (0.1-0.11)  </td></tr>\n",
       "</tbody>\n",
       "</table>\n"
      ],
      "text/latex": [
       "A data.frame: 2 × 6\n",
       "\\begin{tabular}{llllll}\n",
       " group & n & followup & event & person\\_years & incidence rate\\\\\n",
       " <chr> & <int> & <chr> & <dbl> & <dbl> & <chr>\\\\\n",
       "\\hline\n",
       "\t discontinuation & 5669 & 0.16 {[}0.08-0.25{]} & 363 & 2285.34 & 0.16 (0.14-0.18)\\\\\n",
       "\t reinitiation    & 5669 & 1 {[}0.49-2.33{]}    & 845 & 8228.82 & 0.1 (0.1-0.11)  \\\\\n",
       "\\end{tabular}\n"
      ],
      "text/markdown": [
       "\n",
       "A data.frame: 2 × 6\n",
       "\n",
       "| group &lt;chr&gt; | n &lt;int&gt; | followup &lt;chr&gt; | event &lt;dbl&gt; | person_years &lt;dbl&gt; | incidence rate &lt;chr&gt; |\n",
       "|---|---|---|---|---|---|\n",
       "| discontinuation | 5669 | 0.16 [0.08-0.25] | 363 | 2285.34 | 0.16 (0.14-0.18) |\n",
       "| reinitiation    | 5669 | 1 [0.49-2.33]    | 845 | 8228.82 | 0.1 (0.1-0.11)   |\n",
       "\n"
      ],
      "text/plain": [
       "  group           n    followup         event person_years incidence rate  \n",
       "1 discontinuation 5669 0.16 [0.08-0.25] 363   2285.34      0.16 (0.14-0.18)\n",
       "2 reinitiation    5669 1 [0.49-2.33]    845   8228.82      0.1 (0.1-0.11)  "
      ]
     },
     "metadata": {},
     "output_type": "display_data"
    }
   ],
   "source": [
    "source('results function.R')\n",
    "dta_clone_fracture_imp1_fixed <- dta_clone_fracture_imp1 %>% \n",
    "        arrange(ID, index_date) %>% \n",
    "        group_by(ID) %>% \n",
    "        summarise(index_date = min(index_date), \n",
    "                  after_index_date = max(after_index_date), \n",
    "                  outcome_fracture = sum(outcome_fracture), \n",
    "                  X = first(X))\n",
    "incid_num('outcome_fracture', 'index_date', 'after_index_date', 'X', \n",
    "          dta_clone_fracture_imp1_fixed, digit = 2)"
   ]
  },
  {
   "cell_type": "markdown",
   "metadata": {},
   "source": [
    "## IPW calculation"
   ]
  },
  {
   "cell_type": "code",
   "execution_count": 11,
   "metadata": {},
   "outputs": [],
   "source": [
    "x_adjusted_var <- c('age', 'female', 'index_year', 'rcs(duration, 3)', 'rcs(potassium_value, 3)', \n",
    "                    # 'cov_diabetes_t0', 'cov_hypertension_t0', \n",
    "                    # 'cov_MI_t0', 'cov_CHF_t0', 'cov_cerebrovascular_disease_t0', 'cov_PVD_t0', \n",
    "                    # 'cov_COPD_t0', \n",
    "                    # 'cov_beta_blocker_t0', 'cov_CCB_t0', 'cov_diuretic_t0', 'cov_MRA_t0', 'cov_SPS_t0', \n",
    "                    # 'cov_statin_t0', \n",
    "                    # 'cov_antiplatelet_agent_t0', \n",
    "                    # 'cov_egfr_t0', \n",
    "                    'primary_care_num', \n",
    "                    'outpatient_num', \n",
    "                    'inpatient_num', # 'cov_hospitalization_t0', \n",
    "                    'cov_diabetes', 'cov_hypertension', \n",
    "                    'cov_MI', 'cov_CHF', 'cov_cerebrovascular_disease', 'cov_PVD', \n",
    "                    'cov_cancer', 'cov_COPD', 'cov_fracture', \n",
    "                    'cov_beta_blocker', 'cov_CCB', 'cov_diuretic', 'cov_MRA', 'cov_SPS', \n",
    "                    'cov_statin', \n",
    "                    'cov_antiplatelet_agent', \n",
    "                    'rcs(cov_egfr, 6)', \n",
    "                    # 'rcs(cov_potassium, 12)', \n",
    "                    'cov_hospitalization')"
   ]
  },
  {
   "cell_type": "code",
   "execution_count": 12,
   "metadata": {},
   "outputs": [],
   "source": [
    "x_adjusted_var_ML <- c('age', 'female', 'index_year', 'duration', 'potassium_value', \n",
    "                       # 'cov_diabetes_t0', 'cov_hypertension_t0', \n",
    "                       # 'cov_MI_t0', 'cov_CHF_t0', 'cov_cerebrovascular_disease_t0', 'cov_PVD_t0', \n",
    "                       # 'cov_COPD_t0', \n",
    "                       # 'cov_beta_blocker_t0', 'cov_CCB_t0', 'cov_diuretic_t0', 'cov_MRA_t0', 'cov_SPS_t0', \n",
    "                       # 'cov_statin_t0', \n",
    "                       # 'cov_antiplatelet_agent_t0', \n",
    "                       # 'cov_egfr_t0', \n",
    "                       'primary_care_num', \n",
    "                       'outpatient_num', \n",
    "                       'inpatient_num', # 'cov_hospitalization_t0', \n",
    "                       'cov_diabetes', 'cov_hypertension', \n",
    "                       'cov_MI', 'cov_CHF', 'cov_cerebrovascular_disease', 'cov_PVD', \n",
    "                       'cov_cancer', 'cov_COPD', 'cov_fracture',  \n",
    "                       'cov_beta_blocker', 'cov_CCB', 'cov_diuretic', 'cov_MRA', 'cov_SPS', \n",
    "                       'cov_statin', \n",
    "                       'cov_antiplatelet_agent', \n",
    "                       'cov_egfr', \n",
    "                       # 'cov_potassium',\n",
    "                       'cov_hospitalization')"
   ]
  },
  {
   "cell_type": "code",
   "execution_count": 13,
   "metadata": {},
   "outputs": [],
   "source": [
    "dta_clone_fracture_imp1_discontinuation <- dta_clone_fracture_imp1 %>% \n",
    "    filter(X == 'discontinuation') %>% \n",
    "    arrange(ID, index_date)\n",
    "dta_clone_fracture_imp1_discontinuation_censor_part <- dta_clone_fracture_imp1_discontinuation %>% \n",
    "    filter(rank %in% 1 : 6)\n",
    "dta_clone_fracture_imp1_discontinuation_noncensor_part <- dta_clone_fracture_imp1_discontinuation %>% \n",
    "    filter(rank > 6)"
   ]
  },
  {
   "cell_type": "code",
   "execution_count": 14,
   "metadata": {},
   "outputs": [],
   "source": [
    "## logistic regression formula\n",
    "regression_formula_IPCW <- as.formula(paste0('censor ~ rank + rank ^ 2 + ', \n",
    "                                             paste(x_adjusted_var, collapse = \" + \"), \n",
    "                                             sep = ' '))\n",
    "denominator.fit <- glm(regression_formula_IPCW, \n",
    "                       data = dta_clone_fracture_imp1_discontinuation_censor_part, \n",
    "                       family  = binomial(link = \"logit\"))\n",
    "numerator.fit <- glm(censor ~ rank + rank ^ 2 + age + female + index_year + duration + potassium_value + \n",
    "                     primary_care_num + outpatient_num + inpatient_num + \n",
    "                     cov_diabetes_t0 + cov_hypertension_t0 + \n",
    "                     cov_MI_t0 + cov_CHF_t0 + cov_cerebrovascular_disease_t0 + cov_PVD_t0 + \n",
    "                     cov_cancer_t0 + cov_COPD_t0 + cov_fracture_t0 +\n",
    "                     cov_beta_blocker_t0 + cov_CCB_t0 + cov_diuretic_t0 + \n",
    "                     cov_MRA_t0 + cov_SPS_t0 + \n",
    "                     cov_statin_t0 + \n",
    "                     cov_antiplatelet_agent_t0 + \n",
    "                     cov_egfr_t0 + \n",
    "                     cov_hospitalization_t0, \n",
    "                     data = dta_clone_fracture_imp1_discontinuation_censor_part, \n",
    "                     family  = binomial(link = \"logit\"))\n",
    "## machine learning formula\n",
    "ML_formula_IPCW <- as.formula(paste0('censor ~ rank + ', \n",
    "                                     paste(x_adjusted_var_ML, collapse = \" + \"), \n",
    "                                     sep = ' '))\n",
    "denominator.fit_ML <- rpart(ML_formula_IPCW, \n",
    "                         data = dta_clone_fracture_imp1_discontinuation_censor_part, \n",
    "                         method = 'class')\n",
    "numerator.fit_ML <- rpart(censor ~ rank + age + female + index_year + duration + potassium_value + \n",
    "                          primary_care_num + outpatient_num + inpatient_num + \n",
    "                          cov_diabetes_t0 + cov_hypertension_t0 + \n",
    "                          cov_MI_t0 + cov_CHF_t0 + cov_cerebrovascular_disease_t0 + cov_PVD_t0 + \n",
    "                          cov_cancer_t0 + cov_COPD_t0 + cov_fracture_t0 + \n",
    "                          cov_beta_blocker_t0 + cov_CCB_t0 + cov_diuretic_t0 + \n",
    "                          cov_MRA_t0 + cov_SPS_t0 + \n",
    "                          cov_statin_t0 + \n",
    "                          cov_antiplatelet_agent_t0 + \n",
    "                          cov_egfr_t0 + \n",
    "                          cov_hospitalization_t0, \n",
    "                          data = dta_clone_fracture_imp1_discontinuation_censor_part, \n",
    "                          method = 'class')\n",
    "## ============================================================================================================="
   ]
  },
  {
   "cell_type": "code",
   "execution_count": 15,
   "metadata": {},
   "outputs": [],
   "source": [
    "## Stabilized IPW\n",
    "dta_clone_fracture_imp1_discontinuation_censor_part$ipw_per_month <- \n",
    "    ifelse(dta_clone_fracture_imp1_discontinuation_censor_part$censor == 1, \n",
    "           0, \n",
    "           (1 - fitted(numerator.fit)) / (1 - fitted(denominator.fit)))\n",
    "dta_clone_fracture_imp1_discontinuation_noncensor_part$ipw_per_month <- 1\n",
    "## =============================================================================================================\n",
    "## Unstabilized IPW\n",
    "dta_clone_fracture_imp1_discontinuation_censor_part$ipw_uns_per_month <- \n",
    "    ifelse(dta_clone_fracture_imp1_discontinuation_censor_part$censor == 1, \n",
    "           0, \n",
    "           1 / (1 - fitted(denominator.fit)))\n",
    "dta_clone_fracture_imp1_discontinuation_noncensor_part$ipw_uns_per_month <- 1\n",
    "## =============================================================================================================\n",
    "## Stabilized IPW by ML\n",
    "dta_clone_fracture_imp1_discontinuation_censor_part$ipw_ML_per_month <- \n",
    "    ifelse(dta_clone_fracture_imp1_discontinuation_censor_part$censor == 1, \n",
    "           0, \n",
    "           predict(numerator.fit_ML)[, 1] / predict(denominator.fit_ML)[, 1])\n",
    "dta_clone_fracture_imp1_discontinuation_noncensor_part$ipw_ML_per_month <- 1\n",
    "## ============================================================================================================="
   ]
  },
  {
   "cell_type": "code",
   "execution_count": 16,
   "metadata": {},
   "outputs": [],
   "source": [
    "dta_clone_fracture_imp1_discontinuation <- rbind(dta_clone_fracture_imp1_discontinuation_censor_part, \n",
    "                                              dta_clone_fracture_imp1_discontinuation_noncensor_part) %>% \n",
    "    arrange(ID, index_date)\n",
    "## Stabilized IPW\n",
    "dta_clone_fracture_imp1_discontinuation$ipw <- unlist(tapply(dta_clone_fracture_imp1_discontinuation$ipw_per_month, \n",
    "                                                         dta_clone_fracture_imp1_discontinuation$ID, cumprod))\n",
    "## =============================================================================================================\n",
    "## Unstabilized IPW\n",
    "dta_clone_fracture_imp1_discontinuation$ipw_uns <- unlist(tapply(dta_clone_fracture_imp1_discontinuation$ipw_uns_per_month, \n",
    "                                                              dta_clone_fracture_imp1_discontinuation$ID, cumprod))\n",
    "## =============================================================================================================\n",
    "## Stabilized IPW by ML\n",
    "dta_clone_fracture_imp1_discontinuation$ipw_ML <- unlist(tapply(dta_clone_fracture_imp1_discontinuation$ipw_ML_per_month, \n",
    "                                                             dta_clone_fracture_imp1_discontinuation$ID, cumprod))\n",
    "## ============================================================================================================="
   ]
  },
  {
   "cell_type": "code",
   "execution_count": 17,
   "metadata": {},
   "outputs": [
    {
     "data": {
      "text/plain": [
       "   Min. 1st Qu.  Median    Mean 3rd Qu.    Max. \n",
       " 0.0000  0.8153  0.9731  0.8561  1.0589  2.1643 "
      ]
     },
     "metadata": {},
     "output_type": "display_data"
    },
    {
     "data": {
      "image/png": "[encoded data removed]",
      "text/plain": [
       "Plot with title “Stabilized inverse probability weights for discontinuation arm”"
      ]
     },
     "metadata": {
      "image/png": {
       "height": 420,
       "width": 420
      }
     },
     "output_type": "display_data"
    },
    {
     "data": {
      "text/plain": [
       "   Min. 1st Qu.  Median    Mean 3rd Qu.    Max. \n",
       "  0.000   1.608   3.078   3.869   5.422  26.537 "
      ]
     },
     "metadata": {},
     "output_type": "display_data"
    },
    {
     "data": {
      "image/png": "[encoded data removed]",
      "text/plain": [
       "Plot with title “Unstabilized inverse probability weights for discontinuation arm”"
      ]
     },
     "metadata": {
      "image/png": {
       "height": 420,
       "width": 420
      }
     },
     "output_type": "display_data"
    },
    {
     "data": {
      "text/plain": [
       "   Min. 1st Qu.  Median    Mean 3rd Qu.    Max. \n",
       "  0.000   1.000   1.000   0.849   1.000   1.000 "
      ]
     },
     "metadata": {},
     "output_type": "display_data"
    },
    {
     "data": {
      "image/png": "[encoded data removed]",
      "text/plain": [
       "Plot with title “Stabilized inverse probability weights for discontinuation arm (ML)”"
      ]
     },
     "metadata": {
      "image/png": {
       "height": 420,
       "width": 420
      }
     },
     "output_type": "display_data"
    }
   ],
   "source": [
    "ipwplot(dta_clone_fracture_imp1_discontinuation$ipw, dta_clone_fracture_imp1_discontinuation$rank, \n",
    "        binwidth = 1, logscale = F, \n",
    "        xlab = 'Months since first hyperkalemia', \n",
    "        ylab = 'Weights', \n",
    "        main = 'Stabilized inverse probability weights for discontinuation arm', \n",
    "        ylim = c(0, 15))\n",
    "summary(dta_clone_fracture_imp1_discontinuation$ipw)\n",
    "ipwplot(dta_clone_fracture_imp1_discontinuation$ipw_uns, dta_clone_fracture_imp1_discontinuation$rank, \n",
    "        binwidth = 1, logscale = F, \n",
    "        xlab = 'Months since first hyperkalemia', \n",
    "        ylab = 'Weights', \n",
    "        main = 'Unstabilized inverse probability weights for discontinuation arm', \n",
    "        ylim = c(0, 15))\n",
    "summary(dta_clone_fracture_imp1_discontinuation$ipw_uns)\n",
    "ipwplot(dta_clone_fracture_imp1_discontinuation$ipw_ML, dta_clone_fracture_imp1_discontinuation$rank, \n",
    "        binwidth = 1, logscale = F, \n",
    "        xlab = 'Months since first hyperkalemia', \n",
    "        ylab = 'Weights', \n",
    "        main = 'Stabilized inverse probability weights for discontinuation arm (ML)', \n",
    "        ylim = c(0, 15))\n",
    "summary(dta_clone_fracture_imp1_discontinuation$ipw_ML)"
   ]
  },
  {
   "cell_type": "code",
   "execution_count": 18,
   "metadata": {},
   "outputs": [],
   "source": [
    "dta_clone_fracture_imp1_reinitiation <- dta_clone_fracture_imp1 %>% \n",
    "    filter(X == 'reinitiation') %>% \n",
    "    arrange(ID, index_date)\n",
    "dta_clone_fracture_imp1_reinitiation_censor_part <- dta_clone_fracture_imp1_reinitiation %>% \n",
    "    filter(rank == 6)\n",
    "dta_clone_fracture_imp1_reinitiation_noncensor_part <- dta_clone_fracture_imp1_reinitiation %>% \n",
    "    filter(rank %in% 1 : 5 | rank > 6)"
   ]
  },
  {
   "cell_type": "code",
   "execution_count": 19,
   "metadata": {},
   "outputs": [
    {
     "data": {
      "text/plain": [
       "   Min. 1st Qu.  Median    Mean 3rd Qu.    Max. \n",
       " 0.0000  0.9761  1.0000  0.9924  1.0137  2.0697 "
      ]
     },
     "metadata": {},
     "output_type": "display_data"
    },
    {
     "data": {
      "image/png": "[encoded data removed]",
      "text/plain": [
       "Plot with title “Stabilized inverse probability weights for reinitiation arm”"
      ]
     },
     "metadata": {
      "image/png": {
       "height": 420,
       "width": 420
      }
     },
     "output_type": "display_data"
    },
    {
     "data": {
      "text/plain": [
       "   Min. 1st Qu.  Median    Mean 3rd Qu.    Max. \n",
       "  0.000   1.000   1.121   1.142   1.210   4.430 "
      ]
     },
     "metadata": {},
     "output_type": "display_data"
    },
    {
     "data": {
      "image/png": "[encoded data removed]",
      "text/plain": [
       "Plot with title “Unstabilized inverse probability weights for reinitiation arm”"
      ]
     },
     "metadata": {
      "image/png": {
       "height": 420,
       "width": 420
      }
     },
     "output_type": "display_data"
    },
    {
     "data": {
      "text/plain": [
       "   Min. 1st Qu.  Median    Mean 3rd Qu.    Max. \n",
       " 0.0000  1.0000  1.0000  0.9923  1.0000  1.0000 "
      ]
     },
     "metadata": {},
     "output_type": "display_data"
    },
    {
     "data": {
      "image/png": "[encoded data removed]",
      "text/plain": [
       "Plot with title “Stabilized inverse probability weights for reinitiation arm (ML)”"
      ]
     },
     "metadata": {
      "image/png": {
       "height": 420,
       "width": 420
      }
     },
     "output_type": "display_data"
    }
   ],
   "source": [
    "regression_formula_IPCW <- as.formula(paste0('censor ~ ', \n",
    "                                             paste(x_adjusted_var, collapse = \" + \"), \n",
    "                                             sep = ' '))\n",
    "denominator.fit <- glm(regression_formula_IPCW, \n",
    "                       data = dta_clone_fracture_imp1_reinitiation_censor_part, \n",
    "                       family  = binomial(link = \"logit\"))\n",
    "numerator.fit <- glm(censor ~ age + female + index_year + duration + potassium_value + \n",
    "                     primary_care_num + outpatient_num + inpatient_num + \n",
    "                     cov_MI_t0 + cov_CHF_t0 + cov_cerebrovascular_disease_t0 + cov_PVD_t0 + \n",
    "                     cov_cancer_t0 + cov_COPD_t0 + cov_fracture_t0 + \n",
    "                     cov_beta_blocker_t0 + cov_CCB_t0 + cov_diuretic_t0 + \n",
    "                     cov_MRA_t0 + cov_SPS_t0 + \n",
    "                     cov_statin_t0 + \n",
    "                     cov_antiplatelet_agent_t0 + \n",
    "                     cov_egfr_t0 + \n",
    "                     cov_hospitalization_t0, \n",
    "                     data = dta_clone_fracture_imp1_reinitiation_censor_part, \n",
    "                     family  = binomial(link = \"logit\"))\n",
    "## machine learning formula\n",
    "ML_formula_IPCW <- as.formula(paste0('censor ~ ', \n",
    "                                     paste(x_adjusted_var_ML, collapse = \" + \"), \n",
    "                                     sep = ' '))\n",
    "denominator.fit_ML <- rpart(ML_formula_IPCW, \n",
    "                         data = dta_clone_fracture_imp1_reinitiation_censor_part, \n",
    "                         method = 'class')\n",
    "numerator.fit_ML <- rpart(censor ~ age + female + index_year + duration + potassium_value  + \n",
    "                          primary_care_num + outpatient_num + inpatient_num + \n",
    "                          cov_diabetes_t0 + cov_hypertension_t0 + \n",
    "                          cov_MI_t0 + cov_CHF_t0 + cov_cerebrovascular_disease_t0 + cov_PVD_t0 + \n",
    "                          cov_cancer_t0 + cov_COPD_t0 + cov_fracture_t0 + \n",
    "                          cov_beta_blocker_t0 + cov_CCB_t0 + cov_diuretic_t0 + \n",
    "                          cov_MRA_t0 + cov_SPS_t0 + \n",
    "                          cov_statin_t0 + \n",
    "                          cov_antiplatelet_agent_t0 + \n",
    "                          cov_egfr_t0 + \n",
    "                          cov_hospitalization_t0, \n",
    "                          data = dta_clone_fracture_imp1_reinitiation_censor_part, \n",
    "                          method = 'class')\n",
    "## =============================================================================================================\n",
    "## Stabilized IPW\n",
    "dta_clone_fracture_imp1_reinitiation_censor_part$ipw_per_month <- \n",
    "    ifelse(dta_clone_fracture_imp1_reinitiation_censor_part$censor == 1, \n",
    "           0, \n",
    "           (1 - fitted(numerator.fit)) / (1 - fitted(denominator.fit)))\n",
    "dta_clone_fracture_imp1_reinitiation_noncensor_part$ipw_per_month <- 1\n",
    "## =============================================================================================================\n",
    "## Unstabilized IPW\n",
    "dta_clone_fracture_imp1_reinitiation_censor_part$ipw_uns_per_month <- \n",
    "    ifelse(dta_clone_fracture_imp1_reinitiation_censor_part$censor == 1, \n",
    "           0, \n",
    "           1 / (1 - fitted(denominator.fit)))\n",
    "dta_clone_fracture_imp1_reinitiation_noncensor_part$ipw_uns_per_month <- 1\n",
    "## =============================================================================================================\n",
    "## Stabilized IPW by ML\n",
    "dta_clone_fracture_imp1_reinitiation_censor_part$ipw_ML_per_month <- \n",
    "    ifelse(dta_clone_fracture_imp1_reinitiation_censor_part$censor == 1, \n",
    "           0, \n",
    "           predict(numerator.fit_ML)[, 1] / predict(denominator.fit_ML)[, 1])\n",
    "dta_clone_fracture_imp1_reinitiation_noncensor_part$ipw_ML_per_month <- 1\n",
    "## =============================================================================================================\n",
    "dta_clone_fracture_imp1_reinitiation <- rbind(dta_clone_fracture_imp1_reinitiation_censor_part, \n",
    "                                           dta_clone_fracture_imp1_reinitiation_noncensor_part) %>% \n",
    "    arrange(ID, index_date)\n",
    "## Stabilized IPW\n",
    "dta_clone_fracture_imp1_reinitiation$ipw <- unlist(tapply(dta_clone_fracture_imp1_reinitiation$ipw_per_month, \n",
    "                                                       dta_clone_fracture_imp1_reinitiation$ID, cumprod))\n",
    "## =============================================================================================================\n",
    "## Unstabilized IPW\n",
    "dta_clone_fracture_imp1_reinitiation$ipw_uns <- unlist(tapply(dta_clone_fracture_imp1_reinitiation$ipw_uns_per_month, \n",
    "                                                           dta_clone_fracture_imp1_reinitiation$ID, cumprod))\n",
    "## =============================================================================================================\n",
    "## Stabilized IPW by ML\n",
    "dta_clone_fracture_imp1_reinitiation$ipw_ML <- unlist(tapply(dta_clone_fracture_imp1_reinitiation$ipw_ML_per_month, \n",
    "                                                          dta_clone_fracture_imp1_reinitiation$ID, cumprod))\n",
    "## =============================================================================================================\n",
    "ipwplot(dta_clone_fracture_imp1_reinitiation$ipw, dta_clone_fracture_imp1_reinitiation$rank, \n",
    "        binwidth = 1, logscale = F, \n",
    "        xlab = 'Months since first hyperkalemia', \n",
    "        ylab = 'Weights', \n",
    "        main = 'Stabilized inverse probability weights for reinitiation arm', \n",
    "        ylim = c(0, 5))\n",
    "summary(dta_clone_fracture_imp1_reinitiation$ipw)\n",
    "ipwplot(dta_clone_fracture_imp1_reinitiation$ipw_uns, dta_clone_fracture_imp1_reinitiation$rank, \n",
    "        binwidth = 1, logscale = F, \n",
    "        xlab = 'Months since first hyperkalemia', \n",
    "        ylab = 'Weights', \n",
    "        main = 'Unstabilized inverse probability weights for reinitiation arm', \n",
    "        ylim = c(0, 5))\n",
    "summary(dta_clone_fracture_imp1_reinitiation$ipw_uns)\n",
    "ipwplot(dta_clone_fracture_imp1_reinitiation$ipw_ML, dta_clone_fracture_imp1_reinitiation$rank, \n",
    "        binwidth = 1, logscale = F, \n",
    "        xlab = 'Months since first hyperkalemia', \n",
    "        ylab = 'Weights', \n",
    "        main = 'Stabilized inverse probability weights for reinitiation arm (ML)', \n",
    "        ylim = c(0, 5))\n",
    "summary(dta_clone_fracture_imp1_reinitiation$ipw_ML)"
   ]
  },
  {
   "cell_type": "code",
   "execution_count": 20,
   "metadata": {},
   "outputs": [],
   "source": [
    "## truncate unstabilized weight at 10\n",
    "ipw.truncation <- function(ipw.weights, trunc.u = 10, trunc.l = 0) {\n",
    "    weights.trunc.temp <- ifelse(ipw.weights >= trunc.u, trunc.u, ipw.weights) \n",
    "    weights.trunc <- ifelse(weights.trunc.temp <= trunc.l, trunc.l, weights.trunc.temp) \n",
    "}"
   ]
  },
  {
   "cell_type": "code",
   "execution_count": 21,
   "metadata": {},
   "outputs": [],
   "source": [
    "dta_clone_fracture_imp1 <- rbind(dta_clone_fracture_imp1_discontinuation, dta_clone_fracture_imp1_reinitiation) %>% \n",
    "    arrange(ID, index_date)"
   ]
  },
  {
   "cell_type": "code",
   "execution_count": 22,
   "metadata": {},
   "outputs": [],
   "source": [
    "dta_clone_fracture_imp1$ipw_uns_trunc <- ipw.truncation(dta_clone_fracture_imp1$ipw_uns, \n",
    "                                                     trunc.u = quantile(dta_clone_fracture_imp1$ipw_uns, 0.99))"
   ]
  },
  {
   "cell_type": "markdown",
   "metadata": {},
   "source": [
    "## description of chracteristics at month 6 and fracture event in each arm (weighted)"
   ]
  },
  {
   "cell_type": "code",
   "execution_count": 23,
   "metadata": {},
   "outputs": [],
   "source": [
    "dta_clone_fracture_6_month_weighted <- dta_clone_fracture %>% \n",
    "    left_join(dta_clone_fracture_imp1[ , c('ID', 'rank', 'ipw_uns_trunc')], by = c('ID', 'rank')) %>% \n",
    "    filter(rank == 6)"
   ]
  },
  {
   "cell_type": "code",
   "execution_count": 24,
   "metadata": {},
   "outputs": [],
   "source": [
    "dta_clone_fracture_6_month_weighted <- svydesign(ids = ~ ID, \n",
    "                                              data = dta_clone_fracture_6_month_weighted, \n",
    "                                              weights = ~ dta_clone_fracture_6_month_weighted$ipw_uns_trunc)"
   ]
  },
  {
   "cell_type": "code",
   "execution_count": 25,
   "metadata": {},
   "outputs": [],
   "source": [
    "tb1.part_weighted <- svyCreateTableOne(xvars, strata = 'X', data = dta_clone_fracture_6_month_weighted, factorVars = xfactorvars, includeNA = T)\n",
    "tb1.part_weighted <- print(tb1.part_weighted, nonnormal = xnonnormvars, test = F, smd = T, printToggle = F)"
   ]
  },
  {
   "cell_type": "code",
   "execution_count": 26,
   "metadata": {},
   "outputs": [],
   "source": [
    "tb1 <- cbind(tb1.part, tb1.part_weighted)"
   ]
  },
  {
   "cell_type": "code",
   "execution_count": 27,
   "metadata": {},
   "outputs": [],
   "source": [
    "tb1_SMD_summary <- tb1[ , c(3, 6)] %>% data.frame() %>% filter(SMD != '') %>% \n",
    "    mutate(SMD = as.numeric(as.character(SMD)), \n",
    "           SMD.1 = as.numeric(ifelse(as.character(SMD.1) == '<0.001', '0.001', as.character(SMD.1)))) %>% \n",
    "    mutate(covariates = str_replace(\n",
    "        str_replace(\n",
    "            str_replace(\n",
    "                str_replace_all(xvars, '_', ' '), \n",
    "                'cov ', ''), \n",
    "            'cat', 'categories'), \n",
    "        'num', 'number within 1 year prior')) %>% \n",
    "    mutate(covariates = factor(covariates, levels = rev(covariates)))"
   ]
  },
  {
   "cell_type": "code",
   "execution_count": 28,
   "metadata": {},
   "outputs": [
    {
     "data": {
      "image/png": "[encoded data removed]",
      "text/plain": [
       "plot without title"
      ]
     },
     "metadata": {
      "image/png": {
       "height": 420,
       "width": 420
      }
     },
     "output_type": "display_data"
    }
   ],
   "source": [
    "ggplot(data = tb1_SMD_summary, aes(x = SMD, y = covariates)) + \n",
    "    geom_point(aes(color = 'unweighted')) + \n",
    "    geom_point(aes(x = SMD.1, y = covariates, color = 'weighted')) + \n",
    "    scale_x_continuous(breaks = seq(0, 0.3, by = 0.05)) + \n",
    "    labs(title = 'Negative control. Fracture', x = 'SMD at index month 6', y = '') +   \n",
    "    geom_vline(xintercept = 0.1, linetype = \"dashed\", color = \"black\") + \n",
    "    theme(plot.title = element_text(size = 14, face = \"bold\"), \n",
    "          axis.title = element_text(size = 12, face = \"bold\")) + \n",
    "    scale_colour_manual(\"\", values = c(\"unweighted\" = \"red\", \"weighted\" = \"blue\"))"
   ]
  },
  {
   "cell_type": "code",
   "execution_count": 29,
   "metadata": {},
   "outputs": [
    {
     "data": {
      "text/html": [
       "<table>\n",
       "<caption>A matrix: 40 × 6 of type chr</caption>\n",
       "<thead>\n",
       "\t<tr><th></th><th scope=col>discontinuation</th><th scope=col>reinitiation</th><th scope=col>SMD</th><th scope=col>discontinuation</th><th scope=col>reinitiation</th><th scope=col>SMD</th></tr>\n",
       "</thead>\n",
       "<tbody>\n",
       "\t<tr><th scope=row>n</th><td>  836              </td><td> 4360              </td><td>      </td><td>3991.63              </td><td>4363.43              </td><td>      </td></tr>\n",
       "\t<tr><th scope=row>age (mean (SD))</th><td>73.74 (13.01)      </td><td>71.13 (13.20)      </td><td> 0.199</td><td>  71.21 (13.68)      </td><td>  71.14 (13.14)      </td><td> 0.005</td></tr>\n",
       "\t<tr><th scope=row>female = 1 (%)</th><td>  411 (49.2)       </td><td> 1897 (43.5)       </td><td> 0.114</td><td> 1841.9 (46.1)       </td><td> 1902.4 (43.6)       </td><td> 0.051</td></tr>\n",
       "\t<tr><th scope=row>index_year (%)</th><td>                   </td><td>                   </td><td> 0.073</td><td>                     </td><td>                     </td><td> 0.077</td></tr>\n",
       "\t<tr><th scope=row>   2007</th><td>  109 (13.0)       </td><td>  470 (10.8)       </td><td>      </td><td>  505.2 (12.7)       </td><td>  469.1 (10.8)       </td><td>      </td></tr>\n",
       "\t<tr><th scope=row>   2008</th><td>  183 (21.9)       </td><td>  983 (22.5)       </td><td>      </td><td>  939.5 (23.5)       </td><td>  981.1 (22.5)       </td><td>      </td></tr>\n",
       "\t<tr><th scope=row>   2009</th><td>  231 (27.6)       </td><td> 1194 (27.4)       </td><td>      </td><td> 1090.2 (27.3)       </td><td> 1197.6 (27.4)       </td><td>      </td></tr>\n",
       "\t<tr><th scope=row>   2010</th><td>  202 (24.2)       </td><td> 1106 (25.4)       </td><td>      </td><td>  956.1 (24.0)       </td><td> 1107.1 (25.4)       </td><td>      </td></tr>\n",
       "\t<tr><th scope=row>   2011</th><td>  111 (13.3)       </td><td>  607 (13.9)       </td><td>      </td><td>  500.6 (12.5)       </td><td>  608.5 (13.9)       </td><td>      </td></tr>\n",
       "\t<tr><th scope=row>duration (median [IQR])</th><td> 6.00 [2.00, 17.00]</td><td> 8.00 [2.00, 19.00]</td><td> 0.076</td><td>   5.78 [1.00, 16.00]</td><td>   8.00 [2.00, 19.00]</td><td> 0.130</td></tr>\n",
       "\t<tr><th scope=row>potassium_cat (%)</th><td>                   </td><td>                   </td><td> 0.209</td><td>                     </td><td>                     </td><td> 0.045</td></tr>\n",
       "\t<tr><th scope=row>   mild</th><td>  624 (74.6)       </td><td> 3599 (82.5)       </td><td>      </td><td> 3239.7 (81.2)       </td><td> 3616.9 (82.9)       </td><td>      </td></tr>\n",
       "\t<tr><th scope=row>   moderate</th><td>  139 (16.6)       </td><td>  560 (12.8)       </td><td>      </td><td>  560.1 (14.0)       </td><td>  554.2 (12.7)       </td><td>      </td></tr>\n",
       "\t<tr><th scope=row>   severe</th><td>   73 ( 8.7)       </td><td>  201 ( 4.6)       </td><td>      </td><td>  191.8 ( 4.8)       </td><td>  192.4 ( 4.4)       </td><td>      </td></tr>\n",
       "\t<tr><th scope=row>cov_diabetes = 1 (%)</th><td>  258 (30.9)       </td><td> 1347 (30.9)       </td><td> 0.001</td><td> 1263.0 (31.6)       </td><td> 1347.3 (30.9)       </td><td> 0.016</td></tr>\n",
       "\t<tr><th scope=row>cov_hypertension = 1 (%)</th><td>  638 (76.3)       </td><td> 3300 (75.7)       </td><td> 0.015</td><td> 3016.9 (75.6)       </td><td> 3304.6 (75.7)       </td><td> 0.004</td></tr>\n",
       "\t<tr><th scope=row>cov_MI = 1 (%)</th><td>  185 (22.1)       </td><td>  984 (22.6)       </td><td> 0.011</td><td>  909.7 (22.8)       </td><td>  989.3 (22.7)       </td><td> 0.003</td></tr>\n",
       "\t<tr><th scope=row>cov_CHF = 1 (%)</th><td>  310 (37.1)       </td><td> 1555 (35.7)       </td><td> 0.029</td><td> 1373.4 (34.4)       </td><td> 1562.1 (35.8)       </td><td> 0.029</td></tr>\n",
       "\t<tr><th scope=row>cov_cerebrovascular_disease = 1 (%)</th><td>  177 (21.2)       </td><td>  772 (17.7)       </td><td> 0.088</td><td>  705.2 (17.7)       </td><td>  769.5 (17.6)       </td><td> 0.001</td></tr>\n",
       "\t<tr><th scope=row>cov_PVD = 1 (%)</th><td>  124 (14.8)       </td><td>  556 (12.8)       </td><td> 0.060</td><td>  537.1 (13.5)       </td><td>  563.4 (12.9)       </td><td> 0.016</td></tr>\n",
       "\t<tr><th scope=row>cov_cancer = 1 (%)</th><td>  214 (25.6)       </td><td>  787 (18.1)       </td><td> 0.183</td><td>  706.9 (17.7)       </td><td>  788.0 (18.1)       </td><td> 0.009</td></tr>\n",
       "\t<tr><th scope=row>cov_COPD = 1 (%)</th><td>  180 (21.5)       </td><td>  756 (17.3)       </td><td> 0.106</td><td>  683.4 (17.1)       </td><td>  761.5 (17.5)       </td><td> 0.009</td></tr>\n",
       "\t<tr><th scope=row>cov_fracture = 1 (%)</th><td>  325 (38.9)       </td><td> 1428 (32.8)       </td><td> 0.128</td><td> 1299.7 (32.6)       </td><td> 1435.0 (32.9)       </td><td> 0.007</td></tr>\n",
       "\t<tr><th scope=row>cov_beta_blocker = 1 (%)</th><td>  455 (54.4)       </td><td> 2529 (58.0)       </td><td> 0.072</td><td> 2266.9 (56.8)       </td><td> 2540.8 (58.2)       </td><td> 0.029</td></tr>\n",
       "\t<tr><th scope=row>cov_CCB = 1 (%)</th><td>  237 (28.3)       </td><td> 1099 (25.2)       </td><td> 0.071</td><td> 1193.6 (29.9)       </td><td> 1104.6 (25.3)       </td><td> 0.103</td></tr>\n",
       "\t<tr><th scope=row>cov_diuretic = 1 (%)</th><td>  383 (45.8)       </td><td> 1885 (43.2)       </td><td> 0.052</td><td> 1672.2 (41.9)       </td><td> 1885.7 (43.2)       </td><td> 0.027</td></tr>\n",
       "\t<tr><th scope=row>cov_MRA = 1 (%)</th><td>  138 (16.5)       </td><td>  681 (15.6)       </td><td> 0.024</td><td>  591.3 (14.8)       </td><td>  683.3 (15.7)       </td><td> 0.024</td></tr>\n",
       "\t<tr><th scope=row>cov_SPS = 1 (%)</th><td>   16 ( 1.9)       </td><td>   99 ( 2.3)       </td><td> 0.025</td><td>   64.8 ( 1.6)       </td><td>   99.5 ( 2.3)       </td><td> 0.048</td></tr>\n",
       "\t<tr><th scope=row>cov_statin = 1 (%)</th><td>  272 (32.5)       </td><td> 1830 (42.0)       </td><td> 0.196</td><td> 1529.3 (38.3)       </td><td> 1835.9 (42.1)       </td><td> 0.077</td></tr>\n",
       "\t<tr><th scope=row>cov_antiplatelet_agent = 1 (%)</th><td>  366 (43.8)       </td><td> 1951 (44.7)       </td><td> 0.019</td><td> 1783.6 (44.7)       </td><td> 1963.7 (45.0)       </td><td> 0.006</td></tr>\n",
       "\t<tr><th scope=row>cov_egfr_cat (%)</th><td>                   </td><td>                   </td><td> 0.111</td><td>                     </td><td>                     </td><td> 0.070</td></tr>\n",
       "\t<tr><th scope=row>   G1</th><td>  112 (13.4)       </td><td>  661 (15.2)       </td><td>      </td><td>  647.5 (16.2)       </td><td>  670.1 (15.4)       </td><td>      </td></tr>\n",
       "\t<tr><th scope=row>   G2</th><td>  285 (34.1)       </td><td> 1592 (36.5)       </td><td>      </td><td> 1440.3 (36.1)       </td><td> 1584.5 (36.3)       </td><td>      </td></tr>\n",
       "\t<tr><th scope=row>   G3a</th><td>  167 (20.0)       </td><td>  857 (19.7)       </td><td>      </td><td>  816.0 (20.4)       </td><td>  846.8 (19.4)       </td><td>      </td></tr>\n",
       "\t<tr><th scope=row>   G3b</th><td>  151 (18.1)       </td><td>  760 (17.4)       </td><td>      </td><td>  616.4 (15.4)       </td><td>  778.1 (17.8)       </td><td>      </td></tr>\n",
       "\t<tr><th scope=row>   G4-5</th><td>  121 (14.5)       </td><td>  490 (11.2)       </td><td>      </td><td>  471.4 (11.8)       </td><td>  483.8 (11.1)       </td><td>      </td></tr>\n",
       "\t<tr><th scope=row>primary_care_num (median [IQR])</th><td> 3.00 [1.00, 6.00] </td><td> 3.00 [1.00, 6.00] </td><td> 0.034</td><td>   3.00 [1.00, 6.00] </td><td>   3.00 [1.00, 6.00] </td><td> 0.024</td></tr>\n",
       "\t<tr><th scope=row>cov_hospitalization = 1 (%)</th><td>   82 ( 9.8)       </td><td>  351 ( 8.1)       </td><td> 0.062</td><td>  298.5 ( 7.5)       </td><td>  355.9 ( 8.2)       </td><td> 0.025</td></tr>\n",
       "\t<tr><th scope=row>outpatient_num (median [IQR])</th><td> 3.00 [1.00, 8.00] </td><td> 3.00 [1.00, 7.00] </td><td> 0.070</td><td>   3.00 [1.00, 6.00] </td><td>   3.00 [1.00, 7.00] </td><td> 0.039</td></tr>\n",
       "\t<tr><th scope=row>inpatient_num (median [IQR])</th><td> 1.00 [0.00, 2.00] </td><td> 1.00 [0.00, 2.00] </td><td> 0.258</td><td>   1.00 [0.00, 2.00] </td><td>   1.00 [0.00, 2.00] </td><td> 0.001</td></tr>\n",
       "</tbody>\n",
       "</table>\n"
      ],
      "text/latex": [
       "A matrix: 40 × 6 of type chr\n",
       "\\begin{tabular}{r|llllll}\n",
       "  & discontinuation & reinitiation & SMD & discontinuation & reinitiation & SMD\\\\\n",
       "\\hline\n",
       "\tn &   836               &  4360               &        & 3991.63               & 4363.43               &       \\\\\n",
       "\tage (mean (SD)) & 73.74 (13.01)       & 71.13 (13.20)       &  0.199 &   71.21 (13.68)       &   71.14 (13.14)       &  0.005\\\\\n",
       "\tfemale = 1 (\\%) &   411 (49.2)        &  1897 (43.5)        &  0.114 &  1841.9 (46.1)        &  1902.4 (43.6)        &  0.051\\\\\n",
       "\tindex\\_year (\\%) &                     &                     &  0.073 &                       &                       &  0.077\\\\\n",
       "\t   2007 &   109 (13.0)        &   470 (10.8)        &        &   505.2 (12.7)        &   469.1 (10.8)        &       \\\\\n",
       "\t   2008 &   183 (21.9)        &   983 (22.5)        &        &   939.5 (23.5)        &   981.1 (22.5)        &       \\\\\n",
       "\t   2009 &   231 (27.6)        &  1194 (27.4)        &        &  1090.2 (27.3)        &  1197.6 (27.4)        &       \\\\\n",
       "\t   2010 &   202 (24.2)        &  1106 (25.4)        &        &   956.1 (24.0)        &  1107.1 (25.4)        &       \\\\\n",
       "\t   2011 &   111 (13.3)        &   607 (13.9)        &        &   500.6 (12.5)        &   608.5 (13.9)        &       \\\\\n",
       "\tduration (median {[}IQR{]}) &  6.00 {[}2.00, 17.00{]} &  8.00 {[}2.00, 19.00{]} &  0.076 &    5.78 {[}1.00, 16.00{]} &    8.00 {[}2.00, 19.00{]} &  0.130\\\\\n",
       "\tpotassium\\_cat (\\%) &                     &                     &  0.209 &                       &                       &  0.045\\\\\n",
       "\t   mild &   624 (74.6)        &  3599 (82.5)        &        &  3239.7 (81.2)        &  3616.9 (82.9)        &       \\\\\n",
       "\t   moderate &   139 (16.6)        &   560 (12.8)        &        &   560.1 (14.0)        &   554.2 (12.7)        &       \\\\\n",
       "\t   severe &    73 ( 8.7)        &   201 ( 4.6)        &        &   191.8 ( 4.8)        &   192.4 ( 4.4)        &       \\\\\n",
       "\tcov\\_diabetes = 1 (\\%) &   258 (30.9)        &  1347 (30.9)        &  0.001 &  1263.0 (31.6)        &  1347.3 (30.9)        &  0.016\\\\\n",
       "\tcov\\_hypertension = 1 (\\%) &   638 (76.3)        &  3300 (75.7)        &  0.015 &  3016.9 (75.6)        &  3304.6 (75.7)        &  0.004\\\\\n",
       "\tcov\\_MI = 1 (\\%) &   185 (22.1)        &   984 (22.6)        &  0.011 &   909.7 (22.8)        &   989.3 (22.7)        &  0.003\\\\\n",
       "\tcov\\_CHF = 1 (\\%) &   310 (37.1)        &  1555 (35.7)        &  0.029 &  1373.4 (34.4)        &  1562.1 (35.8)        &  0.029\\\\\n",
       "\tcov\\_cerebrovascular\\_disease = 1 (\\%) &   177 (21.2)        &   772 (17.7)        &  0.088 &   705.2 (17.7)        &   769.5 (17.6)        &  0.001\\\\\n",
       "\tcov\\_PVD = 1 (\\%) &   124 (14.8)        &   556 (12.8)        &  0.060 &   537.1 (13.5)        &   563.4 (12.9)        &  0.016\\\\\n",
       "\tcov\\_cancer = 1 (\\%) &   214 (25.6)        &   787 (18.1)        &  0.183 &   706.9 (17.7)        &   788.0 (18.1)        &  0.009\\\\\n",
       "\tcov\\_COPD = 1 (\\%) &   180 (21.5)        &   756 (17.3)        &  0.106 &   683.4 (17.1)        &   761.5 (17.5)        &  0.009\\\\\n",
       "\tcov\\_fracture = 1 (\\%) &   325 (38.9)        &  1428 (32.8)        &  0.128 &  1299.7 (32.6)        &  1435.0 (32.9)        &  0.007\\\\\n",
       "\tcov\\_beta\\_blocker = 1 (\\%) &   455 (54.4)        &  2529 (58.0)        &  0.072 &  2266.9 (56.8)        &  2540.8 (58.2)        &  0.029\\\\\n",
       "\tcov\\_CCB = 1 (\\%) &   237 (28.3)        &  1099 (25.2)        &  0.071 &  1193.6 (29.9)        &  1104.6 (25.3)        &  0.103\\\\\n",
       "\tcov\\_diuretic = 1 (\\%) &   383 (45.8)        &  1885 (43.2)        &  0.052 &  1672.2 (41.9)        &  1885.7 (43.2)        &  0.027\\\\\n",
       "\tcov\\_MRA = 1 (\\%) &   138 (16.5)        &   681 (15.6)        &  0.024 &   591.3 (14.8)        &   683.3 (15.7)        &  0.024\\\\\n",
       "\tcov\\_SPS = 1 (\\%) &    16 ( 1.9)        &    99 ( 2.3)        &  0.025 &    64.8 ( 1.6)        &    99.5 ( 2.3)        &  0.048\\\\\n",
       "\tcov\\_statin = 1 (\\%) &   272 (32.5)        &  1830 (42.0)        &  0.196 &  1529.3 (38.3)        &  1835.9 (42.1)        &  0.077\\\\\n",
       "\tcov\\_antiplatelet\\_agent = 1 (\\%) &   366 (43.8)        &  1951 (44.7)        &  0.019 &  1783.6 (44.7)        &  1963.7 (45.0)        &  0.006\\\\\n",
       "\tcov\\_egfr\\_cat (\\%) &                     &                     &  0.111 &                       &                       &  0.070\\\\\n",
       "\t   G1 &   112 (13.4)        &   661 (15.2)        &        &   647.5 (16.2)        &   670.1 (15.4)        &       \\\\\n",
       "\t   G2 &   285 (34.1)        &  1592 (36.5)        &        &  1440.3 (36.1)        &  1584.5 (36.3)        &       \\\\\n",
       "\t   G3a &   167 (20.0)        &   857 (19.7)        &        &   816.0 (20.4)        &   846.8 (19.4)        &       \\\\\n",
       "\t   G3b &   151 (18.1)        &   760 (17.4)        &        &   616.4 (15.4)        &   778.1 (17.8)        &       \\\\\n",
       "\t   G4-5 &   121 (14.5)        &   490 (11.2)        &        &   471.4 (11.8)        &   483.8 (11.1)        &       \\\\\n",
       "\tprimary\\_care\\_num (median {[}IQR{]}) &  3.00 {[}1.00, 6.00{]}  &  3.00 {[}1.00, 6.00{]}  &  0.034 &    3.00 {[}1.00, 6.00{]}  &    3.00 {[}1.00, 6.00{]}  &  0.024\\\\\n",
       "\tcov\\_hospitalization = 1 (\\%) &    82 ( 9.8)        &   351 ( 8.1)        &  0.062 &   298.5 ( 7.5)        &   355.9 ( 8.2)        &  0.025\\\\\n",
       "\toutpatient\\_num (median {[}IQR{]}) &  3.00 {[}1.00, 8.00{]}  &  3.00 {[}1.00, 7.00{]}  &  0.070 &    3.00 {[}1.00, 6.00{]}  &    3.00 {[}1.00, 7.00{]}  &  0.039\\\\\n",
       "\tinpatient\\_num (median {[}IQR{]}) &  1.00 {[}0.00, 2.00{]}  &  1.00 {[}0.00, 2.00{]}  &  0.258 &    1.00 {[}0.00, 2.00{]}  &    1.00 {[}0.00, 2.00{]}  &  0.001\\\\\n",
       "\\end{tabular}\n"
      ],
      "text/markdown": [
       "\n",
       "A matrix: 40 × 6 of type chr\n",
       "\n",
       "| <!--/--> | discontinuation | reinitiation | SMD | discontinuation | reinitiation | SMD |\n",
       "|---|---|---|---|---|---|---|\n",
       "| n |   836               |  4360               | <!----> | 3991.63               | 4363.43               | <!----> |\n",
       "| age (mean (SD)) | 73.74 (13.01)       | 71.13 (13.20)       |  0.199 |   71.21 (13.68)       |   71.14 (13.14)       |  0.005 |\n",
       "| female = 1 (%) |   411 (49.2)        |  1897 (43.5)        |  0.114 |  1841.9 (46.1)        |  1902.4 (43.6)        |  0.051 |\n",
       "| index_year (%) | <!----> | <!----> |  0.073 | <!----> | <!----> |  0.077 |\n",
       "|    2007 |   109 (13.0)        |   470 (10.8)        | <!----> |   505.2 (12.7)        |   469.1 (10.8)        | <!----> |\n",
       "|    2008 |   183 (21.9)        |   983 (22.5)        | <!----> |   939.5 (23.5)        |   981.1 (22.5)        | <!----> |\n",
       "|    2009 |   231 (27.6)        |  1194 (27.4)        | <!----> |  1090.2 (27.3)        |  1197.6 (27.4)        | <!----> |\n",
       "|    2010 |   202 (24.2)        |  1106 (25.4)        | <!----> |   956.1 (24.0)        |  1107.1 (25.4)        | <!----> |\n",
       "|    2011 |   111 (13.3)        |   607 (13.9)        | <!----> |   500.6 (12.5)        |   608.5 (13.9)        | <!----> |\n",
       "| duration (median [IQR]) |  6.00 [2.00, 17.00] |  8.00 [2.00, 19.00] |  0.076 |    5.78 [1.00, 16.00] |    8.00 [2.00, 19.00] |  0.130 |\n",
       "| potassium_cat (%) | <!----> | <!----> |  0.209 | <!----> | <!----> |  0.045 |\n",
       "|    mild |   624 (74.6)        |  3599 (82.5)        | <!----> |  3239.7 (81.2)        |  3616.9 (82.9)        | <!----> |\n",
       "|    moderate |   139 (16.6)        |   560 (12.8)        | <!----> |   560.1 (14.0)        |   554.2 (12.7)        | <!----> |\n",
       "|    severe |    73 ( 8.7)        |   201 ( 4.6)        | <!----> |   191.8 ( 4.8)        |   192.4 ( 4.4)        | <!----> |\n",
       "| cov_diabetes = 1 (%) |   258 (30.9)        |  1347 (30.9)        |  0.001 |  1263.0 (31.6)        |  1347.3 (30.9)        |  0.016 |\n",
       "| cov_hypertension = 1 (%) |   638 (76.3)        |  3300 (75.7)        |  0.015 |  3016.9 (75.6)        |  3304.6 (75.7)        |  0.004 |\n",
       "| cov_MI = 1 (%) |   185 (22.1)        |   984 (22.6)        |  0.011 |   909.7 (22.8)        |   989.3 (22.7)        |  0.003 |\n",
       "| cov_CHF = 1 (%) |   310 (37.1)        |  1555 (35.7)        |  0.029 |  1373.4 (34.4)        |  1562.1 (35.8)        |  0.029 |\n",
       "| cov_cerebrovascular_disease = 1 (%) |   177 (21.2)        |   772 (17.7)        |  0.088 |   705.2 (17.7)        |   769.5 (17.6)        |  0.001 |\n",
       "| cov_PVD = 1 (%) |   124 (14.8)        |   556 (12.8)        |  0.060 |   537.1 (13.5)        |   563.4 (12.9)        |  0.016 |\n",
       "| cov_cancer = 1 (%) |   214 (25.6)        |   787 (18.1)        |  0.183 |   706.9 (17.7)        |   788.0 (18.1)        |  0.009 |\n",
       "| cov_COPD = 1 (%) |   180 (21.5)        |   756 (17.3)        |  0.106 |   683.4 (17.1)        |   761.5 (17.5)        |  0.009 |\n",
       "| cov_fracture = 1 (%) |   325 (38.9)        |  1428 (32.8)        |  0.128 |  1299.7 (32.6)        |  1435.0 (32.9)        |  0.007 |\n",
       "| cov_beta_blocker = 1 (%) |   455 (54.4)        |  2529 (58.0)        |  0.072 |  2266.9 (56.8)        |  2540.8 (58.2)        |  0.029 |\n",
       "| cov_CCB = 1 (%) |   237 (28.3)        |  1099 (25.2)        |  0.071 |  1193.6 (29.9)        |  1104.6 (25.3)        |  0.103 |\n",
       "| cov_diuretic = 1 (%) |   383 (45.8)        |  1885 (43.2)        |  0.052 |  1672.2 (41.9)        |  1885.7 (43.2)        |  0.027 |\n",
       "| cov_MRA = 1 (%) |   138 (16.5)        |   681 (15.6)        |  0.024 |   591.3 (14.8)        |   683.3 (15.7)        |  0.024 |\n",
       "| cov_SPS = 1 (%) |    16 ( 1.9)        |    99 ( 2.3)        |  0.025 |    64.8 ( 1.6)        |    99.5 ( 2.3)        |  0.048 |\n",
       "| cov_statin = 1 (%) |   272 (32.5)        |  1830 (42.0)        |  0.196 |  1529.3 (38.3)        |  1835.9 (42.1)        |  0.077 |\n",
       "| cov_antiplatelet_agent = 1 (%) |   366 (43.8)        |  1951 (44.7)        |  0.019 |  1783.6 (44.7)        |  1963.7 (45.0)        |  0.006 |\n",
       "| cov_egfr_cat (%) | <!----> | <!----> |  0.111 | <!----> | <!----> |  0.070 |\n",
       "|    G1 |   112 (13.4)        |   661 (15.2)        | <!----> |   647.5 (16.2)        |   670.1 (15.4)        | <!----> |\n",
       "|    G2 |   285 (34.1)        |  1592 (36.5)        | <!----> |  1440.3 (36.1)        |  1584.5 (36.3)        | <!----> |\n",
       "|    G3a |   167 (20.0)        |   857 (19.7)        | <!----> |   816.0 (20.4)        |   846.8 (19.4)        | <!----> |\n",
       "|    G3b |   151 (18.1)        |   760 (17.4)        | <!----> |   616.4 (15.4)        |   778.1 (17.8)        | <!----> |\n",
       "|    G4-5 |   121 (14.5)        |   490 (11.2)        | <!----> |   471.4 (11.8)        |   483.8 (11.1)        | <!----> |\n",
       "| primary_care_num (median [IQR]) |  3.00 [1.00, 6.00]  |  3.00 [1.00, 6.00]  |  0.034 |    3.00 [1.00, 6.00]  |    3.00 [1.00, 6.00]  |  0.024 |\n",
       "| cov_hospitalization = 1 (%) |    82 ( 9.8)        |   351 ( 8.1)        |  0.062 |   298.5 ( 7.5)        |   355.9 ( 8.2)        |  0.025 |\n",
       "| outpatient_num (median [IQR]) |  3.00 [1.00, 8.00]  |  3.00 [1.00, 7.00]  |  0.070 |    3.00 [1.00, 6.00]  |    3.00 [1.00, 7.00]  |  0.039 |\n",
       "| inpatient_num (median [IQR]) |  1.00 [0.00, 2.00]  |  1.00 [0.00, 2.00]  |  0.258 |    1.00 [0.00, 2.00]  |    1.00 [0.00, 2.00]  |  0.001 |\n",
       "\n"
      ],
      "text/plain": [
       "                                    discontinuation     reinitiation       \n",
       "n                                     836                4360              \n",
       "age (mean (SD))                     73.74 (13.01)       71.13 (13.20)      \n",
       "female = 1 (%)                        411 (49.2)         1897 (43.5)       \n",
       "index_year (%)                                                             \n",
       "   2007                               109 (13.0)          470 (10.8)       \n",
       "   2008                               183 (21.9)          983 (22.5)       \n",
       "   2009                               231 (27.6)         1194 (27.4)       \n",
       "   2010                               202 (24.2)         1106 (25.4)       \n",
       "   2011                               111 (13.3)          607 (13.9)       \n",
       "duration (median [IQR])              6.00 [2.00, 17.00]  8.00 [2.00, 19.00]\n",
       "potassium_cat (%)                                                          \n",
       "   mild                               624 (74.6)         3599 (82.5)       \n",
       "   moderate                           139 (16.6)          560 (12.8)       \n",
       "   severe                              73 ( 8.7)          201 ( 4.6)       \n",
       "cov_diabetes = 1 (%)                  258 (30.9)         1347 (30.9)       \n",
       "cov_hypertension = 1 (%)              638 (76.3)         3300 (75.7)       \n",
       "cov_MI = 1 (%)                        185 (22.1)          984 (22.6)       \n",
       "cov_CHF = 1 (%)                       310 (37.1)         1555 (35.7)       \n",
       "cov_cerebrovascular_disease = 1 (%)   177 (21.2)          772 (17.7)       \n",
       "cov_PVD = 1 (%)                       124 (14.8)          556 (12.8)       \n",
       "cov_cancer = 1 (%)                    214 (25.6)          787 (18.1)       \n",
       "cov_COPD = 1 (%)                      180 (21.5)          756 (17.3)       \n",
       "cov_fracture = 1 (%)                  325 (38.9)         1428 (32.8)       \n",
       "cov_beta_blocker = 1 (%)              455 (54.4)         2529 (58.0)       \n",
       "cov_CCB = 1 (%)                       237 (28.3)         1099 (25.2)       \n",
       "cov_diuretic = 1 (%)                  383 (45.8)         1885 (43.2)       \n",
       "cov_MRA = 1 (%)                       138 (16.5)          681 (15.6)       \n",
       "cov_SPS = 1 (%)                        16 ( 1.9)           99 ( 2.3)       \n",
       "cov_statin = 1 (%)                    272 (32.5)         1830 (42.0)       \n",
       "cov_antiplatelet_agent = 1 (%)        366 (43.8)         1951 (44.7)       \n",
       "cov_egfr_cat (%)                                                           \n",
       "   G1                                 112 (13.4)          661 (15.2)       \n",
       "   G2                                 285 (34.1)         1592 (36.5)       \n",
       "   G3a                                167 (20.0)          857 (19.7)       \n",
       "   G3b                                151 (18.1)          760 (17.4)       \n",
       "   G4-5                               121 (14.5)          490 (11.2)       \n",
       "primary_care_num (median [IQR])      3.00 [1.00, 6.00]   3.00 [1.00, 6.00] \n",
       "cov_hospitalization = 1 (%)            82 ( 9.8)          351 ( 8.1)       \n",
       "outpatient_num (median [IQR])        3.00 [1.00, 8.00]   3.00 [1.00, 7.00] \n",
       "inpatient_num (median [IQR])         1.00 [0.00, 2.00]   1.00 [0.00, 2.00] \n",
       "                                    SMD    discontinuation      \n",
       "n                                          3991.63              \n",
       "age (mean (SD))                      0.199   71.21 (13.68)      \n",
       "female = 1 (%)                       0.114  1841.9 (46.1)       \n",
       "index_year (%)                       0.073                      \n",
       "   2007                                      505.2 (12.7)       \n",
       "   2008                                      939.5 (23.5)       \n",
       "   2009                                     1090.2 (27.3)       \n",
       "   2010                                      956.1 (24.0)       \n",
       "   2011                                      500.6 (12.5)       \n",
       "duration (median [IQR])              0.076    5.78 [1.00, 16.00]\n",
       "potassium_cat (%)                    0.209                      \n",
       "   mild                                     3239.7 (81.2)       \n",
       "   moderate                                  560.1 (14.0)       \n",
       "   severe                                    191.8 ( 4.8)       \n",
       "cov_diabetes = 1 (%)                 0.001  1263.0 (31.6)       \n",
       "cov_hypertension = 1 (%)             0.015  3016.9 (75.6)       \n",
       "cov_MI = 1 (%)                       0.011   909.7 (22.8)       \n",
       "cov_CHF = 1 (%)                      0.029  1373.4 (34.4)       \n",
       "cov_cerebrovascular_disease = 1 (%)  0.088   705.2 (17.7)       \n",
       "cov_PVD = 1 (%)                      0.060   537.1 (13.5)       \n",
       "cov_cancer = 1 (%)                   0.183   706.9 (17.7)       \n",
       "cov_COPD = 1 (%)                     0.106   683.4 (17.1)       \n",
       "cov_fracture = 1 (%)                 0.128  1299.7 (32.6)       \n",
       "cov_beta_blocker = 1 (%)             0.072  2266.9 (56.8)       \n",
       "cov_CCB = 1 (%)                      0.071  1193.6 (29.9)       \n",
       "cov_diuretic = 1 (%)                 0.052  1672.2 (41.9)       \n",
       "cov_MRA = 1 (%)                      0.024   591.3 (14.8)       \n",
       "cov_SPS = 1 (%)                      0.025    64.8 ( 1.6)       \n",
       "cov_statin = 1 (%)                   0.196  1529.3 (38.3)       \n",
       "cov_antiplatelet_agent = 1 (%)       0.019  1783.6 (44.7)       \n",
       "cov_egfr_cat (%)                     0.111                      \n",
       "   G1                                        647.5 (16.2)       \n",
       "   G2                                       1440.3 (36.1)       \n",
       "   G3a                                       816.0 (20.4)       \n",
       "   G3b                                       616.4 (15.4)       \n",
       "   G4-5                                      471.4 (11.8)       \n",
       "primary_care_num (median [IQR])      0.034    3.00 [1.00, 6.00] \n",
       "cov_hospitalization = 1 (%)          0.062   298.5 ( 7.5)       \n",
       "outpatient_num (median [IQR])        0.070    3.00 [1.00, 6.00] \n",
       "inpatient_num (median [IQR])         0.258    1.00 [0.00, 2.00] \n",
       "                                    reinitiation          SMD   \n",
       "n                                   4363.43                     \n",
       "age (mean (SD))                       71.14 (13.14)        0.005\n",
       "female = 1 (%)                       1902.4 (43.6)         0.051\n",
       "index_year (%)                                             0.077\n",
       "   2007                               469.1 (10.8)              \n",
       "   2008                               981.1 (22.5)              \n",
       "   2009                              1197.6 (27.4)              \n",
       "   2010                              1107.1 (25.4)              \n",
       "   2011                               608.5 (13.9)              \n",
       "duration (median [IQR])                8.00 [2.00, 19.00]  0.130\n",
       "potassium_cat (%)                                          0.045\n",
       "   mild                              3616.9 (82.9)              \n",
       "   moderate                           554.2 (12.7)              \n",
       "   severe                             192.4 ( 4.4)              \n",
       "cov_diabetes = 1 (%)                 1347.3 (30.9)         0.016\n",
       "cov_hypertension = 1 (%)             3304.6 (75.7)         0.004\n",
       "cov_MI = 1 (%)                        989.3 (22.7)         0.003\n",
       "cov_CHF = 1 (%)                      1562.1 (35.8)         0.029\n",
       "cov_cerebrovascular_disease = 1 (%)   769.5 (17.6)         0.001\n",
       "cov_PVD = 1 (%)                       563.4 (12.9)         0.016\n",
       "cov_cancer = 1 (%)                    788.0 (18.1)         0.009\n",
       "cov_COPD = 1 (%)                      761.5 (17.5)         0.009\n",
       "cov_fracture = 1 (%)                 1435.0 (32.9)         0.007\n",
       "cov_beta_blocker = 1 (%)             2540.8 (58.2)         0.029\n",
       "cov_CCB = 1 (%)                      1104.6 (25.3)         0.103\n",
       "cov_diuretic = 1 (%)                 1885.7 (43.2)         0.027\n",
       "cov_MRA = 1 (%)                       683.3 (15.7)         0.024\n",
       "cov_SPS = 1 (%)                        99.5 ( 2.3)         0.048\n",
       "cov_statin = 1 (%)                   1835.9 (42.1)         0.077\n",
       "cov_antiplatelet_agent = 1 (%)       1963.7 (45.0)         0.006\n",
       "cov_egfr_cat (%)                                           0.070\n",
       "   G1                                 670.1 (15.4)              \n",
       "   G2                                1584.5 (36.3)              \n",
       "   G3a                                846.8 (19.4)              \n",
       "   G3b                                778.1 (17.8)              \n",
       "   G4-5                               483.8 (11.1)              \n",
       "primary_care_num (median [IQR])        3.00 [1.00, 6.00]   0.024\n",
       "cov_hospitalization = 1 (%)           355.9 ( 8.2)         0.025\n",
       "outpatient_num (median [IQR])          3.00 [1.00, 7.00]   0.039\n",
       "inpatient_num (median [IQR])           1.00 [0.00, 2.00]   0.001"
      ]
     },
     "metadata": {},
     "output_type": "display_data"
    }
   ],
   "source": [
    "tb1"
   ]
  },
  {
   "cell_type": "code",
   "execution_count": 30,
   "metadata": {},
   "outputs": [
    {
     "name": "stderr",
     "output_type": "stream",
     "text": [
      "`summarise()` ungrouping output (override with `.groups` argument)\n",
      "\n",
      "`summarise()` ungrouping output (override with `.groups` argument)\n",
      "\n"
     ]
    },
    {
     "data": {
      "text/html": [
       "<table>\n",
       "<caption>A tibble: 2 × 5</caption>\n",
       "<thead>\n",
       "\t<tr><th scope=col>X</th><th scope=col>n</th><th scope=col>weighted_followup</th><th scope=col>weighted_event</th><th scope=col>weighted_person_years</th></tr>\n",
       "\t<tr><th scope=col>&lt;chr&gt;</th><th scope=col>&lt;int&gt;</th><th scope=col>&lt;chr&gt;</th><th scope=col>&lt;dbl&gt;</th><th scope=col>&lt;dbl&gt;</th></tr>\n",
       "</thead>\n",
       "<tbody>\n",
       "\t<tr><td>discontinuation</td><td>5669</td><td>0.14 [0-0.45]   </td><td>908</td><td>8472.70</td></tr>\n",
       "\t<tr><td>reinitiation   </td><td>5669</td><td>1.15 [0.41-2.63]</td><td>966</td><td>9280.17</td></tr>\n",
       "</tbody>\n",
       "</table>\n"
      ],
      "text/latex": [
       "A tibble: 2 × 5\n",
       "\\begin{tabular}{lllll}\n",
       " X & n & weighted\\_followup & weighted\\_event & weighted\\_person\\_years\\\\\n",
       " <chr> & <int> & <chr> & <dbl> & <dbl>\\\\\n",
       "\\hline\n",
       "\t discontinuation & 5669 & 0.14 {[}0-0.45{]}    & 908 & 8472.70\\\\\n",
       "\t reinitiation    & 5669 & 1.15 {[}0.41-2.63{]} & 966 & 9280.17\\\\\n",
       "\\end{tabular}\n"
      ],
      "text/markdown": [
       "\n",
       "A tibble: 2 × 5\n",
       "\n",
       "| X &lt;chr&gt; | n &lt;int&gt; | weighted_followup &lt;chr&gt; | weighted_event &lt;dbl&gt; | weighted_person_years &lt;dbl&gt; |\n",
       "|---|---|---|---|---|\n",
       "| discontinuation | 5669 | 0.14 [0-0.45]    | 908 | 8472.70 |\n",
       "| reinitiation    | 5669 | 1.15 [0.41-2.63] | 966 | 9280.17 |\n",
       "\n"
      ],
      "text/plain": [
       "  X               n    weighted_followup weighted_event weighted_person_years\n",
       "1 discontinuation 5669 0.14 [0-0.45]     908            8472.70              \n",
       "2 reinitiation    5669 1.15 [0.41-2.63]  966            9280.17              "
      ]
     },
     "metadata": {},
     "output_type": "display_data"
    }
   ],
   "source": [
    "incid_num_weighted <- function(data = dta_clone_fracture_imp1, weights = 'ipw_uns_trunc') {\n",
    "    dta <- data %>% mutate(weights = data[[weights]]) %>% \n",
    "        arrange(ID, index_date) %>% \n",
    "        group_by(ID) %>% \n",
    "        summarise(tstart = as.Date('1970-01-01'), \n",
    "                  tstop = as.Date('1970-01-01') + sum(weights) * 30, \n",
    "                  outcome_fracture = sum(outcome_fracture * weights), \n",
    "                  X = first(X)) %>% \n",
    "        ungroup() %>% \n",
    "        group_by(X) %>% \n",
    "        summarise(n = length(ID), \n",
    "                  median.followup = round(median(time_length(difftime(tstop, tstart), 'year')), 2), \n",
    "                  q25.followup = round(quantile(time_length(difftime(tstop, tstart), 'year'), 0.25), 2), \n",
    "                  q75.followup = round(quantile(time_length(difftime(tstop, tstart), 'year'), 0.75), 2), \n",
    "                  weighted_followup = paste0(median.followup, \" [\", q25.followup, \"-\", q75.followup, \"]\"), \n",
    "                  weighted_event = round(sum(outcome_fracture), 0), \n",
    "                  weighted_person_years = round(sum(time_length(difftime(tstop, tstart), 'year')), 2)) %>% \n",
    "        dplyr::select(c('X', 'n', 'weighted_followup', 'weighted_event', 'weighted_person_years'))\n",
    "    return(dta)\n",
    "} \n",
    "incid_num_weighted()"
   ]
  },
  {
   "cell_type": "markdown",
   "metadata": {},
   "source": [
    "## causal effect estimation"
   ]
  },
  {
   "cell_type": "code",
   "execution_count": 31,
   "metadata": {},
   "outputs": [],
   "source": [
    "dta_clone_fracture_imp1 <- dta_clone_fracture_imp1 %>% mutate(X = ifelse(X == 'reinitiation', 0, 1))"
   ]
  },
  {
   "cell_type": "code",
   "execution_count": 32,
   "metadata": {},
   "outputs": [],
   "source": [
    "causal_effect_estimation <- function(data = dta_clone_fracture_imp1, weights = 'ipw', \n",
    "                                     xvar = c('age', 'female', 'index_year', 'duration', 'potassium_value',\n",
    "                                              'primary_care_num', 'outpatient_num', 'inpatient_num', \n",
    "                                              'cov_diabetes_t0', 'cov_hypertension_t0', \n",
    "                                              'cov_MI_t0', 'cov_CHF_t0', 'cov_cerebrovascular_disease_t0', 'cov_PVD_t0', \n",
    "                                              'cov_cancer_t0', 'cov_COPD_t0', 'cov_fracture_t0', \n",
    "                                              'cov_beta_blocker_t0', 'cov_CCB_t0', 'cov_diuretic_t0', 'cov_MRA_t0', 'cov_SPS_t0', \n",
    "                                              'cov_statin_t0', \n",
    "                                              'cov_antiplatelet_agent_t0', \n",
    "                                              'cov_egfr_t0', \n",
    "                                              'cov_hospitalization_t0')) {\n",
    "    regression_formula <- as.formula(ifelse(length(xvar) == 0, 'outcome_fracture ~ X + rms::rcs(rank, 3)', \n",
    "                                            paste('outcome_fracture ~ X + rms::rcs(rank, 3) +', \n",
    "                                                  paste(xvar, collapse = ' + '), sep = ' ')))\n",
    "    regression_formula_int <- as.formula(ifelse(length(xvar) == 0, 'outcome_fracture ~ X * rms::rcs(rank, 3)', \n",
    "                                                paste('outcome_fracture ~ X * rms::rcs(rank, 3) +', \n",
    "                                                      paste(xvar, collapse = ' + '), sep = ' ')))\n",
    "    fracture.logistic.adjusted <- parglm(regression_formula, \n",
    "                                      weights = data[[weights]], \n",
    "                                      data = data, \n",
    "                                      family = binomial(link = \"logit\"), \n",
    "                                      control = parglm.control(nthreads = 6))\n",
    "    fracture.logistic.adjusted_int <- parglm(regression_formula_int, \n",
    "                                          weights = data[[weights]], \n",
    "                                          data = data, \n",
    "                                          family = binomial(link = \"logit\"), \n",
    "                                          control = parglm.control(nthreads = 6)) \n",
    "    fracture.res.adjusted <- summary(fracture.logistic.adjusted)\n",
    "    n_month = 60 \n",
    "    fracture_risk_summary_discontinuation <- data %>% \n",
    "        filter(rank == 1) %>% \n",
    "        mutate(X = 1) %>% \n",
    "        dplyr::select(c('ID', 'X', 'rank', xvar)) %>% \n",
    "        slice(rep(row_number(), n_month)) %>% \n",
    "        arrange(ID) %>% \n",
    "        group_by(ID) %>% \n",
    "        mutate(rank = cumsum(rank)) %>% \n",
    "        ungroup()\n",
    "    fracture_risk_summary_discontinuation$p_fracture = predict(fracture.logistic.adjusted_int, \n",
    "                                                         fracture_risk_summary_discontinuation, \n",
    "                                                         type = 'response')\n",
    "    fracture_risk_summary_discontinuation <- fracture_risk_summary_discontinuation %>%\n",
    "        mutate(p_surv = 1 - p_fracture) %>% \n",
    "        group_by(ID) %>% \n",
    "        mutate(p_cumsurv = cumprod(p_surv), \n",
    "               p_cumfracture = 1 - p_cumsurv) %>% \n",
    "        ungroup() %>% \n",
    "        group_by(rank) %>% \n",
    "        summarise(p_cumsurv = mean(p_cumsurv), \n",
    "                  p_cumfracture = mean(p_cumfracture)) %>% \n",
    "        mutate(X = 'discontinuation')\n",
    "    fracture_risk_summary_reinitiation <- data %>% \n",
    "        filter(rank == 1) %>% \n",
    "        mutate(X = 0) %>% \n",
    "        dplyr::select(c('ID', 'X', 'rank', xvar)) %>% \n",
    "        slice(rep(row_number(), n_month)) %>% \n",
    "        arrange(ID) %>% \n",
    "        group_by(ID) %>% \n",
    "        mutate(rank = cumsum(rank)) %>% \n",
    "        ungroup()\n",
    "    fracture_risk_summary_reinitiation$p_fracture = predict(fracture.logistic.adjusted_int, \n",
    "                                                      fracture_risk_summary_reinitiation, \n",
    "                                                      type = 'response')\n",
    "    fracture_risk_summary_reinitiation <- fracture_risk_summary_reinitiation %>%\n",
    "        mutate(p_surv = 1 - p_fracture) %>% \n",
    "        group_by(ID) %>% \n",
    "        mutate(p_cumsurv = cumprod(p_surv), \n",
    "               p_cumfracture = 1 - p_cumsurv) %>% \n",
    "        ungroup() %>% \n",
    "        group_by(rank) %>% \n",
    "        summarise(p_cumsurv = mean(p_cumsurv), \n",
    "                  p_cumfracture = mean(p_cumfracture)) %>% \n",
    "        mutate(X = 'reinitiation')\n",
    "    fracture_risk_summary <- rbind(fracture_risk_summary_discontinuation, fracture_risk_summary_reinitiation)\n",
    "    risk_discontinuation_3_y <- fracture_risk_summary_discontinuation %>% \n",
    "        filter(rank == 36) %>% \n",
    "        dplyr::select(p_cumfracture) %>% as.numeric()\n",
    "    risk_reinitiation_3_y <- fracture_risk_summary_reinitiation %>% \n",
    "        filter(rank == 36) %>% \n",
    "        dplyr::select(p_cumfracture) %>% as.numeric()\n",
    "    RD <- (risk_discontinuation_3_y - risk_reinitiation_3_y) * 100\n",
    "    RR <- (risk_discontinuation_3_y / risk_reinitiation_3_y)\n",
    "    risk_res <- round(c(risk_discontinuation_3_y * 100, risk_reinitiation_3_y * 100, RD, RR, \n",
    "                        exp(fracture.res.adjusted$coefficients[2, 1])), 2)\n",
    "    names(risk_res) <- c('3 year risk for discontinuation (%)', \n",
    "                         '3 year risk for reinitiation (%)', \n",
    "                         'risk difference (%)', \n",
    "                         'risk ratio', \n",
    "                         'hazard ratio')\n",
    "    risk_res <- risk_res %>% t()\n",
    "    risk_res <- list(risk_res, fracture_risk_summary)\n",
    "    return(risk_res)\n",
    "}"
   ]
  },
  {
   "cell_type": "code",
   "execution_count": 33,
   "metadata": {},
   "outputs": [
    {
     "name": "stderr",
     "output_type": "stream",
     "text": [
      "Note: Using an external vector in selections is ambiguous.\n",
      "\u001b[34mℹ\u001b[39m Use `all_of(xvar)` instead of `xvar` to silence this message.\n",
      "\u001b[34mℹ\u001b[39m See <https://tidyselect.r-lib.org/reference/faq-external-vector.html>.\n",
      "\u001b[90mThis message is displayed once per session.\u001b[39m\n",
      "\n",
      "`summarise()` ungrouping output (override with `.groups` argument)\n",
      "\n",
      "`summarise()` ungrouping output (override with `.groups` argument)\n",
      "\n"
     ]
    }
   ],
   "source": [
    "main_res = causal_effect_estimation(data = dta_clone_fracture_imp1, weights = 'ipw_uns_trunc', \n",
    "                                    xvar = c('duration'))\n",
    "main_point_estimation <- main_res[[1]]\n",
    "main_cum_incidence <- main_res[[2]]"
   ]
  },
  {
   "cell_type": "code",
   "execution_count": 34,
   "metadata": {},
   "outputs": [
    {
     "data": {
      "text/html": [
       "<table>\n",
       "<caption>A matrix: 1 × 5 of type dbl</caption>\n",
       "<thead>\n",
       "\t<tr><th scope=col>3 year risk for discontinuation (%)</th><th scope=col>3 year risk for reinitiation (%)</th><th scope=col>risk difference (%)</th><th scope=col>risk ratio</th><th scope=col>hazard ratio</th></tr>\n",
       "</thead>\n",
       "<tbody>\n",
       "\t<tr><td>20.18</td><td>19.42</td><td>0.76</td><td>1.04</td><td>1.03</td></tr>\n",
       "</tbody>\n",
       "</table>\n"
      ],
      "text/latex": [
       "A matrix: 1 × 5 of type dbl\n",
       "\\begin{tabular}{lllll}\n",
       " 3 year risk for discontinuation (\\%) & 3 year risk for reinitiation (\\%) & risk difference (\\%) & risk ratio & hazard ratio\\\\\n",
       "\\hline\n",
       "\t 20.18 & 19.42 & 0.76 & 1.04 & 1.03\\\\\n",
       "\\end{tabular}\n"
      ],
      "text/markdown": [
       "\n",
       "A matrix: 1 × 5 of type dbl\n",
       "\n",
       "| 3 year risk for discontinuation (%) | 3 year risk for reinitiation (%) | risk difference (%) | risk ratio | hazard ratio |\n",
       "|---|---|---|---|---|\n",
       "| 20.18 | 19.42 | 0.76 | 1.04 | 1.03 |\n",
       "\n"
      ],
      "text/plain": [
       "     3 year risk for discontinuation (%) 3 year risk for reinitiation (%)\n",
       "[1,] 20.18                               19.42                           \n",
       "     risk difference (%) risk ratio hazard ratio\n",
       "[1,] 0.76                1.04       1.03        "
      ]
     },
     "metadata": {},
     "output_type": "display_data"
    }
   ],
   "source": [
    "main_point_estimation"
   ]
  },
  {
   "cell_type": "code",
   "execution_count": 35,
   "metadata": {},
   "outputs": [],
   "source": [
    "data_sample_generation <- function(k = 1, data = dta_clone_fracture_imp1) {\n",
    "    set.seed(k)\n",
    "    data_discontinuation <- data %>% filter(X == 1)\n",
    "    ID_random_sample_discontinuation <- sample(unique(data_discontinuation$ID), \n",
    "                                               size = length(unique(data_discontinuation$ID)), \n",
    "                                               replace = T) \n",
    "    ID_random_sample_reinitiation <- ID_random_sample_discontinuation + length(ID_random_sample_discontinuation)\n",
    "    ID_random_sample <- c(ID_random_sample_discontinuation, ID_random_sample_reinitiation)\n",
    "    sub_data <- function(i, j = 1) {\n",
    "        dta <- data %>% filter(ID == i) %>% mutate(ID = j) %>% data.frame()\n",
    "        return(dta)\n",
    "    }\n",
    "    dataset_random_sample <- rbindlist(mapply(sub_data, ID_random_sample,  1 : length(ID_random_sample), SIMPLIFY = F))\n",
    "    return(dataset_random_sample)\n",
    "}"
   ]
  },
  {
   "cell_type": "code",
   "execution_count": 36,
   "metadata": {},
   "outputs": [],
   "source": [
    "bootstrap_sub <- function (data = dta_clone_fracture_imp1, weights = 'ipw_uns_trunc', \n",
    "    xvar_boot = c('duration'), k = 1) {\n",
    "    no_of_sample = 50\n",
    "    CI_res_sub <- mclapply ((1 + (k - 1) * no_of_sample) : (k * no_of_sample), function(j) {\n",
    "        dataset_random_sample <- data_sample_generation(j, data = data)\n",
    "        Sys.sleep((j - (k - 1) * no_of_sample) * 3)\n",
    "        causal_effect_estimation(data = dataset_random_sample, weights = weights, \n",
    "                                 xvar = xvar_boot)}, mc.cores = 50)   \n",
    "    CI_res_sub <- foreach (i = 1 : no_of_sample, .combine = c) %do% {\n",
    "        CI_res_sub[[i]]\n",
    "    }\n",
    "    return(CI_res_sub)\n",
    "}"
   ]
  },
  {
   "cell_type": "code",
   "execution_count": 37,
   "metadata": {},
   "outputs": [],
   "source": [
    "CI_res <- foreach (i = 1 : 10, .combine = c) %do% {\n",
    "    bootstrap_sub(k = i)\n",
    "}"
   ]
  },
  {
   "cell_type": "raw",
   "metadata": {},
   "source": [
    "## bootstrap on 500 sample\n",
    "no_of_sample = 4\n",
    "cl <- parallel::makeCluster(4, type = \"SOCK\")\n",
    "##clusterEvalQ(cl = cl, {\n",
    "##    library(dplyr)\n",
    "##    library(data.table)\n",
    "##})\n",
    "registerDoParallel(cl)\n",
    "CI_res <- mcapply (j = 1 : no_of_sample, .combine = c, .packages = c(\"data.table\", \"dplyr\", 'parglm')) %dopar% {\n",
    "    dataset_random_sample <- data_sample_generation(j)\n",
    "    causal_effect_estimation(data = dataset_random_sample, weights = 'ipw_uns_trunc', \n",
    "                             xvar = c('duration', \n",
    "                                      'cov_diabetes_t0', 'cov_hypertension_t0', \n",
    "                                      'cov_MI_t0', 'cov_CHF_t0', 'cov_cerebrovascular_disease_t0', 'cov_PVD_t0', \n",
    "                                      'cov_cancer_t0', 'cov_COPD_t0', \n",
    "                                      'cov_beta_blocker_t0', 'cov_CCB_t0', 'cov_diuretic_t0', 'cov_MRA_t0', 'cov_SPS_t0', \n",
    "                                      'cov_statin_t0', \n",
    "                                      'cov_antiplatelet_agent_t0', \n",
    "                                      'cov_egfr_t0', \n",
    "                                      'primary_care_num_t0', 'outpatient_num_t0', 'inpatient_num_t0'))\n",
    "}\n",
    "stopCluster(cl)"
   ]
  },
  {
   "cell_type": "code",
   "execution_count": 38,
   "metadata": {},
   "outputs": [
    {
     "data": {
      "text/html": [
       "<table>\n",
       "<caption>A matrix: 1 × 5 of type chr</caption>\n",
       "<thead>\n",
       "\t<tr><th scope=col>3 year risk for discontinuation (%)</th><th scope=col>3 year risk for reinitiation (%)</th><th scope=col>risk difference (%)</th><th scope=col>risk ratio</th><th scope=col>hazard ratio</th></tr>\n",
       "</thead>\n",
       "<tbody>\n",
       "\t<tr><td>20.18 (16.63-25.13)</td><td>19.42 (17.68-21.62)</td><td>0.76 (-3.64-6.02)</td><td>1.04 (0.82-1.32)</td><td>1.03 (0.89-1.17)</td></tr>\n",
       "</tbody>\n",
       "</table>\n"
      ],
      "text/latex": [
       "A matrix: 1 × 5 of type chr\n",
       "\\begin{tabular}{lllll}\n",
       " 3 year risk for discontinuation (\\%) & 3 year risk for reinitiation (\\%) & risk difference (\\%) & risk ratio & hazard ratio\\\\\n",
       "\\hline\n",
       "\t 20.18 (16.63-25.13) & 19.42 (17.68-21.62) & 0.76 (-3.64-6.02) & 1.04 (0.82-1.32) & 1.03 (0.89-1.17)\\\\\n",
       "\\end{tabular}\n"
      ],
      "text/markdown": [
       "\n",
       "A matrix: 1 × 5 of type chr\n",
       "\n",
       "| 3 year risk for discontinuation (%) | 3 year risk for reinitiation (%) | risk difference (%) | risk ratio | hazard ratio |\n",
       "|---|---|---|---|---|\n",
       "| 20.18 (16.63-25.13) | 19.42 (17.68-21.62) | 0.76 (-3.64-6.02) | 1.04 (0.82-1.32) | 1.03 (0.89-1.17) |\n",
       "\n"
      ],
      "text/plain": [
       "     3 year risk for discontinuation (%) 3 year risk for reinitiation (%)\n",
       "[1,] 20.18 (16.63-25.13)                 19.42 (17.68-21.62)             \n",
       "     risk difference (%) risk ratio       hazard ratio    \n",
       "[1,] 0.76 (-3.64-6.02)   1.04 (0.82-1.32) 1.03 (0.89-1.17)"
      ]
     },
     "metadata": {},
     "output_type": "display_data"
    }
   ],
   "source": [
    "no_of_sample = 500\n",
    "CI_point_estimation <- foreach (i = seq(1, 2 * no_of_sample, 2), .combine = rbind) %do% {\n",
    "    CI_res[[i]]\n",
    "}\n",
    "CI_point_estimation <- CI_point_estimation %>% data.frame()\n",
    "colnames(CI_point_estimation) <- c('risk_dis', 'risk_re', 'RD', 'RR', 'HR')\n",
    "CI_point_estimation <- CI_point_estimation %>% \n",
    "    summarise(lci_risk_dis = quantile(risk_dis, 0.025), \n",
    "              uci_risk_dis = quantile(risk_dis, 0.975), \n",
    "              lci_risk_re = quantile(risk_re, 0.025), \n",
    "              uci_risk_re = quantile(risk_re, 0.975), \n",
    "              lci_RD = quantile(RD, 0.025), \n",
    "              uci_RD = quantile(RD, 0.975), \n",
    "              lci_RR = quantile(RR, 0.025), \n",
    "              uci_RR = quantile(RR, 0.975), \n",
    "              lci_HR = quantile(HR, 0.025), \n",
    "              uci_HR = quantile(HR, 0.975))\n",
    "CI_point_estimation <- round(matrix(as.numeric(CI_point_estimation), nrow = 5, ncol = 2, byrow = T), 2)\n",
    "causal_effect_point_estimation <- paste(t(main_point_estimation), \n",
    "                                        ' (', CI_point_estimation[ , 1], '-', \n",
    "                                        CI_point_estimation[ , 2], ')', sep = '')\n",
    "names(causal_effect_point_estimation) <- colnames(main_point_estimation)\n",
    "main_res <- t(causal_effect_point_estimation)\n",
    "main_res"
   ]
  },
  {
   "cell_type": "code",
   "execution_count": 39,
   "metadata": {},
   "outputs": [],
   "source": [
    "CI_cum_incidence <- foreach (i = seq(2, 2 * no_of_sample, 2), .combine = cbind) %do% {\n",
    "    CI_res[[i]]\n",
    "}\n",
    "CI_cum_incidence <- CI_cum_incidence[ , c(c(1, 4), seq(3, no_of_sample * 4, 4))]"
   ]
  },
  {
   "cell_type": "code",
   "execution_count": 40,
   "metadata": {},
   "outputs": [
    {
     "name": "stderr",
     "output_type": "stream",
     "text": [
      "`summarise()` regrouping output by 'rank' (override with `.groups` argument)\n",
      "\n"
     ]
    }
   ],
   "source": [
    "CI_cum_incidence <- CI_cum_incidence %>% \n",
    "    gather(i, p_cumfracture, p_cumfracture : p_cumfracture.499, factor_key = TRUE) %>% ## Note!!!!\n",
    "    arrange(rank, X) %>% \n",
    "    group_by(rank, X) %>% \n",
    "    summarise(lci_p_cumfracture = quantile(p_cumfracture, 0.025), \n",
    "              uci_p_cumfracture = quantile(p_cumfracture, 0.975))"
   ]
  },
  {
   "cell_type": "code",
   "execution_count": 41,
   "metadata": {},
   "outputs": [],
   "source": [
    "main_cum_incidence <- rbind(data.frame(rank = 0, p_cumsurv = 1, p_cumfracture = 0, X = 'discontinuation'), \n",
    "                            data.frame(rank = 0, p_cumsurv = 1, p_cumfracture = 0, X = 'reinitiation'), \n",
    "                            data.frame(main_cum_incidence))"
   ]
  },
  {
   "cell_type": "code",
   "execution_count": 42,
   "metadata": {},
   "outputs": [],
   "source": [
    "CI_cum_incidence <- rbind(data.frame(rank = 0, X = 'discontinuation', lci_p_cumfracture = 0, uci_p_cumfracture = 0), \n",
    "                          data.frame(rank = 0, X = 'reinitiation', lci_p_cumfracture = 0, uci_p_cumfracture = 0), \n",
    "                          data.frame(CI_cum_incidence))"
   ]
  },
  {
   "cell_type": "code",
   "execution_count": 43,
   "metadata": {},
   "outputs": [
    {
     "data": {
      "image/png": "[encoded data removed]",
      "text/plain": [
       "plot without title"
      ]
     },
     "metadata": {
      "image/png": {
       "height": 420,
       "width": 420
      }
     },
     "output_type": "display_data"
    }
   ],
   "source": [
    "save(main_cum_incidence, file = 'cum fracture figure.R')\n",
    "load('cum fracture figure.R')\n",
    "figure_ITT_fracture <- ggplot(data = main_cum_incidence %>% filter(rank <= 36), aes(x = rank, y = p_cumfracture, group = X, colour = X)) + \n",
    "    geom_line() + \n",
    "    geom_line(data = CI_cum_incidence %>% filter(rank <= 36), aes(x = rank, y = lci_p_cumfracture, group = X, colour = X), \n",
    "              linetype = \"dashed\") + \n",
    "    geom_line(data = CI_cum_incidence %>% filter(rank <= 36), aes(x = rank, y = uci_p_cumfracture, group = X, colour = X), \n",
    "              linetype = \"dashed\") + \n",
    "    xlab('Month') + \n",
    "    ylab('Cumulative incidence') + \n",
    "    scale_x_continuous(breaks = seq(0, 36, 6)) + \n",
    "    ylim(0, 0.3) +\n",
    "    labs(title = 'A. ITT effect: Negative control Fracture', color = \"Treatment strategy\") + \n",
    "    scale_color_manual(labels=c(\"stop RASi\", \"continue RASi\"),\n",
    "                       values=c(\"red\", \"blue\"))\n",
    "save(figure_ITT_fracture, file = 'supple figure 7 panel A.Rdata')\n",
    "figure_ITT_fracture"
   ]
  },
  {
   "cell_type": "markdown",
   "metadata": {},
   "source": [
    "## Sensitivity analyses"
   ]
  },
  {
   "cell_type": "markdown",
   "metadata": {},
   "source": [
    "### <font face = \"Times New Roman\" color='blue'>stabilized IPWs without truncation</font>"
   ]
  },
  {
   "cell_type": "code",
   "execution_count": 37,
   "metadata": {},
   "outputs": [
    {
     "name": "stderr",
     "output_type": "stream",
     "text": [
      "`summarise()` ungrouping output (override with `.groups` argument)\n",
      "\n",
      "`summarise()` ungrouping output (override with `.groups` argument)\n",
      "\n"
     ]
    },
    {
     "data": {
      "text/html": [
       "<table>\n",
       "<caption>A tibble: 2 × 5</caption>\n",
       "<thead>\n",
       "\t<tr><th scope=col>X</th><th scope=col>n</th><th scope=col>weighted_followup</th><th scope=col>weighted_event</th><th scope=col>weighted_person_years</th></tr>\n",
       "\t<tr><th scope=col>&lt;dbl&gt;</th><th scope=col>&lt;int&gt;</th><th scope=col>&lt;chr&gt;</th><th scope=col>&lt;dbl&gt;</th><th scope=col>&lt;dbl&gt;</th></tr>\n",
       "</thead>\n",
       "<tbody>\n",
       "\t<tr><td>0</td><td>5669</td><td>1 [0.41-2.28]</td><td>841</td><td>8062.25</td></tr>\n",
       "\t<tr><td>1</td><td>5669</td><td>0.08 [0-0.22]</td><td>303</td><td>1941.53</td></tr>\n",
       "</tbody>\n",
       "</table>\n"
      ],
      "text/latex": [
       "A tibble: 2 × 5\n",
       "\\begin{tabular}{lllll}\n",
       " X & n & weighted\\_followup & weighted\\_event & weighted\\_person\\_years\\\\\n",
       " <dbl> & <int> & <chr> & <dbl> & <dbl>\\\\\n",
       "\\hline\n",
       "\t 0 & 5669 & 1 {[}0.41-2.28{]} & 841 & 8062.25\\\\\n",
       "\t 1 & 5669 & 0.08 {[}0-0.22{]} & 303 & 1941.53\\\\\n",
       "\\end{tabular}\n"
      ],
      "text/markdown": [
       "\n",
       "A tibble: 2 × 5\n",
       "\n",
       "| X &lt;dbl&gt; | n &lt;int&gt; | weighted_followup &lt;chr&gt; | weighted_event &lt;dbl&gt; | weighted_person_years &lt;dbl&gt; |\n",
       "|---|---|---|---|---|\n",
       "| 0 | 5669 | 1 [0.41-2.28] | 841 | 8062.25 |\n",
       "| 1 | 5669 | 0.08 [0-0.22] | 303 | 1941.53 |\n",
       "\n"
      ],
      "text/plain": [
       "  X n    weighted_followup weighted_event weighted_person_years\n",
       "1 0 5669 1 [0.41-2.28]     841            8062.25              \n",
       "2 1 5669 0.08 [0-0.22]     303            1941.53              "
      ]
     },
     "metadata": {},
     "output_type": "display_data"
    }
   ],
   "source": [
    "incid_num_weighted(weights = 'ipw')"
   ]
  },
  {
   "cell_type": "code",
   "execution_count": 38,
   "metadata": {},
   "outputs": [
    {
     "name": "stderr",
     "output_type": "stream",
     "text": [
      "`summarise()` ungrouping output (override with `.groups` argument)\n",
      "\n",
      "`summarise()` ungrouping output (override with `.groups` argument)\n",
      "\n"
     ]
    }
   ],
   "source": [
    "sen1_res = causal_effect_estimation(weights = 'ipw')\n",
    "sen1_point_estimation <- sen1_res[[1]]"
   ]
  },
  {
   "cell_type": "code",
   "execution_count": 39,
   "metadata": {},
   "outputs": [
    {
     "data": {
      "text/html": [
       "<table>\n",
       "<caption>A matrix: 1 × 5 of type dbl</caption>\n",
       "<thead>\n",
       "\t<tr><th scope=col>3 year risk for discontinuation (%)</th><th scope=col>3 year risk for reinitiation (%)</th><th scope=col>risk difference (%)</th><th scope=col>risk ratio</th><th scope=col>hazard ratio</th></tr>\n",
       "</thead>\n",
       "<tbody>\n",
       "\t<tr><td>19.37</td><td>21.9</td><td>-2.53</td><td>0.88</td><td>1.04</td></tr>\n",
       "</tbody>\n",
       "</table>\n"
      ],
      "text/latex": [
       "A matrix: 1 × 5 of type dbl\n",
       "\\begin{tabular}{lllll}\n",
       " 3 year risk for discontinuation (\\%) & 3 year risk for reinitiation (\\%) & risk difference (\\%) & risk ratio & hazard ratio\\\\\n",
       "\\hline\n",
       "\t 19.37 & 21.9 & -2.53 & 0.88 & 1.04\\\\\n",
       "\\end{tabular}\n"
      ],
      "text/markdown": [
       "\n",
       "A matrix: 1 × 5 of type dbl\n",
       "\n",
       "| 3 year risk for discontinuation (%) | 3 year risk for reinitiation (%) | risk difference (%) | risk ratio | hazard ratio |\n",
       "|---|---|---|---|---|\n",
       "| 19.37 | 21.9 | -2.53 | 0.88 | 1.04 |\n",
       "\n"
      ],
      "text/plain": [
       "     3 year risk for discontinuation (%) 3 year risk for reinitiation (%)\n",
       "[1,] 19.37                               21.9                            \n",
       "     risk difference (%) risk ratio hazard ratio\n",
       "[1,] -2.53               0.88       1.04        "
      ]
     },
     "metadata": {},
     "output_type": "display_data"
    }
   ],
   "source": [
    "sen1_point_estimation"
   ]
  },
  {
   "cell_type": "code",
   "execution_count": 40,
   "metadata": {},
   "outputs": [],
   "source": [
    "CI_res <- foreach (i = 1 : 10, .combine = c) %do% {\n",
    "    bootstrap_sub(k = i, weights = 'ipw', \n",
    "                  xvar_boot = c('age', 'female', 'index_year', 'duration', 'potassium_value',\n",
    "                                'primary_care_num', 'outpatient_num', 'inpatient_num', \n",
    "                                'cov_diabetes_t0', 'cov_hypertension_t0', \n",
    "                                'cov_MI_t0', 'cov_CHF_t0', 'cov_cerebrovascular_disease_t0', 'cov_PVD_t0', \n",
    "                                'cov_cancer_t0', 'cov_COPD_t0', 'cov_fracture_t0', \n",
    "                                'cov_beta_blocker_t0', 'cov_CCB_t0', 'cov_diuretic_t0', 'cov_MRA_t0', 'cov_SPS_t0', \n",
    "                                'cov_statin_t0', \n",
    "                                'cov_antiplatelet_agent_t0', \n",
    "                                'cov_egfr_t0', \n",
    "                                'cov_hospitalization_t0'))\n",
    "}"
   ]
  },
  {
   "cell_type": "code",
   "execution_count": 41,
   "metadata": {},
   "outputs": [
    {
     "data": {
      "text/html": [
       "<table>\n",
       "<caption>A matrix: 1 × 5 of type chr</caption>\n",
       "<thead>\n",
       "\t<tr><th scope=col>3 year risk for discontinuation (%)</th><th scope=col>3 year risk for reinitiation (%)</th><th scope=col>risk difference (%)</th><th scope=col>risk ratio</th><th scope=col>hazard ratio</th></tr>\n",
       "</thead>\n",
       "<tbody>\n",
       "\t<tr><td>19.37 (16.5-22.95)</td><td>21.9 (19.54-24.77)</td><td>-2.53 (-6.27-1.38)</td><td>0.88 (0.73-1.07)</td><td>1.04 (0.93-1.15)</td></tr>\n",
       "</tbody>\n",
       "</table>\n"
      ],
      "text/latex": [
       "A matrix: 1 × 5 of type chr\n",
       "\\begin{tabular}{lllll}\n",
       " 3 year risk for discontinuation (\\%) & 3 year risk for reinitiation (\\%) & risk difference (\\%) & risk ratio & hazard ratio\\\\\n",
       "\\hline\n",
       "\t 19.37 (16.5-22.95) & 21.9 (19.54-24.77) & -2.53 (-6.27-1.38) & 0.88 (0.73-1.07) & 1.04 (0.93-1.15)\\\\\n",
       "\\end{tabular}\n"
      ],
      "text/markdown": [
       "\n",
       "A matrix: 1 × 5 of type chr\n",
       "\n",
       "| 3 year risk for discontinuation (%) | 3 year risk for reinitiation (%) | risk difference (%) | risk ratio | hazard ratio |\n",
       "|---|---|---|---|---|\n",
       "| 19.37 (16.5-22.95) | 21.9 (19.54-24.77) | -2.53 (-6.27-1.38) | 0.88 (0.73-1.07) | 1.04 (0.93-1.15) |\n",
       "\n"
      ],
      "text/plain": [
       "     3 year risk for discontinuation (%) 3 year risk for reinitiation (%)\n",
       "[1,] 19.37 (16.5-22.95)                  21.9 (19.54-24.77)              \n",
       "     risk difference (%) risk ratio       hazard ratio    \n",
       "[1,] -2.53 (-6.27-1.38)  0.88 (0.73-1.07) 1.04 (0.93-1.15)"
      ]
     },
     "metadata": {},
     "output_type": "display_data"
    }
   ],
   "source": [
    "no_of_sample = 500\n",
    "################################################################################################\n",
    "CI_point_estimation <- foreach (i = seq(1, 2 * no_of_sample, 2), .combine = rbind) %do% {\n",
    "    CI_res[[i]]\n",
    "}\n",
    "CI_point_estimation <- CI_point_estimation %>% data.frame()\n",
    "colnames(CI_point_estimation) <- c('risk_dis', 'risk_re', 'RD', 'RR', 'HR')\n",
    "CI_point_estimation <- CI_point_estimation %>% \n",
    "    summarise(lci_risk_dis = quantile(risk_dis, 0.025), \n",
    "              uci_risk_dis = quantile(risk_dis, 0.975), \n",
    "              lci_risk_re = quantile(risk_re, 0.025), \n",
    "              uci_risk_re = quantile(risk_re, 0.975), \n",
    "              lci_RD = quantile(RD, 0.025), \n",
    "              uci_RD = quantile(RD, 0.975), \n",
    "              lci_RR = quantile(RR, 0.025), \n",
    "              uci_RR = quantile(RR, 0.975), \n",
    "              lci_HR = quantile(HR, 0.025), \n",
    "              uci_HR = quantile(HR, 0.975))\n",
    "CI_point_estimation <- round(matrix(as.numeric(CI_point_estimation), nrow = 5, ncol = 2, byrow = T), 2)\n",
    "causal_effect_point_estimation <- paste(t(sen1_point_estimation), \n",
    "                                        ' (', CI_point_estimation[ , 1], '-', \n",
    "                                        CI_point_estimation[ , 2], ')', sep = '')\n",
    "names(causal_effect_point_estimation) <- colnames(sen1_point_estimation)\n",
    "t(causal_effect_point_estimation)"
   ]
  },
  {
   "cell_type": "raw",
   "metadata": {},
   "source": [
    "=======================================================STOP AT HERE========================================="
   ]
  },
  {
   "cell_type": "markdown",
   "metadata": {},
   "source": [
    "### <font face = \"Times New Roman\" color='blue'>stabilized IPWs by ML</font>"
   ]
  },
  {
   "cell_type": "raw",
   "metadata": {},
   "source": [
    "incid_num_weighted(weights = 'ipw_ML')"
   ]
  },
  {
   "cell_type": "raw",
   "metadata": {},
   "source": [
    "sen2_res = causal_effect_estimation(weights = 'ipw_ML')\n",
    "sen2_point_estimation <- sen2_res[[1]]"
   ]
  },
  {
   "cell_type": "raw",
   "metadata": {},
   "source": [
    "CI_res <- foreach (i = 1 : 10, .combine = c) %do% {\n",
    "    bootstrap_sub(k = i, weights = 'ipw_ML', \n",
    "                  xvar_boot = c('age', 'female', 'index_year', 'duration', 'potassium_value',\n",
    "                                'primary_care_num', 'outpatient_num', 'inpatient_num', \n",
    "                                'cov_diabetes_t0', 'cov_hypertension_t0', \n",
    "                                'cov_MI_t0', 'cov_CHF_t0', 'cov_cerebrovascular_disease_t0', 'cov_PVD_t0', \n",
    "                                'cov_cancer_t0', 'cov_COPD_t0', 'cov_fracture_t0', \n",
    "                                'cov_beta_blocker_t0', 'cov_CCB_t0', 'cov_diuretic_t0', 'cov_MRA_t0', 'cov_SPS_t0', \n",
    "                                'cov_statin_t0', \n",
    "                                'cov_antiplatelet_agent_t0', \n",
    "                                'cov_egfr_t0', \n",
    "                                'cov_hospitalization_t0'))\n",
    "}\n",
    "no_of_sample = 500\n",
    "################################################################################################\n",
    "CI_point_estimation <- foreach (i = seq(1, 2 * no_of_sample, 2), .combine = rbind) %do% {\n",
    "    CI_res[[i]]\n",
    "}\n",
    "CI_point_estimation <- CI_point_estimation %>% data.frame()\n",
    "colnames(CI_point_estimation) <- c('risk_dis', 'risk_re', 'RD', 'RR', 'HR')\n",
    "CI_point_estimation <- CI_point_estimation %>% \n",
    "    summarise(lci_risk_dis = quantile(risk_dis, 0.025), \n",
    "              uci_risk_dis = quantile(risk_dis, 0.975), \n",
    "              lci_risk_re = quantile(risk_re, 0.025), \n",
    "              uci_risk_re = quantile(risk_re, 0.975), \n",
    "              lci_RD = quantile(RD, 0.025), \n",
    "              uci_RD = quantile(RD, 0.975), \n",
    "              lci_RR = quantile(RR, 0.025), \n",
    "              uci_RR = quantile(RR, 0.975), \n",
    "              lci_HR = quantile(HR, 0.025), \n",
    "              uci_HR = quantile(HR, 0.975))\n",
    "CI_point_estimation <- round(matrix(as.numeric(CI_point_estimation), nrow = 5, ncol = 2, byrow = T), 2)\n",
    "causal_effect_point_estimation <- paste(t(sen2_point_estimation), \n",
    "                                        ' (', CI_point_estimation[ , 1], '-', \n",
    "                                        CI_point_estimation[ , 2], ')', sep = '')\n",
    "names(causal_effect_point_estimation) <- colnames(sen2_point_estimation)\n",
    "t(causal_effect_point_estimation)"
   ]
  },
  {
   "cell_type": "markdown",
   "metadata": {},
   "source": [
    "### <font face = \"Times New Roman\" color='blue'>albuminuria included as a time-varying confounder</font>"
   ]
  },
  {
   "cell_type": "code",
   "execution_count": 44,
   "metadata": {},
   "outputs": [],
   "source": [
    "dta_clone_fracture_ALB <- dta_clone_fracture %>% \n",
    "    filter(!is.na(cov_acr_t0)) ## exclude patients with baseline missing albuminuria"
   ]
  },
  {
   "cell_type": "code",
   "execution_count": 45,
   "metadata": {},
   "outputs": [
    {
     "data": {
      "text/html": [
       "2447"
      ],
      "text/latex": [
       "2447"
      ],
      "text/markdown": [
       "2447"
      ],
      "text/plain": [
       "[1] 2447"
      ]
     },
     "metadata": {},
     "output_type": "display_data"
    }
   ],
   "source": [
    "length(unique(dta_clone_fracture_ALB$lopnr))"
   ]
  },
  {
   "cell_type": "code",
   "execution_count": 46,
   "metadata": {},
   "outputs": [],
   "source": [
    "x_adjusted_var_ALB <- c('age', 'female', 'index_year', 'rcs(duration, 3)', 'rcs(potassium_value, 3)', \n",
    "                        # 'cov_diabetes_t0', 'cov_hypertension_t0', \n",
    "                        # 'cov_MI_t0', 'cov_CHF_t0', 'cov_cerebrovascular_disease_t0', 'cov_PVD_t0', \n",
    "                        # 'cov_COPD_t0', \n",
    "                        # 'cov_beta_blocker_t0', 'cov_CCB_t0', 'cov_diuretic_t0', 'cov_MRA_t0', 'cov_SPS_t0', \n",
    "                        # 'cov_statin_t0', \n",
    "                        # 'cov_antiplatelet_agent_t0', \n",
    "                        # 'cov_egfr_t0', \n",
    "                        'primary_care_num', \n",
    "                        'outpatient_num', \n",
    "                        'inpatient_num', # 'cov_hospitalization_t0', \n",
    "                        'cov_diabetes', 'cov_hypertension', \n",
    "                        'cov_MI', 'cov_CHF', 'cov_cerebrovascular_disease', 'cov_PVD', \n",
    "                        'cov_cancer', 'cov_COPD',  'cov_fracture_t0', \n",
    "                        'cov_beta_blocker', 'cov_CCB', 'cov_diuretic', 'cov_MRA', 'cov_SPS', \n",
    "                        'cov_statin', \n",
    "                        'cov_antiplatelet_agent', \n",
    "                        'rcs(cov_egfr, 6)', \n",
    "                        'rcs(cov_acr, 6)', \n",
    "                        # 'rcs(cov_potassium, 12)', \n",
    "                        'cov_hospitalization')"
   ]
  },
  {
   "cell_type": "code",
   "execution_count": 47,
   "metadata": {},
   "outputs": [],
   "source": [
    "dta_clone_fracture_ALB_discontinuation <- dta_clone_fracture_ALB %>% \n",
    "    filter(X == 'discontinuation') %>% \n",
    "    arrange(ID, index_date)\n",
    "dta_clone_fracture_ALB_discontinuation_censor_part <- dta_clone_fracture_ALB_discontinuation %>% \n",
    "    filter(rank %in% 1 : 6)\n",
    "dta_clone_fracture_ALB_discontinuation_noncensor_part <- dta_clone_fracture_ALB_discontinuation %>% \n",
    "    filter(rank > 6)\n",
    "## logistic regression formula\n",
    "regression_formula_IPCW <- as.formula(paste0('censor ~ rank + rank ^ 2 + ', \n",
    "                                             paste(x_adjusted_var, collapse = \" + \"), \n",
    "                                             sep = ' '))\n",
    "denominator.fit <- glm(regression_formula_IPCW, \n",
    "                       data = dta_clone_fracture_ALB_discontinuation_censor_part, \n",
    "                       family  = binomial(link = \"logit\"))\n",
    "## ===============================================================================================================\n",
    "## Unstabilized IPW\n",
    "dta_clone_fracture_ALB_discontinuation_censor_part$ipw_uns_per_month <- \n",
    "    ifelse(dta_clone_fracture_ALB_discontinuation_censor_part$censor == 1, \n",
    "           0, \n",
    "           1 / (1 - fitted(denominator.fit)))\n",
    "dta_clone_fracture_ALB_discontinuation_noncensor_part$ipw_uns_per_month <- 1\n",
    "## ===============================================================================================================\n",
    "dta_clone_fracture_ALB_discontinuation <- rbind(dta_clone_fracture_ALB_discontinuation_censor_part, \n",
    "                                             dta_clone_fracture_ALB_discontinuation_noncensor_part) %>% \n",
    "    arrange(ID, index_date)\n",
    "## Unstabilized IPW\n",
    "dta_clone_fracture_ALB_discontinuation$ipw_uns <- unlist(tapply(dta_clone_fracture_ALB_discontinuation$ipw_uns_per_month, \n",
    "                                                             dta_clone_fracture_ALB_discontinuation$ID, cumprod))\n",
    "## ============================================================================================================="
   ]
  },
  {
   "cell_type": "code",
   "execution_count": 48,
   "metadata": {},
   "outputs": [],
   "source": [
    "dta_clone_fracture_ALB_reinitiation <- dta_clone_fracture_ALB %>% \n",
    "    filter(X == 'reinitiation') %>% \n",
    "    arrange(ID, index_date)\n",
    "dta_clone_fracture_ALB_reinitiation_censor_part <- dta_clone_fracture_ALB_reinitiation %>% \n",
    "    filter(rank == 6)\n",
    "dta_clone_fracture_ALB_reinitiation_noncensor_part <- dta_clone_fracture_ALB_reinitiation %>% \n",
    "    filter(rank %in% 1 : 5 | rank > 6)\n",
    "regression_formula_IPCW <- as.formula(paste0('censor ~ ', \n",
    "                                             paste(x_adjusted_var, collapse = \" + \"), \n",
    "                                             sep = ' '))\n",
    "denominator.fit <- glm(regression_formula_IPCW, \n",
    "                       data = dta_clone_fracture_ALB_reinitiation_censor_part, \n",
    "                       family  = binomial(link = \"logit\"))\n",
    "## Unstabilized IPW\n",
    "dta_clone_fracture_ALB_reinitiation_censor_part$ipw_uns_per_month <- \n",
    "    ifelse(dta_clone_fracture_ALB_reinitiation_censor_part$censor == 1, \n",
    "           0, \n",
    "           1 / (1 - fitted(denominator.fit)))\n",
    "dta_clone_fracture_ALB_reinitiation_noncensor_part$ipw_uns_per_month <- 1\n",
    "## =============================================================================================================\n",
    "dta_clone_fracture_ALB_reinitiation <- rbind(dta_clone_fracture_ALB_reinitiation_censor_part, \n",
    "                                          dta_clone_fracture_ALB_reinitiation_noncensor_part) %>% \n",
    "    arrange(ID, index_date)\n",
    "## Unstabilized IPW\n",
    "dta_clone_fracture_ALB_reinitiation$ipw_uns <- unlist(tapply(dta_clone_fracture_ALB_reinitiation$ipw_uns_per_month, \n",
    "                                                          dta_clone_fracture_ALB_reinitiation$ID, cumprod))\n",
    "## ============================================================================================================="
   ]
  },
  {
   "cell_type": "code",
   "execution_count": 49,
   "metadata": {},
   "outputs": [],
   "source": [
    "dta_clone_fracture_ALB <- rbind(dta_clone_fracture_ALB_discontinuation, dta_clone_fracture_ALB_reinitiation) %>% \n",
    "    arrange(ID, index_date)\n",
    "dta_clone_fracture_ALB$ipw_uns_trunc <- ipw.truncation(dta_clone_fracture_ALB$ipw_uns, \n",
    "                                                    trunc.u = quantile(dta_clone_fracture_ALB$ipw_uns, 0.99))\n",
    "dta_clone_fracture_ALB <- dta_clone_fracture_ALB %>% mutate(X = ifelse(X == 'reinitiation', 0, 1))"
   ]
  },
  {
   "cell_type": "code",
   "execution_count": 50,
   "metadata": {},
   "outputs": [
    {
     "name": "stderr",
     "output_type": "stream",
     "text": [
      "`summarise()` ungrouping output (override with `.groups` argument)\n",
      "\n",
      "`summarise()` ungrouping output (override with `.groups` argument)\n",
      "\n"
     ]
    },
    {
     "data": {
      "text/html": [
       "<table>\n",
       "<caption>A tibble: 2 × 5</caption>\n",
       "<thead>\n",
       "\t<tr><th scope=col>X</th><th scope=col>n</th><th scope=col>weighted_followup</th><th scope=col>weighted_event</th><th scope=col>weighted_person_years</th></tr>\n",
       "\t<tr><th scope=col>&lt;dbl&gt;</th><th scope=col>&lt;int&gt;</th><th scope=col>&lt;chr&gt;</th><th scope=col>&lt;dbl&gt;</th><th scope=col>&lt;dbl&gt;</th></tr>\n",
       "</thead>\n",
       "<tbody>\n",
       "\t<tr><td>0</td><td>2447</td><td>1.13 [0.41-2.53]</td><td>428</td><td>3853.95</td></tr>\n",
       "\t<tr><td>1</td><td>2447</td><td>0.14 [0-0.42]   </td><td>392</td><td>3605.95</td></tr>\n",
       "</tbody>\n",
       "</table>\n"
      ],
      "text/latex": [
       "A tibble: 2 × 5\n",
       "\\begin{tabular}{lllll}\n",
       " X & n & weighted\\_followup & weighted\\_event & weighted\\_person\\_years\\\\\n",
       " <dbl> & <int> & <chr> & <dbl> & <dbl>\\\\\n",
       "\\hline\n",
       "\t 0 & 2447 & 1.13 {[}0.41-2.53{]} & 428 & 3853.95\\\\\n",
       "\t 1 & 2447 & 0.14 {[}0-0.42{]}    & 392 & 3605.95\\\\\n",
       "\\end{tabular}\n"
      ],
      "text/markdown": [
       "\n",
       "A tibble: 2 × 5\n",
       "\n",
       "| X &lt;dbl&gt; | n &lt;int&gt; | weighted_followup &lt;chr&gt; | weighted_event &lt;dbl&gt; | weighted_person_years &lt;dbl&gt; |\n",
       "|---|---|---|---|---|\n",
       "| 0 | 2447 | 1.13 [0.41-2.53] | 428 | 3853.95 |\n",
       "| 1 | 2447 | 0.14 [0-0.42]    | 392 | 3605.95 |\n",
       "\n"
      ],
      "text/plain": [
       "  X n    weighted_followup weighted_event weighted_person_years\n",
       "1 0 2447 1.13 [0.41-2.53]  428            3853.95              \n",
       "2 1 2447 0.14 [0-0.42]     392            3605.95              "
      ]
     },
     "metadata": {},
     "output_type": "display_data"
    }
   ],
   "source": [
    "incid_num_weighted(data = dta_clone_fracture_ALB, weights = 'ipw_uns_trunc')"
   ]
  },
  {
   "cell_type": "code",
   "execution_count": 51,
   "metadata": {},
   "outputs": [
    {
     "name": "stderr",
     "output_type": "stream",
     "text": [
      "`summarise()` ungrouping output (override with `.groups` argument)\n",
      "\n",
      "`summarise()` ungrouping output (override with `.groups` argument)\n",
      "\n"
     ]
    },
    {
     "data": {
      "text/html": [
       "<table>\n",
       "<caption>A matrix: 1 × 5 of type dbl</caption>\n",
       "<thead>\n",
       "\t<tr><th scope=col>3 year risk for discontinuation (%)</th><th scope=col>3 year risk for reinitiation (%)</th><th scope=col>risk difference (%)</th><th scope=col>risk ratio</th><th scope=col>hazard ratio</th></tr>\n",
       "</thead>\n",
       "<tbody>\n",
       "\t<tr><td>21.6</td><td>19.57</td><td>2.03</td><td>1.1</td><td>0.98</td></tr>\n",
       "</tbody>\n",
       "</table>\n"
      ],
      "text/latex": [
       "A matrix: 1 × 5 of type dbl\n",
       "\\begin{tabular}{lllll}\n",
       " 3 year risk for discontinuation (\\%) & 3 year risk for reinitiation (\\%) & risk difference (\\%) & risk ratio & hazard ratio\\\\\n",
       "\\hline\n",
       "\t 21.6 & 19.57 & 2.03 & 1.1 & 0.98\\\\\n",
       "\\end{tabular}\n"
      ],
      "text/markdown": [
       "\n",
       "A matrix: 1 × 5 of type dbl\n",
       "\n",
       "| 3 year risk for discontinuation (%) | 3 year risk for reinitiation (%) | risk difference (%) | risk ratio | hazard ratio |\n",
       "|---|---|---|---|---|\n",
       "| 21.6 | 19.57 | 2.03 | 1.1 | 0.98 |\n",
       "\n"
      ],
      "text/plain": [
       "     3 year risk for discontinuation (%) 3 year risk for reinitiation (%)\n",
       "[1,] 21.6                                19.57                           \n",
       "     risk difference (%) risk ratio hazard ratio\n",
       "[1,] 2.03                1.1        0.98        "
      ]
     },
     "metadata": {},
     "output_type": "display_data"
    }
   ],
   "source": [
    "sen3_res = causal_effect_estimation(data = dta_clone_fracture_ALB, weights = 'ipw_uns_trunc', \n",
    "                                    xvar = c('duration'))\n",
    "sen3_point_estimation <- sen3_res[[1]]\n",
    "sen3_point_estimation"
   ]
  },
  {
   "cell_type": "code",
   "execution_count": 52,
   "metadata": {},
   "outputs": [
    {
     "data": {
      "text/html": [
       "<table>\n",
       "<caption>A matrix: 1 × 5 of type chr</caption>\n",
       "<thead>\n",
       "\t<tr><th scope=col>3 year risk for discontinuation (%)</th><th scope=col>3 year risk for reinitiation (%)</th><th scope=col>risk difference (%)</th><th scope=col>risk ratio</th><th scope=col>hazard ratio</th></tr>\n",
       "</thead>\n",
       "<tbody>\n",
       "\t<tr><td>21.6 (12.62-28.18)</td><td>19.57 (13.26-26.54)</td><td>2.03 (-9.99-10.09)</td><td>1.1 (0.59-1.72)</td><td>0.98 (0.6-1.12)</td></tr>\n",
       "</tbody>\n",
       "</table>\n"
      ],
      "text/latex": [
       "A matrix: 1 × 5 of type chr\n",
       "\\begin{tabular}{lllll}\n",
       " 3 year risk for discontinuation (\\%) & 3 year risk for reinitiation (\\%) & risk difference (\\%) & risk ratio & hazard ratio\\\\\n",
       "\\hline\n",
       "\t 21.6 (12.62-28.18) & 19.57 (13.26-26.54) & 2.03 (-9.99-10.09) & 1.1 (0.59-1.72) & 0.98 (0.6-1.12)\\\\\n",
       "\\end{tabular}\n"
      ],
      "text/markdown": [
       "\n",
       "A matrix: 1 × 5 of type chr\n",
       "\n",
       "| 3 year risk for discontinuation (%) | 3 year risk for reinitiation (%) | risk difference (%) | risk ratio | hazard ratio |\n",
       "|---|---|---|---|---|\n",
       "| 21.6 (12.62-28.18) | 19.57 (13.26-26.54) | 2.03 (-9.99-10.09) | 1.1 (0.59-1.72) | 0.98 (0.6-1.12) |\n",
       "\n"
      ],
      "text/plain": [
       "     3 year risk for discontinuation (%) 3 year risk for reinitiation (%)\n",
       "[1,] 21.6 (12.62-28.18)                  19.57 (13.26-26.54)             \n",
       "     risk difference (%) risk ratio      hazard ratio   \n",
       "[1,] 2.03 (-9.99-10.09)  1.1 (0.59-1.72) 0.98 (0.6-1.12)"
      ]
     },
     "metadata": {},
     "output_type": "display_data"
    }
   ],
   "source": [
    "## bootstrap on 500 sample\n",
    "CI_res <- foreach (i = 1 : 10, .combine = c) %do% {\n",
    "    bootstrap_sub(data = dta_clone_fracture_ALB, k = i, weights = 'ipw_uns_trunc')\n",
    "}\n",
    "##############################################################################################################\n",
    "CI_point_estimation <- foreach (i = seq(1, 2 * no_of_sample, 2), .combine = rbind) %do% {\n",
    "    CI_res[[i]]\n",
    "}\n",
    "CI_point_estimation <- CI_point_estimation %>% data.frame()\n",
    "colnames(CI_point_estimation) <- c('risk_dis', 'risk_re', 'RD', 'RR', 'HR')\n",
    "CI_point_estimation <- CI_point_estimation %>% \n",
    "    summarise(lci_risk_dis = quantile(risk_dis, 0.025), \n",
    "              uci_risk_dis = quantile(risk_dis, 0.975), \n",
    "              lci_risk_re = quantile(risk_re, 0.025), \n",
    "              uci_risk_re = quantile(risk_re, 0.975), \n",
    "              lci_RD = quantile(RD, 0.025), \n",
    "              uci_RD = quantile(RD, 0.975), \n",
    "              lci_RR = quantile(RR, 0.025), \n",
    "              uci_RR = quantile(RR, 0.975), \n",
    "              lci_HR = quantile(HR, 0.025), \n",
    "              uci_HR = quantile(HR, 0.975))\n",
    "CI_point_estimation <- round(matrix(as.numeric(CI_point_estimation), nrow = 5, ncol = 2, byrow = T), 2)\n",
    "causal_effect_point_estimation <- paste(t(sen3_point_estimation), \n",
    "                                        ' (', CI_point_estimation[ , 1], '-', \n",
    "                                        CI_point_estimation[ , 2], ')', sep = '')\n",
    "names(causal_effect_point_estimation) <- colnames(sen3_point_estimation)\n",
    "t(causal_effect_point_estimation)"
   ]
  },
  {
   "cell_type": "markdown",
   "metadata": {},
   "source": [
    "## subgroup analysis"
   ]
  },
  {
   "cell_type": "raw",
   "metadata": {},
   "source": [
    "subgroup_analysis <- function(data = dta_clone_fracture_imp1, by = 'age_cat', \n",
    "                              xvar = c('duration')) {\n",
    "    data1 = data[data[[by]] == 1, ]\n",
    "    data0 = data[data[[by]] == 0, ]\n",
    "    no_of_sample = 500\n",
    "    ##################################################\n",
    "    ### SUBGROUP 1 RESULTS\n",
    "    ##################################################\n",
    "    sub1_res = causal_effect_estimation(data = data1, weights = 'ipw_uns_trunc', \n",
    "                                        xvar = xvar)\n",
    "    sub1_point_estimation <- sub1_res[[1]]\n",
    "    ## bootstrap on 500 sample\n",
    "    sub1_CI_res <- foreach (i = 1 : 10, .combine = c) %do% {\n",
    "        bootstrap_sub(data = data1, k = i, weights = 'ipw_uns_trunc', xvar_boot = xvar)\n",
    "    }\n",
    "    ##############################################################################################\n",
    "    sub1_CI_point_estimation <- foreach (i = seq(1, 2 * no_of_sample, 2), .combine = rbind) %do% {\n",
    "        sub1_CI_res[[i]]\n",
    "    }\n",
    "    sub1_CI_point_estimation <- sub1_CI_point_estimation %>% data.frame()\n",
    "    colnames(sub1_CI_point_estimation) <- c('risk_dis', 'risk_re', 'RD', 'RR', 'HR')\n",
    "    sub1_CI_point_estimation <- sub1_CI_point_estimation %>% \n",
    "        summarise(lci_risk_dis = quantile(risk_dis, 0.025), \n",
    "                  uci_risk_dis = quantile(risk_dis, 0.975), \n",
    "                  lci_risk_re = quantile(risk_re, 0.025), \n",
    "                  uci_risk_re = quantile(risk_re, 0.975), \n",
    "                  lci_RD = quantile(RD, 0.025), \n",
    "                  uci_RD = quantile(RD, 0.975), \n",
    "                  lci_RR = quantile(RR, 0.025), \n",
    "                  uci_RR = quantile(RR, 0.975), \n",
    "                  lci_HR = quantile(HR, 0.025), \n",
    "                  uci_HR = quantile(HR, 0.975))\n",
    "    sub1_CI_point_estimation <- round(matrix(as.numeric(sub1_CI_point_estimation), nrow = 5, ncol = 2, byrow = T), 2)\n",
    "    causal_effect_point_estimation <- paste(t(sub1_point_estimation), \n",
    "                                            ' (', sub1_CI_point_estimation[ , 1], '-', \n",
    "                                            sub1_CI_point_estimation[ , 2], ')', sep = '')\n",
    "    sub1_res <- t(causal_effect_point_estimation)\n",
    "    ##################################################\n",
    "    ### SUBGROUP 0 RESULTS\n",
    "    ##################################################\n",
    "    sub0_res = causal_effect_estimation(data = data0, weights = 'ipw_uns_trunc', \n",
    "                                        xvar = xvar)\n",
    "    sub0_point_estimation <- sub0_res[[1]]\n",
    "    ## bootstrap on 500 sample\n",
    "    sub0_CI_res <- foreach (i = 1 : 10, .combine = c) %do% {\n",
    "        bootstrap_sub(data = data0, k = i, weights = 'ipw_uns_trunc', xvar_boot = xvar)\n",
    "    }\n",
    "    ######################################################################################################\n",
    "    sub0_CI_point_estimation <- foreach (i = seq(1, 2 * no_of_sample, 2), .combine = rbind) %do% {\n",
    "        sub0_CI_res[[i]]\n",
    "    }\n",
    "    sub0_CI_point_estimation <- sub0_CI_point_estimation %>% data.frame()\n",
    "    colnames(sub0_CI_point_estimation) <- c('risk_dis', 'risk_re', 'RD', 'RR', 'HR')\n",
    "    sub0_CI_point_estimation <- sub0_CI_point_estimation %>% \n",
    "        summarise(lci_risk_dis = quantile(risk_dis, 0.025), \n",
    "                  uci_risk_dis = quantile(risk_dis, 0.975), \n",
    "                  lci_risk_re = quantile(risk_re, 0.025), \n",
    "                  uci_risk_re = quantile(risk_re, 0.975), \n",
    "                  lci_RD = quantile(RD, 0.025), \n",
    "                  uci_RD = quantile(RD, 0.975), \n",
    "                  lci_RR = quantile(RR, 0.025), \n",
    "                  uci_RR = quantile(RR, 0.975), \n",
    "                  lci_HR = quantile(HR, 0.025), \n",
    "                  uci_HR = quantile(HR, 0.975))\n",
    "    sub0_CI_point_estimation <- round(matrix(as.numeric(sub0_CI_point_estimation), nrow = 5, ncol = 2, byrow = T), 2)\n",
    "    causal_effect_point_estimation <- paste(t(sub0_point_estimation), \n",
    "                                            ' (', sub0_CI_point_estimation[ , 1], '-', \n",
    "                                            sub0_CI_point_estimation[ , 2], ')', sep = '')\n",
    "    sub0_res <- t(causal_effect_point_estimation)\n",
    "    #####################################################################################\n",
    "    #####################################################################################\n",
    "    AERI_point_estimation <- round(sub1_point_estimation[3] - sub0_point_estimation[3], 2)\n",
    "    CI_AERI_point_estimation <- foreach (i = seq(1, 2 * no_of_sample, 2), .combine = rbind) %do% {\n",
    "        sub1_CI_res[[i]][3] - sub0_CI_res[[i]][3]\n",
    "    }\n",
    "    CI_AERI_point_estimation <- CI_AERI_point_estimation %>% data.frame()\n",
    "    colnames(CI_AERI_point_estimation) <- c('AERI')\n",
    "    CI_AERI_point_estimation <- CI_AERI_point_estimation %>% \n",
    "        summarise(lci_AERI = round(quantile(AERI, 0.025), 2), \n",
    "                  uci_AERI = round(quantile(AERI, 0.975), 2))\n",
    "    causal_effect_AERI <- c(AERI_point_estimation, CI_AERI_point_estimation[ , 1], CI_AERI_point_estimation[ , 2], \n",
    "                            paste(AERI_point_estimation, \n",
    "                                  ' (', CI_AERI_point_estimation[ , 1], '-', \n",
    "                                  CI_AERI_point_estimation[ , 2], ')', sep = ''))\n",
    "    ### think about how to calcualte P value?????????\n",
    "    p_res <- foreach (i = seq(1, 2 * no_of_sample, 2), .combine = c) %do% {\n",
    "        sub1_CI_res[[i]][3] - sub0_CI_res[[i]][3]\n",
    "    }\n",
    "    p_more_than_0 <- sum(p_res > 0) / length(p_res)\n",
    "    p_less_than_0 <- sum(p_res < 0) / length(p_res)\n",
    "    p <- round(min(p_more_than_0, p_less_than_0) * 2, 2)\n",
    "    res <- rbind(c(sub1_res, causal_effect_AERI, p), c(sub0_res, '', '', '', '', ''))\n",
    "    colnames(res) <- c(colnames(sub1_point_estimation), 'AERI point', 'AERI lci', 'AERI uci', 'AERI', 'p')\n",
    "    return(res)\n",
    "}"
   ]
  },
  {
   "cell_type": "raw",
   "metadata": {},
   "source": [
    "### by age\n",
    "dta_clone_fracture_imp1 <- dta_clone_fracture_imp1 %>% mutate(age_cat = ifelse(age >= 70, 1, 0))\n",
    "sub_res_age <- subgroup_analysis(by = 'age_cat')"
   ]
  },
  {
   "cell_type": "raw",
   "metadata": {},
   "source": [
    "### by sex\n",
    "sub_res_sex <- subgroup_analysis(by = 'female')"
   ]
  },
  {
   "cell_type": "raw",
   "metadata": {},
   "source": [
    "### by diabetes\n",
    "sub_res_diabetes <- subgroup_analysis(by = 'cov_diabetes_t0')"
   ]
  },
  {
   "cell_type": "raw",
   "metadata": {},
   "source": [
    "### by heart failure\n",
    "sub_res_HF <- subgroup_analysis(by = 'cov_CHF_t0')"
   ]
  },
  {
   "cell_type": "raw",
   "metadata": {},
   "source": [
    "### by eGFR\n",
    "dta_clone_fracture_imp1 <- dta_clone_fracture_imp1 %>% mutate(cov_egfr_subcat_t0 = ifelse(cov_egfr_t0 >= 60, 1, 0))\n",
    "sub_res_eGFR <- subgroup_analysis(by = 'cov_egfr_subcat_t0')"
   ]
  },
  {
   "cell_type": "raw",
   "metadata": {},
   "source": [
    "## needed when main analysis is not run\n",
    "main_res <- c('25.79 (21.87-30.23)', '17.27 (15.72-18.96)', \n",
    "              '8.52 (4.43-13.17)', \n",
    "              '1.49 (1.25-1.81)', '1.49 (1.32-1.72)')"
   ]
  },
  {
   "cell_type": "raw",
   "metadata": {},
   "source": [
    "sub_res <- rbind(sub_res_age, \n",
    "                 sub_res_sex, \n",
    "                 sub_res_diabetes, \n",
    "                 sub_res_HF, \n",
    "                 sub_res_eGFR) %>% data.frame()\n",
    "sub_res <- sub_res %>% mutate(group = c(paste('    ', intToUtf8(8805), '70 years', sep = ''), \n",
    "                                        '    <70 years', \n",
    "                                        '    female', '    male', \n",
    "                                        '    yes', '    no', \n",
    "                                        '    yes', '    no', \n",
    "                                        paste('    ', intToUtf8(8805), '60 ml/min/1.73m^2', sep = ''), \n",
    "                                        '    <60 ml/min/1.73m^2')) %>% \n",
    "    dplyr::select(c(11, 1 : 10))\n",
    "sub_res <- rbind(as.matrix(t(c('Overall', main_res, '', '', '', '', ''))), as.matrix(sub_res)) %>% \n",
    "    data.frame()\n",
    "colnames(sub_res) <- c('group', colnames(sub_res_age))\n",
    "sub_res <- sub_res %>% dplyr::select(c(1 : 4, 7 : 11)) %>% \n",
    "    tibble::add_row(group = 'Age', .before = 2) %>% \n",
    "    tibble::add_row(group = 'Sex', .before = 5) %>% \n",
    "    tibble::add_row(group = 'Diabetes', .before = 8) %>% \n",
    "    tibble::add_row(group = 'Heart failure', .before = 11) %>%  \n",
    "    tibble::add_row(group = 'eGFR', .before = 14)"
   ]
  },
  {
   "cell_type": "raw",
   "metadata": {},
   "source": [
    "tabletext <- cbind(c(\"Subgroup\", \"\\n\", as.character(sub_res$group)), \n",
    "                   c(\"3 year risk for\\n discontinuation (%)\", \"\\n\", as.character(sub_res[ , 2])), \n",
    "                   c(\"3 year risk for\\n reinitiation (%)\", \"\\n\", as.character(sub_res[ , 3])), \n",
    "                   c(\"Risk difference (%)\", \"\\n\", as.character(sub_res[ , 4])), \n",
    "                   c(\"AERI (%)\", \"\\n\", as.character(sub_res$AERI)), \n",
    "                   c(\"P Value\", \"\\n\", as.character(sub_res$p)))"
   ]
  },
  {
   "cell_type": "raw",
   "metadata": {},
   "source": [
    "options(repr.plot.width = 18, repr.plot.height = 10)\n",
    "forestplot(labeltext = tabletext, \n",
    "           graph.pos = 6, \n",
    "           mean = c(NA, NA, as.numeric(as.character(sub_res[['AERI point']]))), \n",
    "           lower = c(NA, NA, as.numeric(as.character(sub_res[['AERI lci']]))), \n",
    "           upper = c(NA, NA, as.numeric(as.character(sub_res[['AERI uci']]))), \n",
    "           title = \"\", \n",
    "           xlab = \"<---Discontinuation Better---                    ---Reinitiation Better--->\",\n",
    "           hrzl_lines = list(\"6\" = gpar(lwd = 80, lineend = \"butt\", columns=c(1 : 7), col=\"#99999922\"), \n",
    "                             \"9\" = gpar(lwd = 80, lineend = \"butt\", columns=c(1 : 7), col=\"#99999922\"),\n",
    "                             \"12\" = gpar(lwd = 80, lineend = \"butt\", columns=c(1 : 7), col=\"#99999922\"), \n",
    "                             \"15\" = gpar(lwd = 80, lineend = \"butt\", columns=c(1 : 7), col=\"#99999922\"),\n",
    "                             \"18\" = gpar(lwd = 80, lineend = \"butt\", columns=c(1 : 7), col=\"#99999922\")), \n",
    "           txt_gp = fpTxtGp(label = gpar(cex = 1.25),\n",
    "                            ticks = gpar(cex = 1.1),\n",
    "                            xlab = gpar(cex = 1.2),\n",
    "                            title = gpar(cex = 1.2)),\n",
    "           col = fpColors(box = \"black\", lines = \"black\", zero = \"red\"),\n",
    "           graphwidth = unit(100, 'mm'), \n",
    "           colgap = unit(6, \"mm\"),\n",
    "           boxsize = 0.3)"
   ]
  },
  {
   "cell_type": "code",
   "execution_count": null,
   "metadata": {},
   "outputs": [],
   "source": []
  },
  {
   "cell_type": "code",
   "execution_count": null,
   "metadata": {},
   "outputs": [],
   "source": []
  },
  {
   "cell_type": "code",
   "execution_count": null,
   "metadata": {},
   "outputs": [],
   "source": []
  },
  {
   "cell_type": "code",
   "execution_count": null,
   "metadata": {},
   "outputs": [],
   "source": []
  },
  {
   "cell_type": "code",
   "execution_count": null,
   "metadata": {},
   "outputs": [],
   "source": []
  },
  {
   "cell_type": "code",
   "execution_count": null,
   "metadata": {},
   "outputs": [],
   "source": []
  }
 ],
 "metadata": {
  "kernelspec": {
   "display_name": "R",
   "language": "R",
   "name": "ir"
  },
  "language_info": {
   "codemirror_mode": "r",
   "file_extension": ".r",
   "mimetype": "text/x-r-source",
   "name": "R",
   "pygments_lexer": "r",
   "version": "3.6.3"
  }
 },
 "nbformat": 4,
 "nbformat_minor": 4
}
