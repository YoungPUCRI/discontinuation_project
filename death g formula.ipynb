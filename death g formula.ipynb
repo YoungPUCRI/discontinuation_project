{
 "cells": [
  {
   "cell_type": "markdown",
   "metadata": {},
   "source": [
    "## load packages"
   ]
  },
  {
   "cell_type": "code",
   "execution_count": 2,
   "metadata": {},
   "outputs": [],
   "source": [
    "library(dplyr)\n",
    "library(lubridate)\n",
    "library(tableone)\n",
    "library(DescTools)\n",
    "library(biostat3)\n",
    "library(survminer)\n",
    "library(mice)\n",
    "library(foreach)\n",
    "library(mgcv)\n",
    "library(doParallel)\n",
    "library(mitools)\n",
    "library(survey)\n",
    "library(rms)\n",
    "library(tidyr)\n",
    "library(data.table)"
   ]
  },
  {
   "cell_type": "code",
   "execution_count": 3,
   "metadata": {},
   "outputs": [],
   "source": [
    "## HR display function\n",
    "OR.result.tidy <- function(result) {\n",
    "    res <- result$coefficients[2, c(1, 2)]\n",
    "    OR <- exp(res[1])\n",
    "    lci <- exp(res[1] - qnorm(0.975) * res[2])\n",
    "    uci <- exp(res[1] + qnorm(0.975) * res[2])\n",
    "    res <- data.frame(OR, lci, uci)\n",
    "    colnames(res) <- c('OR', 'lci', 'uci')\n",
    "    res <- res %>% \n",
    "        data.frame() %>% \n",
    "        mutate_at(vars(OR, lci, uci), funs(round(., 2))) \n",
    "    res <- res %>% \n",
    "        mutate(OR = paste0(res[, 1], \" (\", res[, 2], \"-\", res[, 3], \")\")) %>% \n",
    "        cbind(group = c('discontinuation')) %>% \n",
    "        dplyr::select(c(4, 1))\n",
    "    res <- rbind(data.frame(group = 'reinitiation', OR = 'Ref'), res) \n",
    "    res$group <- as.character(res$group)\n",
    "    return(res)\n",
    "}"
   ]
  },
  {
   "cell_type": "markdown",
   "metadata": {},
   "source": [
    "## import data"
   ]
  },
  {
   "cell_type": "code",
   "execution_count": 4,
   "metadata": {},
   "outputs": [],
   "source": [
    "load('dta_tidied.R')"
   ]
  },
  {
   "cell_type": "code",
   "execution_count": 5,
   "metadata": {},
   "outputs": [],
   "source": [
    "dta_clone_death <- dta_clone %>% \n",
    "    arrange(X, lopnr, index_date) %>% \n",
    "    group_by(X, lopnr) %>% \n",
    "    mutate(death_filter = cumsum(outcome_death), \n",
    "           censor_filter = cumsum(censor)) %>% \n",
    "    filter(death_filter <= 1 & censor_filter <= 1) %>% \n",
    "    ungroup() %>% \n",
    "    dplyr::select(c('lopnr', 'ID', 'X', \n",
    "                    'index_date', 'after_index_date', 'rank', \n",
    "                    'age', 'female', 'index_year', 'duration', \n",
    "                    'potassium_value', 'potassium_cat', \n",
    "                    'primary_care_num', 'outpatient_num', 'inpatient_num', \n",
    "                    'cov_diabetes', 'cov_hypertension', \n",
    "                    'cov_MI', 'cov_CHF', 'cov_cerebrovascular_disease', 'cov_PVD', \n",
    "                    'cov_COPD',  \n",
    "                    'cov_beta_blocker', 'cov_CCB', 'cov_diuretic', 'cov_MRA', 'cov_SPS', \n",
    "                    'cov_statin', \n",
    "                    'cov_antiplatelet_agent', \n",
    "                    'cov_egfr', 'cov_egfr_cat', 'cov_acr', 'cov_acr_cat', \n",
    "                    'cov_potassium', 'cov_hospitalization', \n",
    "                    'outcome_death', 'censor', 'treatment'))"
   ]
  },
  {
   "cell_type": "code",
   "execution_count": 6,
   "metadata": {},
   "outputs": [],
   "source": [
    "dta_clone_death_imp1 <- dta_clone_death %>% group_by(ID, lopnr) %>% \n",
    "    arrange(ID, lopnr, index_date) %>% \n",
    "    mutate(cov_diabetes_lag = lag(cov_diabetes, 1), \n",
    "           cov_hypertension_lag = lag(cov_hypertension, 1), \n",
    "           cov_MI_lag = lag(cov_MI, 1), \n",
    "           cov_CHF_lag = lag(cov_CHF, 1), \n",
    "           cov_cerebrovascular_disease_lag = lag(cov_cerebrovascular_disease, 1), \n",
    "           cov_PVD_lag = lag(cov_PVD, 1), \n",
    "           cov_COPD_lag = lag(cov_COPD, 1), \n",
    "           cov_beta_blocker_lag = lag(cov_beta_blocker, 1), \n",
    "           cov_CCB_lag = lag(cov_CCB, 1), \n",
    "           cov_diuretic_lag = lag(cov_diuretic, 1), \n",
    "           cov_MRA_lag = lag(cov_MRA, 1), \n",
    "           cov_SPS_lag = lag(cov_SPS, 1), \n",
    "           cov_statin_lag = lag(cov_statin, 1), \n",
    "           cov_antiplatelet_agent_lag = lag(cov_antiplatelet_agent, 1), \n",
    "           cov_egfr_lag = lag(cov_egfr, 1), \n",
    "           cov_egfr_cat_lag = lag(cov_egfr_cat, 1), \n",
    "           cov_acr_lag = lag(cov_acr, 1), \n",
    "           cov_acr_cat_lag = lag(cov_acr_cat, 1), \n",
    "           cov_potassium_lag = lag(cov_potassium, 1), \n",
    "           cov_hospitalization_lag = lag(cov_hospitalization, 1)) %>% ungroup()"
   ]
  },
  {
   "cell_type": "markdown",
   "metadata": {},
   "source": [
    "## model conditional probability"
   ]
  },
  {
   "cell_type": "code",
   "execution_count": 7,
   "metadata": {},
   "outputs": [],
   "source": [
    "x_adjusted_var <- c('age', 'female', 'index_year', 'duration', 'potassium_value', \n",
    "                    'primary_care_num', 'outpatient_num', 'inpatient_num', \n",
    "                    'cov_diabetes', 'cov_hypertension', \n",
    "                    'cov_MI', 'cov_CHF', 'cov_cerebrovascular_disease', 'cov_PVD', \n",
    "                    'cov_COPD',  \n",
    "                    'cov_beta_blocker', 'cov_CCB', 'cov_diuretic', 'cov_MRA', 'cov_SPS', \n",
    "                    'cov_statin', \n",
    "                    'cov_antiplatelet_agent', \n",
    "                    'cov_egfr', \n",
    "                    # 'rcs(cov_potassium, 12)',\n",
    "                    'cov_hospitalization')"
   ]
  },
  {
   "cell_type": "code",
   "execution_count": 8,
   "metadata": {},
   "outputs": [],
   "source": [
    "x_adjusted_var_lag <- c('age', 'female', 'index_year', 'duration', 'potassium_value', \n",
    "                        'primary_care_num', 'outpatient_num', 'inpatient_num', \n",
    "                        'cov_diabetes_lag', 'cov_hypertension_lag', \n",
    "                        'cov_MI_lag', 'cov_CHF_lag', 'cov_cerebrovascular_disease_lag', 'cov_PVD_lag', \n",
    "                        'cov_COPD_lag',  \n",
    "                        'cov_beta_blocker_lag', 'cov_CCB_lag', 'cov_diuretic_lag', 'cov_MRA_lag', 'cov_SPS_lag', \n",
    "                        'cov_statin_lag', \n",
    "                        'cov_antiplatelet_agent_lag', \n",
    "                        'cov_egfr_lag', \n",
    "                        # 'rcs(cov_potassium_lag, 12)', \n",
    "                        'cov_hospitalization_lag')"
   ]
  },
  {
   "cell_type": "code",
   "execution_count": 9,
   "metadata": {},
   "outputs": [],
   "source": [
    "dta_clone_death_imp1_discontinuation <- dta_clone_death_imp1 %>% \n",
    "    filter(X == 'discontinuation') %>% \n",
    "    arrange(ID, index_date)"
   ]
  },
  {
   "cell_type": "code",
   "execution_count": 10,
   "metadata": {},
   "outputs": [
    {
     "name": "stdout",
     "output_type": "stream",
     "text": [
      "[1] \"1, 7, 32\"\n"
     ]
    }
   ],
   "source": [
    "print(paste(attr(rcspline.eval(dta_clone_death_imp1_discontinuation$rank, nk = 3, inclx = T), \"knots\"), collapse = ', '))"
   ]
  },
  {
   "cell_type": "code",
   "execution_count": 11,
   "metadata": {},
   "outputs": [],
   "source": [
    "## outcome conditional model\n",
    "outcome_regression_formula_discontinuation <- as.formula(paste0('outcome_death ~ rcspline.eval(rank, knots = c(1, 7, 32), inclx = T) + ', \n",
    "                                                                paste(x_adjusted_var, collapse = \" + \"), \n",
    "                                                                sep = ' '))\n",
    "outcome_model_discontinuation <- glm(outcome_regression_formula_discontinuation, \n",
    "                                     data = dta_clone_death_imp1_discontinuation, \n",
    "                                     family  = binomial(link = \"logit\"))"
   ]
  },
  {
   "cell_type": "code",
   "execution_count": 12,
   "metadata": {},
   "outputs": [
    {
     "name": "stdout",
     "output_type": "stream",
     "text": [
      "[1] \"1, 2, 5\"\n"
     ]
    }
   ],
   "source": [
    "print(paste(attr(rcspline.eval(dta_clone_death_imp1_discontinuation %>% \n",
    "                               filter(rank %in% 1 : 6) %>% \n",
    "                               dplyr::select(rank), nk = 3, inclx = T), \"knots\"), collapse = ', '))"
   ]
  },
  {
   "cell_type": "code",
   "execution_count": 13,
   "metadata": {},
   "outputs": [],
   "source": [
    "## censoring conditional model\n",
    "censor_regression_formula_discontinuation <- as.formula(paste0('censor ~ rcspline.eval(rank, knots = c(1, 2, 5), inclx = T) + ', \n",
    "                                                               paste(x_adjusted_var, collapse = \" + \"), \n",
    "                                                               sep = ' '))\n",
    "censor_model_discontinuation <- glm(censor_regression_formula_discontinuation, \n",
    "                                    data = dta_clone_death_imp1_discontinuation %>% filter(rank %in% 1 : 6), \n",
    "                                    family  = binomial(link = \"logit\"))"
   ]
  },
  {
   "cell_type": "code",
   "execution_count": 14,
   "metadata": {},
   "outputs": [
    {
     "name": "stdout",
     "output_type": "stream",
     "text": [
      "[1] \"2, 11, 34\"\n"
     ]
    }
   ],
   "source": [
    "print(paste(attr(rcspline.eval(dta_clone_death_imp1_discontinuation %>% \n",
    "                               filter(rank >= 2) %>% \n",
    "                               dplyr::select(rank), nk = 3, inclx = T), \"knots\"), collapse = ', '))"
   ]
  },
  {
   "cell_type": "code",
   "execution_count": 15,
   "metadata": {},
   "outputs": [],
   "source": [
    "## confounder conditional model\n",
    "confounder_conditional_model <- function(confounder = 'cov_diabetes', data = dta_clone_death_imp1_discontinuation) {\n",
    "    if (unique(data$X) == 'discontinuation') {\n",
    "        confounder_regression_formula <- as.formula(paste0(confounder, '~ rcspline.eval(rank, knots = c(2, 11, 34), inclx = T) + ', \n",
    "                                                       paste(x_adjusted_var_lag, collapse = \" + \"), \n",
    "                                                       collapse = ' '))    \n",
    "    } else {\n",
    "            confounder_regression_formula <- as.formula(paste0(confounder, '~ rcspline.eval(rank, knots = c(4, 15, 36), inclx = T) + ', \n",
    "                                                       paste(x_adjusted_var_lag, collapse = \" + \"), \n",
    "                                                       collapse = ' '))\n",
    "    }\n",
    "    if (confounder %in% c('cov_egfr')) {\n",
    "        confounder_model <- lm(confounder_regression_formula, \n",
    "                               data = data %>% filter(rank >= 2))\n",
    "    } else {\n",
    "        confounder_model <- glm(confounder_regression_formula, \n",
    "                                data = data %>% filter(rank >= 2), \n",
    "                                family  = binomial(link = \"logit\"))\n",
    "    }\n",
    "    return(confounder_model)\n",
    "}"
   ]
  },
  {
   "cell_type": "code",
   "execution_count": 16,
   "metadata": {},
   "outputs": [],
   "source": [
    "xvar_time_varying <- c('cov_diabetes', 'cov_hypertension', \n",
    "                       'cov_MI', 'cov_CHF', 'cov_cerebrovascular_disease', 'cov_PVD', \n",
    "                       'cov_COPD',  \n",
    "                       'cov_beta_blocker', 'cov_CCB', 'cov_diuretic', 'cov_MRA', 'cov_SPS', \n",
    "                       'cov_statin', 'cov_antiplatelet_agent', \n",
    "                       'cov_egfr', \n",
    "                       # 'rcs(cov_potassium, 12)', \n",
    "                       'cov_hospitalization')"
   ]
  },
  {
   "cell_type": "code",
   "execution_count": 17,
   "metadata": {},
   "outputs": [],
   "source": [
    "confouder_model_discontinuation <- mcMap(function(i) {\n",
    "    confounder_conditional_model(confounder = i)\n",
    "}, xvar_time_varying)"
   ]
  },
  {
   "cell_type": "code",
   "execution_count": 18,
   "metadata": {},
   "outputs": [],
   "source": [
    "for (i in xvar_time_varying) {\n",
    "    assign(paste(i, 'model_discontinuation', sep = '_'), confouder_model_discontinuation[[i]])\n",
    "}"
   ]
  },
  {
   "cell_type": "code",
   "execution_count": 19,
   "metadata": {},
   "outputs": [],
   "source": [
    "dta_clone_death_imp1_reinitiation <- dta_clone_death_imp1 %>% \n",
    "    filter(X == 'reinitiation') %>% \n",
    "    arrange(ID, index_date)"
   ]
  },
  {
   "cell_type": "code",
   "execution_count": 20,
   "metadata": {},
   "outputs": [
    {
     "name": "stdout",
     "output_type": "stream",
     "text": [
      "[1] \"3, 14, 36\"\n"
     ]
    }
   ],
   "source": [
    "print(paste(attr(rcspline.eval(dta_clone_death_imp1_reinitiation$rank, nk = 3, inclx = T), \"knots\"), collapse = ', '))"
   ]
  },
  {
   "cell_type": "code",
   "execution_count": 21,
   "metadata": {},
   "outputs": [],
   "source": [
    "## outcome conditional model\n",
    "outcome_regression_formula_reinitiation <- as.formula(paste0('outcome_death ~ rcspline.eval(rank, knots = c(3, 14, 36), inclx = T) + ', \n",
    "                                                             paste(x_adjusted_var, collapse = \" + \"), \n",
    "                                                             sep = ' '))\n",
    "outcome_model_reinitiation <- glm(outcome_regression_formula_reinitiation, \n",
    "                                  data = dta_clone_death_imp1_reinitiation, \n",
    "                                  family  = binomial(link = \"logit\"))"
   ]
  },
  {
   "cell_type": "code",
   "execution_count": 22,
   "metadata": {},
   "outputs": [],
   "source": [
    "## censoring conditional model\n",
    "censor_regression_formula_reinitiation <- as.formula(paste0('censor ~ ', \n",
    "                                                            paste(x_adjusted_var, collapse = \" + \"), \n",
    "                                                            sep = ' '))\n",
    "censor_model_reinitiation <- glm(censor_regression_formula_reinitiation, \n",
    "                                 data = dta_clone_death_imp1_reinitiation %>% filter(rank %in% c(6)), \n",
    "                                 family  = binomial(link = \"logit\"))"
   ]
  },
  {
   "cell_type": "code",
   "execution_count": 23,
   "metadata": {},
   "outputs": [
    {
     "name": "stdout",
     "output_type": "stream",
     "text": [
      "[1] \"4, 15, 36\"\n"
     ]
    }
   ],
   "source": [
    "print(paste(attr(rcspline.eval(dta_clone_death_imp1_reinitiation %>% \n",
    "                               filter(rank >= 2) %>% \n",
    "                               dplyr::select(rank), nk = 3, inclx = T), \"knots\"), collapse = ', '))"
   ]
  },
  {
   "cell_type": "code",
   "execution_count": 24,
   "metadata": {},
   "outputs": [],
   "source": [
    "confouder_model_reinitiation <- mcMap(function(i) {\n",
    "    confounder_conditional_model(confounder = i, data = dta_clone_death_imp1_reinitiation)\n",
    "}, xvar_time_varying)"
   ]
  },
  {
   "cell_type": "code",
   "execution_count": 25,
   "metadata": {},
   "outputs": [],
   "source": [
    "for (i in xvar_time_varying) {\n",
    "    assign(paste(i, 'model_reinitiation', sep = '_'), confouder_model_reinitiation[[i]])\n",
    "}"
   ]
  },
  {
   "cell_type": "code",
   "execution_count": 26,
   "metadata": {},
   "outputs": [],
   "source": [
    "# save(list = ls(), file = 'before MC all.R')"
   ]
  },
  {
   "cell_type": "markdown",
   "metadata": {},
   "source": [
    "## Generating time-varying confounders and outcome in Monte Carlo sample "
   ]
  },
  {
   "cell_type": "code",
   "execution_count": 27,
   "metadata": {},
   "outputs": [],
   "source": [
    "# load('before MC all.R')"
   ]
  },
  {
   "cell_type": "code",
   "execution_count": 28,
   "metadata": {},
   "outputs": [],
   "source": [
    "MC_data_preparation <- function(data = dta_discontinuation_MC, \n",
    "                                ID_sample = ID_random_sample_discontinuation, times = 1, \n",
    "                                n_month = 60) {\n",
    "    sub_data <- function(i, j = 1) {\n",
    "        dta <- data %>% filter(ID == i) %>% mutate(ID = j) %>% data.frame()\n",
    "        return(dta)\n",
    "    }\n",
    "    data <- rbindlist(mapply(sub_data, ID_sample,  1 : length(ID_sample), SIMPLIFY = F))\n",
    "    data <- data %>% \n",
    "        dplyr::select(c('lopnr', 'ID', 'X', 'rank', x_adjusted_var)) %>% \n",
    "        mutate(ID = paste('ID', ID, sep = '_'), \n",
    "               outcome_death = NA)\n",
    "    for (k in paste(xvar_time_varying, 'lag', sep = '_')) {\n",
    "        data[[k]] <- NA\n",
    "    }\n",
    "    n_month = n_month \n",
    "    data <- data %>% \n",
    "        slice(rep(row_number(), n_month)) %>% \n",
    "        arrange(ID) %>% \n",
    "        group_by(ID) %>% \n",
    "        mutate(rank = cumsum(rank)) %>% \n",
    "        ungroup()\n",
    "    for (m in xvar_time_varying) {\n",
    "        data[[m]] <- ifelse(data$rank == 1, data[[m]], NA)\n",
    "    }\n",
    "    data <- data %>% slice(rep(row_number(), times))\n",
    "    return(data)\n",
    "}"
   ]
  },
  {
   "cell_type": "code",
   "execution_count": 29,
   "metadata": {},
   "outputs": [
    {
     "name": "stderr",
     "output_type": "stream",
     "text": [
      "Note: Using an external vector in selections is ambiguous.\n",
      "\u001b[34mℹ\u001b[39m Use `all_of(x_adjusted_var)` instead of `x_adjusted_var` to silence this message.\n",
      "\u001b[34mℹ\u001b[39m See <https://tidyselect.r-lib.org/reference/faq-external-vector.html>.\n",
      "\u001b[90mThis message is displayed once per session.\u001b[39m\n",
      "\n"
     ]
    }
   ],
   "source": [
    "dta_discontinuation_MC <- dta_clone_death_imp1_discontinuation %>% filter(rank == 1)\n",
    "ID_random_sample_discontinuation <- 1 : length(unique(dta_clone_death_imp1_discontinuation$ID))\n",
    "dta_discontinuation_MC = MC_data_preparation()\n",
    "dta_reinitiation_MC <- dta_clone_death_imp1_reinitiation %>% filter(rank == 1)\n",
    "ID_random_sample_reinitiation <- ID_random_sample_discontinuation + length(ID_random_sample_discontinuation)\n",
    "dta_reinitiation_MC = MC_data_preparation(data = dta_reinitiation_MC, \n",
    "                                          ID_sample = ID_random_sample_reinitiation)"
   ]
  },
  {
   "cell_type": "code",
   "execution_count": 30,
   "metadata": {},
   "outputs": [],
   "source": [
    "MC_data_generation_per <- function(i = 2, \n",
    "                                   type = 'discontinuation', \n",
    "                                   environment = globalenv()) {\n",
    "    data = get(paste(c('dta', type, 'MC', i - 1), collapse = '_'), envir = environment) \n",
    "    ## Note from global environment\n",
    "    ## print(head(data)) \n",
    "    alldata = get(paste(c('dta', type, 'MC'), collapse = '_'), envir = environment) \n",
    "    ## Note from global environment\n",
    "    ## print(head(alldata)) \n",
    "    dta_MC_per_generated <- alldata %>% filter(rank == i) %>% \n",
    "        dplyr::select(c('lopnr', 'ID', 'X', 'rank', 'age', 'female', 'index_year', 'duration', \n",
    "                        'potassium_value', \n",
    "                        'primary_care_num', 'outpatient_num', 'inpatient_num', \n",
    "                        xvar_time_varying, 'outcome_death')) %>% \n",
    "        inner_join(data %>% filter(outcome_death == 0) %>% \n",
    "                       dplyr::select(c('ID', xvar_time_varying)), \n",
    "                   by = 'ID', suffix = c('', '_lag'))\n",
    "    ## add values for time-varying confounders\n",
    "    for (j in xvar_time_varying) {\n",
    "        model <- get(paste(c(j, 'model', type), collapse = '_'), envir = .GlobalEnv) \n",
    "        ##Note from global environment\n",
    "        ## print(model)\n",
    "        if (j %in% c('cov_egfr')) {\n",
    "            mean_cov = predict(model, newdata = dta_MC_per_generated)\n",
    "            set.seed(060305)\n",
    "            dta_MC_per_generated[[j]] = rnorm(length(mean_cov), \n",
    "                                              mean = mean_cov, \n",
    "                                              sd = sd(get(paste(c('dta_clone_death_imp1_', type), \n",
    "                                                                collapse = ''))[[j]]))\n",
    "        } else {\n",
    "            p_cov = predict(model, newdata = dta_MC_per_generated, type = \"response\")\n",
    "            set.seed(060305)\n",
    "            dta_MC_per_generated[[j]] = rbinom(length(p_cov), 1, p_cov)\n",
    "        }\n",
    "\n",
    "    }\n",
    "    ## add value for outcome\n",
    "    model <- get(paste(c('outcome', 'model', type), collapse = '_'), envir = .GlobalEnv) \n",
    "    ##Note from global environment    \n",
    "    ## print(model)\n",
    "    p_outcome = predict(model, newdata = dta_MC_per_generated, type = \"response\")\n",
    "    set.seed(060305)\n",
    "    dta_MC_per_generated$outcome_death = rbinom(length(p_outcome), 1, p_outcome)\n",
    "    return(dta_MC_per_generated)\n",
    "}"
   ]
  },
  {
   "cell_type": "code",
   "execution_count": 31,
   "metadata": {},
   "outputs": [],
   "source": [
    "dta_discontinuation_MC_1 <- dta_discontinuation_MC %>% filter(rank == 1)\n",
    "p_outcome = predict(outcome_model_discontinuation, newdata = dta_discontinuation_MC_1, type = \"response\")\n",
    "set.seed(060305)\n",
    "dta_discontinuation_MC_1$outcome_death = rbinom(length(p_outcome), 1, p_outcome)"
   ]
  },
  {
   "cell_type": "code",
   "execution_count": 32,
   "metadata": {},
   "outputs": [
    {
     "name": "stderr",
     "output_type": "stream",
     "text": [
      "Note: Using an external vector in selections is ambiguous.\n",
      "\u001b[34mℹ\u001b[39m Use `all_of(xvar_time_varying)` instead of `xvar_time_varying` to silence this message.\n",
      "\u001b[34mℹ\u001b[39m See <https://tidyselect.r-lib.org/reference/faq-external-vector.html>.\n",
      "\u001b[90mThis message is displayed once per session.\u001b[39m\n",
      "\n"
     ]
    }
   ],
   "source": [
    "for (i in 2 : 60) {\n",
    "    dta_discontinuation_MC_per <- MC_data_generation_per(i = i, type = 'discontinuation')\n",
    "    assign(paste('dta_discontinuation_MC_', i, sep = ''), \n",
    "            dta_discontinuation_MC_per)\n",
    "}\n",
    "dta_discontinuation_MC <- foreach (i = 1 : 60, .combine = rbind) %do% {\n",
    "    data <- get(paste('dta_discontinuation_MC_', i, sep = ''))\n",
    "}"
   ]
  },
  {
   "cell_type": "code",
   "execution_count": 33,
   "metadata": {},
   "outputs": [],
   "source": [
    "dta_reinitiation_MC_1 <- dta_reinitiation_MC %>% filter(rank == 1)\n",
    "p_outcome = predict(outcome_model_reinitiation, newdata = dta_reinitiation_MC_1, type = \"response\")\n",
    "set.seed(060305)\n",
    "outcome = rbinom(length(p_outcome), 1, p_outcome)\n",
    "dta_reinitiation_MC_1$outcome_death = outcome\n",
    "for (i in 2 : 60) {\n",
    "    data = get(paste('dta_reinitiation_MC_', i - 1, sep = ''))\n",
    "    dta_reinitiation_MC_per <- MC_data_generation_per(i = i, type = 'reinitiation')\n",
    "    assign(paste('dta_reinitiation_MC_', i, sep = ''), dta_reinitiation_MC_per)\n",
    "}\n",
    "dta_reinitiation_MC <- foreach (i = 1 : 60, .combine = rbind) %do% {\n",
    "    data <- get(paste('dta_reinitiation_MC_', i, sep = ''))\n",
    "}"
   ]
  },
  {
   "cell_type": "code",
   "execution_count": 34,
   "metadata": {},
   "outputs": [],
   "source": [
    "dta_MC <- rbind(dta_discontinuation_MC, dta_reinitiation_MC) %>% mutate(X = ifelse(X == 'reinitiation', 0, 1))"
   ]
  },
  {
   "cell_type": "markdown",
   "metadata": {},
   "source": [
    "## causal effect estimation"
   ]
  },
  {
   "cell_type": "code",
   "execution_count": 35,
   "metadata": {},
   "outputs": [],
   "source": [
    "causal_effect_estimation <- function(data = dta_MC, month = 36) {\n",
    "    regression_formula <- as.formula('outcome_death ~ X + rms::rcs(rank, 3)')\n",
    "    death.logistic.adjusted <- glm(regression_formula, data = data, family = binomial(link = \"logit\"))\n",
    "    death.res.adjusted <- summary(death.logistic.adjusted)\n",
    "    death_risk_summary_discontinuation <- data %>% filter(X == 1) %>% \n",
    "        ungroup() %>% group_by(rank) %>% \n",
    "        summarise(p_surv = 1 - sum(outcome_death) / length(outcome_death)) %>% \n",
    "        mutate(p_cumsurv = cumprod(p_surv), \n",
    "               p_cumdeath = 1 - p_cumsurv) \n",
    "    death_risk_summary_reinitiation <- data %>% filter(X == 0) %>% \n",
    "        ungroup() %>% group_by(rank) %>% \n",
    "        summarise(p_surv = 1 - sum(outcome_death) / length(outcome_death)) %>% \n",
    "        mutate(p_cumsurv = cumprod(p_surv), \n",
    "               p_cumdeath = 1 - p_cumsurv) \n",
    "    ##========================================================================================================\n",
    "    risk_discontinuation_3_y <- death_risk_summary_discontinuation %>% \n",
    "        filter(rank == month) %>% \n",
    "        dplyr::select(p_cumdeath) %>% as.numeric()\n",
    "    risk_reinitiation_3_y <- death_risk_summary_reinitiation %>% \n",
    "        filter(rank == month) %>% \n",
    "        dplyr::select(p_cumdeath) %>% as.numeric()\n",
    "    RD <- (risk_discontinuation_3_y - risk_reinitiation_3_y) * 100\n",
    "    RR <- (risk_discontinuation_3_y / risk_reinitiation_3_y)\n",
    "    risk_res <- round(c(risk_discontinuation_3_y * 100, risk_reinitiation_3_y * 100, RD, RR, \n",
    "                        exp(death.res.adjusted$coefficients[2, 1])), 2)\n",
    "    names(risk_res) <- c('3 year risk for discontinuation (%)', \n",
    "                         '3 year risk for reinitiation (%)', \n",
    "                         'risk difference (%)', \n",
    "                         'risk ratio', \n",
    "                         'hazard ratio')\n",
    "    risk_res <- risk_res %>% t()\n",
    "    return(risk_res)\n",
    "}"
   ]
  },
  {
   "cell_type": "code",
   "execution_count": 36,
   "metadata": {},
   "outputs": [
    {
     "name": "stderr",
     "output_type": "stream",
     "text": [
      "`summarise()` ungrouping output (override with `.groups` argument)\n",
      "\n",
      "`summarise()` ungrouping output (override with `.groups` argument)\n",
      "\n"
     ]
    },
    {
     "data": {
      "text/html": [
       "<table>\n",
       "<caption>A matrix: 1 × 5 of type dbl</caption>\n",
       "<thead>\n",
       "\t<tr><th scope=col>3 year risk for discontinuation (%)</th><th scope=col>3 year risk for reinitiation (%)</th><th scope=col>risk difference (%)</th><th scope=col>risk ratio</th><th scope=col>hazard ratio</th></tr>\n",
       "</thead>\n",
       "<tbody>\n",
       "\t<tr><td>62.25</td><td>56.8</td><td>5.44</td><td>1.1</td><td>1.19</td></tr>\n",
       "</tbody>\n",
       "</table>\n"
      ],
      "text/latex": [
       "A matrix: 1 × 5 of type dbl\n",
       "\\begin{tabular}{lllll}\n",
       " 3 year risk for discontinuation (\\%) & 3 year risk for reinitiation (\\%) & risk difference (\\%) & risk ratio & hazard ratio\\\\\n",
       "\\hline\n",
       "\t 62.25 & 56.8 & 5.44 & 1.1 & 1.19\\\\\n",
       "\\end{tabular}\n"
      ],
      "text/markdown": [
       "\n",
       "A matrix: 1 × 5 of type dbl\n",
       "\n",
       "| 3 year risk for discontinuation (%) | 3 year risk for reinitiation (%) | risk difference (%) | risk ratio | hazard ratio |\n",
       "|---|---|---|---|---|\n",
       "| 62.25 | 56.8 | 5.44 | 1.1 | 1.19 |\n",
       "\n"
      ],
      "text/plain": [
       "     3 year risk for discontinuation (%) 3 year risk for reinitiation (%)\n",
       "[1,] 62.25                               56.8                            \n",
       "     risk difference (%) risk ratio hazard ratio\n",
       "[1,] 5.44                1.1        1.19        "
      ]
     },
     "metadata": {},
     "output_type": "display_data"
    }
   ],
   "source": [
    "main_point_estimation <- causal_effect_estimation()\n",
    "main_point_estimation"
   ]
  },
  {
   "cell_type": "code",
   "execution_count": 37,
   "metadata": {},
   "outputs": [],
   "source": [
    "## bootstrap on 500 sample\n",
    "no_of_sample = 250\n",
    "cl <- parallel::makeCluster(3, type = \"SOCK\")\n",
    "registerDoParallel(cl)"
   ]
  },
  {
   "cell_type": "code",
   "execution_count": 38,
   "metadata": {},
   "outputs": [],
   "source": [
    "BS_data_generation_per <- function(i = 2, \n",
    "                                   type = 'discontinuation', \n",
    "                                   environment = globalenv()) {\n",
    "    data = get(paste(c('dta', type, 'BS', i - 1), collapse = '_')) \n",
    "    alldata = get(paste(c('dta', type, 'BS'), collapse = '_')) \n",
    "    dta_BS_per_generated <- alldata %>% filter(rank == i) %>% \n",
    "                dplyr::select(c('lopnr', 'ID', 'X', 'rank', 'age', 'female', 'index_year', 'duration', \n",
    "                        'potassium_value', \n",
    "                        'primary_care_num', 'outpatient_num', 'inpatient_num', \n",
    "                        xvar_time_varying, 'outcome_death')) %>% \n",
    "        inner_join(data %>% filter(outcome_death == 0) %>% \n",
    "                       dplyr::select(c('ID', xvar_time_varying)), \n",
    "                   by = 'ID', suffix = c('', '_lag'))\n",
    "    ## add values for time-varying confounders\n",
    "    for (j in xvar_time_varying) {\n",
    "        model <- get(paste(c(j, 'model', type), collapse = '_')) \n",
    "        if (j %in% c('cov_egfr')) {\n",
    "            mean_cov = predict(model, newdata = dta_BS_per_generated)\n",
    "            set.seed(060305)\n",
    "            dta_BS_per_generated[[j]] = rnorm(length(mean_cov), \n",
    "                                              mean = mean_cov, \n",
    "                                              sd = sd(get(paste(c('dta_clone_death_imp1_', type), \n",
    "                                                                collapse = ''))[[j]]))\n",
    "        } else {\n",
    "            p_cov = predict(model, newdata = dta_BS_per_generated, type = \"response\")\n",
    "            set.seed(060305)\n",
    "            dta_BS_per_generated[[j]] = rbinom(length(p_cov), 1, p_cov)\n",
    "        }\n",
    "\n",
    "    }\n",
    "    ## add value for outcome\n",
    "    model <- get(paste(c('outcome', 'model', type), collapse = '_')) \n",
    "    p_outcome = predict(model, newdata = dta_BS_per_generated, type = \"response\")\n",
    "    set.seed(060305)\n",
    "    dta_BS_per_generated$outcome_death = rbinom(length(p_outcome), 1, p_outcome)\n",
    "    return(dta_BS_per_generated)\n",
    "}"
   ]
  },
  {
   "cell_type": "code",
   "execution_count": 39,
   "metadata": {},
   "outputs": [
    {
     "name": "stderr",
     "output_type": "stream",
     "text": [
      "Warning message in e$fun(obj, substitute(ex), parent.frame(), e$data):\n",
      "“already exporting variable(s): BS_data_generation_per, causal_effect_estimation, data, dta_clone_death_imp1_discontinuation, dta_clone_death_imp1_reinitiation, dta_discontinuation_MC, dta_MC, i, ID_random_sample_discontinuation, MC_data_preparation, outcome_model_discontinuation, outcome_model_reinitiation, p_outcome, x_adjusted_var, xvar_time_varying”\n"
     ]
    }
   ],
   "source": [
    "CI_res <- foreach (j = 1 : no_of_sample, .combine = rbind, \n",
    "                   .export = ls(globalenv()), \n",
    "                   .packages = c(\"foreach\", \"dplyr\", 'data.table', 'Hmisc')) %dopar% {\n",
    "    dta_discontinuation_BS <- dta_clone_death_imp1_discontinuation %>% filter(rank == 1)\n",
    "    set.seed(j)\n",
    "    ID_BS_discontinuation <- sample(unique(dta_clone_death_imp1_discontinuation$ID), \n",
    "                                    size = length(unique(dta_clone_death_imp1_discontinuation$ID)), \n",
    "                                    replace = T) \n",
    "    dta_discontinuation_BS = MC_data_preparation(data = dta_discontinuation_BS, \n",
    "                                                 ID_sample = ID_BS_discontinuation)\n",
    "    dta_reinitiation_BS <- dta_clone_death_imp1_reinitiation %>% filter(rank == 1)\n",
    "    ID_BS_reinitiation <- ID_BS_discontinuation + length(ID_BS_discontinuation)\n",
    "    dta_reinitiation_BS = MC_data_preparation(data = dta_reinitiation_BS, \n",
    "                                              ID_sample = ID_BS_reinitiation)\n",
    "    ### discontinuation arm t1 outcome\n",
    "    dta_discontinuation_BS_1 <- dta_discontinuation_BS %>% filter(rank == 1)\n",
    "    p_outcome = predict(outcome_model_discontinuation, newdata = dta_discontinuation_BS_1, type = \"response\")\n",
    "    set.seed(060305)\n",
    "    dta_discontinuation_BS_1$outcome_death = rbinom(length(p_outcome), 1, p_outcome)\n",
    "    ### reinitiation arm t1 outcome\n",
    "    dta_reinitiation_BS_1 <- dta_reinitiation_BS %>% filter(rank == 1)\n",
    "    p_outcome = predict(outcome_model_reinitiation, newdata = dta_reinitiation_BS_1, type = \"response\")\n",
    "    set.seed(060305)\n",
    "    dta_reinitiation_BS_1$outcome_death = rbinom(length(p_outcome), 1, p_outcome)\n",
    "    ### discontinuation arm t2-60 all variables\n",
    "    for (i in 2 : 60) {\n",
    "        dta_discontinuation_BS_per <- BS_data_generation_per(i = i, type = 'discontinuation')\n",
    "        assign(paste('dta_discontinuation_BS_', i, sep = ''), \n",
    "                dta_discontinuation_BS_per)\n",
    "    }\n",
    "    dta_discontinuation_BS <- foreach (i = 1 : 60, .combine = rbind) %do% {\n",
    "        data <- get(paste('dta_discontinuation_BS_', i, sep = ''))\n",
    "    }\n",
    "    ### =======================================================================\n",
    "    ### reinitiation arm t2-60 all variables\n",
    "    for (i in 2 : 60) {\n",
    "        data = get(paste('dta_reinitiation_BS_', i - 1, sep = ''))\n",
    "        dta_reinitiation_BS_per <- BS_data_generation_per(i = i, type = 'reinitiation')\n",
    "        assign(paste('dta_reinitiation_BS_', i, sep = ''), dta_reinitiation_BS_per)\n",
    "    }\n",
    "    dta_reinitiation_BS <- foreach (i = 1 : 60, .combine = rbind) %do% {\n",
    "        data <- get(paste('dta_reinitiation_BS_', i, sep = ''))\n",
    "    }\n",
    "    ### =======================================================================\n",
    "    dta_BS <- rbind(dta_discontinuation_BS, dta_reinitiation_BS) %>% mutate(X = ifelse(X == 'reinitiation', 0, 1))\n",
    "    causal_effect_estimation(dta_BS)\n",
    "}\n",
    "stopCluster(cl)"
   ]
  },
  {
   "cell_type": "code",
   "execution_count": 40,
   "metadata": {},
   "outputs": [
    {
     "data": {
      "text/html": [
       "<table>\n",
       "<caption>A matrix: 1 × 5 of type chr</caption>\n",
       "<thead>\n",
       "\t<tr><th scope=col>3 year risk for discontinuation (%)</th><th scope=col>3 year risk for reinitiation (%)</th><th scope=col>risk difference (%)</th><th scope=col>risk ratio</th><th scope=col>hazard ratio</th></tr>\n",
       "</thead>\n",
       "<tbody>\n",
       "\t<tr><td>62.25 (61.49-63.74)</td><td>56.8 (55.28-57.49)</td><td>5.44 (5.06-7.22)</td><td>1.1 (1.09-1.13)</td><td>1.19 (1.18-1.24)</td></tr>\n",
       "</tbody>\n",
       "</table>\n"
      ],
      "text/latex": [
       "A matrix: 1 × 5 of type chr\n",
       "\\begin{tabular}{lllll}\n",
       " 3 year risk for discontinuation (\\%) & 3 year risk for reinitiation (\\%) & risk difference (\\%) & risk ratio & hazard ratio\\\\\n",
       "\\hline\n",
       "\t 62.25 (61.49-63.74) & 56.8 (55.28-57.49) & 5.44 (5.06-7.22) & 1.1 (1.09-1.13) & 1.19 (1.18-1.24)\\\\\n",
       "\\end{tabular}\n"
      ],
      "text/markdown": [
       "\n",
       "A matrix: 1 × 5 of type chr\n",
       "\n",
       "| 3 year risk for discontinuation (%) | 3 year risk for reinitiation (%) | risk difference (%) | risk ratio | hazard ratio |\n",
       "|---|---|---|---|---|\n",
       "| 62.25 (61.49-63.74) | 56.8 (55.28-57.49) | 5.44 (5.06-7.22) | 1.1 (1.09-1.13) | 1.19 (1.18-1.24) |\n",
       "\n"
      ],
      "text/plain": [
       "     3 year risk for discontinuation (%) 3 year risk for reinitiation (%)\n",
       "[1,] 62.25 (61.49-63.74)                 56.8 (55.28-57.49)              \n",
       "     risk difference (%) risk ratio      hazard ratio    \n",
       "[1,] 5.44 (5.06-7.22)    1.1 (1.09-1.13) 1.19 (1.18-1.24)"
      ]
     },
     "metadata": {},
     "output_type": "display_data"
    }
   ],
   "source": [
    "CI_point_estimation <- CI_res\n",
    "CI_point_estimation <- CI_point_estimation %>% data.frame()\n",
    "colnames(CI_point_estimation) <- c('risk_dis', 'risk_re', 'RD', 'RR', 'HR')\n",
    "CI_point_estimation <- CI_point_estimation %>% \n",
    "    summarise(lci_risk_dis = quantile(risk_dis, 0.025), \n",
    "              uci_risk_dis = quantile(risk_dis, 0.975), \n",
    "              lci_risk_re = quantile(risk_re, 0.025), \n",
    "              uci_risk_re = quantile(risk_re, 0.975), \n",
    "              lci_RD = quantile(RD, 0.025), \n",
    "              uci_RD = quantile(RD, 0.975), \n",
    "              lci_RR = quantile(RR, 0.025), \n",
    "              uci_RR = quantile(RR, 0.975), \n",
    "              lci_HR = quantile(HR, 0.025), \n",
    "              uci_HR = quantile(HR, 0.975))\n",
    "CI_point_estimation <- round(matrix(as.numeric(CI_point_estimation), nrow = 5, ncol = 2, byrow = T), 2)\n",
    "causal_effect_point_estimation <- paste(t(main_point_estimation), \n",
    "                                        ' (', CI_point_estimation[ , 1], '-', \n",
    "                                        CI_point_estimation[ , 2], ')', sep = '')\n",
    "names(causal_effect_point_estimation) <- colnames(main_point_estimation)\n",
    "t(causal_effect_point_estimation)"
   ]
  },
  {
   "cell_type": "code",
   "execution_count": null,
   "metadata": {},
   "outputs": [],
   "source": []
  },
  {
   "cell_type": "code",
   "execution_count": null,
   "metadata": {},
   "outputs": [],
   "source": []
  },
  {
   "cell_type": "code",
   "execution_count": null,
   "metadata": {},
   "outputs": [],
   "source": []
  }
 ],
 "metadata": {
  "kernelspec": {
   "display_name": "R",
   "language": "R",
   "name": "ir"
  },
  "language_info": {
   "codemirror_mode": "r",
   "file_extension": ".r",
   "mimetype": "text/x-r-source",
   "name": "R",
   "pygments_lexer": "r",
   "version": "3.6.3"
  }
 },
 "nbformat": 4,
 "nbformat_minor": 4
}
